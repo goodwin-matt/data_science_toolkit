{
 "cells": [
  {
   "cell_type": "code",
   "execution_count": 1,
   "metadata": {},
   "outputs": [],
   "source": [
    "import pandas as pd\n",
    "from sklearn.multiclass import OneVsRestClassifier\n",
    "from sklearn.decomposition import PCA\n",
    "import xgboost as xgb"
   ]
  },
  {
   "cell_type": "code",
   "execution_count": 2,
   "metadata": {},
   "outputs": [],
   "source": [
    "train = pd.read_csv('train.csv',header=None)\n",
    "test = pd.read_csv('test.csv',header=None)"
   ]
  },
  {
   "cell_type": "code",
   "execution_count": 3,
   "metadata": {},
   "outputs": [
    {
     "name": "stderr",
     "output_type": "stream",
     "text": [
      "/Users/matthew.goodwin/MyStuff/Education/DataScienceToolkit/DataScienceCode/ds_python_virtualenv/lib/python2.7/site-packages/sklearn/ensemble/weight_boosting.py:29: DeprecationWarning: numpy.core.umath_tests is an internal NumPy module and should not be imported. It will be removed in a future NumPy release.\n",
      "  from numpy.core.umath_tests import inner1d\n"
     ]
    }
   ],
   "source": [
    "# import xgboost as xgb\n",
    "from sklearn.ensemble import RandomForestClassifier\n",
    "from sklearn.model_selection import cross_val_score"
   ]
  },
  {
   "cell_type": "code",
   "execution_count": 4,
   "metadata": {
    "scrolled": true
   },
   "outputs": [],
   "source": [
    "X = train.iloc[:,:294]\n",
    "Y = train.iloc[:,294:]"
   ]
  },
  {
   "cell_type": "code",
   "execution_count": 10,
   "metadata": {},
   "outputs": [],
   "source": [
    "pca = PCA(n_components=5)"
   ]
  },
  {
   "cell_type": "code",
   "execution_count": 11,
   "metadata": {},
   "outputs": [],
   "source": [
    "x_new = pca.fit_transform(X)"
   ]
  },
  {
   "cell_type": "code",
   "execution_count": 12,
   "metadata": {},
   "outputs": [
    {
     "data": {
      "text/plain": [
       "array([[-1.06357511, -0.49261828, -0.0419664 , -0.42360994, -0.57327887],\n",
       "       [-1.25953812, -0.08400864, -0.02193481,  0.0410204 , -0.32865315],\n",
       "       [ 0.21740543, -0.62917119, -0.75935732, -0.04941241, -0.99589633],\n",
       "       ...,\n",
       "       [-0.95740738,  0.23272137,  0.13155411,  0.18148398,  0.88871637],\n",
       "       [-0.24034179, -0.18718771,  0.30663042,  0.56476281,  1.27222919],\n",
       "       [-1.94906743,  0.09771889, -0.2851477 ,  0.03312912,  0.88742291]])"
      ]
     },
     "execution_count": 12,
     "metadata": {},
     "output_type": "execute_result"
    }
   ],
   "source": [
    "x_new"
   ]
  },
  {
   "cell_type": "code",
   "execution_count": 13,
   "metadata": {},
   "outputs": [
    {
     "data": {
      "text/plain": [
       "OneVsRestClassifier(estimator=XGBClassifier(base_score=0.5, booster='gbtree', colsample_bylevel=1,\n",
       "       colsample_bytree=1, gamma=0, learning_rate=0.1, max_delta_step=0,\n",
       "       max_depth=3, min_child_weight=1, missing=None, n_estimators=100,\n",
       "       n_jobs=1, nthread=None, objective='binary:logistic', random_state=0,\n",
       "       reg_alpha=0, reg_lambda=1, scale_pos_weight=1, seed=None,\n",
       "       silent=True, subsample=1),\n",
       "          n_jobs=1)"
      ]
     },
     "execution_count": 13,
     "metadata": {},
     "output_type": "execute_result"
    }
   ],
   "source": [
    "classif = OneVsRestClassifier(xgb.XGBClassifier())\n",
    "classif.fit(X, Y)"
   ]
  },
  {
   "cell_type": "code",
   "execution_count": 48,
   "metadata": {},
   "outputs": [],
   "source": [
    "out = classif.predict(test)"
   ]
  },
  {
   "cell_type": "code",
   "execution_count": 49,
   "metadata": {},
   "outputs": [
    {
     "data": {
      "text/plain": [
       "array([2, 2, 2, 2, 2, 2, 2, 2, 2, 2, 2, 2, 2, 2, 2, 2, 2, 2, 2, 2, 2, 2,\n",
       "       2, 2, 2, 2, 2, 2, 2, 2, 2, 2, 2, 2, 2, 2, 2, 2, 2, 2, 2, 2, 2, 2,\n",
       "       2, 2, 2, 2, 2, 2])"
      ]
     },
     "execution_count": 49,
     "metadata": {},
     "output_type": "execute_result"
    }
   ],
   "source": [
    "out.sum(axis=1)[out.sum(axis=1)>1]"
   ]
  },
  {
   "cell_type": "code",
   "execution_count": 21,
   "metadata": {},
   "outputs": [],
   "source": [
    "clf = RandomForestClassifier(n_estimators=5)\n",
    "clf = clf.fit(X, Y)"
   ]
  },
  {
   "cell_type": "code",
   "execution_count": 24,
   "metadata": {
    "scrolled": true
   },
   "outputs": [],
   "source": [
    "data = clf.predict(test)"
   ]
  },
  {
   "cell_type": "code",
   "execution_count": 27,
   "metadata": {},
   "outputs": [
    {
     "data": {
      "text/plain": [
       "array([2., 2., 2., 2., 2., 2., 2., 2., 2., 2., 2., 2., 2., 2., 2., 2., 2.,\n",
       "       2., 2., 2., 2., 2., 2., 2., 2., 2., 2., 2., 2., 2., 2., 2., 2.])"
      ]
     },
     "execution_count": 27,
     "metadata": {},
     "output_type": "execute_result"
    }
   ],
   "source": [
    "data.sum(axis=1)[data.sum(axis=1)>1]"
   ]
  },
  {
   "cell_type": "code",
   "execution_count": 14,
   "metadata": {},
   "outputs": [],
   "source": [
    "import tensorflow as tf\n",
    "from tensorflow.keras import layers"
   ]
  },
  {
   "cell_type": "code",
   "execution_count": 32,
   "metadata": {},
   "outputs": [],
   "source": [
    "model = tf.keras.Sequential()"
   ]
  },
  {
   "cell_type": "code",
   "execution_count": 33,
   "metadata": {},
   "outputs": [],
   "source": [
    "model.add(layers.Dense(10, activation='relu'))\n",
    "# Add another:\n",
    "model.add(layers.Dense(10, activation='relu'))\n",
    "# Add a softmax layer with 10 output units:\n",
    "model.add(layers.Dense(6, activation='softmax'))"
   ]
  },
  {
   "cell_type": "code",
   "execution_count": 34,
   "metadata": {},
   "outputs": [],
   "source": [
    "model.compile(optimizer=tf.train.AdamOptimizer(0.001),\n",
    "              loss='categorical_crossentropy',\n",
    "              metrics=['accuracy'])"
   ]
  },
  {
   "cell_type": "code",
   "execution_count": 24,
   "metadata": {},
   "outputs": [
    {
     "data": {
      "text/plain": [
       "numpy.ndarray"
      ]
     },
     "execution_count": 24,
     "metadata": {},
     "output_type": "execute_result"
    }
   ],
   "source": [
    "type(X.values)"
   ]
  },
  {
   "cell_type": "code",
   "execution_count": 35,
   "metadata": {},
   "outputs": [
    {
     "name": "stdout",
     "output_type": "stream",
     "text": [
      "Epoch 1/6\n",
      "1438/1438 [==============================] - 0s 159us/step - loss: 1.6276 - acc: 0.4465\n",
      "Epoch 2/6\n",
      "1438/1438 [==============================] - 0s 33us/step - loss: 1.1007 - acc: 0.6572\n",
      "Epoch 3/6\n",
      "1438/1438 [==============================] - 0s 33us/step - loss: 0.9054 - acc: 0.7142\n",
      "Epoch 4/6\n",
      "1438/1438 [==============================] - 0s 33us/step - loss: 0.8427 - acc: 0.7253\n",
      "Epoch 5/6\n",
      "1438/1438 [==============================] - 0s 32us/step - loss: 0.7989 - acc: 0.7434\n",
      "Epoch 6/6\n",
      "1438/1438 [==============================] - 0s 33us/step - loss: 0.7759 - acc: 0.7434\n"
     ]
    },
    {
     "data": {
      "text/plain": [
       "<tensorflow.python.keras.callbacks.History at 0x12acc56d0>"
      ]
     },
     "execution_count": 35,
     "metadata": {},
     "output_type": "execute_result"
    }
   ],
   "source": [
    "model.fit(X.values, Y.values, epochs=6, batch_size=32)"
   ]
  },
  {
   "cell_type": "code",
   "execution_count": 38,
   "metadata": {},
   "outputs": [],
   "source": [
    "import heapq"
   ]
  },
  {
   "cell_type": "code",
   "execution_count": 39,
   "metadata": {},
   "outputs": [
    {
     "data": {
      "text/plain": [
       "array([[3.7648886e-02, 5.2877341e-04, 1.6420874e-03, 6.7383461e-02,\n",
       "        4.4751263e-01, 4.4528422e-01],\n",
       "       [9.2148870e-02, 1.3035425e-03, 1.2220809e-03, 2.5935933e-02,\n",
       "        2.6495981e-01, 6.1442977e-01],\n",
       "       [4.6423376e-02, 4.1738696e-02, 5.8349118e-02, 3.8468811e-01,\n",
       "        1.8952420e-01, 2.7927652e-01],\n",
       "       ...,\n",
       "       [2.5209150e-01, 9.4133365e-04, 2.2253622e-03, 2.1543181e-04,\n",
       "        2.4582730e-01, 4.9869907e-01],\n",
       "       [5.3028798e-01, 5.7995645e-04, 2.5312679e-03, 4.4804276e-04,\n",
       "        6.9181196e-02, 3.9697146e-01],\n",
       "       [3.8290519e-01, 3.5128492e-04, 5.8816723e-04, 2.5515147e-03,\n",
       "        1.5271683e-01, 4.6088710e-01]], dtype=float32)"
      ]
     },
     "execution_count": 39,
     "metadata": {},
     "output_type": "execute_result"
    }
   ],
   "source": [
    "\n",
    "model.predict(X.values)"
   ]
  },
  {
   "cell_type": "code",
   "execution_count": 52,
   "metadata": {},
   "outputs": [
    {
     "name": "stdout",
     "output_type": "stream",
     "text": [
      "[0.54861111 0.45833333 0.38888889 0.45138889 0.26388889 0.54861111\n",
      " 0.70833333 0.61805556 0.22377622 0.25174825]\n",
      "Accuracy: 0.45 (+/- 0.31)\n"
     ]
    }
   ],
   "source": [
    "# k-fold validation\n",
    "for i in xrange(5,6):\n",
    "    \n",
    "#     classif = OneVsRestClassifier(xgb.XGBClassifier())\n",
    "# classif.fit(X, Y)\n",
    "\n",
    "    scores = cross_val_score(classif, X, Y, cv=10)\n",
    "    print(scores)\n",
    "    print(\"Accuracy: %0.2f (+/- %0.2f)\" % (scores.mean(), scores.std() * 2))"
   ]
  },
  {
   "cell_type": "code",
   "execution_count": 53,
   "metadata": {},
   "outputs": [],
   "source": [
    "xgb.XGBClassifier?"
   ]
  },
  {
   "cell_type": "code",
   "execution_count": 17,
   "metadata": {},
   "outputs": [
    {
     "data": {
      "text/html": [
       "<div>\n",
       "<style scoped>\n",
       "    .dataframe tbody tr th:only-of-type {\n",
       "        vertical-align: middle;\n",
       "    }\n",
       "\n",
       "    .dataframe tbody tr th {\n",
       "        vertical-align: top;\n",
       "    }\n",
       "\n",
       "    .dataframe thead th {\n",
       "        text-align: right;\n",
       "    }\n",
       "</style>\n",
       "<table border=\"1\" class=\"dataframe\">\n",
       "  <thead>\n",
       "    <tr style=\"text-align: right;\">\n",
       "      <th></th>\n",
       "      <th>0</th>\n",
       "      <th>1</th>\n",
       "      <th>2</th>\n",
       "      <th>3</th>\n",
       "      <th>4</th>\n",
       "      <th>5</th>\n",
       "      <th>6</th>\n",
       "      <th>7</th>\n",
       "      <th>8</th>\n",
       "      <th>9</th>\n",
       "      <th>...</th>\n",
       "      <th>290</th>\n",
       "      <th>291</th>\n",
       "      <th>292</th>\n",
       "      <th>293</th>\n",
       "      <th>294</th>\n",
       "      <th>295</th>\n",
       "      <th>296</th>\n",
       "      <th>297</th>\n",
       "      <th>298</th>\n",
       "      <th>299</th>\n",
       "    </tr>\n",
       "  </thead>\n",
       "  <tbody>\n",
       "    <tr>\n",
       "      <th>0</th>\n",
       "      <td>0.826575</td>\n",
       "      <td>0.843082</td>\n",
       "      <td>0.805944</td>\n",
       "      <td>0.785864</td>\n",
       "      <td>0.772749</td>\n",
       "      <td>0.854208</td>\n",
       "      <td>0.863394</td>\n",
       "      <td>0.816732</td>\n",
       "      <td>0.829742</td>\n",
       "      <td>0.776793</td>\n",
       "      <td>...</td>\n",
       "      <td>0.010687</td>\n",
       "      <td>0.010919</td>\n",
       "      <td>0.011375</td>\n",
       "      <td>0.015069</td>\n",
       "      <td>0</td>\n",
       "      <td>0</td>\n",
       "      <td>0</td>\n",
       "      <td>1</td>\n",
       "      <td>0</td>\n",
       "      <td>1</td>\n",
       "    </tr>\n",
       "    <tr>\n",
       "      <th>1</th>\n",
       "      <td>0.766867</td>\n",
       "      <td>0.669694</td>\n",
       "      <td>0.636238</td>\n",
       "      <td>0.612133</td>\n",
       "      <td>0.639010</td>\n",
       "      <td>0.603999</td>\n",
       "      <td>0.583958</td>\n",
       "      <td>0.775580</td>\n",
       "      <td>0.815867</td>\n",
       "      <td>0.676433</td>\n",
       "      <td>...</td>\n",
       "      <td>0.050673</td>\n",
       "      <td>0.055661</td>\n",
       "      <td>0.079765</td>\n",
       "      <td>0.097522</td>\n",
       "      <td>0</td>\n",
       "      <td>0</td>\n",
       "      <td>0</td>\n",
       "      <td>1</td>\n",
       "      <td>0</td>\n",
       "      <td>1</td>\n",
       "    </tr>\n",
       "    <tr>\n",
       "      <th>2</th>\n",
       "      <td>0.962784</td>\n",
       "      <td>0.975387</td>\n",
       "      <td>0.963950</td>\n",
       "      <td>0.955206</td>\n",
       "      <td>0.956827</td>\n",
       "      <td>0.971538</td>\n",
       "      <td>0.975437</td>\n",
       "      <td>0.934207</td>\n",
       "      <td>0.858234</td>\n",
       "      <td>0.742964</td>\n",
       "      <td>...</td>\n",
       "      <td>0.232948</td>\n",
       "      <td>0.195177</td>\n",
       "      <td>0.221791</td>\n",
       "      <td>0.201402</td>\n",
       "      <td>0</td>\n",
       "      <td>0</td>\n",
       "      <td>0</td>\n",
       "      <td>1</td>\n",
       "      <td>0</td>\n",
       "      <td>1</td>\n",
       "    </tr>\n",
       "    <tr>\n",
       "      <th>3</th>\n",
       "      <td>0.758844</td>\n",
       "      <td>0.772668</td>\n",
       "      <td>0.791800</td>\n",
       "      <td>0.827195</td>\n",
       "      <td>0.861022</td>\n",
       "      <td>0.755208</td>\n",
       "      <td>0.669177</td>\n",
       "      <td>0.754382</td>\n",
       "      <td>0.675287</td>\n",
       "      <td>0.773369</td>\n",
       "      <td>...</td>\n",
       "      <td>0.297193</td>\n",
       "      <td>0.254088</td>\n",
       "      <td>0.221800</td>\n",
       "      <td>0.146297</td>\n",
       "      <td>0</td>\n",
       "      <td>0</td>\n",
       "      <td>1</td>\n",
       "      <td>0</td>\n",
       "      <td>0</td>\n",
       "      <td>0</td>\n",
       "    </tr>\n",
       "    <tr>\n",
       "      <th>4</th>\n",
       "      <td>0.767603</td>\n",
       "      <td>0.875207</td>\n",
       "      <td>0.866511</td>\n",
       "      <td>0.874739</td>\n",
       "      <td>0.818681</td>\n",
       "      <td>0.826858</td>\n",
       "      <td>0.842438</td>\n",
       "      <td>0.773873</td>\n",
       "      <td>0.877341</td>\n",
       "      <td>0.867682</td>\n",
       "      <td>...</td>\n",
       "      <td>0.129825</td>\n",
       "      <td>0.075116</td>\n",
       "      <td>0.060953</td>\n",
       "      <td>0.022725</td>\n",
       "      <td>0</td>\n",
       "      <td>0</td>\n",
       "      <td>1</td>\n",
       "      <td>0</td>\n",
       "      <td>0</td>\n",
       "      <td>0</td>\n",
       "    </tr>\n",
       "  </tbody>\n",
       "</table>\n",
       "<p>5 rows × 300 columns</p>\n",
       "</div>"
      ],
      "text/plain": [
       "        0         1         2         3         4         5         6    \\\n",
       "0  0.826575  0.843082  0.805944  0.785864  0.772749  0.854208  0.863394   \n",
       "1  0.766867  0.669694  0.636238  0.612133  0.639010  0.603999  0.583958   \n",
       "2  0.962784  0.975387  0.963950  0.955206  0.956827  0.971538  0.975437   \n",
       "3  0.758844  0.772668  0.791800  0.827195  0.861022  0.755208  0.669177   \n",
       "4  0.767603  0.875207  0.866511  0.874739  0.818681  0.826858  0.842438   \n",
       "\n",
       "        7         8         9   ...        290       291       292       293  \\\n",
       "0  0.816732  0.829742  0.776793 ...   0.010687  0.010919  0.011375  0.015069   \n",
       "1  0.775580  0.815867  0.676433 ...   0.050673  0.055661  0.079765  0.097522   \n",
       "2  0.934207  0.858234  0.742964 ...   0.232948  0.195177  0.221791  0.201402   \n",
       "3  0.754382  0.675287  0.773369 ...   0.297193  0.254088  0.221800  0.146297   \n",
       "4  0.773873  0.877341  0.867682 ...   0.129825  0.075116  0.060953  0.022725   \n",
       "\n",
       "   294  295  296  297  298  299  \n",
       "0    0    0    0    1    0    1  \n",
       "1    0    0    0    1    0    1  \n",
       "2    0    0    0    1    0    1  \n",
       "3    0    0    1    0    0    0  \n",
       "4    0    0    1    0    0    0  \n",
       "\n",
       "[5 rows x 300 columns]"
      ]
     },
     "execution_count": 17,
     "metadata": {},
     "output_type": "execute_result"
    }
   ],
   "source": [
    "train.head()"
   ]
  },
  {
   "cell_type": "code",
   "execution_count": null,
   "metadata": {},
   "outputs": [],
   "source": []
  }
 ],
 "metadata": {
  "kernelspec": {
   "display_name": "Python 2",
   "language": "python",
   "name": "python2"
  },
  "language_info": {
   "codemirror_mode": {
    "name": "ipython",
    "version": 2
   },
   "file_extension": ".py",
   "mimetype": "text/x-python",
   "name": "python",
   "nbconvert_exporter": "python",
   "pygments_lexer": "ipython2",
   "version": "2.7.10"
  }
 },
 "nbformat": 4,
 "nbformat_minor": 2
}
