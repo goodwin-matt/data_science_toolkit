{
 "cells": [
  {
   "cell_type": "markdown",
   "metadata": {},
   "source": [
    "## Q-Learning Tutorial\n",
    "I wanted to understand reinforcement learning a little better for a hackathon project at work. One approach I remember learning about in a machine learning class in college is called Q-learning. I found a blog post that briefly goes over this approach from a very high level and so to understand it better I decided to code up the example in the blog. The blog is found at: https://towardsdatascience.com/q-bay-explaining-q-learning-with-simulated-auctions-f85bac990c60"
   ]
  },
  {
   "cell_type": "markdown",
   "metadata": {},
   "source": [
    "As the blog mentions there are two matrices or tables to be concerned about when dealing with Q-learning. The first is the R table and the second is the Q table. \n",
    "\n",
    "The R table is the table that contains the rewards of going certain places.\n",
    "\n",
    "So in the example given in the blog post we want to teach the computer to go to a certain subway station given any other starting point. I've included the reward table from the blog below:\n",
    "\n",
    "|Stations |Arsenal       | Finsbusry Park | Manor House  |  Seven Sisters | Stamford Hill | Tottenham Hale |\n",
    "|:--- |:------------:|:-------------: | :-----:      |:-------------: |:-------------:| :-----:        |\n",
    "    |**Arsenal** |0      | 0 | - |-      | - | - |\n",
    "|**Finsbusry Park** |0      | 0 | 0 |0      | - | - |\n",
    "|**Manor House**|-      | 0 | 0 |-      | - | - |\n",
    "|**Seven Sisters** |-      | 0 | - |0      | 0 | 100 |\n",
    "|**Stamford Hill** |-      | - | - |0      | 0 | - |\n",
    "|**Tottenham Hale** |-      | - | - |0      | - | 100 |\n",
    "\n",
    "Imagine the rows representing the states (where you are at now) and the columns representing the actions (where you can go.) In this case Tottenham Hale is where we want to end up. Lets pretend that the only way to get there is through the Seven Sisters train station, and if we get to Tottenham Hale we want to stay there. Thus the values 100 in both those positions.\n",
    "\n",
    "The Q matrix will be the exact same format except everything will be initialized to 0. I put both of these tables into a pandas data frame below."
   ]
  },
  {
   "cell_type": "code",
   "execution_count": 4,
   "metadata": {},
   "outputs": [],
   "source": [
    "import pandas as pd\n",
    "import numpy as np"
   ]
  },
  {
   "cell_type": "code",
   "execution_count": 7,
   "metadata": {},
   "outputs": [],
   "source": [
    "Q = np.zeros((6,6))\n",
    "R = np.zeros((6,6))\n",
    "\n",
    "# Fill in the rewards\n",
    "R[3,5] = 100\n",
    "R[5,5] = 100\n",
    "\n",
    "# Fill in state action pairs with null values if it is not possible to go from state to action\n",
    "R[2:,0] = np.nan\n",
    "R[4:,1] = np.nan\n",
    "R[0,2] = np.nan\n",
    "R[3:,2] = np.nan\n",
    "R[0,3] = np.nan\n",
    "R[2,3] = np.nan\n",
    "R[:3,4] = np.nan\n",
    "R[5,4] = np.nan\n",
    "R[:3,5] = np.nan\n",
    "R[4,5] = np.nan\n",
    "\n",
    "Q_table = pd.DataFrame(Q)\n",
    "R_table = pd.DataFrame(R)"
   ]
  },
  {
   "cell_type": "code",
   "execution_count": 8,
   "metadata": {},
   "outputs": [
    {
     "data": {
      "text/html": [
       "<div>\n",
       "<style scoped>\n",
       "    .dataframe tbody tr th:only-of-type {\n",
       "        vertical-align: middle;\n",
       "    }\n",
       "\n",
       "    .dataframe tbody tr th {\n",
       "        vertical-align: top;\n",
       "    }\n",
       "\n",
       "    .dataframe thead th {\n",
       "        text-align: right;\n",
       "    }\n",
       "</style>\n",
       "<table border=\"1\" class=\"dataframe\">\n",
       "  <thead>\n",
       "    <tr style=\"text-align: right;\">\n",
       "      <th></th>\n",
       "      <th>0</th>\n",
       "      <th>1</th>\n",
       "      <th>2</th>\n",
       "      <th>3</th>\n",
       "      <th>4</th>\n",
       "      <th>5</th>\n",
       "    </tr>\n",
       "  </thead>\n",
       "  <tbody>\n",
       "    <tr>\n",
       "      <th>0</th>\n",
       "      <td>0.0</td>\n",
       "      <td>0.0</td>\n",
       "      <td>NaN</td>\n",
       "      <td>NaN</td>\n",
       "      <td>NaN</td>\n",
       "      <td>NaN</td>\n",
       "    </tr>\n",
       "    <tr>\n",
       "      <th>1</th>\n",
       "      <td>0.0</td>\n",
       "      <td>0.0</td>\n",
       "      <td>0.0</td>\n",
       "      <td>0.0</td>\n",
       "      <td>NaN</td>\n",
       "      <td>NaN</td>\n",
       "    </tr>\n",
       "    <tr>\n",
       "      <th>2</th>\n",
       "      <td>NaN</td>\n",
       "      <td>0.0</td>\n",
       "      <td>0.0</td>\n",
       "      <td>NaN</td>\n",
       "      <td>NaN</td>\n",
       "      <td>NaN</td>\n",
       "    </tr>\n",
       "    <tr>\n",
       "      <th>3</th>\n",
       "      <td>NaN</td>\n",
       "      <td>0.0</td>\n",
       "      <td>NaN</td>\n",
       "      <td>0.0</td>\n",
       "      <td>0.0</td>\n",
       "      <td>100.0</td>\n",
       "    </tr>\n",
       "    <tr>\n",
       "      <th>4</th>\n",
       "      <td>NaN</td>\n",
       "      <td>NaN</td>\n",
       "      <td>NaN</td>\n",
       "      <td>0.0</td>\n",
       "      <td>0.0</td>\n",
       "      <td>NaN</td>\n",
       "    </tr>\n",
       "    <tr>\n",
       "      <th>5</th>\n",
       "      <td>NaN</td>\n",
       "      <td>NaN</td>\n",
       "      <td>NaN</td>\n",
       "      <td>0.0</td>\n",
       "      <td>NaN</td>\n",
       "      <td>100.0</td>\n",
       "    </tr>\n",
       "  </tbody>\n",
       "</table>\n",
       "</div>"
      ],
      "text/plain": [
       "     0    1    2    3    4      5\n",
       "0  0.0  0.0  NaN  NaN  NaN    NaN\n",
       "1  0.0  0.0  0.0  0.0  NaN    NaN\n",
       "2  NaN  0.0  0.0  NaN  NaN    NaN\n",
       "3  NaN  0.0  NaN  0.0  0.0  100.0\n",
       "4  NaN  NaN  NaN  0.0  0.0    NaN\n",
       "5  NaN  NaN  NaN  0.0  NaN  100.0"
      ]
     },
     "execution_count": 8,
     "metadata": {},
     "output_type": "execute_result"
    }
   ],
   "source": [
    "R_table"
   ]
  },
  {
   "cell_type": "code",
   "execution_count": 9,
   "metadata": {},
   "outputs": [
    {
     "data": {
      "text/html": [
       "<div>\n",
       "<style scoped>\n",
       "    .dataframe tbody tr th:only-of-type {\n",
       "        vertical-align: middle;\n",
       "    }\n",
       "\n",
       "    .dataframe tbody tr th {\n",
       "        vertical-align: top;\n",
       "    }\n",
       "\n",
       "    .dataframe thead th {\n",
       "        text-align: right;\n",
       "    }\n",
       "</style>\n",
       "<table border=\"1\" class=\"dataframe\">\n",
       "  <thead>\n",
       "    <tr style=\"text-align: right;\">\n",
       "      <th></th>\n",
       "      <th>0</th>\n",
       "      <th>1</th>\n",
       "      <th>2</th>\n",
       "      <th>3</th>\n",
       "      <th>4</th>\n",
       "      <th>5</th>\n",
       "    </tr>\n",
       "  </thead>\n",
       "  <tbody>\n",
       "    <tr>\n",
       "      <th>0</th>\n",
       "      <td>0.0</td>\n",
       "      <td>0.0</td>\n",
       "      <td>0.0</td>\n",
       "      <td>0.0</td>\n",
       "      <td>0.0</td>\n",
       "      <td>0.0</td>\n",
       "    </tr>\n",
       "    <tr>\n",
       "      <th>1</th>\n",
       "      <td>0.0</td>\n",
       "      <td>0.0</td>\n",
       "      <td>0.0</td>\n",
       "      <td>0.0</td>\n",
       "      <td>0.0</td>\n",
       "      <td>0.0</td>\n",
       "    </tr>\n",
       "    <tr>\n",
       "      <th>2</th>\n",
       "      <td>0.0</td>\n",
       "      <td>0.0</td>\n",
       "      <td>0.0</td>\n",
       "      <td>0.0</td>\n",
       "      <td>0.0</td>\n",
       "      <td>0.0</td>\n",
       "    </tr>\n",
       "    <tr>\n",
       "      <th>3</th>\n",
       "      <td>0.0</td>\n",
       "      <td>0.0</td>\n",
       "      <td>0.0</td>\n",
       "      <td>0.0</td>\n",
       "      <td>0.0</td>\n",
       "      <td>0.0</td>\n",
       "    </tr>\n",
       "    <tr>\n",
       "      <th>4</th>\n",
       "      <td>0.0</td>\n",
       "      <td>0.0</td>\n",
       "      <td>0.0</td>\n",
       "      <td>0.0</td>\n",
       "      <td>0.0</td>\n",
       "      <td>0.0</td>\n",
       "    </tr>\n",
       "    <tr>\n",
       "      <th>5</th>\n",
       "      <td>0.0</td>\n",
       "      <td>0.0</td>\n",
       "      <td>0.0</td>\n",
       "      <td>0.0</td>\n",
       "      <td>0.0</td>\n",
       "      <td>0.0</td>\n",
       "    </tr>\n",
       "  </tbody>\n",
       "</table>\n",
       "</div>"
      ],
      "text/plain": [
       "     0    1    2    3    4    5\n",
       "0  0.0  0.0  0.0  0.0  0.0  0.0\n",
       "1  0.0  0.0  0.0  0.0  0.0  0.0\n",
       "2  0.0  0.0  0.0  0.0  0.0  0.0\n",
       "3  0.0  0.0  0.0  0.0  0.0  0.0\n",
       "4  0.0  0.0  0.0  0.0  0.0  0.0\n",
       "5  0.0  0.0  0.0  0.0  0.0  0.0"
      ]
     },
     "execution_count": 9,
     "metadata": {},
     "output_type": "execute_result"
    }
   ],
   "source": [
    "Q_table"
   ]
  },
  {
   "cell_type": "markdown",
   "metadata": {},
   "source": [
    "Now that both tables are initialized the first step is to pick a random starting point and a random action"
   ]
  },
  {
   "cell_type": "code",
   "execution_count": 24,
   "metadata": {},
   "outputs": [],
   "source": [
    "import random"
   ]
  },
  {
   "cell_type": "code",
   "execution_count": 54,
   "metadata": {},
   "outputs": [
    {
     "name": "stdout",
     "output_type": "stream",
     "text": [
      "Start state: 4\n"
     ]
    },
    {
     "data": {
      "text/plain": [
       "3"
      ]
     },
     "execution_count": 54,
     "metadata": {},
     "output_type": "execute_result"
    }
   ],
   "source": [
    "start_state = random.randint(0,5)\n",
    "print(\"Start state: {0}\".format(start_state))\n",
    "\n",
    "# Now all actions are available at the given state, chose out of the ones that are available\n",
    "indices = R_table.iloc[start_state,:].index[R_table.iloc[start_state,:].notnull()].values\n",
    "start_action = random.choice(indices)\n",
    "print(\"Start action: {0}\".format)"
   ]
  },
  {
   "cell_type": "code",
   "execution_count": 51,
   "metadata": {},
   "outputs": [
    {
     "data": {
      "text/plain": [
       "array([3, 5])"
      ]
     },
     "execution_count": 51,
     "metadata": {},
     "output_type": "execute_result"
    }
   ],
   "source": [
    "indices"
   ]
  },
  {
   "cell_type": "code",
   "execution_count": 29,
   "metadata": {},
   "outputs": [
    {
     "data": {
      "text/plain": [
       "0    0.0\n",
       "1    0.0\n",
       "2    NaN\n",
       "3    NaN\n",
       "4    NaN\n",
       "5    NaN\n",
       "Name: 0, dtype: float64"
      ]
     },
     "execution_count": 29,
     "metadata": {},
     "output_type": "execute_result"
    }
   ],
   "source": [
    "R_table.iloc[start_state,:]"
   ]
  },
  {
   "cell_type": "markdown",
   "metadata": {},
   "source": [
    "Given our starting point now we need to determine which action to take. This is where our q-learning formula comes in (see blog for more info). Initialize the parameters used in that equation:"
   ]
  },
  {
   "cell_type": "code",
   "execution_count": 21,
   "metadata": {},
   "outputs": [],
   "source": [
    "alpha = .1 # learning rate\n",
    "gamma = .1 # gamma is the discount factor\n",
    "\n",
    "# Also create dictionary with stations corresponding to state\n",
    "stations = {0:'Arsenal',1:'Finsbusry Park',2:'Manor House',3:'Seven Sisters',4:'Stamford Hill',5:'Tottenham Hill'}"
   ]
  },
  {
   "cell_type": "markdown",
   "metadata": {},
   "source": [
    "#### Q equation"
   ]
  },
  {
   "cell_type": "code",
   "execution_count": null,
   "metadata": {},
   "outputs": [],
   "source": [
    "(1 - alpha) * Q[start_state,:]"
   ]
  },
  {
   "cell_type": "markdown",
   "metadata": {},
   "source": [
    "Now we use the q-learning equation to update the matrix Q:\n",
    "\n",
    "Q(s<sub>t</sub>, a<sub>t</sub>) = (1 - alpha) Q(s<sub>t</sub>, a<sub>t</sub>) + alpha[R(s<sub>t</sub>, a<sub>t</sub>) + gamma max{Q(s<sub>t_1</sub>, a<sub>t+1</sub>)}]\n",
    "\n",
    "Since we are starting in state 3 (Seven Sisters) we have 6 options to choose from for our action. Say we randomly choose Tottenham Hale. Our Bellman equation will then be:\n",
    "\n",
    "Q(s<sub>t</sub>, a<sub>t</sub>) \n"
   ]
  },
  {
   "cell_type": "code",
   "execution_count": null,
   "metadata": {},
   "outputs": [],
   "source": []
  }
 ],
 "metadata": {
  "kernelspec": {
   "display_name": "Python 2",
   "language": "python",
   "name": "python2"
  },
  "language_info": {
   "codemirror_mode": {
    "name": "ipython",
    "version": 2
   },
   "file_extension": ".py",
   "mimetype": "text/x-python",
   "name": "python",
   "nbconvert_exporter": "python",
   "pygments_lexer": "ipython2",
   "version": "2.7.10"
  }
 },
 "nbformat": 4,
 "nbformat_minor": 2
}
