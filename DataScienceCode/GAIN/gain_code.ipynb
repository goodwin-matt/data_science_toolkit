{
 "cells": [
  {
   "cell_type": "markdown",
   "metadata": {},
   "source": [
    "# GAIN Code\n",
    "Notebook implementing the GAIN code for two datasets - Spam and Letters - from the UCI repository"
   ]
  },
  {
   "cell_type": "code",
   "execution_count": 162,
   "metadata": {},
   "outputs": [],
   "source": [
    "import tensorflow as tf\n",
    "import numpy as np\n",
    "from tqdm import tqdm\n",
    "import pandas as pd\n",
    "import seaborn as sns; sns.set()\n",
    "import matplotlib.pyplot as plt\n",
    "\n",
    "%matplotlib inline"
   ]
  },
  {
   "cell_type": "markdown",
   "metadata": {},
   "source": [
    "#### Data - read in Spam and Letters datasets"
   ]
  },
  {
   "cell_type": "code",
   "execution_count": 163,
   "metadata": {},
   "outputs": [],
   "source": [
    "spam = pd.read_csv(\"spambase.data\", header=None)\n",
    "letters = pd.read_csv(\"letter-recognition.data\", header=None)"
   ]
  },
  {
   "cell_type": "code",
   "execution_count": 164,
   "metadata": {},
   "outputs": [],
   "source": [
    "spam_data = spam.iloc[:,:57]\n",
    "letters_data = letters.iloc[:,1:]\n",
    "spam_labels = spam.iloc[:,57]\n",
    "letters_labels = letters.iloc[:,0]"
   ]
  },
  {
   "cell_type": "markdown",
   "metadata": {},
   "source": [
    "### GAIN Class"
   ]
  },
  {
   "cell_type": "code",
   "execution_count": 165,
   "metadata": {},
   "outputs": [],
   "source": [
    "class GAIN:\n",
    "    def __init__(self, Data):\n",
    "        self.Data = Data\n",
    "        \n",
    "        # Parameters\n",
    "        self.No = len(Data)\n",
    "        self.Dim = len(Data[0,:])\n",
    "\n",
    "        # Hidden layer parameters\n",
    "        self.H_Dim1 = self.Dim\n",
    "        self.H_Dim2 = self.Dim\n",
    "        \n",
    "        # Test and training sets\n",
    "        self.trainX = None\n",
    "        self.testX = None\n",
    "\n",
    "        # Train / Test Missing Indicators\n",
    "        self.trainM = None\n",
    "        self.testM = None\n",
    "\n",
    "        self.train_indices = None\n",
    "        self.test_indices = None\n",
    "        \n",
    "    def normalize(self):\n",
    "        # Normalization (0 to 1)\n",
    "        Min_Val = np.zeros(self.Dim)\n",
    "        Max_Val = np.zeros(self.Dim)\n",
    "\n",
    "        for i in range(self.Dim):\n",
    "            Min_Val[i] = np.min(self.Data[:,i])\n",
    "            self.Data[:,i] = self.Data[:,i] - np.min(self.Data[:,i])\n",
    "            Max_Val[i] = np.max(self.Data[:,i])\n",
    "            self.Data[:,i] = self.Data[:,i] / (np.max(self.Data[:,i]) + 1e-6)    \n",
    "\n",
    "    def create_missing(self, p_miss):\n",
    "                       \n",
    "        #%% Missing introducing\n",
    "        p_miss_vec = p_miss * np.ones((self.Dim,1)) \n",
    "\n",
    "        self.Missing = np.zeros((self.No,self.Dim))\n",
    "\n",
    "        for i in range(self.Dim):\n",
    "            A = np.random.uniform(0., 1., size = [len(self.Data),])\n",
    "            B = A > p_miss_vec[i]\n",
    "            self.Missing[:,i] = 1.*B\n",
    "\n",
    "    def train_test_split(self, train_rate):\n",
    "        #%% Train Test Division    \n",
    "\n",
    "        idx = np.random.permutation(self.No)\n",
    "\n",
    "        self.Train_No = int(self.No * train_rate)\n",
    "        self.Test_No = self.No - self.Train_No\n",
    "\n",
    "        # Train / Test Features\n",
    "        self.trainX = self.Data[idx[:self.Train_No],:]\n",
    "        self.testX = self.Data[idx[self.Train_No:],:]\n",
    "\n",
    "        # Train / Test Missing Indicators\n",
    "        self.trainM = self.Missing[idx[:self.Train_No],:]\n",
    "        self.testM = self.Missing[idx[self.Train_No:],:]\n",
    "        \n",
    "        self.train_indices = idx[:self.Train_No]\n",
    "        self.test_indices = idx[self.Train_No:]\n",
    "\n",
    "    # Helper functions\n",
    "    def xavier_init(self, size):\n",
    "        # 1. Xavier Initialization Definition\n",
    "        in_dim = size[0]\n",
    "        xavier_stddev = 1. / tf.sqrt(in_dim / 2.)\n",
    "        return tf.random_normal(shape = size, stddev = xavier_stddev)\n",
    "    \n",
    "    def sample_M(self, m, n, p):\n",
    "        # Hint Vector Generation\n",
    "        A = np.random.uniform(0., 1., size = [m, n])\n",
    "        B = A > p\n",
    "        C = 1.*B\n",
    "        return C\n",
    "\n",
    "    #%% GAIN Function\n",
    "\n",
    "    #%% 1. Generator\n",
    "    def generator(self, new_x, m, G_W1, G_W2, G_W3, G_b1, G_b2, G_b3):\n",
    "        inputs = tf.concat(axis = 1, values = [new_x,m])  # Mask + Data Concatenate\n",
    "        G_h1 = tf.nn.relu(tf.matmul(inputs, G_W1) + G_b1)\n",
    "        G_h2 = tf.nn.relu(tf.matmul(G_h1, G_W2) + G_b2)   \n",
    "        G_prob = tf.nn.sigmoid(tf.matmul(G_h2, G_W3) + G_b3) # [0,1] normalized Output\n",
    "        return G_prob\n",
    "\n",
    "    #%% 2. Discriminator\n",
    "    def discriminator(self, new_x, h, D_W1, D_W2, D_W3, D_b1, D_b2, D_b3):\n",
    "        inputs = tf.concat(axis = 1, values = [new_x,h])  # Hint + Data Concatenate\n",
    "        D_h1 = tf.nn.relu(tf.matmul(inputs, D_W1) + D_b1)  \n",
    "        D_h2 = tf.nn.relu(tf.matmul(D_h1, D_W2) + D_b2)\n",
    "        D_logit = tf.matmul(D_h2, D_W3) + D_b3\n",
    "        D_prob = tf.nn.sigmoid(D_logit)  # [0,1] Probability Output\n",
    "        return D_prob\n",
    "\n",
    "    #%% 3. Other functions\n",
    "    # Random sample generator for Z\n",
    "    def sample_Z(self, m, n):\n",
    "        return np.random.uniform(0., 0.01, size = [m, n])        \n",
    "\n",
    "    # Mini-batch generation\n",
    "    def sample_idx(self, m, n):\n",
    "        A = np.random.permutation(m)\n",
    "        idx = A[:n]\n",
    "        return idx\n",
    "        \n",
    "    def gain_network(self, mb_size, p_hint, alpha, verbose=False):\n",
    "        '''\n",
    "        GAIN Consists of 3 Components\n",
    "        - Generator\n",
    "        - Discriminator\n",
    "        - Hint Mechanism\n",
    "        '''   \n",
    "\n",
    "        #%% GAIN Architecture   \n",
    "\n",
    "        #%% 1. Input Placeholders\n",
    "        # 1.1. Data Vector\n",
    "        X = tf.placeholder(tf.float32, shape = [None, self.Dim])\n",
    "        # 1.2. Mask Vector \n",
    "        M = tf.placeholder(tf.float32, shape = [None, self.Dim])\n",
    "        # 1.3. Hint vector\n",
    "        H = tf.placeholder(tf.float32, shape = [None, self.Dim])\n",
    "        # 1.4. X with missing values\n",
    "        New_X = tf.placeholder(tf.float32, shape = [None, self.Dim])\n",
    "\n",
    "        #%% 2. Discriminator\n",
    "        D_W1 = tf.Variable(self.xavier_init([self.Dim*2, self.H_Dim1]))     # Data + Hint as inputs\n",
    "        D_b1 = tf.Variable(tf.zeros(shape = [self.H_Dim1]))\n",
    "\n",
    "        D_W2 = tf.Variable(self.xavier_init([self.H_Dim1, self.H_Dim2]))\n",
    "        D_b2 = tf.Variable(tf.zeros(shape = [self.H_Dim2]))\n",
    "\n",
    "        D_W3 = tf.Variable(self.xavier_init([self.H_Dim2, self.Dim]))\n",
    "        D_b3 = tf.Variable(tf.zeros(shape = [self.Dim]))       # Output is multi-variate\n",
    "\n",
    "        theta_D = [D_W1, D_W2, D_W3, D_b1, D_b2, D_b3]\n",
    "\n",
    "        #%% 3. Generator\n",
    "        G_W1 = tf.Variable(self.xavier_init([self.Dim*2, self.H_Dim1]))     # Data + Mask as inputs (Random Noises are in Missing Components)\n",
    "        G_b1 = tf.Variable(tf.zeros(shape = [self.H_Dim1]))\n",
    "\n",
    "        G_W2 = tf.Variable(self.xavier_init([self.H_Dim1, self.H_Dim2]))\n",
    "        G_b2 = tf.Variable(tf.zeros(shape = [self.H_Dim2]))\n",
    "\n",
    "        G_W3 = tf.Variable(self.xavier_init([self.H_Dim2, self.Dim]))\n",
    "        G_b3 = tf.Variable(tf.zeros(shape = [self.Dim]))\n",
    "\n",
    "        theta_G = [G_W1, G_W2, G_W3, G_b1, G_b2, G_b3]\n",
    "\n",
    "\n",
    "\n",
    "        #%% Structure\n",
    "        # Generator\n",
    "        G_sample = self.generator(New_X, M, G_W1, G_W2, G_W3, G_b1, G_b2, G_b3)\n",
    "\n",
    "        # Combine with original data\n",
    "        Hat_New_X = New_X * M + G_sample * (1-M)\n",
    "\n",
    "        # Discriminator\n",
    "        D_prob = self.discriminator(Hat_New_X, H, D_W1, D_W2, D_W3, D_b1, D_b2, D_b3)\n",
    "\n",
    "        #%% Loss\n",
    "        D_loss1 = -tf.reduce_mean(M * tf.log(D_prob + 1e-8) + (1-M) * tf.log(1. - D_prob + 1e-8)) \n",
    "        G_loss1 = -tf.reduce_mean((1-M) * tf.log(D_prob + 1e-8))\n",
    "        MSE_train_loss = tf.reduce_mean((M * New_X - M * G_sample)**2) / tf.reduce_mean(M)\n",
    "\n",
    "        D_loss = D_loss1\n",
    "        G_loss = G_loss1 + alpha * MSE_train_loss \n",
    "\n",
    "        #%% MSE Performance metric\n",
    "        MSE_test_loss = tf.reduce_mean(((1-M) * X - (1-M)*G_sample)**2) / tf.reduce_mean(1-M)\n",
    "\n",
    "        #%% Solver\n",
    "        D_solver = tf.train.AdamOptimizer().minimize(D_loss, var_list=theta_D)\n",
    "        G_solver = tf.train.AdamOptimizer().minimize(G_loss, var_list=theta_G)\n",
    "\n",
    "        # Sessions\n",
    "        sess = tf.Session()\n",
    "        sess.run(tf.global_variables_initializer())\n",
    "\n",
    "        #%% Iterations\n",
    "\n",
    "        #%% Start Iterations\n",
    "        for it in tqdm(range(5000)):    \n",
    "\n",
    "            #%% Inputs\n",
    "            mb_idx = self.sample_idx(self.Train_No, mb_size)\n",
    "            X_mb = self.trainX[mb_idx,:]  \n",
    "\n",
    "            Z_mb = self.sample_Z(mb_size, self.Dim) \n",
    "            M_mb = self.trainM[mb_idx,:]  \n",
    "            H_mb1 = self.sample_M(mb_size, self.Dim, 1-p_hint)\n",
    "            H_mb = M_mb * H_mb1\n",
    "\n",
    "            New_X_mb = M_mb * X_mb + (1-M_mb) * Z_mb  # Missing Data Introduce\n",
    "\n",
    "            _, D_loss_curr = sess.run([D_solver, D_loss1], feed_dict = {M: M_mb, New_X: New_X_mb, H: H_mb})\n",
    "            _, G_loss_curr, MSE_train_loss_curr, MSE_test_loss_curr = sess.run([G_solver, G_loss1, MSE_train_loss, MSE_test_loss],\n",
    "                                                                               feed_dict = {X: X_mb, M: M_mb, New_X: New_X_mb, H: H_mb})\n",
    "\n",
    "            if verbose==True:\n",
    "                #%% Intermediate Losses\n",
    "                if it % 1000 == 0:\n",
    "                    print('Iter: {}'.format(it))\n",
    "                    print('Train_loss: {:.4}'.format(np.sqrt(MSE_train_loss_curr)))\n",
    "                    print('Test_loss: {:.4}'.format(np.sqrt(MSE_test_loss_curr)))\n",
    "                    print()\n",
    "\n",
    "        Z_mb = self.sample_Z(self.Test_No, self.Dim) \n",
    "        M_mb = self.testM\n",
    "        X_mb = self.testX\n",
    "\n",
    "        New_X_mb = M_mb * X_mb + (1-M_mb) * Z_mb  # Missing Data Introduce\n",
    "\n",
    "        MSE_final, Sample = sess.run([MSE_test_loss, G_sample], feed_dict = {X: self.testX, M: self.testM, New_X: New_X_mb})\n",
    "\n",
    "        print('Final Test RMSE: ' + str(np.sqrt(MSE_final)))\n",
    "        return(Sample)"
   ]
  },
  {
   "cell_type": "markdown",
   "metadata": {},
   "source": [
    "### Loop through various levels of missingness"
   ]
  },
  {
   "cell_type": "markdown",
   "metadata": {},
   "source": [
    "#### Global parameters"
   ]
  },
  {
   "cell_type": "code",
   "execution_count": 166,
   "metadata": {},
   "outputs": [],
   "source": [
    "# 1. Mini batch size\n",
    "mb_size = 128\n",
    "# 2. Hint rate\n",
    "p_hint = 0.9\n",
    "# 3. Loss Hyperparameters\n",
    "alpha = 10\n",
    "# 4. Train Rate\n",
    "train_rate = 0.8"
   ]
  },
  {
   "cell_type": "markdown",
   "metadata": {},
   "source": [
    "Helper function for scoring imputation method "
   ]
  },
  {
   "cell_type": "code",
   "execution_count": 167,
   "metadata": {},
   "outputs": [],
   "source": [
    "def imputation_rmse(M_test, X_test, X_test_impute):\n",
    "    return(np.sqrt(np.mean(((1-M_test) * X_test - (1-M_test)*X_test_impute)**2) / np.mean(1-M_test)))\n",
    "    "
   ]
  },
  {
   "cell_type": "code",
   "execution_count": 160,
   "metadata": {
    "scrolled": true
   },
   "outputs": [
    {
     "name": "stdout",
     "output_type": "stream",
     "text": [
      "[  0.      0.64    0.64    0.      0.32    0.      0.      0.      0.\n",
      "   0.      0.      0.64    0.      0.      0.      0.32    0.      1.29\n",
      "   1.93    0.      0.96    0.      0.      0.      0.      0.      0.\n",
      "   0.      0.      0.      0.      0.      0.      0.      0.      0.\n",
      "   0.      0.      0.      0.      0.      0.      0.      0.      0.\n",
      "   0.      0.      0.      0.      0.      0.      0.778   0.      0.\n",
      "   3.756  61.    278.   ]\n"
     ]
    },
    {
     "name": "stderr",
     "output_type": "stream",
     "text": [
      "100%|██████████| 5000/5000 [00:17<00:00, 292.67it/s]\n"
     ]
    },
    {
     "name": "stdout",
     "output_type": "stream",
     "text": [
      "Final Test RMSE: 0.056389973\n",
      "Zeros imputation performance: 0.06538530414127323\n",
      "Mean imputation performance: 0.060929070371775355\n",
      "GAN imputation performance: 0.056389971540183784\n"
     ]
    },
    {
     "name": "stderr",
     "output_type": "stream",
     "text": [
      "100%|██████████| 5000/5000 [00:16<00:00, 297.85it/s]\n"
     ]
    },
    {
     "name": "stdout",
     "output_type": "stream",
     "text": [
      "Final Test RMSE: 0.056701936\n",
      "Zeros imputation performance: 0.06214142935058769\n",
      "Mean imputation performance: 0.05806278576677495\n",
      "GAN imputation performance: 0.05670193612491822\n"
     ]
    },
    {
     "name": "stderr",
     "output_type": "stream",
     "text": [
      "100%|██████████| 5000/5000 [00:16<00:00, 300.08it/s]\n"
     ]
    },
    {
     "name": "stdout",
     "output_type": "stream",
     "text": [
      "Final Test RMSE: 0.13363135\n",
      "Zeros imputation performance: 0.058477023857035126\n",
      "Mean imputation performance: 0.05386657644246834\n",
      "GAN imputation performance: 0.13363137355276153\n"
     ]
    },
    {
     "name": "stderr",
     "output_type": "stream",
     "text": [
      "100%|██████████| 5000/5000 [00:17<00:00, 293.94it/s]\n"
     ]
    },
    {
     "name": "stdout",
     "output_type": "stream",
     "text": [
      "Final Test RMSE: 0.11190571\n",
      "Zeros imputation performance: 0.06236749312154788\n",
      "Mean imputation performance: 0.05832200127353609\n",
      "GAN imputation performance: 0.11190573057648794\n",
      "[ 2.  8.  3.  5.  1.  8. 13.  0.  6.  6. 10.  8.  0.  8.  0.  8.]\n"
     ]
    },
    {
     "name": "stderr",
     "output_type": "stream",
     "text": [
      "100%|██████████| 5000/5000 [00:10<00:00, 483.05it/s]\n"
     ]
    },
    {
     "name": "stdout",
     "output_type": "stream",
     "text": [
      "Final Test RMSE: 0.12681715\n",
      "Zeros imputation performance: 0.43811967869834323\n",
      "Mean imputation performance: 0.15308224562290296\n",
      "GAN imputation performance: 0.12681714621656065\n"
     ]
    },
    {
     "name": "stderr",
     "output_type": "stream",
     "text": [
      "100%|██████████| 5000/5000 [00:10<00:00, 484.11it/s]\n"
     ]
    },
    {
     "name": "stdout",
     "output_type": "stream",
     "text": [
      "Final Test RMSE: 0.13470462\n",
      "Zeros imputation performance: 0.43872004417470983\n",
      "Mean imputation performance: 0.1524596132747638\n",
      "GAN imputation performance: 0.13470462837361907\n"
     ]
    },
    {
     "name": "stderr",
     "output_type": "stream",
     "text": [
      "100%|██████████| 5000/5000 [00:10<00:00, 481.35it/s]\n"
     ]
    },
    {
     "name": "stdout",
     "output_type": "stream",
     "text": [
      "Final Test RMSE: 0.16640882\n",
      "Zeros imputation performance: 0.4401498931213414\n",
      "Mean imputation performance: 0.15497874797933034\n",
      "GAN imputation performance: 0.16640881414739578\n"
     ]
    },
    {
     "name": "stderr",
     "output_type": "stream",
     "text": [
      "100%|██████████| 5000/5000 [00:10<00:00, 475.99it/s]\n"
     ]
    },
    {
     "name": "stdout",
     "output_type": "stream",
     "text": [
      "Final Test RMSE: 0.20769054\n",
      "Zeros imputation performance: 0.44070386503041403\n",
      "Mean imputation performance: 0.1534306694340786\n",
      "GAN imputation performance: 0.2076905420049601\n"
     ]
    }
   ],
   "source": [
    "rmses = np.zeros((2,4,3))\n",
    "count_data = 0\n",
    "for Data in [spam_data.values*1.0, letters_data.values*1.0]:\n",
    "    print(Data[0,:])\n",
    "    gain = GAIN(Data)\n",
    "    # Normalize the data\n",
    "    gain.normalize()\n",
    "    \n",
    "    \n",
    "    count_miss = 0\n",
    "    for p_miss in [.2, .4, .6, .8]:\n",
    "        \n",
    "        # Create missing value matrix\n",
    "        gain.create_missing(p_miss)\n",
    "        # Create train and test split\n",
    "        gain.train_test_split(train_rate)\n",
    "\n",
    "        # Get test missing value matrix and test data\n",
    "        M_test = gain.testM\n",
    "        X_test = gain.testX\n",
    "\n",
    "        # GAIN approach - this returns the imputation of the test matrix\n",
    "        gan_imputed = gain.gain_network(mb_size, p_hint, alpha)\n",
    "\n",
    "        # Zeros approach (just impute with 0)\n",
    "        zero_imputed = X_test*M_test\n",
    "\n",
    "        # Means approach\n",
    "        impute_means = np.reshape(np.sum(X_test * M_test, axis=0)/np.sum(M_test,axis=0),(1,gain.Dim))\n",
    "        impute_means = np.repeat(impute_means, M_test.shape[0], axis=0)\n",
    "        mean_imputed = X_test*M_test + impute_means * (1-M_test)\n",
    "\n",
    "        zeros_rmse = imputation_rmse(M_test, X_test, zero_imputed)\n",
    "        mean_rmse = imputation_rmse(M_test, X_test, mean_imputed)\n",
    "        gan_rmse = imputation_rmse(M_test, X_test, gan_imputed)\n",
    "        \n",
    "        rmses[count_data, count_miss,0] = zeros_rmse\n",
    "        rmses[count_data, count_miss,1] = mean_rmse\n",
    "        rmses[count_data, count_miss,2] = gan_rmse\n",
    "        \n",
    "        print('Zeros imputation performance: {0}'.format(zeros_rmse))\n",
    "        print('Mean imputation performance: {0}'.format(mean_rmse))\n",
    "        print('GAN imputation performance: {0}'.format(gan_rmse))\n",
    "        \n",
    "        count_miss += 1\n",
    "        \n",
    "    count_data += 1"
   ]
  },
  {
   "cell_type": "code",
   "execution_count": 168,
   "metadata": {},
   "outputs": [
    {
     "data": {
      "text/plain": [
       "array([[[0.0653853 , 0.06092907, 0.05638997],\n",
       "        [0.06214143, 0.05806279, 0.05670194],\n",
       "        [0.05847702, 0.05386658, 0.13363137],\n",
       "        [0.06236749, 0.058322  , 0.11190573]],\n",
       "\n",
       "       [[0.43811968, 0.15308225, 0.12681715],\n",
       "        [0.43872004, 0.15245961, 0.13470463],\n",
       "        [0.44014989, 0.15497875, 0.16640881],\n",
       "        [0.44070387, 0.15343067, 0.20769054]]])"
      ]
     },
     "execution_count": 168,
     "metadata": {},
     "output_type": "execute_result"
    }
   ],
   "source": [
    "rmses"
   ]
  },
  {
   "cell_type": "code",
   "execution_count": 175,
   "metadata": {},
   "outputs": [
    {
     "data": {
      "text/plain": [
       "array([0.43811968, 0.43872004, 0.44014989, 0.44070387])"
      ]
     },
     "execution_count": 175,
     "metadata": {},
     "output_type": "execute_result"
    }
   ],
   "source": [
    "rmses[1][:,0]"
   ]
  },
  {
   "cell_type": "code",
   "execution_count": 182,
   "metadata": {},
   "outputs": [
    {
     "data": {
      "image/png": "[encoded data removed]",
      "text/plain": [
       "<Figure size 432x288 with 1 Axes>"
      ]
     },
     "metadata": {
      "needs_background": "light"
     },
     "output_type": "display_data"
    }
   ],
   "source": [
    "plt.plot([.2,.4,.6,.8], rmses[0][:,0], label='zero imputation')\n",
    "plt.plot([.2,.4,.6,.8], rmses[0][:,1], label='mean imputation')\n",
    "plt.plot([.2,.4,.6,.8], rmses[0][:,2], label='gan imputation' )\n",
    "plt.xlabel('percent missing')\n",
    "plt.ylabel('RMSE')\n",
    "plt.legend(loc='upper left')\n",
    "plt.title('Performance on Spam Data')\n",
    "plt.show()"
   ]
  },
  {
   "cell_type": "code",
   "execution_count": 183,
   "metadata": {},
   "outputs": [
    {
     "data": {
      "image/png": "[encoded data removed]",
      "text/plain": [
       "<Figure size 432x288 with 1 Axes>"
      ]
     },
     "metadata": {
      "needs_background": "light"
     },
     "output_type": "display_data"
    }
   ],
   "source": [
    "plt.plot([.2,.4,.6,.8], rmses[1][:,0],label='zero imputation')\n",
    "plt.plot([.2,.4,.6,.8], rmses[1][:,1],label='mean imputation')\n",
    "plt.plot([.2,.4,.6,.8], rmses[1][:,2],label='gan imputation' )\n",
    "plt.xlabel('percent missing')\n",
    "plt.ylabel('RMSE')\n",
    "plt.legend(loc='upper left')\n",
    "plt.title('Performance on Letters Data')\n",
    "plt.show()"
   ]
  },
  {
   "cell_type": "code",
   "execution_count": null,
   "metadata": {},
   "outputs": [],
   "source": []
  }
 ],
 "metadata": {
  "kernelspec": {
   "display_name": "Python 3",
   "language": "python",
   "name": "python3"
  },
  "language_info": {
   "codemirror_mode": {
    "name": "ipython",
    "version": 3
   },
   "file_extension": ".py",
   "mimetype": "text/x-python",
   "name": "python",
   "nbconvert_exporter": "python",
   "pygments_lexer": "ipython3",
   "version": "3.7.5"
  }
 },
 "nbformat": 4,
 "nbformat_minor": 2
}
