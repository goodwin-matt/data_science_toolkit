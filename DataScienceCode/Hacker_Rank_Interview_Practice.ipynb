{
 "cells": [
  {
   "cell_type": "markdown",
   "metadata": {},
   "source": [
    "## Common Substrings\n",
    "#### Given two strings, determine if they share a common substring. A substring may be as small as one character.\n",
    "For example, the words \"a\", \"and\", \"art\" share the common substring . The words \"be\" and \"cat\" do not share a substring."
   ]
  },
  {
   "cell_type": "code",
   "execution_count": 1,
   "metadata": {},
   "outputs": [],
   "source": [
    "s1 = 'hello'\n",
    "s2 = 'world'"
   ]
  },
  {
   "cell_type": "code",
   "execution_count": 4,
   "metadata": {},
   "outputs": [
    {
     "data": {
      "text/plain": [
       "2"
      ]
     },
     "execution_count": 4,
     "metadata": {},
     "output_type": "execute_result"
    }
   ],
   "source": [
    "len(set(s1).intersection(set(s2)))"
   ]
  },
  {
   "cell_type": "markdown",
   "metadata": {},
   "source": [
    "## Common Child"
   ]
  },
  {
   "cell_type": "code",
   "execution_count": 98,
   "metadata": {},
   "outputs": [],
   "source": [
    "import numpy as np"
   ]
  },
  {
   "cell_type": "code",
   "execution_count": 105,
   "metadata": {},
   "outputs": [],
   "source": [
    "s1 = 'AA'\n",
    "s2 = 'ABBA'"
   ]
  },
  {
   "cell_type": "code",
   "execution_count": 106,
   "metadata": {},
   "outputs": [],
   "source": [
    "def child(s1, s2): \n",
    "    X = list(s1)\n",
    "    Y = list(s2)\n",
    "    # find the length of the strings \n",
    "    m = len(X) \n",
    "    n = len(Y) \n",
    "  \n",
    "    # declaring the array for storing the dp values \n",
    "    L = [[None]*(n+1) for i in xrange(m+1)] \n",
    "  \n",
    "    \"\"\"Following steps build L[m+1][n+1] in bottom up fashion \n",
    "    Note: L[i][j] contains length of LCS of X[0..i-1] \n",
    "    and Y[0..j-1]\"\"\"\n",
    "    for i in range(m+1): \n",
    "        for j in range(n+1): \n",
    "            if i == 0 or j == 0 : \n",
    "                L[i][j] = 0\n",
    "            elif X[i-1] == Y[j-1]: \n",
    "                L[i][j] = L[i-1][j-1]+1\n",
    "            else: \n",
    "                L[i][j] = max(L[i-1][j] , L[i][j-1]) \n",
    "  \n",
    "    # L[m][n] contains the length of LCS of X[0..n-1] & Y[0..m-1] \n",
    "    print(np.array(L))\n",
    "    return L[m][n] \n",
    "      "
   ]
  },
  {
   "cell_type": "code",
   "execution_count": 107,
   "metadata": {
    "scrolled": true
   },
   "outputs": [
    {
     "name": "stdout",
     "output_type": "stream",
     "text": [
      "[[0 0 0 0 0]\n",
      " [0 1 1 1 1]\n",
      " [0 1 1 1 2]]\n"
     ]
    },
    {
     "data": {
      "text/plain": [
       "2"
      ]
     },
     "execution_count": 107,
     "metadata": {},
     "output_type": "execute_result"
    }
   ],
   "source": [
    "child(s1,s2)"
   ]
  },
  {
   "cell_type": "code",
   "execution_count": 64,
   "metadata": {},
   "outputs": [
    {
     "data": {
      "text/plain": [
       "1"
      ]
     },
     "execution_count": 64,
     "metadata": {},
     "output_type": "execute_result"
    }
   ],
   "source": [
    "m."
   ]
  },
  {
   "cell_type": "code",
   "execution_count": 68,
   "metadata": {},
   "outputs": [
    {
     "data": {
      "text/plain": [
       "[]"
      ]
     },
     "execution_count": 68,
     "metadata": {},
     "output_type": "execute_result"
    }
   ],
   "source": [
    "m[4+1:]"
   ]
  },
  {
   "cell_type": "code",
   "execution_count": 33,
   "metadata": {},
   "outputs": [
    {
     "data": {
      "text/plain": [
       "{'a', 'd'}"
      ]
     },
     "execution_count": 33,
     "metadata": {},
     "output_type": "execute_result"
    }
   ],
   "source": [
    "set(list('da')).intersection(set(list('dma')))"
   ]
  },
  {
   "cell_type": "code",
   "execution_count": 16,
   "metadata": {},
   "outputs": [],
   "source": [
    "m=[1,3]"
   ]
  },
  {
   "cell_type": "code",
   "execution_count": 17,
   "metadata": {},
   "outputs": [],
   "source": [
    "t = [1,3]"
   ]
  },
  {
   "cell_type": "code",
   "execution_count": 18,
   "metadata": {},
   "outputs": [
    {
     "data": {
      "text/plain": [
       "True"
      ]
     },
     "execution_count": 18,
     "metadata": {},
     "output_type": "execute_result"
    }
   ],
   "source": [
    "m==t"
   ]
  },
  {
   "cell_type": "code",
   "execution_count": 3,
   "metadata": {},
   "outputs": [
    {
     "data": {
      "text/plain": [
       "False"
      ]
     },
     "execution_count": 3,
     "metadata": {},
     "output_type": "execute_result"
    }
   ],
   "source": [
    "[1,2] in m"
   ]
  },
  {
   "cell_type": "code",
   "execution_count": 32,
   "metadata": {},
   "outputs": [
    {
     "name": "stdout",
     "output_type": "stream",
     "text": [
      "0\n",
      "['A', 'R', 'R', 'Y']\n",
      "['A', 'L', 'L', 'Y']\n",
      "False\n",
      "['S', 'L', 'L', 'Y']\n",
      "False\n",
      "['S', 'A', 'L', 'Y']\n",
      "False\n",
      "['S', 'A', 'L', 'Y']\n",
      "False\n",
      "['S', 'A', 'L', 'L']\n",
      "False\n",
      "1\n",
      "['H', 'R', 'R', 'Y']\n",
      "['A', 'L', 'L', 'Y']\n",
      "False\n",
      "['S', 'L', 'L', 'Y']\n",
      "False\n",
      "['S', 'A', 'L', 'Y']\n",
      "False\n",
      "['S', 'A', 'L', 'Y']\n",
      "False\n",
      "['S', 'A', 'L', 'L']\n",
      "False\n",
      "2\n",
      "['H', 'A', 'R', 'Y']\n",
      "['A', 'L', 'L', 'Y']\n",
      "False\n",
      "['S', 'L', 'L', 'Y']\n",
      "False\n",
      "['S', 'A', 'L', 'Y']\n",
      "False\n",
      "['S', 'A', 'L', 'Y']\n",
      "False\n",
      "['S', 'A', 'L', 'L']\n",
      "False\n",
      "3\n",
      "['H', 'A', 'R', 'Y']\n",
      "['A', 'L', 'L', 'Y']\n",
      "False\n",
      "['S', 'L', 'L', 'Y']\n",
      "False\n",
      "['S', 'A', 'L', 'Y']\n",
      "False\n",
      "['S', 'A', 'L', 'Y']\n",
      "False\n",
      "['S', 'A', 'L', 'L']\n",
      "False\n",
      "4\n",
      "['H', 'A', 'R', 'R']\n",
      "['A', 'L', 'L', 'Y']\n",
      "False\n",
      "['S', 'L', 'L', 'Y']\n",
      "False\n",
      "['S', 'A', 'L', 'Y']\n",
      "False\n",
      "['S', 'A', 'L', 'Y']\n",
      "False\n",
      "['S', 'A', 'L', 'L']\n",
      "False\n"
     ]
    }
   ],
   "source": [
    "s1_list = list(s1)\n",
    "s2_list = list(s2)\n",
    "for i in xrange(len(s1_list)):\n",
    "    print(i)\n",
    "    s1_list.pop(i)\n",
    "    print(s1_list)\n",
    "    for j in xrange(len(s2_list)):\n",
    "        s2_list.pop(j)\n",
    "        print(s2_list)\n",
    "        if s2_list==s1_list:\n",
    "            print('True')\n",
    "        else:\n",
    "            print('False')\n",
    "        s2_list = list(s2)\n",
    "    s1_list = list(s1)\n",
    "    \n"
   ]
  },
  {
   "cell_type": "code",
   "execution_count": 9,
   "metadata": {},
   "outputs": [
    {
     "data": {
      "text/plain": [
       "True"
      ]
     },
     "execution_count": 9,
     "metadata": {},
     "output_type": "execute_result"
    }
   ],
   "source": [
    "list(s1)==list(s1)"
   ]
  },
  {
   "cell_type": "code",
   "execution_count": null,
   "metadata": {},
   "outputs": [],
   "source": []
  }
 ],
 "metadata": {
  "kernelspec": {
   "display_name": "Python 2",
   "language": "python",
   "name": "python2"
  },
  "language_info": {
   "codemirror_mode": {
    "name": "ipython",
    "version": 2
   },
   "file_extension": ".py",
   "mimetype": "text/x-python",
   "name": "python",
   "nbconvert_exporter": "python",
   "pygments_lexer": "ipython2",
   "version": "2.7.10"
  }
 },
 "nbformat": 4,
 "nbformat_minor": 2
}
