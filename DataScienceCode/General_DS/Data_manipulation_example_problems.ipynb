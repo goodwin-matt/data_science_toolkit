{
 "cells": [
  {
   "cell_type": "code",
   "execution_count": 16,
   "metadata": {},
   "outputs": [],
   "source": [
    "import pandas as pd"
   ]
  },
  {
   "cell_type": "code",
   "execution_count": 17,
   "metadata": {},
   "outputs": [],
   "source": [
    "raw_data1 = {'name': ['Willard Morris', 'Al Jennings', 'Omar Mullins', 'Spencer McDaniel'],\n",
    "'age': [20, 19, 22, 21],\n",
    "'favorite_color': ['blue', 'blue', 'yellow', \"green\"],\n",
    "'test_one': [88, 92, 95, 70]}\n",
    "df1 = pd.DataFrame(raw_data1)\n",
    "\n",
    "raw_data2 = {'name': ['Willard Morris', 'Al Jennings', 'Omar Mullins', 'Spencer McDaniel'],\n",
    "'test_two': [87, 94, 97, 72],\n",
    "'test_three': [78, 100, 90, 85]}\n",
    "df2 = pd.DataFrame(raw_data2)\n"
   ]
  },
  {
   "cell_type": "code",
   "execution_count": 18,
   "metadata": {},
   "outputs": [
    {
     "data": {
      "text/html": [
       "<div>\n",
       "<style scoped>\n",
       "    .dataframe tbody tr th:only-of-type {\n",
       "        vertical-align: middle;\n",
       "    }\n",
       "\n",
       "    .dataframe tbody tr th {\n",
       "        vertical-align: top;\n",
       "    }\n",
       "\n",
       "    .dataframe thead th {\n",
       "        text-align: right;\n",
       "    }\n",
       "</style>\n",
       "<table border=\"1\" class=\"dataframe\">\n",
       "  <thead>\n",
       "    <tr style=\"text-align: right;\">\n",
       "      <th></th>\n",
       "      <th>name</th>\n",
       "      <th>age</th>\n",
       "      <th>favorite_color</th>\n",
       "      <th>test_one</th>\n",
       "    </tr>\n",
       "  </thead>\n",
       "  <tbody>\n",
       "    <tr>\n",
       "      <th>0</th>\n",
       "      <td>Willard Morris</td>\n",
       "      <td>20</td>\n",
       "      <td>blue</td>\n",
       "      <td>88</td>\n",
       "    </tr>\n",
       "    <tr>\n",
       "      <th>1</th>\n",
       "      <td>Al Jennings</td>\n",
       "      <td>19</td>\n",
       "      <td>blue</td>\n",
       "      <td>92</td>\n",
       "    </tr>\n",
       "    <tr>\n",
       "      <th>2</th>\n",
       "      <td>Omar Mullins</td>\n",
       "      <td>22</td>\n",
       "      <td>yellow</td>\n",
       "      <td>95</td>\n",
       "    </tr>\n",
       "    <tr>\n",
       "      <th>3</th>\n",
       "      <td>Spencer McDaniel</td>\n",
       "      <td>21</td>\n",
       "      <td>green</td>\n",
       "      <td>70</td>\n",
       "    </tr>\n",
       "  </tbody>\n",
       "</table>\n",
       "</div>"
      ],
      "text/plain": [
       "               name  age favorite_color  test_one\n",
       "0    Willard Morris   20           blue        88\n",
       "1       Al Jennings   19           blue        92\n",
       "2      Omar Mullins   22         yellow        95\n",
       "3  Spencer McDaniel   21          green        70"
      ]
     },
     "execution_count": 18,
     "metadata": {},
     "output_type": "execute_result"
    }
   ],
   "source": [
    "df1"
   ]
  },
  {
   "cell_type": "code",
   "execution_count": 27,
   "metadata": {},
   "outputs": [
    {
     "ename": "KeyError",
     "evalue": "'ame'",
     "output_type": "error",
     "traceback": [
      "\u001b[0;31m---------------------------------------------------------------------------\u001b[0m",
      "\u001b[0;31mKeyError\u001b[0m                                  Traceback (most recent call last)",
      "\u001b[0;32m~/MyStuff/Education/DataScienceToolkit/DataScienceCode/ds_python_37/lib/python3.7/site-packages/pandas/core/indexes/base.py\u001b[0m in \u001b[0;36mget_loc\u001b[0;34m(self, key, method, tolerance)\u001b[0m\n\u001b[1;32m   2645\u001b[0m             \u001b[0;32mtry\u001b[0m\u001b[0;34m:\u001b[0m\u001b[0;34m\u001b[0m\u001b[0;34m\u001b[0m\u001b[0m\n\u001b[0;32m-> 2646\u001b[0;31m                 \u001b[0;32mreturn\u001b[0m \u001b[0mself\u001b[0m\u001b[0;34m.\u001b[0m\u001b[0m_engine\u001b[0m\u001b[0;34m.\u001b[0m\u001b[0mget_loc\u001b[0m\u001b[0;34m(\u001b[0m\u001b[0mkey\u001b[0m\u001b[0;34m)\u001b[0m\u001b[0;34m\u001b[0m\u001b[0;34m\u001b[0m\u001b[0m\n\u001b[0m\u001b[1;32m   2647\u001b[0m             \u001b[0;32mexcept\u001b[0m \u001b[0mKeyError\u001b[0m\u001b[0;34m:\u001b[0m\u001b[0;34m\u001b[0m\u001b[0;34m\u001b[0m\u001b[0m\n",
      "\u001b[0;32mpandas/_libs/index.pyx\u001b[0m in \u001b[0;36mpandas._libs.index.IndexEngine.get_loc\u001b[0;34m()\u001b[0m\n",
      "\u001b[0;32mpandas/_libs/index.pyx\u001b[0m in \u001b[0;36mpandas._libs.index.IndexEngine.get_loc\u001b[0;34m()\u001b[0m\n",
      "\u001b[0;32mpandas/_libs/hashtable_class_helper.pxi\u001b[0m in \u001b[0;36mpandas._libs.hashtable.PyObjectHashTable.get_item\u001b[0;34m()\u001b[0m\n",
      "\u001b[0;32mpandas/_libs/hashtable_class_helper.pxi\u001b[0m in \u001b[0;36mpandas._libs.hashtable.PyObjectHashTable.get_item\u001b[0;34m()\u001b[0m\n",
      "\u001b[0;31mKeyError\u001b[0m: 'ame'",
      "\nDuring handling of the above exception, another exception occurred:\n",
      "\u001b[0;31mKeyError\u001b[0m                                  Traceback (most recent call last)",
      "\u001b[0;32m<ipython-input-27-f75a715b148b>\u001b[0m in \u001b[0;36m<module>\u001b[0;34m\u001b[0m\n\u001b[0;32m----> 1\u001b[0;31m \u001b[0mdf2\u001b[0m\u001b[0;34m[\u001b[0m\u001b[0;34m'ame'\u001b[0m\u001b[0;34m]\u001b[0m\u001b[0;34m\u001b[0m\u001b[0;34m\u001b[0m\u001b[0m\n\u001b[0m",
      "\u001b[0;32m~/MyStuff/Education/DataScienceToolkit/DataScienceCode/ds_python_37/lib/python3.7/site-packages/pandas/core/frame.py\u001b[0m in \u001b[0;36m__getitem__\u001b[0;34m(self, key)\u001b[0m\n\u001b[1;32m   2798\u001b[0m             \u001b[0;32mif\u001b[0m \u001b[0mself\u001b[0m\u001b[0;34m.\u001b[0m\u001b[0mcolumns\u001b[0m\u001b[0;34m.\u001b[0m\u001b[0mnlevels\u001b[0m \u001b[0;34m>\u001b[0m \u001b[0;36m1\u001b[0m\u001b[0;34m:\u001b[0m\u001b[0;34m\u001b[0m\u001b[0;34m\u001b[0m\u001b[0m\n\u001b[1;32m   2799\u001b[0m                 \u001b[0;32mreturn\u001b[0m \u001b[0mself\u001b[0m\u001b[0;34m.\u001b[0m\u001b[0m_getitem_multilevel\u001b[0m\u001b[0;34m(\u001b[0m\u001b[0mkey\u001b[0m\u001b[0;34m)\u001b[0m\u001b[0;34m\u001b[0m\u001b[0;34m\u001b[0m\u001b[0m\n\u001b[0;32m-> 2800\u001b[0;31m             \u001b[0mindexer\u001b[0m \u001b[0;34m=\u001b[0m \u001b[0mself\u001b[0m\u001b[0;34m.\u001b[0m\u001b[0mcolumns\u001b[0m\u001b[0;34m.\u001b[0m\u001b[0mget_loc\u001b[0m\u001b[0;34m(\u001b[0m\u001b[0mkey\u001b[0m\u001b[0;34m)\u001b[0m\u001b[0;34m\u001b[0m\u001b[0;34m\u001b[0m\u001b[0m\n\u001b[0m\u001b[1;32m   2801\u001b[0m             \u001b[0;32mif\u001b[0m \u001b[0mis_integer\u001b[0m\u001b[0;34m(\u001b[0m\u001b[0mindexer\u001b[0m\u001b[0;34m)\u001b[0m\u001b[0;34m:\u001b[0m\u001b[0;34m\u001b[0m\u001b[0;34m\u001b[0m\u001b[0m\n\u001b[1;32m   2802\u001b[0m                 \u001b[0mindexer\u001b[0m \u001b[0;34m=\u001b[0m \u001b[0;34m[\u001b[0m\u001b[0mindexer\u001b[0m\u001b[0;34m]\u001b[0m\u001b[0;34m\u001b[0m\u001b[0;34m\u001b[0m\u001b[0m\n",
      "\u001b[0;32m~/MyStuff/Education/DataScienceToolkit/DataScienceCode/ds_python_37/lib/python3.7/site-packages/pandas/core/indexes/base.py\u001b[0m in \u001b[0;36mget_loc\u001b[0;34m(self, key, method, tolerance)\u001b[0m\n\u001b[1;32m   2646\u001b[0m                 \u001b[0;32mreturn\u001b[0m \u001b[0mself\u001b[0m\u001b[0;34m.\u001b[0m\u001b[0m_engine\u001b[0m\u001b[0;34m.\u001b[0m\u001b[0mget_loc\u001b[0m\u001b[0;34m(\u001b[0m\u001b[0mkey\u001b[0m\u001b[0;34m)\u001b[0m\u001b[0;34m\u001b[0m\u001b[0;34m\u001b[0m\u001b[0m\n\u001b[1;32m   2647\u001b[0m             \u001b[0;32mexcept\u001b[0m \u001b[0mKeyError\u001b[0m\u001b[0;34m:\u001b[0m\u001b[0;34m\u001b[0m\u001b[0;34m\u001b[0m\u001b[0m\n\u001b[0;32m-> 2648\u001b[0;31m                 \u001b[0;32mreturn\u001b[0m \u001b[0mself\u001b[0m\u001b[0;34m.\u001b[0m\u001b[0m_engine\u001b[0m\u001b[0;34m.\u001b[0m\u001b[0mget_loc\u001b[0m\u001b[0;34m(\u001b[0m\u001b[0mself\u001b[0m\u001b[0;34m.\u001b[0m\u001b[0m_maybe_cast_indexer\u001b[0m\u001b[0;34m(\u001b[0m\u001b[0mkey\u001b[0m\u001b[0;34m)\u001b[0m\u001b[0;34m)\u001b[0m\u001b[0;34m\u001b[0m\u001b[0;34m\u001b[0m\u001b[0m\n\u001b[0m\u001b[1;32m   2649\u001b[0m         \u001b[0mindexer\u001b[0m \u001b[0;34m=\u001b[0m \u001b[0mself\u001b[0m\u001b[0;34m.\u001b[0m\u001b[0mget_indexer\u001b[0m\u001b[0;34m(\u001b[0m\u001b[0;34m[\u001b[0m\u001b[0mkey\u001b[0m\u001b[0;34m]\u001b[0m\u001b[0;34m,\u001b[0m \u001b[0mmethod\u001b[0m\u001b[0;34m=\u001b[0m\u001b[0mmethod\u001b[0m\u001b[0;34m,\u001b[0m \u001b[0mtolerance\u001b[0m\u001b[0;34m=\u001b[0m\u001b[0mtolerance\u001b[0m\u001b[0;34m)\u001b[0m\u001b[0;34m\u001b[0m\u001b[0;34m\u001b[0m\u001b[0m\n\u001b[1;32m   2650\u001b[0m         \u001b[0;32mif\u001b[0m \u001b[0mindexer\u001b[0m\u001b[0;34m.\u001b[0m\u001b[0mndim\u001b[0m \u001b[0;34m>\u001b[0m \u001b[0;36m1\u001b[0m \u001b[0;32mor\u001b[0m \u001b[0mindexer\u001b[0m\u001b[0;34m.\u001b[0m\u001b[0msize\u001b[0m \u001b[0;34m>\u001b[0m \u001b[0;36m1\u001b[0m\u001b[0;34m:\u001b[0m\u001b[0;34m\u001b[0m\u001b[0;34m\u001b[0m\u001b[0m\n",
      "\u001b[0;32mpandas/_libs/index.pyx\u001b[0m in \u001b[0;36mpandas._libs.index.IndexEngine.get_loc\u001b[0;34m()\u001b[0m\n",
      "\u001b[0;32mpandas/_libs/index.pyx\u001b[0m in \u001b[0;36mpandas._libs.index.IndexEngine.get_loc\u001b[0;34m()\u001b[0m\n",
      "\u001b[0;32mpandas/_libs/hashtable_class_helper.pxi\u001b[0m in \u001b[0;36mpandas._libs.hashtable.PyObjectHashTable.get_item\u001b[0;34m()\u001b[0m\n",
      "\u001b[0;32mpandas/_libs/hashtable_class_helper.pxi\u001b[0m in \u001b[0;36mpandas._libs.hashtable.PyObjectHashTable.get_item\u001b[0;34m()\u001b[0m\n",
      "\u001b[0;31mKeyError\u001b[0m: 'ame'"
     ]
    }
   ],
   "source": [
    "df2['ame']"
   ]
  },
  {
   "cell_type": "code",
   "execution_count": 19,
   "metadata": {},
   "outputs": [
    {
     "data": {
      "text/html": [
       "<div>\n",
       "<style scoped>\n",
       "    .dataframe tbody tr th:only-of-type {\n",
       "        vertical-align: middle;\n",
       "    }\n",
       "\n",
       "    .dataframe tbody tr th {\n",
       "        vertical-align: top;\n",
       "    }\n",
       "\n",
       "    .dataframe thead th {\n",
       "        text-align: right;\n",
       "    }\n",
       "</style>\n",
       "<table border=\"1\" class=\"dataframe\">\n",
       "  <thead>\n",
       "    <tr style=\"text-align: right;\">\n",
       "      <th></th>\n",
       "      <th>name</th>\n",
       "      <th>test_two</th>\n",
       "      <th>test_three</th>\n",
       "    </tr>\n",
       "  </thead>\n",
       "  <tbody>\n",
       "    <tr>\n",
       "      <th>0</th>\n",
       "      <td>Willard Morris</td>\n",
       "      <td>87</td>\n",
       "      <td>78</td>\n",
       "    </tr>\n",
       "    <tr>\n",
       "      <th>1</th>\n",
       "      <td>Al Jennings</td>\n",
       "      <td>94</td>\n",
       "      <td>100</td>\n",
       "    </tr>\n",
       "    <tr>\n",
       "      <th>2</th>\n",
       "      <td>Omar Mullins</td>\n",
       "      <td>97</td>\n",
       "      <td>90</td>\n",
       "    </tr>\n",
       "    <tr>\n",
       "      <th>3</th>\n",
       "      <td>Spencer McDaniel</td>\n",
       "      <td>72</td>\n",
       "      <td>85</td>\n",
       "    </tr>\n",
       "  </tbody>\n",
       "</table>\n",
       "</div>"
      ],
      "text/plain": [
       "               name  test_two  test_three\n",
       "0    Willard Morris        87          78\n",
       "1       Al Jennings        94         100\n",
       "2      Omar Mullins        97          90\n",
       "3  Spencer McDaniel        72          85"
      ]
     },
     "execution_count": 19,
     "metadata": {},
     "output_type": "execute_result"
    }
   ],
   "source": [
    "df2"
   ]
  },
  {
   "cell_type": "code",
   "execution_count": 25,
   "metadata": {},
   "outputs": [
    {
     "data": {
      "text/html": [
       "<div>\n",
       "<style scoped>\n",
       "    .dataframe tbody tr th:only-of-type {\n",
       "        vertical-align: middle;\n",
       "    }\n",
       "\n",
       "    .dataframe tbody tr th {\n",
       "        vertical-align: top;\n",
       "    }\n",
       "\n",
       "    .dataframe thead th {\n",
       "        text-align: right;\n",
       "    }\n",
       "</style>\n",
       "<table border=\"1\" class=\"dataframe\">\n",
       "  <thead>\n",
       "    <tr style=\"text-align: right;\">\n",
       "      <th></th>\n",
       "      <th>name</th>\n",
       "      <th>age</th>\n",
       "      <th>favorite_color</th>\n",
       "      <th>test_one</th>\n",
       "      <th>test_two</th>\n",
       "      <th>test_three</th>\n",
       "    </tr>\n",
       "  </thead>\n",
       "  <tbody>\n",
       "    <tr>\n",
       "      <th>0</th>\n",
       "      <td>Willard Morris</td>\n",
       "      <td>20</td>\n",
       "      <td>blue</td>\n",
       "      <td>88</td>\n",
       "      <td>87</td>\n",
       "      <td>78</td>\n",
       "    </tr>\n",
       "    <tr>\n",
       "      <th>1</th>\n",
       "      <td>Al Jennings</td>\n",
       "      <td>19</td>\n",
       "      <td>blue</td>\n",
       "      <td>92</td>\n",
       "      <td>94</td>\n",
       "      <td>100</td>\n",
       "    </tr>\n",
       "    <tr>\n",
       "      <th>2</th>\n",
       "      <td>Omar Mullins</td>\n",
       "      <td>22</td>\n",
       "      <td>yellow</td>\n",
       "      <td>95</td>\n",
       "      <td>97</td>\n",
       "      <td>90</td>\n",
       "    </tr>\n",
       "    <tr>\n",
       "      <th>3</th>\n",
       "      <td>Spencer McDaniel</td>\n",
       "      <td>21</td>\n",
       "      <td>green</td>\n",
       "      <td>70</td>\n",
       "      <td>72</td>\n",
       "      <td>85</td>\n",
       "    </tr>\n",
       "  </tbody>\n",
       "</table>\n",
       "</div>"
      ],
      "text/plain": [
       "               name  age favorite_color  test_one  test_two  test_three\n",
       "0    Willard Morris   20           blue        88        87          78\n",
       "1       Al Jennings   19           blue        92        94         100\n",
       "2      Omar Mullins   22         yellow        95        97          90\n",
       "3  Spencer McDaniel   21          green        70        72          85"
      ]
     },
     "execution_count": 25,
     "metadata": {},
     "output_type": "execute_result"
    }
   ],
   "source": [
    "df1.merge(df2, on='name', how='inner')"
   ]
  },
  {
   "cell_type": "code",
   "execution_count": 24,
   "metadata": {},
   "outputs": [
    {
     "data": {
      "text/html": [
       "<div>\n",
       "<style scoped>\n",
       "    .dataframe tbody tr th:only-of-type {\n",
       "        vertical-align: middle;\n",
       "    }\n",
       "\n",
       "    .dataframe tbody tr th {\n",
       "        vertical-align: top;\n",
       "    }\n",
       "\n",
       "    .dataframe thead th {\n",
       "        text-align: right;\n",
       "    }\n",
       "</style>\n",
       "<table border=\"1\" class=\"dataframe\">\n",
       "  <thead>\n",
       "    <tr style=\"text-align: right;\">\n",
       "      <th></th>\n",
       "      <th>name</th>\n",
       "      <th>age</th>\n",
       "      <th>favorite_color</th>\n",
       "      <th>test_one</th>\n",
       "      <th>test_two</th>\n",
       "      <th>test_three</th>\n",
       "    </tr>\n",
       "  </thead>\n",
       "  <tbody>\n",
       "    <tr>\n",
       "      <th>0</th>\n",
       "      <td>Willard Morris</td>\n",
       "      <td>20.0</td>\n",
       "      <td>blue</td>\n",
       "      <td>88.0</td>\n",
       "      <td>NaN</td>\n",
       "      <td>NaN</td>\n",
       "    </tr>\n",
       "    <tr>\n",
       "      <th>1</th>\n",
       "      <td>Al Jennings</td>\n",
       "      <td>19.0</td>\n",
       "      <td>blue</td>\n",
       "      <td>92.0</td>\n",
       "      <td>NaN</td>\n",
       "      <td>NaN</td>\n",
       "    </tr>\n",
       "    <tr>\n",
       "      <th>2</th>\n",
       "      <td>Omar Mullins</td>\n",
       "      <td>22.0</td>\n",
       "      <td>yellow</td>\n",
       "      <td>95.0</td>\n",
       "      <td>NaN</td>\n",
       "      <td>NaN</td>\n",
       "    </tr>\n",
       "    <tr>\n",
       "      <th>0</th>\n",
       "      <td>Willard Morris</td>\n",
       "      <td>NaN</td>\n",
       "      <td>NaN</td>\n",
       "      <td>NaN</td>\n",
       "      <td>87.0</td>\n",
       "      <td>78.0</td>\n",
       "    </tr>\n",
       "    <tr>\n",
       "      <th>1</th>\n",
       "      <td>Al Jennings</td>\n",
       "      <td>NaN</td>\n",
       "      <td>NaN</td>\n",
       "      <td>NaN</td>\n",
       "      <td>94.0</td>\n",
       "      <td>100.0</td>\n",
       "    </tr>\n",
       "  </tbody>\n",
       "</table>\n",
       "</div>"
      ],
      "text/plain": [
       "             name   age favorite_color  test_one  test_two  test_three\n",
       "0  Willard Morris  20.0           blue      88.0       NaN         NaN\n",
       "1     Al Jennings  19.0           blue      92.0       NaN         NaN\n",
       "2    Omar Mullins  22.0         yellow      95.0       NaN         NaN\n",
       "0  Willard Morris   NaN            NaN       NaN      87.0        78.0\n",
       "1     Al Jennings   NaN            NaN       NaN      94.0       100.0"
      ]
     },
     "execution_count": 24,
     "metadata": {},
     "output_type": "execute_result"
    }
   ],
   "source": [
    "test1 = df1[df1.test_one>80]\n",
    "test2 = df2[(df2.test_two<95) & (df2.test_two>80)]\n",
    "\n",
    "pd.concat([test1, test2])"
   ]
  },
  {
   "cell_type": "code",
   "execution_count": 23,
   "metadata": {},
   "outputs": [
    {
     "ename": "ValueError",
     "evalue": "The truth value of a Series is ambiguous. Use a.empty, a.bool(), a.item(), a.any() or a.all().",
     "output_type": "error",
     "traceback": [
      "\u001b[0;31m---------------------------------------------------------------------------\u001b[0m",
      "\u001b[0;31mValueError\u001b[0m                                Traceback (most recent call last)",
      "\u001b[0;32m<ipython-input-23-5e3762f531a4>\u001b[0m in \u001b[0;36m<module>\u001b[0;34m\u001b[0m\n\u001b[0;32m----> 1\u001b[0;31m \u001b[0mdf2\u001b[0m\u001b[0;34m[\u001b[0m\u001b[0;34m(\u001b[0m\u001b[0mdf2\u001b[0m\u001b[0;34m.\u001b[0m\u001b[0mtest_two\u001b[0m\u001b[0;34m<\u001b[0m\u001b[0;36m95\u001b[0m\u001b[0;34m)\u001b[0m \u001b[0;32mand\u001b[0m \u001b[0;34m(\u001b[0m\u001b[0mdf2\u001b[0m\u001b[0;34m.\u001b[0m\u001b[0mtest_two\u001b[0m\u001b[0;34m>\u001b[0m\u001b[0;36m80\u001b[0m\u001b[0;34m)\u001b[0m\u001b[0;34m]\u001b[0m\u001b[0;34m\u001b[0m\u001b[0;34m\u001b[0m\u001b[0m\n\u001b[0m",
      "\u001b[0;32m~/MyStuff/Education/DataScienceToolkit/DataScienceCode/ds_python_37/lib/python3.7/site-packages/pandas/core/generic.py\u001b[0m in \u001b[0;36m__nonzero__\u001b[0;34m(self)\u001b[0m\n\u001b[1;32m   1477\u001b[0m     \u001b[0;32mdef\u001b[0m \u001b[0m__nonzero__\u001b[0m\u001b[0;34m(\u001b[0m\u001b[0mself\u001b[0m\u001b[0;34m)\u001b[0m\u001b[0;34m:\u001b[0m\u001b[0;34m\u001b[0m\u001b[0;34m\u001b[0m\u001b[0m\n\u001b[1;32m   1478\u001b[0m         raise ValueError(\n\u001b[0;32m-> 1479\u001b[0;31m             \u001b[0;34mf\"The truth value of a {type(self).__name__} is ambiguous. \"\u001b[0m\u001b[0;34m\u001b[0m\u001b[0;34m\u001b[0m\u001b[0m\n\u001b[0m\u001b[1;32m   1480\u001b[0m             \u001b[0;34m\"Use a.empty, a.bool(), a.item(), a.any() or a.all().\"\u001b[0m\u001b[0;34m\u001b[0m\u001b[0;34m\u001b[0m\u001b[0m\n\u001b[1;32m   1481\u001b[0m         )\n",
      "\u001b[0;31mValueError\u001b[0m: The truth value of a Series is ambiguous. Use a.empty, a.bool(), a.item(), a.any() or a.all()."
     ]
    }
   ],
   "source": [
    "df2[(df2.test_two<95) and (df2.test_two>80)]test1 = df1[df1.test_one>80]\n",
    "test2 = df2[(df2.test_two<95) & (df2.test_two>80)]\n",
    "\n",
    "pd.concat([test1, test2])"
   ]
  },
  {
   "cell_type": "code",
   "execution_count": 1,
   "metadata": {},
   "outputs": [],
   "source": [
    "class Matt:\n",
    "    def __init__(self, matt):\n",
    "        self.matt = matt"
   ]
  },
  {
   "cell_type": "code",
   "execution_count": 13,
   "metadata": {},
   "outputs": [],
   "source": [
    "m = {'m':2}"
   ]
  },
  {
   "cell_type": "markdown",
   "metadata": {},
   "source": [
    "# Summary of Pandas commands and the equivalent SQL expression"
   ]
  },
  {
   "cell_type": "markdown",
   "metadata": {},
   "source": [
    "### Summary checklist for review\n",
    "\n",
    "- Basic aggregating\n",
    "    - Group by, max, min, avg, sum, count(col), count(*), count(distinct(col))\n",
    "    - PANDAS: groupby('col').agg({'col1':function})\n",
    "- Filtering groups\n",
    "    - Having clause\n",
    "    - PANDAS: groupby('col1').filter(lambda x: x['col1'].sum()>4 )\n",
    "- Transforming groups\n",
    "    - month - avg(month) over (partition by prod)\n",
    "    - PANDAS: groupby('col1').month.transform, groupby('col1').apply( Have access to the group data frame here)\n",
    "- Other partition functions \n",
    "    - row_number, rank, dense_rank, ntile, percent_rank\n",
    "    - PANDAS: groupby('col1').cumcount(), .rank()\n",
    "- Rolling window\n",
    "    - sum(month) over (partition by prod1 order by month desc rows unbounded preceding)\n",
    "    - Can use following instead of preceding\n",
    "    - PANDAS: groupby('col1').month.rolling(3).sum()\n",
    "- Rolling difference\n",
    "    - month - lag(month,1) over (partition by prod1)\n",
    "    - lead\n",
    "    - PANDAS: groupby('col1').month.rolling(2).apply(lambda x: x[1] - x[0])\n",
    "- Joins\n",
    "    - Inner, Full, Left, Cross, Left Semi (this is done by using an exists statement)\n",
    "- Self Joins\n",
    "    - Can join with inequality signs or on column + 1\n",
    "- Union\n",
    "    - Union distinct, union all\n",
    "- Misc.\n",
    "    - Exist (tie together outer table and table in parenthesis), sort (order by col1, col2)\n",
    "- Case statement\n",
    "    - case When col1>2 THEN 'blah' Else 'blah 2' END AS blahblah\n",
    "- Null \n",
    "    - (coalesce, is null)\n",
    "- Misc. Round, like, distinct is faster, concatenate, str, floor ect.\n",
    "    - PANDAS: drop_duplicates(), unique()"
   ]
  },
  {
   "cell_type": "markdown",
   "metadata": {},
   "source": [
    "\n",
    "### Comparison of pandas and sql commands\n",
    "##### Groupby\n",
    "\n",
    "- **Basic aggregating:**\n",
    "\n",
    "   <pre><code>df.groupby('col1',sort=False).agg({'col2':function}).reset_index()</code></pre> \n",
    "\n",
    "where the function could be sum, mean, min, max, lambda x: x.nunique(dropna=False), lambda x: x.shape[0]. The reset_index command forces a new index and so that we have no multi-indexing problems. If we do multiple aggregations on the same column then we will also need to reset the columns.\n",
    "\n",
    "   <pre><code> select sum(a.col2), avg(a.col2), min(a.col2), max(a.col2) from df a groupby a.col1 </code></pre>\n",
    "   \n",
    "Note that when doing a count of a column it will exclude nulls, when doing count of all it will count nulls as well. This is important when thinking about counting the number of rows in a group since you may have to do a group by first to get unique rows and then do count(*)\n",
    "\n",
    "Note that you can group on more than one column. \n",
    "\n",
    "- **Group Filter:**\n",
    "\n",
    "    <pre><code> df.groupby('col1',sort=False).filter(lambda x: x['col1'].sum()<2)  </code></pre> \n",
    "    \n",
    "Filter has access to the entire data frame for the group. It returns the original data frame with those groups that don't meet the criteria removed.\n",
    "    \n",
    "  <pre><code> select a.* from data a inner join (select b.prod1 from data b group by b.prod1 having sum(b.month)>6) c on a.prod1=c.prod1 </code></pre> \n",
    "  \n",
    "The filter version for sql is the having clause. This only returns the group not the entire data frame so might have to do an inner join\n",
    " \n",
    "- **Group Transform:**\n",
    "\n",
    "<pre><code> df.groupby('col1',sort=False).transform(lambda x: x - x.mean()) </code></pre>  \n",
    "\n",
    "Operates on each column separately so if you want to look at one column you need to specify that column before the transform\n",
    "\n",
    "<pre><code> select prod1, month - avg(month) over (partition by prod1) from data </code></pre> \n",
    "\n",
    "- **General operations on a group:**\n",
    "\n",
    "<pre><code>data.groupby('prod1').apply(lambda x: x['pop1'] - x['month'].sum()).reset_index()<code></pre> \n",
    "\n",
    "The apply function will have access to a data frame by group. If you return a single column might be best to get the values directly. You can also return an entire data frame however.\n",
    "\n",
    "<pre><code> select prod1, pop1 - (sum(month) over (partition by prod1)) from data </code></pre>\n",
    "\n",
    "\n",
    "- **Row Number by group**\n",
    "\n",
    "<pre><code> data['rank'] = data.groupby('prod1').cumcount() + 1 <code></pre>\n",
    "\n",
    "<pre><code> select prod1, pop1, month, row_number() over (partition by prod1) as rank from data <code></pre>\n",
    "\n",
    "Rank is similar for both of these\n",
    "\n",
    "Using this you can order by and get the second row\n",
    "\n",
    "- **Percentile and Binning by group**\n",
    "<pre><code> select prod1, month, percent_rank() over (partition by prod1 order by month) ,ntile(2) over (partition by prod1 order by month) from data<code></pre>\n",
    "\n",
    "- **Rolling window**\n",
    "\n",
    "<pre><code> data.groupby('prod1',sort=False).month.rolling(3).sum().values<code></pre>\n",
    "\n",
    "Instead of sum here you can do apply and have access to anything in that window\n",
    "\n",
    "<pre><code> select prod1, pop1, month, sum(month) over (partition by prod1 rows 2 preceding) from data<code></pre>\n",
    "<pre><code> select prod1, pop1, month, sum(month) over (rows unbounded preceding) from data<code></pre>\n",
    "\n",
    "- **Calculate rolling difference**\n",
    "\n",
    "<pre><code> data.groupby('prod1',sort=False).month.rolling(2).apply(lambda x: x[1] - x[0]).values <code></pre>\n",
    "    \n",
    "    select prod1, pop1, month, month - lag(month,1) over (partition by prod1) from data\n",
    "\n",
    "\n",
    "\n",
    "\n",
    "##### Merge\n",
    "\n",
    "<pre><code> df1.merge(df2, on='col1', how='inner') <code></pre>\n",
    "\n",
    "<pre><code> select * from data a inner join data b on a.prod1=b.prod1 <code></pre>\n",
    "\n",
    "Note that you can do an inequality sign on the join, that way you can get at cumulative sum for example (better ways of doing that though with rows unbounded preceding)\n",
    "\n",
    "Also can do things like ON a.month = b.month - 1. This would join a month with the month 1 ahead of it.\n",
    "\n",
    "Left join, full join (keeps all rows, might match on some on other they will just fill with null), left semi join not an option in sql but can do left join and filter out non null rows (although this is actually an inner join, really to mimic a left semi join you need to do an exist clause where you are filtering the left table down to the rows that are also in the right table).\n",
    "\n",
    "When you do a select * before doing the join it will select all columns from both tables\n",
    "\n",
    "Cross join doesn't need a key, it takes the cross-product between the tables\n",
    "\n",
    "##### Concat\n",
    "\n",
    "<pre><code> pd.concat([df1,df2],ignore_index=True)<code></pre>\n",
    "    \n",
    "<pre><code> select * from data a union all select * from data b <code></pre>\n",
    "\n",
    "Just \"union\" will only return distinct rows\n",
    "\n",
    "##### Misc.\n",
    "\n",
    "- **Sort**:\n",
    "<pre><code> df.sort_values(['col1','col2'], ascending=False) <code></pre>\n",
    "\n",
    "<pre><code> select * from data order by prod1, month <code></pre>\n",
    "\n",
    "- **SQL Exists**\n",
    "<pre><code> select prod1, month from data b where exists (select a.month from (select month from data c where c.month>2) a where a.month=b.month) <code></pre>\n",
    "\n",
    "select * from log_1 b where exists (select distinct(user_id) from log_1 where date>340) c where b.user_id=c.user_id\n",
    "\n",
    "The second where clause connects the first where clause. So we say for each row, does the subquery return one or more records and that is connected through that second where clause.\n",
    "\n",
    "- **SQL Case**\n",
    "\n",
    "<pre><code> select prod1, month, case when month==1 then \"Jan\" when month==2 then \"Feb\" else \"other\" end as month_name from data <code></pre>\n",
    "\n",
    "- **NA**\n",
    "\n",
    "- df.fill_na(0) : fill all na values with 0\n",
    "- df.isna() : Return Boolean dataframe where true is for na\n",
    "\n",
    "<pre><code> select prod1, month is null from data <code></pre>\n",
    "<pre><code> select pop1, prod1, coalesce(month, 0) from data <code></pre>\n",
    "\n",
    "- **Other**\n",
    "- df.explode('col1') : Explode column 1\n",
    "- df.groupby('col2').agg({'col1':lambda x: x.values})\n",
    "- df.drop_duplicates() : return unique rows\n",
    "- df['col1'].unique() : return unique values\n",
    "\n",
    "- subtract 1 from column:\n",
    "<pre><code> select pop1, month - 1 from data<code></pre>\n",
    "\n",
    "\n",
    "Mistakes: \n",
    "Not grouping over everything that needs to be grouped over\n",
    "reset_index when I've got a name collision\n",
    "\n",
    "Distinct is faster\n"
   ]
  },
  {
   "cell_type": "markdown",
   "metadata": {},
   "source": [
    "# Demo\n",
    "Throughout these exercies first approach starts with a pandas operation and the second approach is SQL"
   ]
  },
  {
   "cell_type": "code",
   "execution_count": 1,
   "metadata": {},
   "outputs": [],
   "source": [
    "import pandas as pd\n",
    "from sqlalchemy import create_engine\n",
    "from sqlalchemy import inspect\n",
    "import numpy as np"
   ]
  },
  {
   "cell_type": "markdown",
   "metadata": {},
   "source": [
    "#### Get sql engine going"
   ]
  },
  {
   "cell_type": "code",
   "execution_count": 2,
   "metadata": {},
   "outputs": [],
   "source": [
    "engine = create_engine('sqlite://', echo=False)\n",
    "inspector = inspect(engine)"
   ]
  },
  {
   "cell_type": "markdown",
   "metadata": {},
   "source": [
    "### 0. Initial Data"
   ]
  },
  {
   "cell_type": "markdown",
   "metadata": {},
   "source": [
    "Create example data"
   ]
  },
  {
   "cell_type": "code",
   "execution_count": 3,
   "metadata": {},
   "outputs": [],
   "source": [
    "data = pd.DataFrame()\n",
    "data['prod1'] = ['A','A','A','A','B','B','B','B','B','B','C','C','C']\n",
    "data['pop1'] = [1,2,1,3,1,2,3,4,3,4,1,2,3]\n",
    "data['month'] = [1,2,4,3,1,2,3,4,5,6,1,3,np.nan]"
   ]
  },
  {
   "cell_type": "code",
   "execution_count": 4,
   "metadata": {},
   "outputs": [
    {
     "data": {
      "text/html": [
       "<div>\n",
       "<style scoped>\n",
       "    .dataframe tbody tr th:only-of-type {\n",
       "        vertical-align: middle;\n",
       "    }\n",
       "\n",
       "    .dataframe tbody tr th {\n",
       "        vertical-align: top;\n",
       "    }\n",
       "\n",
       "    .dataframe thead th {\n",
       "        text-align: right;\n",
       "    }\n",
       "</style>\n",
       "<table border=\"1\" class=\"dataframe\">\n",
       "  <thead>\n",
       "    <tr style=\"text-align: right;\">\n",
       "      <th></th>\n",
       "      <th>prod1</th>\n",
       "      <th>pop1</th>\n",
       "      <th>month</th>\n",
       "    </tr>\n",
       "  </thead>\n",
       "  <tbody>\n",
       "    <tr>\n",
       "      <th>0</th>\n",
       "      <td>A</td>\n",
       "      <td>1</td>\n",
       "      <td>1.0</td>\n",
       "    </tr>\n",
       "    <tr>\n",
       "      <th>1</th>\n",
       "      <td>A</td>\n",
       "      <td>2</td>\n",
       "      <td>2.0</td>\n",
       "    </tr>\n",
       "    <tr>\n",
       "      <th>2</th>\n",
       "      <td>A</td>\n",
       "      <td>1</td>\n",
       "      <td>4.0</td>\n",
       "    </tr>\n",
       "    <tr>\n",
       "      <th>3</th>\n",
       "      <td>A</td>\n",
       "      <td>3</td>\n",
       "      <td>3.0</td>\n",
       "    </tr>\n",
       "    <tr>\n",
       "      <th>4</th>\n",
       "      <td>B</td>\n",
       "      <td>1</td>\n",
       "      <td>1.0</td>\n",
       "    </tr>\n",
       "    <tr>\n",
       "      <th>5</th>\n",
       "      <td>B</td>\n",
       "      <td>2</td>\n",
       "      <td>2.0</td>\n",
       "    </tr>\n",
       "    <tr>\n",
       "      <th>6</th>\n",
       "      <td>B</td>\n",
       "      <td>3</td>\n",
       "      <td>3.0</td>\n",
       "    </tr>\n",
       "    <tr>\n",
       "      <th>7</th>\n",
       "      <td>B</td>\n",
       "      <td>4</td>\n",
       "      <td>4.0</td>\n",
       "    </tr>\n",
       "    <tr>\n",
       "      <th>8</th>\n",
       "      <td>B</td>\n",
       "      <td>3</td>\n",
       "      <td>5.0</td>\n",
       "    </tr>\n",
       "    <tr>\n",
       "      <th>9</th>\n",
       "      <td>B</td>\n",
       "      <td>4</td>\n",
       "      <td>6.0</td>\n",
       "    </tr>\n",
       "    <tr>\n",
       "      <th>10</th>\n",
       "      <td>C</td>\n",
       "      <td>1</td>\n",
       "      <td>1.0</td>\n",
       "    </tr>\n",
       "    <tr>\n",
       "      <th>11</th>\n",
       "      <td>C</td>\n",
       "      <td>2</td>\n",
       "      <td>3.0</td>\n",
       "    </tr>\n",
       "    <tr>\n",
       "      <th>12</th>\n",
       "      <td>C</td>\n",
       "      <td>3</td>\n",
       "      <td>NaN</td>\n",
       "    </tr>\n",
       "  </tbody>\n",
       "</table>\n",
       "</div>"
      ],
      "text/plain": [
       "   prod1  pop1  month\n",
       "0      A     1    1.0\n",
       "1      A     2    2.0\n",
       "2      A     1    4.0\n",
       "3      A     3    3.0\n",
       "4      B     1    1.0\n",
       "5      B     2    2.0\n",
       "6      B     3    3.0\n",
       "7      B     4    4.0\n",
       "8      B     3    5.0\n",
       "9      B     4    6.0\n",
       "10     C     1    1.0\n",
       "11     C     2    3.0\n",
       "12     C     3    NaN"
      ]
     },
     "execution_count": 4,
     "metadata": {},
     "output_type": "execute_result"
    }
   ],
   "source": [
    "data"
   ]
  },
  {
   "cell_type": "code",
   "execution_count": 18,
   "metadata": {},
   "outputs": [
    {
     "ename": "AttributeError",
     "evalue": "'SeriesGroupBy' object has no attribute 'difference'",
     "output_type": "error",
     "traceback": [
      "\u001b[0;31m---------------------------------------------------------------------------\u001b[0m",
      "\u001b[0;31mAttributeError\u001b[0m                            Traceback (most recent call last)",
      "\u001b[0;32m<ipython-input-18-2a4020b234d3>\u001b[0m in \u001b[0;36m<module>\u001b[0;34m\u001b[0m\n\u001b[0;32m----> 1\u001b[0;31m \u001b[0mdata\u001b[0m\u001b[0;34m.\u001b[0m\u001b[0mgroupby\u001b[0m\u001b[0;34m(\u001b[0m\u001b[0;34m'prod1'\u001b[0m\u001b[0;34m)\u001b[0m\u001b[0;34m.\u001b[0m\u001b[0mmonth\u001b[0m\u001b[0;34m.\u001b[0m\u001b[0mdifference\u001b[0m\u001b[0;34m(\u001b[0m\u001b[0;34m)\u001b[0m\u001b[0;34m\u001b[0m\u001b[0;34m\u001b[0m\u001b[0m\n\u001b[0m",
      "\u001b[0;32m~/MyStuff/Education/DataScienceToolkit/DataScienceCode/ds_python_37/lib/python3.7/site-packages/pandas/core/groupby/groupby.py\u001b[0m in \u001b[0;36m__getattr__\u001b[0;34m(self, attr)\u001b[0m\n\u001b[1;32m    579\u001b[0m \u001b[0;34m\u001b[0m\u001b[0m\n\u001b[1;32m    580\u001b[0m         raise AttributeError(\n\u001b[0;32m--> 581\u001b[0;31m             \u001b[0;34mf\"'{type(self).__name__}' object has no attribute '{attr}'\"\u001b[0m\u001b[0;34m\u001b[0m\u001b[0;34m\u001b[0m\u001b[0m\n\u001b[0m\u001b[1;32m    582\u001b[0m         )\n\u001b[1;32m    583\u001b[0m \u001b[0;34m\u001b[0m\u001b[0m\n",
      "\u001b[0;31mAttributeError\u001b[0m: 'SeriesGroupBy' object has no attribute 'difference'"
     ]
    }
   ],
   "source": [
    "data.groupby('prod1').month.difference()"
   ]
  },
  {
   "cell_type": "code",
   "execution_count": 5,
   "metadata": {},
   "outputs": [],
   "source": [
    "data2 = data.sample(5)"
   ]
  },
  {
   "cell_type": "code",
   "execution_count": 7,
   "metadata": {},
   "outputs": [],
   "source": [
    "data2.reset_index(inplace=True)"
   ]
  },
  {
   "cell_type": "code",
   "execution_count": 11,
   "metadata": {},
   "outputs": [
    {
     "data": {
      "text/html": [
       "<div>\n",
       "<style scoped>\n",
       "    .dataframe tbody tr th:only-of-type {\n",
       "        vertical-align: middle;\n",
       "    }\n",
       "\n",
       "    .dataframe tbody tr th {\n",
       "        vertical-align: top;\n",
       "    }\n",
       "\n",
       "    .dataframe thead th {\n",
       "        text-align: right;\n",
       "    }\n",
       "</style>\n",
       "<table border=\"1\" class=\"dataframe\">\n",
       "  <thead>\n",
       "    <tr style=\"text-align: right;\">\n",
       "      <th></th>\n",
       "      <th>index</th>\n",
       "      <th>prod1</th>\n",
       "      <th>pop1</th>\n",
       "      <th>month</th>\n",
       "    </tr>\n",
       "  </thead>\n",
       "  <tbody>\n",
       "    <tr>\n",
       "      <th>0</th>\n",
       "      <td>4</td>\n",
       "      <td>B</td>\n",
       "      <td>1</td>\n",
       "      <td>1.0</td>\n",
       "    </tr>\n",
       "    <tr>\n",
       "      <th>1</th>\n",
       "      <td>11</td>\n",
       "      <td>C</td>\n",
       "      <td>2</td>\n",
       "      <td>3.0</td>\n",
       "    </tr>\n",
       "    <tr>\n",
       "      <th>2</th>\n",
       "      <td>0</td>\n",
       "      <td>A</td>\n",
       "      <td>1</td>\n",
       "      <td>1.0</td>\n",
       "    </tr>\n",
       "    <tr>\n",
       "      <th>3</th>\n",
       "      <td>12</td>\n",
       "      <td>C</td>\n",
       "      <td>3</td>\n",
       "      <td>NaN</td>\n",
       "    </tr>\n",
       "    <tr>\n",
       "      <th>4</th>\n",
       "      <td>8</td>\n",
       "      <td>B</td>\n",
       "      <td>3</td>\n",
       "      <td>5.0</td>\n",
       "    </tr>\n",
       "  </tbody>\n",
       "</table>\n",
       "</div>"
      ],
      "text/plain": [
       "   index prod1  pop1  month\n",
       "0      4     B     1    1.0\n",
       "1     11     C     2    3.0\n",
       "2      0     A     1    1.0\n",
       "3     12     C     3    NaN\n",
       "4      8     B     3    5.0"
      ]
     },
     "execution_count": 11,
     "metadata": {},
     "output_type": "execute_result"
    }
   ],
   "source": [
    "data2"
   ]
  },
  {
   "cell_type": "markdown",
   "metadata": {},
   "source": [
    "Writes data to sql data base"
   ]
  },
  {
   "cell_type": "code",
   "execution_count": 19,
   "metadata": {},
   "outputs": [],
   "source": [
    "data.to_sql('data', con=engine)"
   ]
  },
  {
   "cell_type": "code",
   "execution_count": 24,
   "metadata": {},
   "outputs": [
    {
     "data": {
      "text/plain": [
       "[('A', 1.0),\n",
       " ('A', 2.0),\n",
       " ('A', 3.0),\n",
       " ('A', 4.0),\n",
       " ('B', 1.0),\n",
       " ('B', 2.0),\n",
       " ('B', 3.0),\n",
       " ('B', 4.0),\n",
       " ('B', 5.0),\n",
       " ('B', 6.0),\n",
       " ('C', None),\n",
       " ('C', 1.0),\n",
       " ('C', 3.0)]"
      ]
     },
     "execution_count": 24,
     "metadata": {},
     "output_type": "execute_result"
    }
   ],
   "source": [
    "engine.execute(\"\"\"\n",
    "SELECT\n",
    "    prod1,\n",
    "    month\n",
    "FROM data \n",
    "GROUP BY prod1, month\n",
    "\"\"\").fetchall()"
   ]
  },
  {
   "cell_type": "markdown",
   "metadata": {},
   "source": [
    "### 1. Groupby practice"
   ]
  },
  {
   "cell_type": "markdown",
   "metadata": {},
   "source": [
    "#### How many nonnull months are there for each product?\n",
    "Count will count all the nonnull rows of month. When we do agg we are doing the function over the column we selected. Also note that when we do reset_index it will put the grouped column as its own column instead of the index"
   ]
  },
  {
   "cell_type": "code",
   "execution_count": 7,
   "metadata": {},
   "outputs": [
    {
     "data": {
      "text/html": [
       "<div>\n",
       "<style scoped>\n",
       "    .dataframe tbody tr th:only-of-type {\n",
       "        vertical-align: middle;\n",
       "    }\n",
       "\n",
       "    .dataframe tbody tr th {\n",
       "        vertical-align: top;\n",
       "    }\n",
       "\n",
       "    .dataframe thead th {\n",
       "        text-align: right;\n",
       "    }\n",
       "</style>\n",
       "<table border=\"1\" class=\"dataframe\">\n",
       "  <thead>\n",
       "    <tr style=\"text-align: right;\">\n",
       "      <th></th>\n",
       "      <th>prod1</th>\n",
       "      <th>month</th>\n",
       "    </tr>\n",
       "  </thead>\n",
       "  <tbody>\n",
       "    <tr>\n",
       "      <td>0</td>\n",
       "      <td>A</td>\n",
       "      <td>4</td>\n",
       "    </tr>\n",
       "    <tr>\n",
       "      <td>1</td>\n",
       "      <td>B</td>\n",
       "      <td>6</td>\n",
       "    </tr>\n",
       "    <tr>\n",
       "      <td>2</td>\n",
       "      <td>C</td>\n",
       "      <td>2</td>\n",
       "    </tr>\n",
       "  </tbody>\n",
       "</table>\n",
       "</div>"
      ],
      "text/plain": [
       "  prod1  month\n",
       "0     A      4\n",
       "1     B      6\n",
       "2     C      2"
      ]
     },
     "execution_count": 7,
     "metadata": {},
     "output_type": "execute_result"
    }
   ],
   "source": [
    "data.groupby('prod1').agg({'month':'count'}).reset_index()"
   ]
  },
  {
   "cell_type": "code",
   "execution_count": 8,
   "metadata": {},
   "outputs": [
    {
     "data": {
      "text/plain": [
       "[('A', 4), ('B', 6), ('C', 2)]"
      ]
     },
     "execution_count": 8,
     "metadata": {},
     "output_type": "execute_result"
    }
   ],
   "source": [
    "engine.execute('select prod1, count(month) from data group by prod1').fetchall()"
   ]
  },
  {
   "cell_type": "markdown",
   "metadata": {},
   "source": [
    "#### How many total rows are there for each product?\n",
    "If you want to count all rows (even with nulls) you need to do x.shape"
   ]
  },
  {
   "cell_type": "code",
   "execution_count": 9,
   "metadata": {},
   "outputs": [
    {
     "data": {
      "text/html": [
       "<div>\n",
       "<style scoped>\n",
       "    .dataframe tbody tr th:only-of-type {\n",
       "        vertical-align: middle;\n",
       "    }\n",
       "\n",
       "    .dataframe tbody tr th {\n",
       "        vertical-align: top;\n",
       "    }\n",
       "\n",
       "    .dataframe thead th {\n",
       "        text-align: right;\n",
       "    }\n",
       "</style>\n",
       "<table border=\"1\" class=\"dataframe\">\n",
       "  <thead>\n",
       "    <tr style=\"text-align: right;\">\n",
       "      <th></th>\n",
       "      <th>pop1</th>\n",
       "    </tr>\n",
       "    <tr>\n",
       "      <th>prod1</th>\n",
       "      <th></th>\n",
       "    </tr>\n",
       "  </thead>\n",
       "  <tbody>\n",
       "    <tr>\n",
       "      <td>A</td>\n",
       "      <td>4</td>\n",
       "    </tr>\n",
       "    <tr>\n",
       "      <td>B</td>\n",
       "      <td>6</td>\n",
       "    </tr>\n",
       "    <tr>\n",
       "      <td>C</td>\n",
       "      <td>3</td>\n",
       "    </tr>\n",
       "  </tbody>\n",
       "</table>\n",
       "</div>"
      ],
      "text/plain": [
       "       pop1\n",
       "prod1      \n",
       "A         4\n",
       "B         6\n",
       "C         3"
      ]
     },
     "execution_count": 9,
     "metadata": {},
     "output_type": "execute_result"
    }
   ],
   "source": [
    "data.groupby('prod1').agg({'pop1':lambda x: x.shape[0]})"
   ]
  },
  {
   "cell_type": "markdown",
   "metadata": {},
   "source": [
    "Doing a count(*) counts the number of rows whereas counting a column counts on non-null"
   ]
  },
  {
   "cell_type": "code",
   "execution_count": 10,
   "metadata": {},
   "outputs": [
    {
     "data": {
      "text/plain": [
       "[('A', 4), ('B', 6), ('C', 3)]"
      ]
     },
     "execution_count": 10,
     "metadata": {},
     "output_type": "execute_result"
    }
   ],
   "source": [
    "engine.execute('select prod1, count(*) from data group by prod1').fetchall()"
   ]
  },
  {
   "cell_type": "markdown",
   "metadata": {},
   "source": [
    "#### How many unique popularity scores are there for each product?\n",
    "Use nunique - if you want to count the distinct nulls as well pass the appropriate argument"
   ]
  },
  {
   "cell_type": "code",
   "execution_count": 16,
   "metadata": {},
   "outputs": [
    {
     "data": {
      "text/html": [
       "<div>\n",
       "<style scoped>\n",
       "    .dataframe tbody tr th:only-of-type {\n",
       "        vertical-align: middle;\n",
       "    }\n",
       "\n",
       "    .dataframe tbody tr th {\n",
       "        vertical-align: top;\n",
       "    }\n",
       "\n",
       "    .dataframe thead th {\n",
       "        text-align: right;\n",
       "    }\n",
       "</style>\n",
       "<table border=\"1\" class=\"dataframe\">\n",
       "  <thead>\n",
       "    <tr style=\"text-align: right;\">\n",
       "      <th></th>\n",
       "      <th>pop1</th>\n",
       "    </tr>\n",
       "    <tr>\n",
       "      <th>prod1</th>\n",
       "      <th></th>\n",
       "    </tr>\n",
       "  </thead>\n",
       "  <tbody>\n",
       "    <tr>\n",
       "      <td>A</td>\n",
       "      <td>3</td>\n",
       "    </tr>\n",
       "    <tr>\n",
       "      <td>B</td>\n",
       "      <td>4</td>\n",
       "    </tr>\n",
       "    <tr>\n",
       "      <td>C</td>\n",
       "      <td>3</td>\n",
       "    </tr>\n",
       "  </tbody>\n",
       "</table>\n",
       "</div>"
      ],
      "text/plain": [
       "       pop1\n",
       "prod1      \n",
       "A         3\n",
       "B         4\n",
       "C         3"
      ]
     },
     "execution_count": 16,
     "metadata": {},
     "output_type": "execute_result"
    }
   ],
   "source": [
    "data.groupby('prod1').agg({'pop1':lambda x: x.nunique(dropna=False)})"
   ]
  },
  {
   "cell_type": "markdown",
   "metadata": {},
   "source": [
    "Have to deal with the issue that count(*) is the only way to count nulls"
   ]
  },
  {
   "cell_type": "code",
   "execution_count": 17,
   "metadata": {
    "scrolled": true
   },
   "outputs": [
    {
     "data": {
      "text/plain": [
       "[('A', 4), ('B', 6), ('C', 3)]"
      ]
     },
     "execution_count": 17,
     "metadata": {},
     "output_type": "execute_result"
    }
   ],
   "source": [
    "engine.execute('select a.prod1, count(*) from (select prod1, pop1 from data group by prod1, month) a group by a.prod1').fetchall()"
   ]
  },
  {
   "cell_type": "markdown",
   "metadata": {},
   "source": [
    "#### For each month what is the average popularity?"
   ]
  },
  {
   "cell_type": "code",
   "execution_count": 30,
   "metadata": {},
   "outputs": [
    {
     "data": {
      "text/html": [
       "<div>\n",
       "<style scoped>\n",
       "    .dataframe tbody tr th:only-of-type {\n",
       "        vertical-align: middle;\n",
       "    }\n",
       "\n",
       "    .dataframe tbody tr th {\n",
       "        vertical-align: top;\n",
       "    }\n",
       "\n",
       "    .dataframe thead th {\n",
       "        text-align: right;\n",
       "    }\n",
       "</style>\n",
       "<table border=\"1\" class=\"dataframe\">\n",
       "  <thead>\n",
       "    <tr style=\"text-align: right;\">\n",
       "      <th></th>\n",
       "      <th>pop1</th>\n",
       "    </tr>\n",
       "    <tr>\n",
       "      <th>month</th>\n",
       "      <th></th>\n",
       "    </tr>\n",
       "  </thead>\n",
       "  <tbody>\n",
       "    <tr>\n",
       "      <td>1.0</td>\n",
       "      <td>1.000000</td>\n",
       "    </tr>\n",
       "    <tr>\n",
       "      <td>2.0</td>\n",
       "      <td>2.000000</td>\n",
       "    </tr>\n",
       "    <tr>\n",
       "      <td>3.0</td>\n",
       "      <td>2.666667</td>\n",
       "    </tr>\n",
       "    <tr>\n",
       "      <td>4.0</td>\n",
       "      <td>2.500000</td>\n",
       "    </tr>\n",
       "    <tr>\n",
       "      <td>5.0</td>\n",
       "      <td>3.000000</td>\n",
       "    </tr>\n",
       "    <tr>\n",
       "      <td>6.0</td>\n",
       "      <td>4.000000</td>\n",
       "    </tr>\n",
       "  </tbody>\n",
       "</table>\n",
       "</div>"
      ],
      "text/plain": [
       "           pop1\n",
       "month          \n",
       "1.0    1.000000\n",
       "2.0    2.000000\n",
       "3.0    2.666667\n",
       "4.0    2.500000\n",
       "5.0    3.000000\n",
       "6.0    4.000000"
      ]
     },
     "execution_count": 30,
     "metadata": {},
     "output_type": "execute_result"
    }
   ],
   "source": [
    "data.groupby('month').agg({'pop1':'mean'})"
   ]
  },
  {
   "cell_type": "code",
   "execution_count": 28,
   "metadata": {},
   "outputs": [
    {
     "data": {
      "text/plain": [
       "[(None, 3.0),\n",
       " (1.0, 1.0),\n",
       " (2.0, 2.0),\n",
       " (3.0, 2.6666666666666665),\n",
       " (4.0, 2.5),\n",
       " (5.0, 3.0),\n",
       " (6.0, 4.0)]"
      ]
     },
     "execution_count": 28,
     "metadata": {},
     "output_type": "execute_result"
    }
   ],
   "source": [
    "engine.execute('select month, avg(pop1) from data group by month').fetchall()"
   ]
  },
  {
   "cell_type": "markdown",
   "metadata": {},
   "source": [
    "#### For each month and product how many unique popularity numbers are there?\n",
    "Grouping on two columns."
   ]
  },
  {
   "cell_type": "code",
   "execution_count": 11,
   "metadata": {},
   "outputs": [],
   "source": [
    "data_group = data.groupby(['month','prod1']).agg({'pop1':['sum',lambda x: x.nunique(dropna=False)]}).reset_index()\n",
    "data_group.columns = ['month','prod1','pop1_sum','pop1_nunique']"
   ]
  },
  {
   "cell_type": "code",
   "execution_count": 12,
   "metadata": {
    "scrolled": true
   },
   "outputs": [
    {
     "data": {
      "text/html": [
       "<div>\n",
       "<style scoped>\n",
       "    .dataframe tbody tr th:only-of-type {\n",
       "        vertical-align: middle;\n",
       "    }\n",
       "\n",
       "    .dataframe tbody tr th {\n",
       "        vertical-align: top;\n",
       "    }\n",
       "\n",
       "    .dataframe thead th {\n",
       "        text-align: right;\n",
       "    }\n",
       "</style>\n",
       "<table border=\"1\" class=\"dataframe\">\n",
       "  <thead>\n",
       "    <tr style=\"text-align: right;\">\n",
       "      <th></th>\n",
       "      <th>month</th>\n",
       "      <th>prod1</th>\n",
       "      <th>pop1_sum</th>\n",
       "      <th>pop1_nunique</th>\n",
       "    </tr>\n",
       "  </thead>\n",
       "  <tbody>\n",
       "    <tr>\n",
       "      <td>0</td>\n",
       "      <td>1.0</td>\n",
       "      <td>A</td>\n",
       "      <td>1</td>\n",
       "      <td>1</td>\n",
       "    </tr>\n",
       "    <tr>\n",
       "      <td>1</td>\n",
       "      <td>1.0</td>\n",
       "      <td>B</td>\n",
       "      <td>1</td>\n",
       "      <td>1</td>\n",
       "    </tr>\n",
       "    <tr>\n",
       "      <td>2</td>\n",
       "      <td>1.0</td>\n",
       "      <td>C</td>\n",
       "      <td>1</td>\n",
       "      <td>1</td>\n",
       "    </tr>\n",
       "    <tr>\n",
       "      <td>3</td>\n",
       "      <td>2.0</td>\n",
       "      <td>A</td>\n",
       "      <td>2</td>\n",
       "      <td>1</td>\n",
       "    </tr>\n",
       "    <tr>\n",
       "      <td>4</td>\n",
       "      <td>2.0</td>\n",
       "      <td>B</td>\n",
       "      <td>2</td>\n",
       "      <td>1</td>\n",
       "    </tr>\n",
       "    <tr>\n",
       "      <td>5</td>\n",
       "      <td>3.0</td>\n",
       "      <td>A</td>\n",
       "      <td>3</td>\n",
       "      <td>1</td>\n",
       "    </tr>\n",
       "    <tr>\n",
       "      <td>6</td>\n",
       "      <td>3.0</td>\n",
       "      <td>B</td>\n",
       "      <td>3</td>\n",
       "      <td>1</td>\n",
       "    </tr>\n",
       "    <tr>\n",
       "      <td>7</td>\n",
       "      <td>3.0</td>\n",
       "      <td>C</td>\n",
       "      <td>2</td>\n",
       "      <td>1</td>\n",
       "    </tr>\n",
       "    <tr>\n",
       "      <td>8</td>\n",
       "      <td>4.0</td>\n",
       "      <td>A</td>\n",
       "      <td>1</td>\n",
       "      <td>1</td>\n",
       "    </tr>\n",
       "    <tr>\n",
       "      <td>9</td>\n",
       "      <td>4.0</td>\n",
       "      <td>B</td>\n",
       "      <td>4</td>\n",
       "      <td>1</td>\n",
       "    </tr>\n",
       "    <tr>\n",
       "      <td>10</td>\n",
       "      <td>5.0</td>\n",
       "      <td>B</td>\n",
       "      <td>3</td>\n",
       "      <td>1</td>\n",
       "    </tr>\n",
       "    <tr>\n",
       "      <td>11</td>\n",
       "      <td>6.0</td>\n",
       "      <td>B</td>\n",
       "      <td>4</td>\n",
       "      <td>1</td>\n",
       "    </tr>\n",
       "  </tbody>\n",
       "</table>\n",
       "</div>"
      ],
      "text/plain": [
       "    month prod1  pop1_sum  pop1_nunique\n",
       "0     1.0     A         1             1\n",
       "1     1.0     B         1             1\n",
       "2     1.0     C         1             1\n",
       "3     2.0     A         2             1\n",
       "4     2.0     B         2             1\n",
       "5     3.0     A         3             1\n",
       "6     3.0     B         3             1\n",
       "7     3.0     C         2             1\n",
       "8     4.0     A         1             1\n",
       "9     4.0     B         4             1\n",
       "10    5.0     B         3             1\n",
       "11    6.0     B         4             1"
      ]
     },
     "execution_count": 12,
     "metadata": {},
     "output_type": "execute_result"
    }
   ],
   "source": [
    "data_group"
   ]
  },
  {
   "cell_type": "code",
   "execution_count": 33,
   "metadata": {},
   "outputs": [
    {
     "data": {
      "text/plain": [
       "[(None, 'C', 1, 3),\n",
       " (1.0, 'A', 1, 1),\n",
       " (1.0, 'B', 1, 1),\n",
       " (1.0, 'C', 1, 1),\n",
       " (2.0, 'A', 1, 2),\n",
       " (2.0, 'B', 1, 2),\n",
       " (3.0, 'A', 1, 3),\n",
       " (3.0, 'B', 1, 3),\n",
       " (3.0, 'C', 1, 2),\n",
       " (4.0, 'A', 1, 1),\n",
       " (4.0, 'B', 1, 4),\n",
       " (5.0, 'B', 1, 3),\n",
       " (6.0, 'B', 1, 4)]"
      ]
     },
     "execution_count": 33,
     "metadata": {},
     "output_type": "execute_result"
    }
   ],
   "source": [
    "engine.execute('select month, prod1, count(distinct(pop1)), sum(pop1) from data group by month, prod1').fetchall()\n"
   ]
  },
  {
   "cell_type": "markdown",
   "metadata": {},
   "source": [
    "#### Filter groups\n",
    "This filters our dataset down to those groups that meet the criteria. The entire data frame is passed into the function \"filter\" partitioned by the group"
   ]
  },
  {
   "cell_type": "code",
   "execution_count": 31,
   "metadata": {},
   "outputs": [
    {
     "data": {
      "text/html": [
       "<div>\n",
       "<style scoped>\n",
       "    .dataframe tbody tr th:only-of-type {\n",
       "        vertical-align: middle;\n",
       "    }\n",
       "\n",
       "    .dataframe tbody tr th {\n",
       "        vertical-align: top;\n",
       "    }\n",
       "\n",
       "    .dataframe thead th {\n",
       "        text-align: right;\n",
       "    }\n",
       "</style>\n",
       "<table border=\"1\" class=\"dataframe\">\n",
       "  <thead>\n",
       "    <tr style=\"text-align: right;\">\n",
       "      <th></th>\n",
       "      <th>prod1</th>\n",
       "      <th>pop1</th>\n",
       "      <th>month</th>\n",
       "    </tr>\n",
       "  </thead>\n",
       "  <tbody>\n",
       "    <tr>\n",
       "      <td>0</td>\n",
       "      <td>A</td>\n",
       "      <td>1</td>\n",
       "      <td>1.0</td>\n",
       "    </tr>\n",
       "    <tr>\n",
       "      <td>1</td>\n",
       "      <td>A</td>\n",
       "      <td>2</td>\n",
       "      <td>2.0</td>\n",
       "    </tr>\n",
       "    <tr>\n",
       "      <td>2</td>\n",
       "      <td>A</td>\n",
       "      <td>1</td>\n",
       "      <td>4.0</td>\n",
       "    </tr>\n",
       "    <tr>\n",
       "      <td>3</td>\n",
       "      <td>A</td>\n",
       "      <td>3</td>\n",
       "      <td>3.0</td>\n",
       "    </tr>\n",
       "    <tr>\n",
       "      <td>4</td>\n",
       "      <td>B</td>\n",
       "      <td>1</td>\n",
       "      <td>1.0</td>\n",
       "    </tr>\n",
       "    <tr>\n",
       "      <td>5</td>\n",
       "      <td>B</td>\n",
       "      <td>2</td>\n",
       "      <td>2.0</td>\n",
       "    </tr>\n",
       "    <tr>\n",
       "      <td>6</td>\n",
       "      <td>B</td>\n",
       "      <td>3</td>\n",
       "      <td>3.0</td>\n",
       "    </tr>\n",
       "    <tr>\n",
       "      <td>7</td>\n",
       "      <td>B</td>\n",
       "      <td>4</td>\n",
       "      <td>4.0</td>\n",
       "    </tr>\n",
       "    <tr>\n",
       "      <td>8</td>\n",
       "      <td>B</td>\n",
       "      <td>3</td>\n",
       "      <td>5.0</td>\n",
       "    </tr>\n",
       "    <tr>\n",
       "      <td>9</td>\n",
       "      <td>B</td>\n",
       "      <td>4</td>\n",
       "      <td>6.0</td>\n",
       "    </tr>\n",
       "  </tbody>\n",
       "</table>\n",
       "</div>"
      ],
      "text/plain": [
       "  prod1  pop1  month\n",
       "0     A     1    1.0\n",
       "1     A     2    2.0\n",
       "2     A     1    4.0\n",
       "3     A     3    3.0\n",
       "4     B     1    1.0\n",
       "5     B     2    2.0\n",
       "6     B     3    3.0\n",
       "7     B     4    4.0\n",
       "8     B     3    5.0\n",
       "9     B     4    6.0"
      ]
     },
     "execution_count": 31,
     "metadata": {},
     "output_type": "execute_result"
    }
   ],
   "source": [
    "data.groupby('prod1').filter(lambda x: x['month'].sum()>6)"
   ]
  },
  {
   "cell_type": "code",
   "execution_count": 59,
   "metadata": {},
   "outputs": [
    {
     "data": {
      "text/plain": [
       "[(0, 'A', 1, 1.0),\n",
       " (1, 'A', 2, 2.0),\n",
       " (2, 'A', 1, 4.0),\n",
       " (3, 'A', 3, 3.0),\n",
       " (4, 'B', 1, 1.0),\n",
       " (5, 'B', 2, 2.0),\n",
       " (6, 'B', 3, 3.0),\n",
       " (7, 'B', 4, 4.0),\n",
       " (8, 'B', 3, 5.0),\n",
       " (9, 'B', 4, 6.0)]"
      ]
     },
     "execution_count": 59,
     "metadata": {},
     "output_type": "execute_result"
    }
   ],
   "source": [
    "engine.execute(\"select a.* from data a inner join (select b.prod1 from data b group by b.prod1 having sum(b.month)>6) c on a.prod1=c.prod1 \").fetchall()\n"
   ]
  },
  {
   "cell_type": "markdown",
   "metadata": {},
   "source": [
    "#### Transform\n",
    "Each column of the data frame is passed into the \"transform\" function."
   ]
  },
  {
   "cell_type": "code",
   "execution_count": 60,
   "metadata": {},
   "outputs": [],
   "source": [
    "data['standardized'] = data.groupby('prod1', sort=False).month.transform(lambda x: x - x.mean())"
   ]
  },
  {
   "cell_type": "code",
   "execution_count": 61,
   "metadata": {},
   "outputs": [
    {
     "data": {
      "text/html": [
       "<div>\n",
       "<style scoped>\n",
       "    .dataframe tbody tr th:only-of-type {\n",
       "        vertical-align: middle;\n",
       "    }\n",
       "\n",
       "    .dataframe tbody tr th {\n",
       "        vertical-align: top;\n",
       "    }\n",
       "\n",
       "    .dataframe thead th {\n",
       "        text-align: right;\n",
       "    }\n",
       "</style>\n",
       "<table border=\"1\" class=\"dataframe\">\n",
       "  <thead>\n",
       "    <tr style=\"text-align: right;\">\n",
       "      <th></th>\n",
       "      <th>prod1</th>\n",
       "      <th>pop1</th>\n",
       "      <th>month</th>\n",
       "      <th>standardized</th>\n",
       "    </tr>\n",
       "  </thead>\n",
       "  <tbody>\n",
       "    <tr>\n",
       "      <td>0</td>\n",
       "      <td>A</td>\n",
       "      <td>1</td>\n",
       "      <td>1.0</td>\n",
       "      <td>-1.5</td>\n",
       "    </tr>\n",
       "    <tr>\n",
       "      <td>1</td>\n",
       "      <td>A</td>\n",
       "      <td>2</td>\n",
       "      <td>2.0</td>\n",
       "      <td>-0.5</td>\n",
       "    </tr>\n",
       "    <tr>\n",
       "      <td>2</td>\n",
       "      <td>A</td>\n",
       "      <td>1</td>\n",
       "      <td>4.0</td>\n",
       "      <td>1.5</td>\n",
       "    </tr>\n",
       "    <tr>\n",
       "      <td>3</td>\n",
       "      <td>A</td>\n",
       "      <td>3</td>\n",
       "      <td>3.0</td>\n",
       "      <td>0.5</td>\n",
       "    </tr>\n",
       "    <tr>\n",
       "      <td>4</td>\n",
       "      <td>B</td>\n",
       "      <td>1</td>\n",
       "      <td>1.0</td>\n",
       "      <td>-2.5</td>\n",
       "    </tr>\n",
       "    <tr>\n",
       "      <td>5</td>\n",
       "      <td>B</td>\n",
       "      <td>2</td>\n",
       "      <td>2.0</td>\n",
       "      <td>-1.5</td>\n",
       "    </tr>\n",
       "    <tr>\n",
       "      <td>6</td>\n",
       "      <td>B</td>\n",
       "      <td>3</td>\n",
       "      <td>3.0</td>\n",
       "      <td>-0.5</td>\n",
       "    </tr>\n",
       "    <tr>\n",
       "      <td>7</td>\n",
       "      <td>B</td>\n",
       "      <td>4</td>\n",
       "      <td>4.0</td>\n",
       "      <td>0.5</td>\n",
       "    </tr>\n",
       "    <tr>\n",
       "      <td>8</td>\n",
       "      <td>B</td>\n",
       "      <td>3</td>\n",
       "      <td>5.0</td>\n",
       "      <td>1.5</td>\n",
       "    </tr>\n",
       "    <tr>\n",
       "      <td>9</td>\n",
       "      <td>B</td>\n",
       "      <td>4</td>\n",
       "      <td>6.0</td>\n",
       "      <td>2.5</td>\n",
       "    </tr>\n",
       "    <tr>\n",
       "      <td>10</td>\n",
       "      <td>C</td>\n",
       "      <td>1</td>\n",
       "      <td>1.0</td>\n",
       "      <td>-1.0</td>\n",
       "    </tr>\n",
       "    <tr>\n",
       "      <td>11</td>\n",
       "      <td>C</td>\n",
       "      <td>2</td>\n",
       "      <td>3.0</td>\n",
       "      <td>1.0</td>\n",
       "    </tr>\n",
       "    <tr>\n",
       "      <td>12</td>\n",
       "      <td>C</td>\n",
       "      <td>3</td>\n",
       "      <td>NaN</td>\n",
       "      <td>NaN</td>\n",
       "    </tr>\n",
       "  </tbody>\n",
       "</table>\n",
       "</div>"
      ],
      "text/plain": [
       "   prod1  pop1  month  standardized\n",
       "0      A     1    1.0          -1.5\n",
       "1      A     2    2.0          -0.5\n",
       "2      A     1    4.0           1.5\n",
       "3      A     3    3.0           0.5\n",
       "4      B     1    1.0          -2.5\n",
       "5      B     2    2.0          -1.5\n",
       "6      B     3    3.0          -0.5\n",
       "7      B     4    4.0           0.5\n",
       "8      B     3    5.0           1.5\n",
       "9      B     4    6.0           2.5\n",
       "10     C     1    1.0          -1.0\n",
       "11     C     2    3.0           1.0\n",
       "12     C     3    NaN           NaN"
      ]
     },
     "execution_count": 61,
     "metadata": {},
     "output_type": "execute_result"
    }
   ],
   "source": [
    "data"
   ]
  },
  {
   "cell_type": "code",
   "execution_count": 66,
   "metadata": {},
   "outputs": [
    {
     "data": {
      "text/plain": [
       "[('A', -1.5),\n",
       " ('A', -0.5),\n",
       " ('A', 1.5),\n",
       " ('A', 0.5),\n",
       " ('B', -2.5),\n",
       " ('B', -1.5),\n",
       " ('B', -0.5),\n",
       " ('B', 0.5),\n",
       " ('B', 1.5),\n",
       " ('B', 2.5),\n",
       " ('C', -1.0),\n",
       " ('C', 1.0),\n",
       " ('C', None)]"
      ]
     },
     "execution_count": 66,
     "metadata": {},
     "output_type": "execute_result"
    }
   ],
   "source": [
    "engine.execute('select prod1, month - avg(month) over (partition by prod1) from data').fetchall()"
   ]
  },
  {
   "cell_type": "markdown",
   "metadata": {},
   "source": [
    "#### Apply\n",
    "The entire dataset is passed in partitioned by groups"
   ]
  },
  {
   "cell_type": "code",
   "execution_count": 15,
   "metadata": {},
   "outputs": [
    {
     "data": {
      "text/html": [
       "<div>\n",
       "<style scoped>\n",
       "    .dataframe tbody tr th:only-of-type {\n",
       "        vertical-align: middle;\n",
       "    }\n",
       "\n",
       "    .dataframe tbody tr th {\n",
       "        vertical-align: top;\n",
       "    }\n",
       "\n",
       "    .dataframe thead th {\n",
       "        text-align: right;\n",
       "    }\n",
       "</style>\n",
       "<table border=\"1\" class=\"dataframe\">\n",
       "  <thead>\n",
       "    <tr style=\"text-align: right;\">\n",
       "      <th></th>\n",
       "      <th>prod1</th>\n",
       "      <th>level_1</th>\n",
       "      <th>month</th>\n",
       "    </tr>\n",
       "  </thead>\n",
       "  <tbody>\n",
       "    <tr>\n",
       "      <th>0</th>\n",
       "      <td>A</td>\n",
       "      <td>0</td>\n",
       "      <td>1.0</td>\n",
       "    </tr>\n",
       "    <tr>\n",
       "      <th>1</th>\n",
       "      <td>A</td>\n",
       "      <td>1</td>\n",
       "      <td>2.0</td>\n",
       "    </tr>\n",
       "    <tr>\n",
       "      <th>2</th>\n",
       "      <td>A</td>\n",
       "      <td>2</td>\n",
       "      <td>4.0</td>\n",
       "    </tr>\n",
       "    <tr>\n",
       "      <th>3</th>\n",
       "      <td>A</td>\n",
       "      <td>3</td>\n",
       "      <td>3.0</td>\n",
       "    </tr>\n",
       "    <tr>\n",
       "      <th>4</th>\n",
       "      <td>B</td>\n",
       "      <td>4</td>\n",
       "      <td>1.0</td>\n",
       "    </tr>\n",
       "    <tr>\n",
       "      <th>5</th>\n",
       "      <td>B</td>\n",
       "      <td>5</td>\n",
       "      <td>2.0</td>\n",
       "    </tr>\n",
       "    <tr>\n",
       "      <th>6</th>\n",
       "      <td>B</td>\n",
       "      <td>6</td>\n",
       "      <td>3.0</td>\n",
       "    </tr>\n",
       "    <tr>\n",
       "      <th>7</th>\n",
       "      <td>B</td>\n",
       "      <td>7</td>\n",
       "      <td>4.0</td>\n",
       "    </tr>\n",
       "    <tr>\n",
       "      <th>8</th>\n",
       "      <td>B</td>\n",
       "      <td>8</td>\n",
       "      <td>5.0</td>\n",
       "    </tr>\n",
       "    <tr>\n",
       "      <th>9</th>\n",
       "      <td>B</td>\n",
       "      <td>9</td>\n",
       "      <td>6.0</td>\n",
       "    </tr>\n",
       "    <tr>\n",
       "      <th>10</th>\n",
       "      <td>C</td>\n",
       "      <td>10</td>\n",
       "      <td>1.0</td>\n",
       "    </tr>\n",
       "    <tr>\n",
       "      <th>11</th>\n",
       "      <td>C</td>\n",
       "      <td>11</td>\n",
       "      <td>3.0</td>\n",
       "    </tr>\n",
       "    <tr>\n",
       "      <th>12</th>\n",
       "      <td>C</td>\n",
       "      <td>12</td>\n",
       "      <td>NaN</td>\n",
       "    </tr>\n",
       "  </tbody>\n",
       "</table>\n",
       "</div>"
      ],
      "text/plain": [
       "   prod1  level_1  month\n",
       "0      A        0    1.0\n",
       "1      A        1    2.0\n",
       "2      A        2    4.0\n",
       "3      A        3    3.0\n",
       "4      B        4    1.0\n",
       "5      B        5    2.0\n",
       "6      B        6    3.0\n",
       "7      B        7    4.0\n",
       "8      B        8    5.0\n",
       "9      B        9    6.0\n",
       "10     C       10    1.0\n",
       "11     C       11    3.0\n",
       "12     C       12    NaN"
      ]
     },
     "execution_count": 15,
     "metadata": {},
     "output_type": "execute_result"
    }
   ],
   "source": [
    "data.groupby('prod1').apply(lambda x: x['month']).reset_index()"
   ]
  },
  {
   "cell_type": "code",
   "execution_count": 25,
   "metadata": {},
   "outputs": [
    {
     "data": {
      "text/plain": [
       "[('A', -9.0),\n",
       " ('A', -8.0),\n",
       " ('A', -9.0),\n",
       " ('A', -7.0),\n",
       " ('B', -20.0),\n",
       " ('B', -19.0),\n",
       " ('B', -18.0),\n",
       " ('B', -17.0),\n",
       " ('B', -18.0),\n",
       " ('B', -17.0),\n",
       " ('C', -3.0),\n",
       " ('C', -2.0),\n",
       " ('C', -1.0)]"
      ]
     },
     "execution_count": 25,
     "metadata": {},
     "output_type": "execute_result"
    }
   ],
   "source": [
    "engine.execute('select prod1, pop1 - (sum(month) over (partition by prod1)) from data').fetchall()"
   ]
  },
  {
   "cell_type": "markdown",
   "metadata": {},
   "source": [
    "#### Cumcount\n",
    "Just add a range of values to each group"
   ]
  },
  {
   "cell_type": "code",
   "execution_count": 5,
   "metadata": {},
   "outputs": [],
   "source": [
    "data['rank'] = data.groupby('prod1').cumcount() + 1"
   ]
  },
  {
   "cell_type": "code",
   "execution_count": 6,
   "metadata": {},
   "outputs": [
    {
     "data": {
      "text/html": [
       "<div>\n",
       "<style scoped>\n",
       "    .dataframe tbody tr th:only-of-type {\n",
       "        vertical-align: middle;\n",
       "    }\n",
       "\n",
       "    .dataframe tbody tr th {\n",
       "        vertical-align: top;\n",
       "    }\n",
       "\n",
       "    .dataframe thead th {\n",
       "        text-align: right;\n",
       "    }\n",
       "</style>\n",
       "<table border=\"1\" class=\"dataframe\">\n",
       "  <thead>\n",
       "    <tr style=\"text-align: right;\">\n",
       "      <th></th>\n",
       "      <th>prod1</th>\n",
       "      <th>pop1</th>\n",
       "      <th>month</th>\n",
       "      <th>rank</th>\n",
       "    </tr>\n",
       "  </thead>\n",
       "  <tbody>\n",
       "    <tr>\n",
       "      <td>0</td>\n",
       "      <td>A</td>\n",
       "      <td>1</td>\n",
       "      <td>1</td>\n",
       "      <td>1</td>\n",
       "    </tr>\n",
       "    <tr>\n",
       "      <td>1</td>\n",
       "      <td>A</td>\n",
       "      <td>2</td>\n",
       "      <td>2</td>\n",
       "      <td>2</td>\n",
       "    </tr>\n",
       "    <tr>\n",
       "      <td>2</td>\n",
       "      <td>A</td>\n",
       "      <td>1</td>\n",
       "      <td>4</td>\n",
       "      <td>3</td>\n",
       "    </tr>\n",
       "    <tr>\n",
       "      <td>3</td>\n",
       "      <td>A</td>\n",
       "      <td>3</td>\n",
       "      <td>3</td>\n",
       "      <td>4</td>\n",
       "    </tr>\n",
       "    <tr>\n",
       "      <td>4</td>\n",
       "      <td>B</td>\n",
       "      <td>1</td>\n",
       "      <td>1</td>\n",
       "      <td>1</td>\n",
       "    </tr>\n",
       "    <tr>\n",
       "      <td>5</td>\n",
       "      <td>B</td>\n",
       "      <td>2</td>\n",
       "      <td>2</td>\n",
       "      <td>2</td>\n",
       "    </tr>\n",
       "    <tr>\n",
       "      <td>6</td>\n",
       "      <td>B</td>\n",
       "      <td>3</td>\n",
       "      <td>3</td>\n",
       "      <td>3</td>\n",
       "    </tr>\n",
       "    <tr>\n",
       "      <td>7</td>\n",
       "      <td>B</td>\n",
       "      <td>4</td>\n",
       "      <td>4</td>\n",
       "      <td>4</td>\n",
       "    </tr>\n",
       "    <tr>\n",
       "      <td>8</td>\n",
       "      <td>B</td>\n",
       "      <td>3</td>\n",
       "      <td>5</td>\n",
       "      <td>5</td>\n",
       "    </tr>\n",
       "    <tr>\n",
       "      <td>9</td>\n",
       "      <td>B</td>\n",
       "      <td>4</td>\n",
       "      <td>6</td>\n",
       "      <td>6</td>\n",
       "    </tr>\n",
       "    <tr>\n",
       "      <td>10</td>\n",
       "      <td>C</td>\n",
       "      <td>1</td>\n",
       "      <td>1</td>\n",
       "      <td>1</td>\n",
       "    </tr>\n",
       "    <tr>\n",
       "      <td>11</td>\n",
       "      <td>C</td>\n",
       "      <td>2</td>\n",
       "      <td>3</td>\n",
       "      <td>2</td>\n",
       "    </tr>\n",
       "    <tr>\n",
       "      <td>12</td>\n",
       "      <td>C</td>\n",
       "      <td>3</td>\n",
       "      <td>2</td>\n",
       "      <td>3</td>\n",
       "    </tr>\n",
       "  </tbody>\n",
       "</table>\n",
       "</div>"
      ],
      "text/plain": [
       "   prod1  pop1  month  rank\n",
       "0      A     1      1     1\n",
       "1      A     2      2     2\n",
       "2      A     1      4     3\n",
       "3      A     3      3     4\n",
       "4      B     1      1     1\n",
       "5      B     2      2     2\n",
       "6      B     3      3     3\n",
       "7      B     4      4     4\n",
       "8      B     3      5     5\n",
       "9      B     4      6     6\n",
       "10     C     1      1     1\n",
       "11     C     2      3     2\n",
       "12     C     3      2     3"
      ]
     },
     "execution_count": 6,
     "metadata": {},
     "output_type": "execute_result"
    }
   ],
   "source": [
    "data"
   ]
  },
  {
   "cell_type": "code",
   "execution_count": 68,
   "metadata": {},
   "outputs": [
    {
     "data": {
      "text/plain": [
       "[('A', 1, 1.0, 1),\n",
       " ('A', 2, 2.0, 2),\n",
       " ('A', 1, 4.0, 3),\n",
       " ('A', 3, 3.0, 4),\n",
       " ('B', 1, 1.0, 1),\n",
       " ('B', 2, 2.0, 2),\n",
       " ('B', 3, 3.0, 3),\n",
       " ('B', 4, 4.0, 4),\n",
       " ('B', 3, 5.0, 5),\n",
       " ('B', 4, 6.0, 6),\n",
       " ('C', 1, 1.0, 1),\n",
       " ('C', 2, 3.0, 2),\n",
       " ('C', 3, None, 3)]"
      ]
     },
     "execution_count": 68,
     "metadata": {},
     "output_type": "execute_result"
    }
   ],
   "source": [
    "engine.execute('select prod1, pop1, month, row_number() over (partition by prod1) from data').fetchall()"
   ]
  },
  {
   "cell_type": "markdown",
   "metadata": {},
   "source": [
    "#### Rank\n",
    "Rank according to some column. Ties go to the first one"
   ]
  },
  {
   "cell_type": "code",
   "execution_count": 81,
   "metadata": {},
   "outputs": [],
   "source": [
    "data['rank1'] = data.groupby('prod1').pop1.rank(method='first')"
   ]
  },
  {
   "cell_type": "code",
   "execution_count": 82,
   "metadata": {},
   "outputs": [
    {
     "data": {
      "text/html": [
       "<div>\n",
       "<style scoped>\n",
       "    .dataframe tbody tr th:only-of-type {\n",
       "        vertical-align: middle;\n",
       "    }\n",
       "\n",
       "    .dataframe tbody tr th {\n",
       "        vertical-align: top;\n",
       "    }\n",
       "\n",
       "    .dataframe thead th {\n",
       "        text-align: right;\n",
       "    }\n",
       "</style>\n",
       "<table border=\"1\" class=\"dataframe\">\n",
       "  <thead>\n",
       "    <tr style=\"text-align: right;\">\n",
       "      <th></th>\n",
       "      <th>prod1</th>\n",
       "      <th>pop1</th>\n",
       "      <th>month</th>\n",
       "      <th>standardized</th>\n",
       "      <th>rank</th>\n",
       "      <th>rank1</th>\n",
       "    </tr>\n",
       "  </thead>\n",
       "  <tbody>\n",
       "    <tr>\n",
       "      <td>0</td>\n",
       "      <td>A</td>\n",
       "      <td>1</td>\n",
       "      <td>1</td>\n",
       "      <td>-1.5</td>\n",
       "      <td>1</td>\n",
       "      <td>1.0</td>\n",
       "    </tr>\n",
       "    <tr>\n",
       "      <td>1</td>\n",
       "      <td>A</td>\n",
       "      <td>2</td>\n",
       "      <td>2</td>\n",
       "      <td>-0.5</td>\n",
       "      <td>2</td>\n",
       "      <td>3.0</td>\n",
       "    </tr>\n",
       "    <tr>\n",
       "      <td>2</td>\n",
       "      <td>A</td>\n",
       "      <td>1</td>\n",
       "      <td>4</td>\n",
       "      <td>1.5</td>\n",
       "      <td>3</td>\n",
       "      <td>2.0</td>\n",
       "    </tr>\n",
       "    <tr>\n",
       "      <td>3</td>\n",
       "      <td>A</td>\n",
       "      <td>3</td>\n",
       "      <td>3</td>\n",
       "      <td>0.5</td>\n",
       "      <td>4</td>\n",
       "      <td>4.0</td>\n",
       "    </tr>\n",
       "    <tr>\n",
       "      <td>4</td>\n",
       "      <td>B</td>\n",
       "      <td>1</td>\n",
       "      <td>1</td>\n",
       "      <td>-2.5</td>\n",
       "      <td>1</td>\n",
       "      <td>1.0</td>\n",
       "    </tr>\n",
       "    <tr>\n",
       "      <td>5</td>\n",
       "      <td>B</td>\n",
       "      <td>2</td>\n",
       "      <td>2</td>\n",
       "      <td>-1.5</td>\n",
       "      <td>2</td>\n",
       "      <td>2.0</td>\n",
       "    </tr>\n",
       "    <tr>\n",
       "      <td>6</td>\n",
       "      <td>B</td>\n",
       "      <td>3</td>\n",
       "      <td>3</td>\n",
       "      <td>-0.5</td>\n",
       "      <td>3</td>\n",
       "      <td>3.0</td>\n",
       "    </tr>\n",
       "    <tr>\n",
       "      <td>7</td>\n",
       "      <td>B</td>\n",
       "      <td>4</td>\n",
       "      <td>4</td>\n",
       "      <td>0.5</td>\n",
       "      <td>4</td>\n",
       "      <td>5.0</td>\n",
       "    </tr>\n",
       "    <tr>\n",
       "      <td>8</td>\n",
       "      <td>B</td>\n",
       "      <td>3</td>\n",
       "      <td>5</td>\n",
       "      <td>1.5</td>\n",
       "      <td>5</td>\n",
       "      <td>4.0</td>\n",
       "    </tr>\n",
       "    <tr>\n",
       "      <td>9</td>\n",
       "      <td>B</td>\n",
       "      <td>4</td>\n",
       "      <td>6</td>\n",
       "      <td>2.5</td>\n",
       "      <td>6</td>\n",
       "      <td>6.0</td>\n",
       "    </tr>\n",
       "    <tr>\n",
       "      <td>10</td>\n",
       "      <td>C</td>\n",
       "      <td>1</td>\n",
       "      <td>1</td>\n",
       "      <td>-1.0</td>\n",
       "      <td>1</td>\n",
       "      <td>1.0</td>\n",
       "    </tr>\n",
       "    <tr>\n",
       "      <td>11</td>\n",
       "      <td>C</td>\n",
       "      <td>2</td>\n",
       "      <td>3</td>\n",
       "      <td>1.0</td>\n",
       "      <td>2</td>\n",
       "      <td>2.0</td>\n",
       "    </tr>\n",
       "    <tr>\n",
       "      <td>12</td>\n",
       "      <td>C</td>\n",
       "      <td>3</td>\n",
       "      <td>2</td>\n",
       "      <td>0.0</td>\n",
       "      <td>3</td>\n",
       "      <td>3.0</td>\n",
       "    </tr>\n",
       "  </tbody>\n",
       "</table>\n",
       "</div>"
      ],
      "text/plain": [
       "   prod1  pop1  month  standardized  rank  rank1\n",
       "0      A     1      1          -1.5     1    1.0\n",
       "1      A     2      2          -0.5     2    3.0\n",
       "2      A     1      4           1.5     3    2.0\n",
       "3      A     3      3           0.5     4    4.0\n",
       "4      B     1      1          -2.5     1    1.0\n",
       "5      B     2      2          -1.5     2    2.0\n",
       "6      B     3      3          -0.5     3    3.0\n",
       "7      B     4      4           0.5     4    5.0\n",
       "8      B     3      5           1.5     5    4.0\n",
       "9      B     4      6           2.5     6    6.0\n",
       "10     C     1      1          -1.0     1    1.0\n",
       "11     C     2      3           1.0     2    2.0\n",
       "12     C     3      2           0.0     3    3.0"
      ]
     },
     "execution_count": 82,
     "metadata": {},
     "output_type": "execute_result"
    }
   ],
   "source": [
    "data"
   ]
  },
  {
   "cell_type": "markdown",
   "metadata": {},
   "source": [
    "#### Percentile"
   ]
  },
  {
   "cell_type": "code",
   "execution_count": 38,
   "metadata": {},
   "outputs": [
    {
     "data": {
      "text/plain": [
       "[('A', 1.0, 0.0, 1),\n",
       " ('A', 2.0, 0.3333333333333333, 1),\n",
       " ('A', 3.0, 0.6666666666666666, 2),\n",
       " ('A', 4.0, 1.0, 2),\n",
       " ('B', 1.0, 0.0, 1),\n",
       " ('B', 2.0, 0.2, 1),\n",
       " ('B', 3.0, 0.4, 1),\n",
       " ('B', 4.0, 0.6, 2),\n",
       " ('B', 5.0, 0.8, 2),\n",
       " ('B', 6.0, 1.0, 2),\n",
       " ('C', None, 0.0, 1),\n",
       " ('C', 1.0, 0.5, 1),\n",
       " ('C', 3.0, 1.0, 2)]"
      ]
     },
     "execution_count": 38,
     "metadata": {},
     "output_type": "execute_result"
    }
   ],
   "source": [
    "engine.execute('select prod1, month, percent_rank() over (partition by prod1 order by month) ,ntile(2) over (partition by prod1 order by month) from data').fetchall()"
   ]
  },
  {
   "cell_type": "markdown",
   "metadata": {},
   "source": [
    "#### Rolling window\n",
    "Like the transformation function it opperates on each column separately. Meaning if it passes us a data frame it will work on each column seperately. We can use apply in conjunction with this function to get different behaviour."
   ]
  },
  {
   "cell_type": "code",
   "execution_count": 97,
   "metadata": {},
   "outputs": [],
   "source": [
    "data['rolling_sum'] = data.groupby('prod1',sort=False).month.rolling(3).sum().values"
   ]
  },
  {
   "cell_type": "code",
   "execution_count": 98,
   "metadata": {},
   "outputs": [
    {
     "data": {
      "text/html": [
       "<div>\n",
       "<style scoped>\n",
       "    .dataframe tbody tr th:only-of-type {\n",
       "        vertical-align: middle;\n",
       "    }\n",
       "\n",
       "    .dataframe tbody tr th {\n",
       "        vertical-align: top;\n",
       "    }\n",
       "\n",
       "    .dataframe thead th {\n",
       "        text-align: right;\n",
       "    }\n",
       "</style>\n",
       "<table border=\"1\" class=\"dataframe\">\n",
       "  <thead>\n",
       "    <tr style=\"text-align: right;\">\n",
       "      <th></th>\n",
       "      <th>prod1</th>\n",
       "      <th>pop1</th>\n",
       "      <th>month</th>\n",
       "      <th>standardized</th>\n",
       "      <th>rank</th>\n",
       "      <th>rank1</th>\n",
       "      <th>rolling_sum</th>\n",
       "    </tr>\n",
       "  </thead>\n",
       "  <tbody>\n",
       "    <tr>\n",
       "      <td>0</td>\n",
       "      <td>A</td>\n",
       "      <td>1</td>\n",
       "      <td>1</td>\n",
       "      <td>-1.5</td>\n",
       "      <td>1</td>\n",
       "      <td>1.0</td>\n",
       "      <td>NaN</td>\n",
       "    </tr>\n",
       "    <tr>\n",
       "      <td>1</td>\n",
       "      <td>A</td>\n",
       "      <td>2</td>\n",
       "      <td>2</td>\n",
       "      <td>-0.5</td>\n",
       "      <td>2</td>\n",
       "      <td>3.0</td>\n",
       "      <td>NaN</td>\n",
       "    </tr>\n",
       "    <tr>\n",
       "      <td>2</td>\n",
       "      <td>A</td>\n",
       "      <td>1</td>\n",
       "      <td>4</td>\n",
       "      <td>1.5</td>\n",
       "      <td>3</td>\n",
       "      <td>2.0</td>\n",
       "      <td>7.0</td>\n",
       "    </tr>\n",
       "    <tr>\n",
       "      <td>3</td>\n",
       "      <td>A</td>\n",
       "      <td>3</td>\n",
       "      <td>3</td>\n",
       "      <td>0.5</td>\n",
       "      <td>4</td>\n",
       "      <td>4.0</td>\n",
       "      <td>9.0</td>\n",
       "    </tr>\n",
       "    <tr>\n",
       "      <td>4</td>\n",
       "      <td>B</td>\n",
       "      <td>1</td>\n",
       "      <td>1</td>\n",
       "      <td>-2.5</td>\n",
       "      <td>1</td>\n",
       "      <td>1.0</td>\n",
       "      <td>NaN</td>\n",
       "    </tr>\n",
       "    <tr>\n",
       "      <td>5</td>\n",
       "      <td>B</td>\n",
       "      <td>2</td>\n",
       "      <td>2</td>\n",
       "      <td>-1.5</td>\n",
       "      <td>2</td>\n",
       "      <td>2.0</td>\n",
       "      <td>NaN</td>\n",
       "    </tr>\n",
       "    <tr>\n",
       "      <td>6</td>\n",
       "      <td>B</td>\n",
       "      <td>3</td>\n",
       "      <td>3</td>\n",
       "      <td>-0.5</td>\n",
       "      <td>3</td>\n",
       "      <td>3.0</td>\n",
       "      <td>6.0</td>\n",
       "    </tr>\n",
       "    <tr>\n",
       "      <td>7</td>\n",
       "      <td>B</td>\n",
       "      <td>4</td>\n",
       "      <td>4</td>\n",
       "      <td>0.5</td>\n",
       "      <td>4</td>\n",
       "      <td>5.0</td>\n",
       "      <td>9.0</td>\n",
       "    </tr>\n",
       "    <tr>\n",
       "      <td>8</td>\n",
       "      <td>B</td>\n",
       "      <td>3</td>\n",
       "      <td>5</td>\n",
       "      <td>1.5</td>\n",
       "      <td>5</td>\n",
       "      <td>4.0</td>\n",
       "      <td>12.0</td>\n",
       "    </tr>\n",
       "    <tr>\n",
       "      <td>9</td>\n",
       "      <td>B</td>\n",
       "      <td>4</td>\n",
       "      <td>6</td>\n",
       "      <td>2.5</td>\n",
       "      <td>6</td>\n",
       "      <td>6.0</td>\n",
       "      <td>15.0</td>\n",
       "    </tr>\n",
       "    <tr>\n",
       "      <td>10</td>\n",
       "      <td>C</td>\n",
       "      <td>1</td>\n",
       "      <td>1</td>\n",
       "      <td>-1.0</td>\n",
       "      <td>1</td>\n",
       "      <td>1.0</td>\n",
       "      <td>NaN</td>\n",
       "    </tr>\n",
       "    <tr>\n",
       "      <td>11</td>\n",
       "      <td>C</td>\n",
       "      <td>2</td>\n",
       "      <td>3</td>\n",
       "      <td>1.0</td>\n",
       "      <td>2</td>\n",
       "      <td>2.0</td>\n",
       "      <td>NaN</td>\n",
       "    </tr>\n",
       "    <tr>\n",
       "      <td>12</td>\n",
       "      <td>C</td>\n",
       "      <td>3</td>\n",
       "      <td>2</td>\n",
       "      <td>0.0</td>\n",
       "      <td>3</td>\n",
       "      <td>3.0</td>\n",
       "      <td>6.0</td>\n",
       "    </tr>\n",
       "  </tbody>\n",
       "</table>\n",
       "</div>"
      ],
      "text/plain": [
       "   prod1  pop1  month  standardized  rank  rank1  rolling_sum\n",
       "0      A     1      1          -1.5     1    1.0          NaN\n",
       "1      A     2      2          -0.5     2    3.0          NaN\n",
       "2      A     1      4           1.5     3    2.0          7.0\n",
       "3      A     3      3           0.5     4    4.0          9.0\n",
       "4      B     1      1          -2.5     1    1.0          NaN\n",
       "5      B     2      2          -1.5     2    2.0          NaN\n",
       "6      B     3      3          -0.5     3    3.0          6.0\n",
       "7      B     4      4           0.5     4    5.0          9.0\n",
       "8      B     3      5           1.5     5    4.0         12.0\n",
       "9      B     4      6           2.5     6    6.0         15.0\n",
       "10     C     1      1          -1.0     1    1.0          NaN\n",
       "11     C     2      3           1.0     2    2.0          NaN\n",
       "12     C     3      2           0.0     3    3.0          6.0"
      ]
     },
     "execution_count": 98,
     "metadata": {},
     "output_type": "execute_result"
    }
   ],
   "source": [
    "data"
   ]
  },
  {
   "cell_type": "code",
   "execution_count": 11,
   "metadata": {},
   "outputs": [
    {
     "data": {
      "text/plain": [
       "[('A', 1, 1.0, 1.0),\n",
       " ('A', 2, 2.0, 3.0),\n",
       " ('A', 1, 4.0, 7.0),\n",
       " ('A', 3, 3.0, 9.0),\n",
       " ('B', 1, 1.0, 1.0),\n",
       " ('B', 2, 2.0, 3.0),\n",
       " ('B', 3, 3.0, 6.0),\n",
       " ('B', 4, 4.0, 9.0),\n",
       " ('B', 3, 5.0, 12.0),\n",
       " ('B', 4, 6.0, 15.0),\n",
       " ('C', 1, 1.0, 1.0),\n",
       " ('C', 2, 3.0, 4.0),\n",
       " ('C', 3, None, 4.0)]"
      ]
     },
     "execution_count": 11,
     "metadata": {},
     "output_type": "execute_result"
    }
   ],
   "source": [
    "engine.execute('select prod1, pop1, month, sum(month) over (partition by prod1 rows 2 preceding) from data').fetchall()\n"
   ]
  },
  {
   "cell_type": "code",
   "execution_count": 30,
   "metadata": {},
   "outputs": [
    {
     "name": "stderr",
     "output_type": "stream",
     "text": [
      "/Users/magoodwi/MyStuff/Education/DataScienceToolkit/DataScienceCode/ds_python_37/lib/python3.7/site-packages/ipykernel_launcher.py:1: FutureWarning: Currently, 'apply' passes the values as ndarrays to the applied function. In the future, this will change to passing it as Series objects. You need to specify 'raw=True' to keep the current behaviour, and you can pass 'raw=False' to silence this warning\n",
      "  \"\"\"Entry point for launching an IPython kernel.\n"
     ]
    }
   ],
   "source": [
    "data['diff_roll'] = data.groupby('prod1',sort=False).month.rolling(2).apply(lambda x: x[1] - x[0]).values"
   ]
  },
  {
   "cell_type": "code",
   "execution_count": 32,
   "metadata": {},
   "outputs": [
    {
     "data": {
      "text/html": [
       "<div>\n",
       "<style scoped>\n",
       "    .dataframe tbody tr th:only-of-type {\n",
       "        vertical-align: middle;\n",
       "    }\n",
       "\n",
       "    .dataframe tbody tr th {\n",
       "        vertical-align: top;\n",
       "    }\n",
       "\n",
       "    .dataframe thead th {\n",
       "        text-align: right;\n",
       "    }\n",
       "</style>\n",
       "<table border=\"1\" class=\"dataframe\">\n",
       "  <thead>\n",
       "    <tr style=\"text-align: right;\">\n",
       "      <th></th>\n",
       "      <th>prod1</th>\n",
       "      <th>pop1</th>\n",
       "      <th>month</th>\n",
       "      <th>diff_roll</th>\n",
       "    </tr>\n",
       "  </thead>\n",
       "  <tbody>\n",
       "    <tr>\n",
       "      <td>0</td>\n",
       "      <td>A</td>\n",
       "      <td>1</td>\n",
       "      <td>1.0</td>\n",
       "      <td>NaN</td>\n",
       "    </tr>\n",
       "    <tr>\n",
       "      <td>1</td>\n",
       "      <td>A</td>\n",
       "      <td>2</td>\n",
       "      <td>2.0</td>\n",
       "      <td>1.0</td>\n",
       "    </tr>\n",
       "    <tr>\n",
       "      <td>2</td>\n",
       "      <td>A</td>\n",
       "      <td>1</td>\n",
       "      <td>4.0</td>\n",
       "      <td>2.0</td>\n",
       "    </tr>\n",
       "    <tr>\n",
       "      <td>3</td>\n",
       "      <td>A</td>\n",
       "      <td>3</td>\n",
       "      <td>3.0</td>\n",
       "      <td>-1.0</td>\n",
       "    </tr>\n",
       "    <tr>\n",
       "      <td>4</td>\n",
       "      <td>B</td>\n",
       "      <td>1</td>\n",
       "      <td>1.0</td>\n",
       "      <td>NaN</td>\n",
       "    </tr>\n",
       "    <tr>\n",
       "      <td>5</td>\n",
       "      <td>B</td>\n",
       "      <td>2</td>\n",
       "      <td>2.0</td>\n",
       "      <td>1.0</td>\n",
       "    </tr>\n",
       "    <tr>\n",
       "      <td>6</td>\n",
       "      <td>B</td>\n",
       "      <td>3</td>\n",
       "      <td>3.0</td>\n",
       "      <td>1.0</td>\n",
       "    </tr>\n",
       "    <tr>\n",
       "      <td>7</td>\n",
       "      <td>B</td>\n",
       "      <td>4</td>\n",
       "      <td>4.0</td>\n",
       "      <td>1.0</td>\n",
       "    </tr>\n",
       "    <tr>\n",
       "      <td>8</td>\n",
       "      <td>B</td>\n",
       "      <td>3</td>\n",
       "      <td>5.0</td>\n",
       "      <td>1.0</td>\n",
       "    </tr>\n",
       "    <tr>\n",
       "      <td>9</td>\n",
       "      <td>B</td>\n",
       "      <td>4</td>\n",
       "      <td>6.0</td>\n",
       "      <td>1.0</td>\n",
       "    </tr>\n",
       "    <tr>\n",
       "      <td>10</td>\n",
       "      <td>C</td>\n",
       "      <td>1</td>\n",
       "      <td>1.0</td>\n",
       "      <td>NaN</td>\n",
       "    </tr>\n",
       "    <tr>\n",
       "      <td>11</td>\n",
       "      <td>C</td>\n",
       "      <td>2</td>\n",
       "      <td>3.0</td>\n",
       "      <td>2.0</td>\n",
       "    </tr>\n",
       "    <tr>\n",
       "      <td>12</td>\n",
       "      <td>C</td>\n",
       "      <td>3</td>\n",
       "      <td>NaN</td>\n",
       "      <td>NaN</td>\n",
       "    </tr>\n",
       "  </tbody>\n",
       "</table>\n",
       "</div>"
      ],
      "text/plain": [
       "   prod1  pop1  month  diff_roll\n",
       "0      A     1    1.0        NaN\n",
       "1      A     2    2.0        1.0\n",
       "2      A     1    4.0        2.0\n",
       "3      A     3    3.0       -1.0\n",
       "4      B     1    1.0        NaN\n",
       "5      B     2    2.0        1.0\n",
       "6      B     3    3.0        1.0\n",
       "7      B     4    4.0        1.0\n",
       "8      B     3    5.0        1.0\n",
       "9      B     4    6.0        1.0\n",
       "10     C     1    1.0        NaN\n",
       "11     C     2    3.0        2.0\n",
       "12     C     3    NaN        NaN"
      ]
     },
     "execution_count": 32,
     "metadata": {},
     "output_type": "execute_result"
    }
   ],
   "source": [
    "data"
   ]
  },
  {
   "cell_type": "code",
   "execution_count": 33,
   "metadata": {},
   "outputs": [
    {
     "data": {
      "text/plain": [
       "[('A', 1, 1.0, None),\n",
       " ('A', 2, 2.0, 1.0),\n",
       " ('A', 1, 4.0, 2.0),\n",
       " ('A', 3, 3.0, -1.0),\n",
       " ('B', 1, 1.0, None),\n",
       " ('B', 2, 2.0, 1.0),\n",
       " ('B', 3, 3.0, 1.0),\n",
       " ('B', 4, 4.0, 1.0),\n",
       " ('B', 3, 5.0, 1.0),\n",
       " ('B', 4, 6.0, 1.0),\n",
       " ('C', 1, 1.0, None),\n",
       " ('C', 2, 3.0, 2.0),\n",
       " ('C', 3, None, None)]"
      ]
     },
     "execution_count": 33,
     "metadata": {},
     "output_type": "execute_result"
    }
   ],
   "source": [
    "engine.execute('select prod1, pop1, month, month - lag(month,1) over (partition by prod1) from data').fetchall()"
   ]
  },
  {
   "cell_type": "markdown",
   "metadata": {},
   "source": [
    "### 2. Join Practice"
   ]
  },
  {
   "cell_type": "code",
   "execution_count": 5,
   "metadata": {},
   "outputs": [
    {
     "data": {
      "text/html": [
       "<div>\n",
       "<style scoped>\n",
       "    .dataframe tbody tr th:only-of-type {\n",
       "        vertical-align: middle;\n",
       "    }\n",
       "\n",
       "    .dataframe tbody tr th {\n",
       "        vertical-align: top;\n",
       "    }\n",
       "\n",
       "    .dataframe thead th {\n",
       "        text-align: right;\n",
       "    }\n",
       "</style>\n",
       "<table border=\"1\" class=\"dataframe\">\n",
       "  <thead>\n",
       "    <tr style=\"text-align: right;\">\n",
       "      <th></th>\n",
       "      <th>product</th>\n",
       "      <th>pop_x</th>\n",
       "      <th>month_x</th>\n",
       "      <th>pop_y</th>\n",
       "      <th>month_y</th>\n",
       "    </tr>\n",
       "  </thead>\n",
       "  <tbody>\n",
       "    <tr>\n",
       "      <td>0</td>\n",
       "      <td>A</td>\n",
       "      <td>1</td>\n",
       "      <td>1</td>\n",
       "      <td>1</td>\n",
       "      <td>1</td>\n",
       "    </tr>\n",
       "    <tr>\n",
       "      <td>1</td>\n",
       "      <td>A</td>\n",
       "      <td>1</td>\n",
       "      <td>1</td>\n",
       "      <td>2</td>\n",
       "      <td>2</td>\n",
       "    </tr>\n",
       "    <tr>\n",
       "      <td>2</td>\n",
       "      <td>A</td>\n",
       "      <td>1</td>\n",
       "      <td>1</td>\n",
       "      <td>1</td>\n",
       "      <td>4</td>\n",
       "    </tr>\n",
       "    <tr>\n",
       "      <td>3</td>\n",
       "      <td>A</td>\n",
       "      <td>1</td>\n",
       "      <td>1</td>\n",
       "      <td>3</td>\n",
       "      <td>3</td>\n",
       "    </tr>\n",
       "    <tr>\n",
       "      <td>4</td>\n",
       "      <td>A</td>\n",
       "      <td>2</td>\n",
       "      <td>2</td>\n",
       "      <td>1</td>\n",
       "      <td>1</td>\n",
       "    </tr>\n",
       "    <tr>\n",
       "      <td>...</td>\n",
       "      <td>...</td>\n",
       "      <td>...</td>\n",
       "      <td>...</td>\n",
       "      <td>...</td>\n",
       "      <td>...</td>\n",
       "    </tr>\n",
       "    <tr>\n",
       "      <td>56</td>\n",
       "      <td>C</td>\n",
       "      <td>2</td>\n",
       "      <td>3</td>\n",
       "      <td>2</td>\n",
       "      <td>3</td>\n",
       "    </tr>\n",
       "    <tr>\n",
       "      <td>57</td>\n",
       "      <td>C</td>\n",
       "      <td>2</td>\n",
       "      <td>3</td>\n",
       "      <td>3</td>\n",
       "      <td>2</td>\n",
       "    </tr>\n",
       "    <tr>\n",
       "      <td>58</td>\n",
       "      <td>C</td>\n",
       "      <td>3</td>\n",
       "      <td>2</td>\n",
       "      <td>1</td>\n",
       "      <td>1</td>\n",
       "    </tr>\n",
       "    <tr>\n",
       "      <td>59</td>\n",
       "      <td>C</td>\n",
       "      <td>3</td>\n",
       "      <td>2</td>\n",
       "      <td>2</td>\n",
       "      <td>3</td>\n",
       "    </tr>\n",
       "    <tr>\n",
       "      <td>60</td>\n",
       "      <td>C</td>\n",
       "      <td>3</td>\n",
       "      <td>2</td>\n",
       "      <td>3</td>\n",
       "      <td>2</td>\n",
       "    </tr>\n",
       "  </tbody>\n",
       "</table>\n",
       "<p>61 rows × 5 columns</p>\n",
       "</div>"
      ],
      "text/plain": [
       "   product  pop_x  month_x  pop_y  month_y\n",
       "0        A      1        1      1        1\n",
       "1        A      1        1      2        2\n",
       "2        A      1        1      1        4\n",
       "3        A      1        1      3        3\n",
       "4        A      2        2      1        1\n",
       "..     ...    ...      ...    ...      ...\n",
       "56       C      2        3      2        3\n",
       "57       C      2        3      3        2\n",
       "58       C      3        2      1        1\n",
       "59       C      3        2      2        3\n",
       "60       C      3        2      3        2\n",
       "\n",
       "[61 rows x 5 columns]"
      ]
     },
     "execution_count": 5,
     "metadata": {},
     "output_type": "execute_result"
    }
   ],
   "source": [
    "data.merge(data, on='product',how='inner')"
   ]
  },
  {
   "cell_type": "code",
   "execution_count": 42,
   "metadata": {
    "scrolled": true
   },
   "outputs": [
    {
     "data": {
      "text/plain": [
       "[(0, 'A', 1, 1.0, 0, 'A', 1, 1.0),\n",
       " (0, 'A', 1, 1.0, 1, 'A', 2, 2.0),\n",
       " (0, 'A', 1, 1.0, 2, 'A', 1, 4.0),\n",
       " (0, 'A', 1, 1.0, 3, 'A', 3, 3.0),\n",
       " (1, 'A', 2, 2.0, 0, 'A', 1, 1.0),\n",
       " (1, 'A', 2, 2.0, 1, 'A', 2, 2.0),\n",
       " (1, 'A', 2, 2.0, 2, 'A', 1, 4.0),\n",
       " (1, 'A', 2, 2.0, 3, 'A', 3, 3.0),\n",
       " (2, 'A', 1, 4.0, 0, 'A', 1, 1.0),\n",
       " (2, 'A', 1, 4.0, 1, 'A', 2, 2.0),\n",
       " (2, 'A', 1, 4.0, 2, 'A', 1, 4.0),\n",
       " (2, 'A', 1, 4.0, 3, 'A', 3, 3.0),\n",
       " (3, 'A', 3, 3.0, 0, 'A', 1, 1.0),\n",
       " (3, 'A', 3, 3.0, 1, 'A', 2, 2.0),\n",
       " (3, 'A', 3, 3.0, 2, 'A', 1, 4.0),\n",
       " (3, 'A', 3, 3.0, 3, 'A', 3, 3.0),\n",
       " (4, 'B', 1, 1.0, 4, 'B', 1, 1.0),\n",
       " (4, 'B', 1, 1.0, 5, 'B', 2, 2.0),\n",
       " (4, 'B', 1, 1.0, 6, 'B', 3, 3.0),\n",
       " (4, 'B', 1, 1.0, 7, 'B', 4, 4.0),\n",
       " (4, 'B', 1, 1.0, 8, 'B', 3, 5.0),\n",
       " (4, 'B', 1, 1.0, 9, 'B', 4, 6.0),\n",
       " (5, 'B', 2, 2.0, 4, 'B', 1, 1.0),\n",
       " (5, 'B', 2, 2.0, 5, 'B', 2, 2.0),\n",
       " (5, 'B', 2, 2.0, 6, 'B', 3, 3.0),\n",
       " (5, 'B', 2, 2.0, 7, 'B', 4, 4.0),\n",
       " (5, 'B', 2, 2.0, 8, 'B', 3, 5.0),\n",
       " (5, 'B', 2, 2.0, 9, 'B', 4, 6.0),\n",
       " (6, 'B', 3, 3.0, 4, 'B', 1, 1.0),\n",
       " (6, 'B', 3, 3.0, 5, 'B', 2, 2.0),\n",
       " (6, 'B', 3, 3.0, 6, 'B', 3, 3.0),\n",
       " (6, 'B', 3, 3.0, 7, 'B', 4, 4.0),\n",
       " (6, 'B', 3, 3.0, 8, 'B', 3, 5.0),\n",
       " (6, 'B', 3, 3.0, 9, 'B', 4, 6.0),\n",
       " (7, 'B', 4, 4.0, 4, 'B', 1, 1.0),\n",
       " (7, 'B', 4, 4.0, 5, 'B', 2, 2.0),\n",
       " (7, 'B', 4, 4.0, 6, 'B', 3, 3.0),\n",
       " (7, 'B', 4, 4.0, 7, 'B', 4, 4.0),\n",
       " (7, 'B', 4, 4.0, 8, 'B', 3, 5.0),\n",
       " (7, 'B', 4, 4.0, 9, 'B', 4, 6.0),\n",
       " (8, 'B', 3, 5.0, 4, 'B', 1, 1.0),\n",
       " (8, 'B', 3, 5.0, 5, 'B', 2, 2.0),\n",
       " (8, 'B', 3, 5.0, 6, 'B', 3, 3.0),\n",
       " (8, 'B', 3, 5.0, 7, 'B', 4, 4.0),\n",
       " (8, 'B', 3, 5.0, 8, 'B', 3, 5.0),\n",
       " (8, 'B', 3, 5.0, 9, 'B', 4, 6.0),\n",
       " (9, 'B', 4, 6.0, 4, 'B', 1, 1.0),\n",
       " (9, 'B', 4, 6.0, 5, 'B', 2, 2.0),\n",
       " (9, 'B', 4, 6.0, 6, 'B', 3, 3.0),\n",
       " (9, 'B', 4, 6.0, 7, 'B', 4, 4.0),\n",
       " (9, 'B', 4, 6.0, 8, 'B', 3, 5.0),\n",
       " (9, 'B', 4, 6.0, 9, 'B', 4, 6.0),\n",
       " (10, 'C', 1, 1.0, 10, 'C', 1, 1.0),\n",
       " (10, 'C', 1, 1.0, 11, 'C', 2, 3.0),\n",
       " (10, 'C', 1, 1.0, 12, 'C', 3, None),\n",
       " (11, 'C', 2, 3.0, 10, 'C', 1, 1.0),\n",
       " (11, 'C', 2, 3.0, 11, 'C', 2, 3.0),\n",
       " (11, 'C', 2, 3.0, 12, 'C', 3, None),\n",
       " (12, 'C', 3, None, 10, 'C', 1, 1.0),\n",
       " (12, 'C', 3, None, 11, 'C', 2, 3.0),\n",
       " (12, 'C', 3, None, 12, 'C', 3, None)]"
      ]
     },
     "execution_count": 42,
     "metadata": {},
     "output_type": "execute_result"
    }
   ],
   "source": [
    "engine.execute('select * from data a left join data b on a.prod1=b.prod1' ).fetchall()"
   ]
  },
  {
   "cell_type": "code",
   "execution_count": null,
   "metadata": {},
   "outputs": [],
   "source": [
    "engine.execute('select * from data a inner join data b on a.prod1=b.prod1' ).fetchall()"
   ]
  },
  {
   "cell_type": "markdown",
   "metadata": {},
   "source": [
    "#### Union"
   ]
  },
  {
   "cell_type": "code",
   "execution_count": 6,
   "metadata": {
    "scrolled": true
   },
   "outputs": [
    {
     "data": {
      "text/html": [
       "<div>\n",
       "<style scoped>\n",
       "    .dataframe tbody tr th:only-of-type {\n",
       "        vertical-align: middle;\n",
       "    }\n",
       "\n",
       "    .dataframe tbody tr th {\n",
       "        vertical-align: top;\n",
       "    }\n",
       "\n",
       "    .dataframe thead th {\n",
       "        text-align: right;\n",
       "    }\n",
       "</style>\n",
       "<table border=\"1\" class=\"dataframe\">\n",
       "  <thead>\n",
       "    <tr style=\"text-align: right;\">\n",
       "      <th></th>\n",
       "      <th>product</th>\n",
       "      <th>pop</th>\n",
       "      <th>month</th>\n",
       "    </tr>\n",
       "  </thead>\n",
       "  <tbody>\n",
       "    <tr>\n",
       "      <td>0</td>\n",
       "      <td>A</td>\n",
       "      <td>1</td>\n",
       "      <td>1</td>\n",
       "    </tr>\n",
       "    <tr>\n",
       "      <td>1</td>\n",
       "      <td>A</td>\n",
       "      <td>2</td>\n",
       "      <td>2</td>\n",
       "    </tr>\n",
       "    <tr>\n",
       "      <td>2</td>\n",
       "      <td>A</td>\n",
       "      <td>1</td>\n",
       "      <td>4</td>\n",
       "    </tr>\n",
       "    <tr>\n",
       "      <td>3</td>\n",
       "      <td>A</td>\n",
       "      <td>3</td>\n",
       "      <td>3</td>\n",
       "    </tr>\n",
       "    <tr>\n",
       "      <td>4</td>\n",
       "      <td>B</td>\n",
       "      <td>1</td>\n",
       "      <td>1</td>\n",
       "    </tr>\n",
       "    <tr>\n",
       "      <td>5</td>\n",
       "      <td>B</td>\n",
       "      <td>2</td>\n",
       "      <td>2</td>\n",
       "    </tr>\n",
       "    <tr>\n",
       "      <td>6</td>\n",
       "      <td>B</td>\n",
       "      <td>3</td>\n",
       "      <td>3</td>\n",
       "    </tr>\n",
       "    <tr>\n",
       "      <td>7</td>\n",
       "      <td>B</td>\n",
       "      <td>4</td>\n",
       "      <td>4</td>\n",
       "    </tr>\n",
       "    <tr>\n",
       "      <td>8</td>\n",
       "      <td>B</td>\n",
       "      <td>3</td>\n",
       "      <td>5</td>\n",
       "    </tr>\n",
       "    <tr>\n",
       "      <td>9</td>\n",
       "      <td>B</td>\n",
       "      <td>4</td>\n",
       "      <td>6</td>\n",
       "    </tr>\n",
       "    <tr>\n",
       "      <td>10</td>\n",
       "      <td>C</td>\n",
       "      <td>1</td>\n",
       "      <td>1</td>\n",
       "    </tr>\n",
       "    <tr>\n",
       "      <td>11</td>\n",
       "      <td>C</td>\n",
       "      <td>2</td>\n",
       "      <td>3</td>\n",
       "    </tr>\n",
       "    <tr>\n",
       "      <td>12</td>\n",
       "      <td>C</td>\n",
       "      <td>3</td>\n",
       "      <td>2</td>\n",
       "    </tr>\n",
       "    <tr>\n",
       "      <td>13</td>\n",
       "      <td>A</td>\n",
       "      <td>1</td>\n",
       "      <td>1</td>\n",
       "    </tr>\n",
       "    <tr>\n",
       "      <td>14</td>\n",
       "      <td>A</td>\n",
       "      <td>2</td>\n",
       "      <td>2</td>\n",
       "    </tr>\n",
       "    <tr>\n",
       "      <td>15</td>\n",
       "      <td>A</td>\n",
       "      <td>1</td>\n",
       "      <td>4</td>\n",
       "    </tr>\n",
       "    <tr>\n",
       "      <td>16</td>\n",
       "      <td>A</td>\n",
       "      <td>3</td>\n",
       "      <td>3</td>\n",
       "    </tr>\n",
       "    <tr>\n",
       "      <td>17</td>\n",
       "      <td>B</td>\n",
       "      <td>1</td>\n",
       "      <td>1</td>\n",
       "    </tr>\n",
       "    <tr>\n",
       "      <td>18</td>\n",
       "      <td>B</td>\n",
       "      <td>2</td>\n",
       "      <td>2</td>\n",
       "    </tr>\n",
       "    <tr>\n",
       "      <td>19</td>\n",
       "      <td>B</td>\n",
       "      <td>3</td>\n",
       "      <td>3</td>\n",
       "    </tr>\n",
       "    <tr>\n",
       "      <td>20</td>\n",
       "      <td>B</td>\n",
       "      <td>4</td>\n",
       "      <td>4</td>\n",
       "    </tr>\n",
       "    <tr>\n",
       "      <td>21</td>\n",
       "      <td>B</td>\n",
       "      <td>3</td>\n",
       "      <td>5</td>\n",
       "    </tr>\n",
       "    <tr>\n",
       "      <td>22</td>\n",
       "      <td>B</td>\n",
       "      <td>4</td>\n",
       "      <td>6</td>\n",
       "    </tr>\n",
       "    <tr>\n",
       "      <td>23</td>\n",
       "      <td>C</td>\n",
       "      <td>1</td>\n",
       "      <td>1</td>\n",
       "    </tr>\n",
       "    <tr>\n",
       "      <td>24</td>\n",
       "      <td>C</td>\n",
       "      <td>2</td>\n",
       "      <td>3</td>\n",
       "    </tr>\n",
       "    <tr>\n",
       "      <td>25</td>\n",
       "      <td>C</td>\n",
       "      <td>3</td>\n",
       "      <td>2</td>\n",
       "    </tr>\n",
       "  </tbody>\n",
       "</table>\n",
       "</div>"
      ],
      "text/plain": [
       "   product  pop  month\n",
       "0        A    1      1\n",
       "1        A    2      2\n",
       "2        A    1      4\n",
       "3        A    3      3\n",
       "4        B    1      1\n",
       "5        B    2      2\n",
       "6        B    3      3\n",
       "7        B    4      4\n",
       "8        B    3      5\n",
       "9        B    4      6\n",
       "10       C    1      1\n",
       "11       C    2      3\n",
       "12       C    3      2\n",
       "13       A    1      1\n",
       "14       A    2      2\n",
       "15       A    1      4\n",
       "16       A    3      3\n",
       "17       B    1      1\n",
       "18       B    2      2\n",
       "19       B    3      3\n",
       "20       B    4      4\n",
       "21       B    3      5\n",
       "22       B    4      6\n",
       "23       C    1      1\n",
       "24       C    2      3\n",
       "25       C    3      2"
      ]
     },
     "execution_count": 6,
     "metadata": {},
     "output_type": "execute_result"
    }
   ],
   "source": [
    "pd.concat([data,data],ignore_index=True)"
   ]
  },
  {
   "cell_type": "code",
   "execution_count": 21,
   "metadata": {},
   "outputs": [
    {
     "data": {
      "text/plain": [
       "[(0, 'A', 1, 1.0),\n",
       " (1, 'A', 2, 2.0),\n",
       " (2, 'A', 1, 4.0),\n",
       " (3, 'A', 3, 3.0),\n",
       " (4, 'B', 1, 1.0),\n",
       " (5, 'B', 2, 2.0),\n",
       " (6, 'B', 3, 3.0),\n",
       " (7, 'B', 4, 4.0),\n",
       " (8, 'B', 3, 5.0),\n",
       " (9, 'B', 4, 6.0),\n",
       " (10, 'C', 1, 1.0),\n",
       " (11, 'C', 2, 3.0),\n",
       " (12, 'C', 3, None),\n",
       " (0, 'A', 1, 1.0),\n",
       " (1, 'A', 2, 2.0),\n",
       " (2, 'A', 1, 4.0),\n",
       " (3, 'A', 3, 3.0),\n",
       " (4, 'B', 1, 1.0),\n",
       " (5, 'B', 2, 2.0),\n",
       " (6, 'B', 3, 3.0),\n",
       " (7, 'B', 4, 4.0),\n",
       " (8, 'B', 3, 5.0),\n",
       " (9, 'B', 4, 6.0),\n",
       " (10, 'C', 1, 1.0),\n",
       " (11, 'C', 2, 3.0),\n",
       " (12, 'C', 3, None)]"
      ]
     },
     "execution_count": 21,
     "metadata": {},
     "output_type": "execute_result"
    }
   ],
   "source": [
    "engine.execute('select * from data a union all select * from data b').fetchall()"
   ]
  },
  {
   "cell_type": "code",
   "execution_count": 44,
   "metadata": {},
   "outputs": [
    {
     "data": {
      "text/plain": [
       "[(0, 'A', 1, 1.0),\n",
       " (1, 'A', 2, 2.0),\n",
       " (2, 'A', 1, 4.0),\n",
       " (3, 'A', 3, 3.0),\n",
       " (4, 'B', 1, 1.0),\n",
       " (5, 'B', 2, 2.0),\n",
       " (6, 'B', 3, 3.0),\n",
       " (7, 'B', 4, 4.0),\n",
       " (8, 'B', 3, 5.0),\n",
       " (9, 'B', 4, 6.0),\n",
       " (10, 'C', 1, 1.0),\n",
       " (11, 'C', 2, 3.0),\n",
       " (12, 'C', 3, None)]"
      ]
     },
     "execution_count": 44,
     "metadata": {},
     "output_type": "execute_result"
    }
   ],
   "source": [
    "engine.execute('select * from data a union select * from data b').fetchall()"
   ]
  },
  {
   "cell_type": "markdown",
   "metadata": {},
   "source": [
    "### 3. Misc."
   ]
  },
  {
   "cell_type": "markdown",
   "metadata": {},
   "source": [
    "#### Filtering"
   ]
  },
  {
   "cell_type": "code",
   "execution_count": 24,
   "metadata": {},
   "outputs": [
    {
     "data": {
      "text/html": [
       "<div>\n",
       "<style scoped>\n",
       "    .dataframe tbody tr th:only-of-type {\n",
       "        vertical-align: middle;\n",
       "    }\n",
       "\n",
       "    .dataframe tbody tr th {\n",
       "        vertical-align: top;\n",
       "    }\n",
       "\n",
       "    .dataframe thead th {\n",
       "        text-align: right;\n",
       "    }\n",
       "</style>\n",
       "<table border=\"1\" class=\"dataframe\">\n",
       "  <thead>\n",
       "    <tr style=\"text-align: right;\">\n",
       "      <th></th>\n",
       "      <th>product</th>\n",
       "      <th>pop</th>\n",
       "      <th>month</th>\n",
       "    </tr>\n",
       "  </thead>\n",
       "  <tbody>\n",
       "    <tr>\n",
       "      <td>0</td>\n",
       "      <td>A</td>\n",
       "      <td>1</td>\n",
       "      <td>1</td>\n",
       "    </tr>\n",
       "    <tr>\n",
       "      <td>4</td>\n",
       "      <td>B</td>\n",
       "      <td>1</td>\n",
       "      <td>1</td>\n",
       "    </tr>\n",
       "    <tr>\n",
       "      <td>10</td>\n",
       "      <td>C</td>\n",
       "      <td>1</td>\n",
       "      <td>1</td>\n",
       "    </tr>\n",
       "  </tbody>\n",
       "</table>\n",
       "</div>"
      ],
      "text/plain": [
       "   product  pop  month\n",
       "0        A    1      1\n",
       "4        B    1      1\n",
       "10       C    1      1"
      ]
     },
     "execution_count": 24,
     "metadata": {},
     "output_type": "execute_result"
    }
   ],
   "source": [
    "data[(data.month==1)]"
   ]
  },
  {
   "cell_type": "code",
   "execution_count": 23,
   "metadata": {},
   "outputs": [
    {
     "data": {
      "text/plain": [
       "[(0, 'A', 1, 1.0), (4, 'B', 1, 1.0), (10, 'C', 1, 1.0)]"
      ]
     },
     "execution_count": 23,
     "metadata": {},
     "output_type": "execute_result"
    }
   ],
   "source": [
    "engine.execute('select * from data where month==1').fetchall()"
   ]
  },
  {
   "cell_type": "markdown",
   "metadata": {},
   "source": [
    "#### Sorting"
   ]
  },
  {
   "cell_type": "code",
   "execution_count": 26,
   "metadata": {},
   "outputs": [
    {
     "data": {
      "text/html": [
       "<div>\n",
       "<style scoped>\n",
       "    .dataframe tbody tr th:only-of-type {\n",
       "        vertical-align: middle;\n",
       "    }\n",
       "\n",
       "    .dataframe tbody tr th {\n",
       "        vertical-align: top;\n",
       "    }\n",
       "\n",
       "    .dataframe thead th {\n",
       "        text-align: right;\n",
       "    }\n",
       "</style>\n",
       "<table border=\"1\" class=\"dataframe\">\n",
       "  <thead>\n",
       "    <tr style=\"text-align: right;\">\n",
       "      <th></th>\n",
       "      <th>product</th>\n",
       "      <th>pop</th>\n",
       "      <th>month</th>\n",
       "    </tr>\n",
       "  </thead>\n",
       "  <tbody>\n",
       "    <tr>\n",
       "      <td>0</td>\n",
       "      <td>A</td>\n",
       "      <td>1</td>\n",
       "      <td>1</td>\n",
       "    </tr>\n",
       "    <tr>\n",
       "      <td>1</td>\n",
       "      <td>A</td>\n",
       "      <td>2</td>\n",
       "      <td>2</td>\n",
       "    </tr>\n",
       "    <tr>\n",
       "      <td>3</td>\n",
       "      <td>A</td>\n",
       "      <td>3</td>\n",
       "      <td>3</td>\n",
       "    </tr>\n",
       "    <tr>\n",
       "      <td>2</td>\n",
       "      <td>A</td>\n",
       "      <td>1</td>\n",
       "      <td>4</td>\n",
       "    </tr>\n",
       "    <tr>\n",
       "      <td>4</td>\n",
       "      <td>B</td>\n",
       "      <td>1</td>\n",
       "      <td>1</td>\n",
       "    </tr>\n",
       "    <tr>\n",
       "      <td>5</td>\n",
       "      <td>B</td>\n",
       "      <td>2</td>\n",
       "      <td>2</td>\n",
       "    </tr>\n",
       "    <tr>\n",
       "      <td>6</td>\n",
       "      <td>B</td>\n",
       "      <td>3</td>\n",
       "      <td>3</td>\n",
       "    </tr>\n",
       "    <tr>\n",
       "      <td>7</td>\n",
       "      <td>B</td>\n",
       "      <td>4</td>\n",
       "      <td>4</td>\n",
       "    </tr>\n",
       "    <tr>\n",
       "      <td>8</td>\n",
       "      <td>B</td>\n",
       "      <td>3</td>\n",
       "      <td>5</td>\n",
       "    </tr>\n",
       "    <tr>\n",
       "      <td>9</td>\n",
       "      <td>B</td>\n",
       "      <td>4</td>\n",
       "      <td>6</td>\n",
       "    </tr>\n",
       "    <tr>\n",
       "      <td>10</td>\n",
       "      <td>C</td>\n",
       "      <td>1</td>\n",
       "      <td>1</td>\n",
       "    </tr>\n",
       "    <tr>\n",
       "      <td>12</td>\n",
       "      <td>C</td>\n",
       "      <td>3</td>\n",
       "      <td>2</td>\n",
       "    </tr>\n",
       "    <tr>\n",
       "      <td>11</td>\n",
       "      <td>C</td>\n",
       "      <td>2</td>\n",
       "      <td>3</td>\n",
       "    </tr>\n",
       "  </tbody>\n",
       "</table>\n",
       "</div>"
      ],
      "text/plain": [
       "   product  pop  month\n",
       "0        A    1      1\n",
       "1        A    2      2\n",
       "3        A    3      3\n",
       "2        A    1      4\n",
       "4        B    1      1\n",
       "5        B    2      2\n",
       "6        B    3      3\n",
       "7        B    4      4\n",
       "8        B    3      5\n",
       "9        B    4      6\n",
       "10       C    1      1\n",
       "12       C    3      2\n",
       "11       C    2      3"
      ]
     },
     "execution_count": 26,
     "metadata": {},
     "output_type": "execute_result"
    }
   ],
   "source": [
    "data.sort_values(['product','month'])"
   ]
  },
  {
   "cell_type": "code",
   "execution_count": 24,
   "metadata": {},
   "outputs": [
    {
     "data": {
      "text/plain": [
       "[(0, 'A', 1, 1.0),\n",
       " (1, 'A', 2, 2.0),\n",
       " (3, 'A', 3, 3.0),\n",
       " (2, 'A', 1, 4.0),\n",
       " (4, 'B', 1, 1.0),\n",
       " (5, 'B', 2, 2.0),\n",
       " (6, 'B', 3, 3.0),\n",
       " (7, 'B', 4, 4.0),\n",
       " (8, 'B', 3, 5.0),\n",
       " (9, 'B', 4, 6.0),\n",
       " (12, 'C', 3, None),\n",
       " (10, 'C', 1, 1.0),\n",
       " (11, 'C', 2, 3.0)]"
      ]
     },
     "execution_count": 24,
     "metadata": {},
     "output_type": "execute_result"
    }
   ],
   "source": [
    "engine.execute('select * from data order by prod1, month').fetchall()"
   ]
  },
  {
   "cell_type": "markdown",
   "metadata": {},
   "source": [
    "#### SQL Exists"
   ]
  },
  {
   "cell_type": "code",
   "execution_count": 55,
   "metadata": {},
   "outputs": [
    {
     "data": {
      "text/plain": [
       "[('A', 4.0),\n",
       " ('A', 3.0),\n",
       " ('B', 3.0),\n",
       " ('B', 4.0),\n",
       " ('B', 5.0),\n",
       " ('B', 6.0),\n",
       " ('C', 3.0)]"
      ]
     },
     "execution_count": 55,
     "metadata": {},
     "output_type": "execute_result"
    }
   ],
   "source": [
    "engine.execute(\"select prod1, month from data b where exists (select a.month from (select month from data c where c.month>2) a where a.month=b.month) \").fetchall()\n"
   ]
  },
  {
   "cell_type": "markdown",
   "metadata": {},
   "source": [
    "#### SQL Case"
   ]
  },
  {
   "cell_type": "code",
   "execution_count": 60,
   "metadata": {},
   "outputs": [
    {
     "data": {
      "text/plain": [
       "[('A', 1.0, 'Jan'),\n",
       " ('A', 2.0, 'Feb'),\n",
       " ('A', 4.0, 'other'),\n",
       " ('A', 3.0, 'other'),\n",
       " ('B', 1.0, 'Jan'),\n",
       " ('B', 2.0, 'Feb'),\n",
       " ('B', 3.0, 'other'),\n",
       " ('B', 4.0, 'other'),\n",
       " ('B', 5.0, 'other'),\n",
       " ('B', 6.0, 'other'),\n",
       " ('C', 1.0, 'Jan'),\n",
       " ('C', 3.0, 'other'),\n",
       " ('C', None, 'other')]"
      ]
     },
     "execution_count": 60,
     "metadata": {},
     "output_type": "execute_result"
    }
   ],
   "source": [
    "engine.execute('select prod1, month, case when month==1 then \"Jan\" when month==2 then \"Feb\" else \"other\" end as month_name from data').fetchall()"
   ]
  },
  {
   "cell_type": "markdown",
   "metadata": {},
   "source": [
    "#### SQL Like"
   ]
  },
  {
   "cell_type": "code",
   "execution_count": 66,
   "metadata": {},
   "outputs": [
    {
     "data": {
      "text/plain": [
       "[(0, 'A', 1, 1.0), (1, 'A', 2, 2.0), (2, 'A', 1, 4.0), (3, 'A', 3, 3.0)]"
      ]
     },
     "execution_count": 66,
     "metadata": {},
     "output_type": "execute_result"
    }
   ],
   "source": [
    "engine.execute('select * from data where prod1 like \"%A\"').fetchall()"
   ]
  },
  {
   "cell_type": "markdown",
   "metadata": {},
   "source": [
    "#### Return unique values"
   ]
  },
  {
   "cell_type": "code",
   "execution_count": 30,
   "metadata": {},
   "outputs": [
    {
     "data": {
      "text/plain": [
       "array([1, 2, 4, 3, 5, 6])"
      ]
     },
     "execution_count": 30,
     "metadata": {},
     "output_type": "execute_result"
    }
   ],
   "source": [
    "data.month.unique()"
   ]
  },
  {
   "cell_type": "code",
   "execution_count": 25,
   "metadata": {},
   "outputs": [
    {
     "data": {
      "text/plain": [
       "[(1.0,), (2.0,), (4.0,), (3.0,), (5.0,), (6.0,), (None,)]"
      ]
     },
     "execution_count": 25,
     "metadata": {},
     "output_type": "execute_result"
    }
   ],
   "source": [
    "engine.execute('select distinct(month) from data').fetchall()"
   ]
  },
  {
   "cell_type": "code",
   "execution_count": 31,
   "metadata": {},
   "outputs": [
    {
     "data": {
      "text/html": [
       "<div>\n",
       "<style scoped>\n",
       "    .dataframe tbody tr th:only-of-type {\n",
       "        vertical-align: middle;\n",
       "    }\n",
       "\n",
       "    .dataframe tbody tr th {\n",
       "        vertical-align: top;\n",
       "    }\n",
       "\n",
       "    .dataframe thead th {\n",
       "        text-align: right;\n",
       "    }\n",
       "</style>\n",
       "<table border=\"1\" class=\"dataframe\">\n",
       "  <thead>\n",
       "    <tr style=\"text-align: right;\">\n",
       "      <th></th>\n",
       "      <th>product</th>\n",
       "      <th>pop</th>\n",
       "      <th>month</th>\n",
       "    </tr>\n",
       "  </thead>\n",
       "  <tbody>\n",
       "    <tr>\n",
       "      <td>0</td>\n",
       "      <td>A</td>\n",
       "      <td>1</td>\n",
       "      <td>1</td>\n",
       "    </tr>\n",
       "    <tr>\n",
       "      <td>1</td>\n",
       "      <td>A</td>\n",
       "      <td>2</td>\n",
       "      <td>2</td>\n",
       "    </tr>\n",
       "    <tr>\n",
       "      <td>2</td>\n",
       "      <td>A</td>\n",
       "      <td>1</td>\n",
       "      <td>4</td>\n",
       "    </tr>\n",
       "    <tr>\n",
       "      <td>3</td>\n",
       "      <td>A</td>\n",
       "      <td>3</td>\n",
       "      <td>3</td>\n",
       "    </tr>\n",
       "    <tr>\n",
       "      <td>4</td>\n",
       "      <td>B</td>\n",
       "      <td>1</td>\n",
       "      <td>1</td>\n",
       "    </tr>\n",
       "    <tr>\n",
       "      <td>5</td>\n",
       "      <td>B</td>\n",
       "      <td>2</td>\n",
       "      <td>2</td>\n",
       "    </tr>\n",
       "    <tr>\n",
       "      <td>6</td>\n",
       "      <td>B</td>\n",
       "      <td>3</td>\n",
       "      <td>3</td>\n",
       "    </tr>\n",
       "    <tr>\n",
       "      <td>7</td>\n",
       "      <td>B</td>\n",
       "      <td>4</td>\n",
       "      <td>4</td>\n",
       "    </tr>\n",
       "    <tr>\n",
       "      <td>8</td>\n",
       "      <td>B</td>\n",
       "      <td>3</td>\n",
       "      <td>5</td>\n",
       "    </tr>\n",
       "    <tr>\n",
       "      <td>9</td>\n",
       "      <td>B</td>\n",
       "      <td>4</td>\n",
       "      <td>6</td>\n",
       "    </tr>\n",
       "    <tr>\n",
       "      <td>10</td>\n",
       "      <td>C</td>\n",
       "      <td>1</td>\n",
       "      <td>1</td>\n",
       "    </tr>\n",
       "    <tr>\n",
       "      <td>11</td>\n",
       "      <td>C</td>\n",
       "      <td>2</td>\n",
       "      <td>3</td>\n",
       "    </tr>\n",
       "    <tr>\n",
       "      <td>12</td>\n",
       "      <td>C</td>\n",
       "      <td>3</td>\n",
       "      <td>2</td>\n",
       "    </tr>\n",
       "  </tbody>\n",
       "</table>\n",
       "</div>"
      ],
      "text/plain": [
       "   product  pop  month\n",
       "0        A    1      1\n",
       "1        A    2      2\n",
       "2        A    1      4\n",
       "3        A    3      3\n",
       "4        B    1      1\n",
       "5        B    2      2\n",
       "6        B    3      3\n",
       "7        B    4      4\n",
       "8        B    3      5\n",
       "9        B    4      6\n",
       "10       C    1      1\n",
       "11       C    2      3\n",
       "12       C    3      2"
      ]
     },
     "execution_count": 31,
     "metadata": {},
     "output_type": "execute_result"
    }
   ],
   "source": [
    "data.drop_duplicates()"
   ]
  },
  {
   "cell_type": "code",
   "execution_count": 26,
   "metadata": {},
   "outputs": [
    {
     "data": {
      "text/plain": [
       "[(0, 'A', 1, 1.0),\n",
       " (2, 'A', 1, 4.0),\n",
       " (1, 'A', 2, 2.0),\n",
       " (3, 'A', 3, 3.0),\n",
       " (4, 'B', 1, 1.0),\n",
       " (5, 'B', 2, 2.0),\n",
       " (6, 'B', 3, 3.0),\n",
       " (8, 'B', 3, 5.0),\n",
       " (7, 'B', 4, 4.0),\n",
       " (9, 'B', 4, 6.0),\n",
       " (10, 'C', 1, 1.0),\n",
       " (11, 'C', 2, 3.0),\n",
       " (12, 'C', 3, None)]"
      ]
     },
     "execution_count": 26,
     "metadata": {},
     "output_type": "execute_result"
    }
   ],
   "source": [
    "engine.execute('select * from data group by prod1, pop1, month').fetchall()"
   ]
  },
  {
   "cell_type": "markdown",
   "metadata": {},
   "source": [
    "#### Na's"
   ]
  },
  {
   "cell_type": "code",
   "execution_count": 61,
   "metadata": {},
   "outputs": [
    {
     "data": {
      "text/html": [
       "<div>\n",
       "<style scoped>\n",
       "    .dataframe tbody tr th:only-of-type {\n",
       "        vertical-align: middle;\n",
       "    }\n",
       "\n",
       "    .dataframe tbody tr th {\n",
       "        vertical-align: top;\n",
       "    }\n",
       "\n",
       "    .dataframe thead th {\n",
       "        text-align: right;\n",
       "    }\n",
       "</style>\n",
       "<table border=\"1\" class=\"dataframe\">\n",
       "  <thead>\n",
       "    <tr style=\"text-align: right;\">\n",
       "      <th></th>\n",
       "      <th>prod1</th>\n",
       "      <th>pop1</th>\n",
       "      <th>month</th>\n",
       "      <th>diff_roll</th>\n",
       "    </tr>\n",
       "  </thead>\n",
       "  <tbody>\n",
       "    <tr>\n",
       "      <td>0</td>\n",
       "      <td>False</td>\n",
       "      <td>False</td>\n",
       "      <td>False</td>\n",
       "      <td>True</td>\n",
       "    </tr>\n",
       "    <tr>\n",
       "      <td>1</td>\n",
       "      <td>False</td>\n",
       "      <td>False</td>\n",
       "      <td>False</td>\n",
       "      <td>False</td>\n",
       "    </tr>\n",
       "    <tr>\n",
       "      <td>2</td>\n",
       "      <td>False</td>\n",
       "      <td>False</td>\n",
       "      <td>False</td>\n",
       "      <td>False</td>\n",
       "    </tr>\n",
       "    <tr>\n",
       "      <td>3</td>\n",
       "      <td>False</td>\n",
       "      <td>False</td>\n",
       "      <td>False</td>\n",
       "      <td>False</td>\n",
       "    </tr>\n",
       "    <tr>\n",
       "      <td>4</td>\n",
       "      <td>False</td>\n",
       "      <td>False</td>\n",
       "      <td>False</td>\n",
       "      <td>True</td>\n",
       "    </tr>\n",
       "    <tr>\n",
       "      <td>5</td>\n",
       "      <td>False</td>\n",
       "      <td>False</td>\n",
       "      <td>False</td>\n",
       "      <td>False</td>\n",
       "    </tr>\n",
       "    <tr>\n",
       "      <td>6</td>\n",
       "      <td>False</td>\n",
       "      <td>False</td>\n",
       "      <td>False</td>\n",
       "      <td>False</td>\n",
       "    </tr>\n",
       "    <tr>\n",
       "      <td>7</td>\n",
       "      <td>False</td>\n",
       "      <td>False</td>\n",
       "      <td>False</td>\n",
       "      <td>False</td>\n",
       "    </tr>\n",
       "    <tr>\n",
       "      <td>8</td>\n",
       "      <td>False</td>\n",
       "      <td>False</td>\n",
       "      <td>False</td>\n",
       "      <td>False</td>\n",
       "    </tr>\n",
       "    <tr>\n",
       "      <td>9</td>\n",
       "      <td>False</td>\n",
       "      <td>False</td>\n",
       "      <td>False</td>\n",
       "      <td>False</td>\n",
       "    </tr>\n",
       "    <tr>\n",
       "      <td>10</td>\n",
       "      <td>False</td>\n",
       "      <td>False</td>\n",
       "      <td>False</td>\n",
       "      <td>True</td>\n",
       "    </tr>\n",
       "    <tr>\n",
       "      <td>11</td>\n",
       "      <td>False</td>\n",
       "      <td>False</td>\n",
       "      <td>False</td>\n",
       "      <td>False</td>\n",
       "    </tr>\n",
       "    <tr>\n",
       "      <td>12</td>\n",
       "      <td>False</td>\n",
       "      <td>False</td>\n",
       "      <td>True</td>\n",
       "      <td>True</td>\n",
       "    </tr>\n",
       "  </tbody>\n",
       "</table>\n",
       "</div>"
      ],
      "text/plain": [
       "    prod1   pop1  month  diff_roll\n",
       "0   False  False  False       True\n",
       "1   False  False  False      False\n",
       "2   False  False  False      False\n",
       "3   False  False  False      False\n",
       "4   False  False  False       True\n",
       "5   False  False  False      False\n",
       "6   False  False  False      False\n",
       "7   False  False  False      False\n",
       "8   False  False  False      False\n",
       "9   False  False  False      False\n",
       "10  False  False  False       True\n",
       "11  False  False  False      False\n",
       "12  False  False   True       True"
      ]
     },
     "execution_count": 61,
     "metadata": {},
     "output_type": "execute_result"
    }
   ],
   "source": [
    "data.isna()"
   ]
  },
  {
   "cell_type": "code",
   "execution_count": 62,
   "metadata": {},
   "outputs": [
    {
     "data": {
      "text/plain": [
       "[(12, 'C', 3, None)]"
      ]
     },
     "execution_count": 62,
     "metadata": {},
     "output_type": "execute_result"
    }
   ],
   "source": [
    "engine.execute('select * from data where month is null').fetchall()"
   ]
  },
  {
   "cell_type": "code",
   "execution_count": 63,
   "metadata": {},
   "outputs": [
    {
     "data": {
      "text/plain": [
       "[('A', 0),\n",
       " ('A', 0),\n",
       " ('A', 0),\n",
       " ('A', 0),\n",
       " ('B', 0),\n",
       " ('B', 0),\n",
       " ('B', 0),\n",
       " ('B', 0),\n",
       " ('B', 0),\n",
       " ('B', 0),\n",
       " ('C', 0),\n",
       " ('C', 0),\n",
       " ('C', 1)]"
      ]
     },
     "execution_count": 63,
     "metadata": {},
     "output_type": "execute_result"
    }
   ],
   "source": [
    "engine.execute('select prod1, month is null from data').fetchall()"
   ]
  },
  {
   "cell_type": "code",
   "execution_count": 33,
   "metadata": {},
   "outputs": [
    {
     "data": {
      "text/html": [
       "<div>\n",
       "<style scoped>\n",
       "    .dataframe tbody tr th:only-of-type {\n",
       "        vertical-align: middle;\n",
       "    }\n",
       "\n",
       "    .dataframe tbody tr th {\n",
       "        vertical-align: top;\n",
       "    }\n",
       "\n",
       "    .dataframe thead th {\n",
       "        text-align: right;\n",
       "    }\n",
       "</style>\n",
       "<table border=\"1\" class=\"dataframe\">\n",
       "  <thead>\n",
       "    <tr style=\"text-align: right;\">\n",
       "      <th></th>\n",
       "      <th>product</th>\n",
       "      <th>pop</th>\n",
       "      <th>month</th>\n",
       "    </tr>\n",
       "  </thead>\n",
       "  <tbody>\n",
       "    <tr>\n",
       "      <td>0</td>\n",
       "      <td>A</td>\n",
       "      <td>1</td>\n",
       "      <td>1</td>\n",
       "    </tr>\n",
       "    <tr>\n",
       "      <td>1</td>\n",
       "      <td>A</td>\n",
       "      <td>2</td>\n",
       "      <td>2</td>\n",
       "    </tr>\n",
       "    <tr>\n",
       "      <td>2</td>\n",
       "      <td>A</td>\n",
       "      <td>1</td>\n",
       "      <td>4</td>\n",
       "    </tr>\n",
       "    <tr>\n",
       "      <td>3</td>\n",
       "      <td>A</td>\n",
       "      <td>3</td>\n",
       "      <td>3</td>\n",
       "    </tr>\n",
       "    <tr>\n",
       "      <td>4</td>\n",
       "      <td>B</td>\n",
       "      <td>1</td>\n",
       "      <td>1</td>\n",
       "    </tr>\n",
       "    <tr>\n",
       "      <td>5</td>\n",
       "      <td>B</td>\n",
       "      <td>2</td>\n",
       "      <td>2</td>\n",
       "    </tr>\n",
       "    <tr>\n",
       "      <td>6</td>\n",
       "      <td>B</td>\n",
       "      <td>3</td>\n",
       "      <td>3</td>\n",
       "    </tr>\n",
       "    <tr>\n",
       "      <td>7</td>\n",
       "      <td>B</td>\n",
       "      <td>4</td>\n",
       "      <td>4</td>\n",
       "    </tr>\n",
       "    <tr>\n",
       "      <td>8</td>\n",
       "      <td>B</td>\n",
       "      <td>3</td>\n",
       "      <td>5</td>\n",
       "    </tr>\n",
       "    <tr>\n",
       "      <td>9</td>\n",
       "      <td>B</td>\n",
       "      <td>4</td>\n",
       "      <td>6</td>\n",
       "    </tr>\n",
       "    <tr>\n",
       "      <td>10</td>\n",
       "      <td>C</td>\n",
       "      <td>1</td>\n",
       "      <td>1</td>\n",
       "    </tr>\n",
       "    <tr>\n",
       "      <td>11</td>\n",
       "      <td>C</td>\n",
       "      <td>2</td>\n",
       "      <td>3</td>\n",
       "    </tr>\n",
       "    <tr>\n",
       "      <td>12</td>\n",
       "      <td>C</td>\n",
       "      <td>3</td>\n",
       "      <td>2</td>\n",
       "    </tr>\n",
       "  </tbody>\n",
       "</table>\n",
       "</div>"
      ],
      "text/plain": [
       "   product  pop  month\n",
       "0        A    1      1\n",
       "1        A    2      2\n",
       "2        A    1      4\n",
       "3        A    3      3\n",
       "4        B    1      1\n",
       "5        B    2      2\n",
       "6        B    3      3\n",
       "7        B    4      4\n",
       "8        B    3      5\n",
       "9        B    4      6\n",
       "10       C    1      1\n",
       "11       C    2      3\n",
       "12       C    3      2"
      ]
     },
     "execution_count": 33,
     "metadata": {},
     "output_type": "execute_result"
    }
   ],
   "source": [
    "data.fillna({'month':1})"
   ]
  },
  {
   "cell_type": "code",
   "execution_count": 67,
   "metadata": {},
   "outputs": [
    {
     "data": {
      "text/plain": [
       "[(1, 'A', 1.0),\n",
       " (2, 'A', 2.0),\n",
       " (1, 'A', 4.0),\n",
       " (3, 'A', 3.0),\n",
       " (1, 'B', 1.0),\n",
       " (2, 'B', 2.0),\n",
       " (3, 'B', 3.0),\n",
       " (4, 'B', 4.0),\n",
       " (3, 'B', 5.0),\n",
       " (4, 'B', 6.0),\n",
       " (1, 'C', 1.0),\n",
       " (2, 'C', 3.0),\n",
       " (3, 'C', 0)]"
      ]
     },
     "execution_count": 67,
     "metadata": {},
     "output_type": "execute_result"
    }
   ],
   "source": [
    "engine.execute('select pop1, prod1, coalesce(month, 0) from data').fetchall()"
   ]
  },
  {
   "cell_type": "code",
   "execution_count": 30,
   "metadata": {},
   "outputs": [
    {
     "data": {
      "text/plain": [
       "[(1, 'A', 1.0),\n",
       " (2, 'A', 2.0),\n",
       " (1, 'A', 4.0),\n",
       " (3, 'A', 3.0),\n",
       " (1, 'B', 1.0),\n",
       " (2, 'B', 2.0),\n",
       " (3, 'B', 3.0),\n",
       " (4, 'B', 4.0),\n",
       " (3, 'B', 5.0),\n",
       " (4, 'B', 6.0),\n",
       " (1, 'C', 1.0),\n",
       " (2, 'C', 3.0),\n",
       " (3, 'C', 100)]"
      ]
     },
     "execution_count": 30,
     "metadata": {},
     "output_type": "execute_result"
    }
   ],
   "source": [
    "engine.execute('select pop1, prod1, case when month is null then 100 else month end as nulled_month from data').fetchall()"
   ]
  },
  {
   "cell_type": "markdown",
   "metadata": {},
   "source": [
    "#### Get the unique pop and month rows"
   ]
  },
  {
   "cell_type": "code",
   "execution_count": 228,
   "metadata": {},
   "outputs": [
    {
     "data": {
      "text/html": [
       "<div>\n",
       "<style scoped>\n",
       "    .dataframe tbody tr th:only-of-type {\n",
       "        vertical-align: middle;\n",
       "    }\n",
       "\n",
       "    .dataframe tbody tr th {\n",
       "        vertical-align: top;\n",
       "    }\n",
       "\n",
       "    .dataframe thead th {\n",
       "        text-align: right;\n",
       "    }\n",
       "</style>\n",
       "<table border=\"1\" class=\"dataframe\">\n",
       "  <thead>\n",
       "    <tr style=\"text-align: right;\">\n",
       "      <th></th>\n",
       "      <th>pop</th>\n",
       "      <th>month</th>\n",
       "    </tr>\n",
       "  </thead>\n",
       "  <tbody>\n",
       "    <tr>\n",
       "      <td>0</td>\n",
       "      <td>1</td>\n",
       "      <td>1</td>\n",
       "    </tr>\n",
       "    <tr>\n",
       "      <td>1</td>\n",
       "      <td>2</td>\n",
       "      <td>2</td>\n",
       "    </tr>\n",
       "    <tr>\n",
       "      <td>2</td>\n",
       "      <td>1</td>\n",
       "      <td>4</td>\n",
       "    </tr>\n",
       "    <tr>\n",
       "      <td>3</td>\n",
       "      <td>3</td>\n",
       "      <td>3</td>\n",
       "    </tr>\n",
       "    <tr>\n",
       "      <td>7</td>\n",
       "      <td>4</td>\n",
       "      <td>4</td>\n",
       "    </tr>\n",
       "    <tr>\n",
       "      <td>8</td>\n",
       "      <td>3</td>\n",
       "      <td>5</td>\n",
       "    </tr>\n",
       "    <tr>\n",
       "      <td>9</td>\n",
       "      <td>4</td>\n",
       "      <td>6</td>\n",
       "    </tr>\n",
       "    <tr>\n",
       "      <td>11</td>\n",
       "      <td>2</td>\n",
       "      <td>3</td>\n",
       "    </tr>\n",
       "    <tr>\n",
       "      <td>12</td>\n",
       "      <td>3</td>\n",
       "      <td>2</td>\n",
       "    </tr>\n",
       "  </tbody>\n",
       "</table>\n",
       "</div>"
      ],
      "text/plain": [
       "    pop  month\n",
       "0     1      1\n",
       "1     2      2\n",
       "2     1      4\n",
       "3     3      3\n",
       "7     4      4\n",
       "8     3      5\n",
       "9     4      6\n",
       "11    2      3\n",
       "12    3      2"
      ]
     },
     "execution_count": 228,
     "metadata": {},
     "output_type": "execute_result"
    }
   ],
   "source": [
    "data.loc[:,['pop','month']].drop_duplicates()"
   ]
  },
  {
   "cell_type": "markdown",
   "metadata": {},
   "source": [
    "#### Subtract value from columns"
   ]
  },
  {
   "cell_type": "code",
   "execution_count": 16,
   "metadata": {},
   "outputs": [
    {
     "data": {
      "text/html": [
       "<div>\n",
       "<style scoped>\n",
       "    .dataframe tbody tr th:only-of-type {\n",
       "        vertical-align: middle;\n",
       "    }\n",
       "\n",
       "    .dataframe tbody tr th {\n",
       "        vertical-align: top;\n",
       "    }\n",
       "\n",
       "    .dataframe thead th {\n",
       "        text-align: right;\n",
       "    }\n",
       "</style>\n",
       "<table border=\"1\" class=\"dataframe\">\n",
       "  <thead>\n",
       "    <tr style=\"text-align: right;\">\n",
       "      <th></th>\n",
       "      <th>pop1</th>\n",
       "      <th>month</th>\n",
       "    </tr>\n",
       "  </thead>\n",
       "  <tbody>\n",
       "    <tr>\n",
       "      <td>0</td>\n",
       "      <td>0</td>\n",
       "      <td>0</td>\n",
       "    </tr>\n",
       "    <tr>\n",
       "      <td>1</td>\n",
       "      <td>1</td>\n",
       "      <td>1</td>\n",
       "    </tr>\n",
       "    <tr>\n",
       "      <td>2</td>\n",
       "      <td>0</td>\n",
       "      <td>3</td>\n",
       "    </tr>\n",
       "    <tr>\n",
       "      <td>3</td>\n",
       "      <td>2</td>\n",
       "      <td>2</td>\n",
       "    </tr>\n",
       "    <tr>\n",
       "      <td>4</td>\n",
       "      <td>0</td>\n",
       "      <td>0</td>\n",
       "    </tr>\n",
       "    <tr>\n",
       "      <td>5</td>\n",
       "      <td>1</td>\n",
       "      <td>1</td>\n",
       "    </tr>\n",
       "    <tr>\n",
       "      <td>6</td>\n",
       "      <td>2</td>\n",
       "      <td>2</td>\n",
       "    </tr>\n",
       "    <tr>\n",
       "      <td>7</td>\n",
       "      <td>3</td>\n",
       "      <td>3</td>\n",
       "    </tr>\n",
       "    <tr>\n",
       "      <td>8</td>\n",
       "      <td>2</td>\n",
       "      <td>4</td>\n",
       "    </tr>\n",
       "    <tr>\n",
       "      <td>9</td>\n",
       "      <td>3</td>\n",
       "      <td>5</td>\n",
       "    </tr>\n",
       "    <tr>\n",
       "      <td>10</td>\n",
       "      <td>0</td>\n",
       "      <td>0</td>\n",
       "    </tr>\n",
       "    <tr>\n",
       "      <td>11</td>\n",
       "      <td>1</td>\n",
       "      <td>2</td>\n",
       "    </tr>\n",
       "    <tr>\n",
       "      <td>12</td>\n",
       "      <td>2</td>\n",
       "      <td>1</td>\n",
       "    </tr>\n",
       "  </tbody>\n",
       "</table>\n",
       "</div>"
      ],
      "text/plain": [
       "    pop1  month\n",
       "0      0      0\n",
       "1      1      1\n",
       "2      0      3\n",
       "3      2      2\n",
       "4      0      0\n",
       "5      1      1\n",
       "6      2      2\n",
       "7      3      3\n",
       "8      2      4\n",
       "9      3      5\n",
       "10     0      0\n",
       "11     1      2\n",
       "12     2      1"
      ]
     },
     "execution_count": 16,
     "metadata": {},
     "output_type": "execute_result"
    }
   ],
   "source": [
    "data.loc[:,['pop1','month']].sub([1,1],axis='columns')"
   ]
  },
  {
   "cell_type": "code",
   "execution_count": 31,
   "metadata": {},
   "outputs": [
    {
     "data": {
      "text/plain": [
       "[(1, 0.0),\n",
       " (2, 1.0),\n",
       " (1, 3.0),\n",
       " (3, 2.0),\n",
       " (1, 0.0),\n",
       " (2, 1.0),\n",
       " (3, 2.0),\n",
       " (4, 3.0),\n",
       " (3, 4.0),\n",
       " (4, 5.0),\n",
       " (1, 0.0),\n",
       " (2, 2.0),\n",
       " (3, None)]"
      ]
     },
     "execution_count": 31,
     "metadata": {},
     "output_type": "execute_result"
    }
   ],
   "source": [
    "engine.execute('select pop1, month - 1 from data').fetchall()"
   ]
  },
  {
   "cell_type": "code",
   "execution_count": 17,
   "metadata": {},
   "outputs": [
    {
     "data": {
      "text/html": [
       "<div>\n",
       "<style scoped>\n",
       "    .dataframe tbody tr th:only-of-type {\n",
       "        vertical-align: middle;\n",
       "    }\n",
       "\n",
       "    .dataframe tbody tr th {\n",
       "        vertical-align: top;\n",
       "    }\n",
       "\n",
       "    .dataframe thead th {\n",
       "        text-align: right;\n",
       "    }\n",
       "</style>\n",
       "<table border=\"1\" class=\"dataframe\">\n",
       "  <thead>\n",
       "    <tr style=\"text-align: right;\">\n",
       "      <th></th>\n",
       "      <th>pop1</th>\n",
       "      <th>month</th>\n",
       "    </tr>\n",
       "  </thead>\n",
       "  <tbody>\n",
       "    <tr>\n",
       "      <td>0</td>\n",
       "      <td>0.5</td>\n",
       "      <td>0.5</td>\n",
       "    </tr>\n",
       "    <tr>\n",
       "      <td>1</td>\n",
       "      <td>1.0</td>\n",
       "      <td>1.0</td>\n",
       "    </tr>\n",
       "    <tr>\n",
       "      <td>2</td>\n",
       "      <td>0.5</td>\n",
       "      <td>2.0</td>\n",
       "    </tr>\n",
       "    <tr>\n",
       "      <td>3</td>\n",
       "      <td>1.5</td>\n",
       "      <td>1.5</td>\n",
       "    </tr>\n",
       "    <tr>\n",
       "      <td>4</td>\n",
       "      <td>0.5</td>\n",
       "      <td>0.5</td>\n",
       "    </tr>\n",
       "    <tr>\n",
       "      <td>5</td>\n",
       "      <td>1.0</td>\n",
       "      <td>1.0</td>\n",
       "    </tr>\n",
       "    <tr>\n",
       "      <td>6</td>\n",
       "      <td>1.5</td>\n",
       "      <td>1.5</td>\n",
       "    </tr>\n",
       "    <tr>\n",
       "      <td>7</td>\n",
       "      <td>2.0</td>\n",
       "      <td>2.0</td>\n",
       "    </tr>\n",
       "    <tr>\n",
       "      <td>8</td>\n",
       "      <td>1.5</td>\n",
       "      <td>2.5</td>\n",
       "    </tr>\n",
       "    <tr>\n",
       "      <td>9</td>\n",
       "      <td>2.0</td>\n",
       "      <td>3.0</td>\n",
       "    </tr>\n",
       "    <tr>\n",
       "      <td>10</td>\n",
       "      <td>0.5</td>\n",
       "      <td>0.5</td>\n",
       "    </tr>\n",
       "    <tr>\n",
       "      <td>11</td>\n",
       "      <td>1.0</td>\n",
       "      <td>1.5</td>\n",
       "    </tr>\n",
       "    <tr>\n",
       "      <td>12</td>\n",
       "      <td>1.5</td>\n",
       "      <td>1.0</td>\n",
       "    </tr>\n",
       "  </tbody>\n",
       "</table>\n",
       "</div>"
      ],
      "text/plain": [
       "    pop1  month\n",
       "0    0.5    0.5\n",
       "1    1.0    1.0\n",
       "2    0.5    2.0\n",
       "3    1.5    1.5\n",
       "4    0.5    0.5\n",
       "5    1.0    1.0\n",
       "6    1.5    1.5\n",
       "7    2.0    2.0\n",
       "8    1.5    2.5\n",
       "9    2.0    3.0\n",
       "10   0.5    0.5\n",
       "11   1.0    1.5\n",
       "12   1.5    1.0"
      ]
     },
     "execution_count": 17,
     "metadata": {},
     "output_type": "execute_result"
    }
   ],
   "source": [
    "data.loc[:,['pop1','month']].div([2,2],axis='columns')"
   ]
  },
  {
   "cell_type": "markdown",
   "metadata": {},
   "source": [
    "#### Data explode"
   ]
  },
  {
   "cell_type": "code",
   "execution_count": 35,
   "metadata": {},
   "outputs": [],
   "source": [
    "data_explode = pd.DataFrame()\n",
    "data_explode['A'] = [(1,2,3),(4,5,6)]\n",
    "data_explode['B'] = ['hi','bi']"
   ]
  },
  {
   "cell_type": "code",
   "execution_count": 36,
   "metadata": {},
   "outputs": [
    {
     "data": {
      "text/html": [
       "<div>\n",
       "<style scoped>\n",
       "    .dataframe tbody tr th:only-of-type {\n",
       "        vertical-align: middle;\n",
       "    }\n",
       "\n",
       "    .dataframe tbody tr th {\n",
       "        vertical-align: top;\n",
       "    }\n",
       "\n",
       "    .dataframe thead th {\n",
       "        text-align: right;\n",
       "    }\n",
       "</style>\n",
       "<table border=\"1\" class=\"dataframe\">\n",
       "  <thead>\n",
       "    <tr style=\"text-align: right;\">\n",
       "      <th></th>\n",
       "      <th>A</th>\n",
       "      <th>B</th>\n",
       "    </tr>\n",
       "  </thead>\n",
       "  <tbody>\n",
       "    <tr>\n",
       "      <td>0</td>\n",
       "      <td>(1, 2, 3)</td>\n",
       "      <td>hi</td>\n",
       "    </tr>\n",
       "    <tr>\n",
       "      <td>1</td>\n",
       "      <td>(4, 5, 6)</td>\n",
       "      <td>bi</td>\n",
       "    </tr>\n",
       "  </tbody>\n",
       "</table>\n",
       "</div>"
      ],
      "text/plain": [
       "           A   B\n",
       "0  (1, 2, 3)  hi\n",
       "1  (4, 5, 6)  bi"
      ]
     },
     "execution_count": 36,
     "metadata": {},
     "output_type": "execute_result"
    }
   ],
   "source": [
    "data_explode"
   ]
  },
  {
   "cell_type": "code",
   "execution_count": 5,
   "metadata": {},
   "outputs": [
    {
     "data": {
      "text/html": [
       "<div>\n",
       "<style scoped>\n",
       "    .dataframe tbody tr th:only-of-type {\n",
       "        vertical-align: middle;\n",
       "    }\n",
       "\n",
       "    .dataframe tbody tr th {\n",
       "        vertical-align: top;\n",
       "    }\n",
       "\n",
       "    .dataframe thead th {\n",
       "        text-align: right;\n",
       "    }\n",
       "</style>\n",
       "<table border=\"1\" class=\"dataframe\">\n",
       "  <thead>\n",
       "    <tr style=\"text-align: right;\">\n",
       "      <th></th>\n",
       "      <th>A</th>\n",
       "      <th>B</th>\n",
       "    </tr>\n",
       "  </thead>\n",
       "  <tbody>\n",
       "    <tr>\n",
       "      <td>0</td>\n",
       "      <td>1</td>\n",
       "      <td>hi</td>\n",
       "    </tr>\n",
       "    <tr>\n",
       "      <td>0</td>\n",
       "      <td>2</td>\n",
       "      <td>hi</td>\n",
       "    </tr>\n",
       "    <tr>\n",
       "      <td>0</td>\n",
       "      <td>3</td>\n",
       "      <td>hi</td>\n",
       "    </tr>\n",
       "    <tr>\n",
       "      <td>1</td>\n",
       "      <td>4</td>\n",
       "      <td>bi</td>\n",
       "    </tr>\n",
       "    <tr>\n",
       "      <td>1</td>\n",
       "      <td>5</td>\n",
       "      <td>bi</td>\n",
       "    </tr>\n",
       "    <tr>\n",
       "      <td>1</td>\n",
       "      <td>6</td>\n",
       "      <td>bi</td>\n",
       "    </tr>\n",
       "  </tbody>\n",
       "</table>\n",
       "</div>"
      ],
      "text/plain": [
       "   A   B\n",
       "0  1  hi\n",
       "0  2  hi\n",
       "0  3  hi\n",
       "1  4  bi\n",
       "1  5  bi\n",
       "1  6  bi"
      ]
     },
     "execution_count": 5,
     "metadata": {},
     "output_type": "execute_result"
    }
   ],
   "source": [
    "data_explode.explode('A')"
   ]
  },
  {
   "cell_type": "code",
   "execution_count": 8,
   "metadata": {},
   "outputs": [
    {
     "data": {
      "text/html": [
       "<div>\n",
       "<style scoped>\n",
       "    .dataframe tbody tr th:only-of-type {\n",
       "        vertical-align: middle;\n",
       "    }\n",
       "\n",
       "    .dataframe tbody tr th {\n",
       "        vertical-align: top;\n",
       "    }\n",
       "\n",
       "    .dataframe thead th {\n",
       "        text-align: right;\n",
       "    }\n",
       "</style>\n",
       "<table border=\"1\" class=\"dataframe\">\n",
       "  <thead>\n",
       "    <tr style=\"text-align: right;\">\n",
       "      <th></th>\n",
       "      <th>A</th>\n",
       "    </tr>\n",
       "    <tr>\n",
       "      <th>B</th>\n",
       "      <th></th>\n",
       "    </tr>\n",
       "  </thead>\n",
       "  <tbody>\n",
       "    <tr>\n",
       "      <td>hi</td>\n",
       "      <td>[1, 2, 3]</td>\n",
       "    </tr>\n",
       "    <tr>\n",
       "      <td>bi</td>\n",
       "      <td>[4, 5, 6]</td>\n",
       "    </tr>\n",
       "  </tbody>\n",
       "</table>\n",
       "</div>"
      ],
      "text/plain": [
       "            A\n",
       "B            \n",
       "hi  [1, 2, 3]\n",
       "bi  [4, 5, 6]"
      ]
     },
     "execution_count": 8,
     "metadata": {},
     "output_type": "execute_result"
    }
   ],
   "source": [
    "data_explode.groupby('B', sort=False).agg({'A':lambda x: x.values})"
   ]
  },
  {
   "cell_type": "markdown",
   "metadata": {},
   "source": [
    "## Problems\n",
    "Email problems I've gone through: \n",
    "\n",
    "- 99 x\n",
    "- Number of current users\n",
    "- 83 x\n",
    "- 79 x\n",
    "- 75\n",
    "- 39 x\n",
    "- 38 x\n",
    "- 35 x\n",
    "\n",
    "\n",
    "- 32 x\n",
    "- 31 x\n",
    "- 30 x\n",
    "- 29 x\n",
    "- 28\n",
    "- 27 x\n",
    "\n",
    "\n",
    "\n",
    "- 21\n",
    "\n",
    "- 19\n",
    "- 18 x\n",
    "- 17\n",
    "- 16\n",
    "\n",
    "\n",
    "- 14: SQL streaming songs\n",
    "- 10: student attendance\n",
    "- 7: Bayes: prob of interview\n",
    "- 5: Employee results - sql\n",
    "- 1: Store sql"
   ]
  },
  {
   "cell_type": "markdown",
   "metadata": {},
   "source": [
    "#### Erik 99 - student attendance"
   ]
  },
  {
   "cell_type": "code",
   "execution_count": 17,
   "metadata": {},
   "outputs": [],
   "source": [
    "attendance = pd.DataFrame()\n",
    "attendance['id'] = [57510, 57509, 57508, 57507, 57506, 57505, 57504, 57503, 57501, 57500, 57499, 57498, 57497]\n",
    "attendance['status'] = ['Present','Present','Tardy','Absent','Present','Present','Present','Tardy','Absent','Present','Tardy','Absent','Present']\n",
    "\n",
    "grade = pd.DataFrame()\n",
    "grade['grade'] = [7,7,8,8,7,7,8,8,8,8,7,7,8]\n",
    "grade['id'] = [57510,57509,57508,57507,57506,57505,57504,57503,57501,57500,57499,57498,57497 ]"
   ]
  },
  {
   "cell_type": "code",
   "execution_count": 18,
   "metadata": {},
   "outputs": [],
   "source": [
    "attendance.to_sql('attendance', con=engine)\n",
    "grade.to_sql('grade', con=engine)"
   ]
  },
  {
   "cell_type": "code",
   "execution_count": 20,
   "metadata": {},
   "outputs": [
    {
     "data": {
      "text/plain": [
       "[(7, 0.33333333333333337), (8, 0.5714285714285714)]"
      ]
     },
     "execution_count": 20,
     "metadata": {},
     "output_type": "execute_result"
    }
   ],
   "source": [
    "engine.execute(\"\"\"\n",
    "\n",
    "WITH grade_join_attendance AS (\n",
    "    SELECT\n",
    "        attendance.status='Present' as present_true,\n",
    "        grade.grade as grade\n",
    "    FROM attendance\n",
    "    INNER JOIN grade\n",
    "        ON attendance.id=grade.id\n",
    ")\n",
    "\n",
    "\n",
    "SELECT\n",
    "    grade,\n",
    "    1 - AVG(present_true)\n",
    "FROM grade_join_attendance\n",
    "GROUP BY grade_join_attendance.grade\n",
    "\n",
    "\n",
    "\n",
    "\n",
    "\n",
    "\"\"\").fetchall()"
   ]
  },
  {
   "cell_type": "markdown",
   "metadata": {},
   "source": [
    "#### Number of retained users"
   ]
  },
  {
   "cell_type": "code",
   "execution_count": 25,
   "metadata": {},
   "outputs": [],
   "source": [
    "users = pd.DataFrame()\n",
    "users['id'] = [1,1,2,2,3,1,2,2,1,1,4]\n",
    "users['month'] = [1,1,1,1,1,2,2,2,3,3,3]"
   ]
  },
  {
   "cell_type": "code",
   "execution_count": 26,
   "metadata": {
    "scrolled": true
   },
   "outputs": [
    {
     "data": {
      "text/html": [
       "<div>\n",
       "<style scoped>\n",
       "    .dataframe tbody tr th:only-of-type {\n",
       "        vertical-align: middle;\n",
       "    }\n",
       "\n",
       "    .dataframe tbody tr th {\n",
       "        vertical-align: top;\n",
       "    }\n",
       "\n",
       "    .dataframe thead th {\n",
       "        text-align: right;\n",
       "    }\n",
       "</style>\n",
       "<table border=\"1\" class=\"dataframe\">\n",
       "  <thead>\n",
       "    <tr style=\"text-align: right;\">\n",
       "      <th></th>\n",
       "      <th>id</th>\n",
       "      <th>month</th>\n",
       "    </tr>\n",
       "  </thead>\n",
       "  <tbody>\n",
       "    <tr>\n",
       "      <th>0</th>\n",
       "      <td>1</td>\n",
       "      <td>1</td>\n",
       "    </tr>\n",
       "    <tr>\n",
       "      <th>1</th>\n",
       "      <td>1</td>\n",
       "      <td>1</td>\n",
       "    </tr>\n",
       "    <tr>\n",
       "      <th>2</th>\n",
       "      <td>2</td>\n",
       "      <td>1</td>\n",
       "    </tr>\n",
       "    <tr>\n",
       "      <th>3</th>\n",
       "      <td>2</td>\n",
       "      <td>1</td>\n",
       "    </tr>\n",
       "    <tr>\n",
       "      <th>4</th>\n",
       "      <td>3</td>\n",
       "      <td>1</td>\n",
       "    </tr>\n",
       "    <tr>\n",
       "      <th>5</th>\n",
       "      <td>1</td>\n",
       "      <td>2</td>\n",
       "    </tr>\n",
       "    <tr>\n",
       "      <th>6</th>\n",
       "      <td>2</td>\n",
       "      <td>2</td>\n",
       "    </tr>\n",
       "    <tr>\n",
       "      <th>7</th>\n",
       "      <td>2</td>\n",
       "      <td>2</td>\n",
       "    </tr>\n",
       "    <tr>\n",
       "      <th>8</th>\n",
       "      <td>1</td>\n",
       "      <td>3</td>\n",
       "    </tr>\n",
       "    <tr>\n",
       "      <th>9</th>\n",
       "      <td>1</td>\n",
       "      <td>3</td>\n",
       "    </tr>\n",
       "    <tr>\n",
       "      <th>10</th>\n",
       "      <td>4</td>\n",
       "      <td>3</td>\n",
       "    </tr>\n",
       "  </tbody>\n",
       "</table>\n",
       "</div>"
      ],
      "text/plain": [
       "    id  month\n",
       "0    1      1\n",
       "1    1      1\n",
       "2    2      1\n",
       "3    2      1\n",
       "4    3      1\n",
       "5    1      2\n",
       "6    2      2\n",
       "7    2      2\n",
       "8    1      3\n",
       "9    1      3\n",
       "10   4      3"
      ]
     },
     "execution_count": 26,
     "metadata": {},
     "output_type": "execute_result"
    }
   ],
   "source": [
    "users"
   ]
  },
  {
   "cell_type": "code",
   "execution_count": 27,
   "metadata": {},
   "outputs": [],
   "source": [
    "users.to_sql('users', con=engine)"
   ]
  },
  {
   "cell_type": "markdown",
   "metadata": {},
   "source": [
    "How many users were retained for each month from the previous month?"
   ]
  },
  {
   "cell_type": "code",
   "execution_count": 29,
   "metadata": {},
   "outputs": [
    {
     "data": {
      "text/plain": [
       "[(2, 2), (3, 1)]"
      ]
     },
     "execution_count": 29,
     "metadata": {},
     "output_type": "execute_result"
    }
   ],
   "source": [
    "engine.execute(\"\"\"\n",
    "\n",
    "SELECT\n",
    "    b.month,\n",
    "    COUNT(DISTINCT(b.id))\n",
    "FROM users a\n",
    "INNER JOIN users b\n",
    "    ON a.month=b.month-1 AND a.id=b.id\n",
    "GROUP BY b.month\n",
    "\n",
    "\"\"\").fetchall()"
   ]
  },
  {
   "cell_type": "code",
   "execution_count": 31,
   "metadata": {},
   "outputs": [
    {
     "data": {
      "text/plain": [
       "[(2, 2), (3, 1)]"
      ]
     },
     "execution_count": 31,
     "metadata": {},
     "output_type": "execute_result"
    }
   ],
   "source": [
    "engine.execute(\"\"\"\n",
    "WITH self_join AS (\n",
    "    SELECT\n",
    "      a.id as a_id,\n",
    "      b.id as b_id,\n",
    "      a.month as a_month,\n",
    "      b.month as b_month\n",
    "    FROM users1 a\n",
    "    INNER JOIN users1 b\n",
    "      ON a.month=b.month-1\n",
    "), group_self as (\n",
    "    SELECT\n",
    "      b_month,\n",
    "      COUNT(DISTINCT(b_id))\n",
    "    FROM self_join\n",
    "    WHERE self_join.a_id=self_join.b_id\n",
    "    GROUP BY b_month\n",
    ")\n",
    "\n",
    "SELECT *\n",
    "FROM group_self\n",
    "\"\"\").fetchall()\n",
    "\n",
    "\n",
    "\n",
    "\n",
    "\n",
    "# SELECT\n",
    "#   b_month,\n",
    "#   count(distinct(b_id))\n",
    "# FROM group_self\n",
    "# GROUP BY b_month"
   ]
  },
  {
   "cell_type": "markdown",
   "metadata": {},
   "source": [
    "How many users were lost from month to month? "
   ]
  },
  {
   "cell_type": "code",
   "execution_count": 35,
   "metadata": {},
   "outputs": [
    {
     "data": {
      "text/plain": [
       "[(1, 1), (2, 1), (3, 2)]"
      ]
     },
     "execution_count": 35,
     "metadata": {},
     "output_type": "execute_result"
    }
   ],
   "source": [
    "engine.execute(\"\"\"\n",
    "\n",
    "WITH distinct_user_month AS(\n",
    "    SELECT\n",
    "    *\n",
    "    FROM users\n",
    "    GROUP BY users.id, users.month\n",
    "\n",
    ")\n",
    "\n",
    "SELECT\n",
    "    a.month,\n",
    "    SUM(b.month IS NULL)\n",
    "FROM distinct_user_month a\n",
    "LEFT JOIN distinct_user_month b\n",
    "    ON a.month=b.month - 1 AND a.id=b.id\n",
    "GROUP BY a.month\n",
    "\n",
    "\"\"\").fetchall()"
   ]
  },
  {
   "cell_type": "code",
   "execution_count": 43,
   "metadata": {},
   "outputs": [
    {
     "data": {
      "text/plain": [
       "[(1, 1), (2, 1), (3, 2)]"
      ]
     },
     "execution_count": 43,
     "metadata": {},
     "output_type": "execute_result"
    }
   ],
   "source": [
    "engine.execute(\"\"\"\n",
    "\n",
    "WITH deduped AS(\n",
    "SELECT \n",
    "  id,\n",
    "  month\n",
    "FROM users1\n",
    "GROUP BY users1.id, users1.month\n",
    "), left_join AS (\n",
    "\n",
    "SELECT \n",
    "  a.id as a_id,\n",
    "  a.month as a_month,\n",
    "  b.id as b_id,\n",
    "  b.month as b_month\n",
    "FROM deduped a\n",
    "LEFT JOIN deduped b\n",
    "  ON a.id=b.id\n",
    "    AND a.month=b.month-1\n",
    ")\n",
    "\n",
    "SELECT \n",
    "  a_month,\n",
    "  COUNT(DISTINCT(left_join.a_id))\n",
    "FROM left_join\n",
    "WHERE left_join.b_id IS NULL\n",
    "GROUP BY left_join.a_month\n",
    "\n",
    "\n",
    "\"\"\").fetchall()\n",
    "\n"
   ]
  },
  {
   "cell_type": "markdown",
   "metadata": {},
   "source": [
    "#### Email question 83"
   ]
  },
  {
   "cell_type": "code",
   "execution_count": 3,
   "metadata": {},
   "outputs": [
    {
     "data": {
      "text/html": [
       "<div>\n",
       "<style scoped>\n",
       "    .dataframe tbody tr th:only-of-type {\n",
       "        vertical-align: middle;\n",
       "    }\n",
       "\n",
       "    .dataframe tbody tr th {\n",
       "        vertical-align: top;\n",
       "    }\n",
       "\n",
       "    .dataframe thead th {\n",
       "        text-align: right;\n",
       "    }\n",
       "</style>\n",
       "<table border=\"1\" class=\"dataframe\">\n",
       "  <thead>\n",
       "    <tr style=\"text-align: right;\">\n",
       "      <th></th>\n",
       "      <th>name</th>\n",
       "      <th>job_role</th>\n",
       "    </tr>\n",
       "  </thead>\n",
       "  <tbody>\n",
       "    <tr>\n",
       "      <td>0</td>\n",
       "      <td>John</td>\n",
       "      <td>Analyst</td>\n",
       "    </tr>\n",
       "    <tr>\n",
       "      <td>1</td>\n",
       "      <td>Harry</td>\n",
       "      <td>Administrative</td>\n",
       "    </tr>\n",
       "    <tr>\n",
       "      <td>2</td>\n",
       "      <td>Sam</td>\n",
       "      <td>Software</td>\n",
       "    </tr>\n",
       "    <tr>\n",
       "      <td>3</td>\n",
       "      <td>Tina</td>\n",
       "      <td>Analyst</td>\n",
       "    </tr>\n",
       "  </tbody>\n",
       "</table>\n",
       "</div>"
      ],
      "text/plain": [
       "    name        job_role\n",
       "0   John         Analyst\n",
       "1  Harry  Administrative\n",
       "2    Sam        Software\n",
       "3   Tina         Analyst"
      ]
     },
     "execution_count": 3,
     "metadata": {},
     "output_type": "execute_result"
    }
   ],
   "source": [
    "jobs = pd.DataFrame()\n",
    "jobs['name'] = ['John','Harry','Sam','Tina']\n",
    "jobs['job_role'] = ['Analyst','Administrative','Software','Analyst']\n"
   ]
  },
  {
   "cell_type": "code",
   "execution_count": 4,
   "metadata": {},
   "outputs": [],
   "source": [
    "jobs.to_sql('jobs',con=engine)"
   ]
  },
  {
   "cell_type": "code",
   "execution_count": 9,
   "metadata": {},
   "outputs": [
    {
     "data": {
      "text/plain": [
       "[(1, 'Harry', 'Administrative'),\n",
       " (2, 'Sam', 'Software'),\n",
       " (3, 'Tina', 'Analyst')]"
      ]
     },
     "execution_count": 9,
     "metadata": {},
     "output_type": "execute_result"
    }
   ],
   "source": [
    "engine.execute('select * from jobs where name like \"%a%\"').fetchall()"
   ]
  },
  {
   "cell_type": "markdown",
   "metadata": {},
   "source": [
    "#### Email question 79"
   ]
  },
  {
   "cell_type": "code",
   "execution_count": 36,
   "metadata": {},
   "outputs": [],
   "source": [
    "log_activity = pd.DataFrame()\n",
    "log_activity['user_id'] = [1,1,2, 2,3]\n",
    "log_activity['date'] = [360,300,350,400,100]"
   ]
  },
  {
   "cell_type": "code",
   "execution_count": 37,
   "metadata": {},
   "outputs": [],
   "source": [
    "log_activity.to_sql('log_1', con=engine)"
   ]
  },
  {
   "cell_type": "code",
   "execution_count": 9,
   "metadata": {},
   "outputs": [
    {
     "data": {
      "text/plain": [
       "[(1, 40), (3, 300)]"
      ]
     },
     "execution_count": 9,
     "metadata": {},
     "output_type": "execute_result"
    }
   ],
   "source": [
    "engine.execute(\"\"\"\n",
    "\n",
    "WITH grouped_user as(\n",
    "  SELECT\n",
    "    user_id,\n",
    "    max(log_1.date) as max_date\n",
    "  FROM log_1\n",
    "  GROUP BY log_1.user_id\n",
    ")\n",
    "\n",
    "\n",
    "SELECT\n",
    "  user_id,\n",
    "  400 - max_date as since_last_login\n",
    "FROM grouped_user\n",
    "WHERE grouped_user.max_date<370\n",
    "\n",
    "\n",
    "\n",
    "\"\"\").fetchall()"
   ]
  },
  {
   "cell_type": "code",
   "execution_count": 55,
   "metadata": {},
   "outputs": [
    {
     "data": {
      "text/plain": [
       "[(4, 3, 100)]"
      ]
     },
     "execution_count": 55,
     "metadata": {},
     "output_type": "execute_result"
    }
   ],
   "source": [
    "engine.execute('select * from log_1 b where not exists (select distinct(a.user_id) from log_1 a where a.date>340 and b.user_id=a.user_id)').fetchall()\n"
   ]
  },
  {
   "cell_type": "code",
   "execution_count": 58,
   "metadata": {},
   "outputs": [
    {
     "data": {
      "text/plain": [
       "[(0, 1, 360, 1, 1),\n",
       " (1, 1, 300, 1, 1),\n",
       " (2, 2, 350, 2, 1),\n",
       " (3, 2, 400, 2, 1),\n",
       " (4, 3, 100, None, None)]"
      ]
     },
     "execution_count": 58,
     "metadata": {},
     "output_type": "execute_result"
    }
   ],
   "source": [
    "engine.execute('select * from log_1 a left join (select distinct(a.user_id), 1 as dude from log_1 a where a.date>340) b on a.user_id=b.user_id ').fetchall()\n",
    "\n"
   ]
  },
  {
   "cell_type": "markdown",
   "metadata": {},
   "source": [
    "#### Email question 75"
   ]
  },
  {
   "cell_type": "code",
   "execution_count": 38,
   "metadata": {},
   "outputs": [],
   "source": [
    "twitch = pd.DataFrame()\n",
    "twitch['creator_id'] = [1,1,1,1,2,2,2,2,3,3]\n",
    "twitch['viewer_id'] = [10,10,11,11,12,12,12,13,11,11]\n",
    "twitch['session_id'] = range(10)\n",
    "twitch['donation_amt'] = [100,100,200,200,300,100,100,200,400,500]"
   ]
  },
  {
   "cell_type": "code",
   "execution_count": 39,
   "metadata": {},
   "outputs": [],
   "source": [
    "twitch.to_sql('twitch',con=engine)"
   ]
  },
  {
   "cell_type": "code",
   "execution_count": 12,
   "metadata": {},
   "outputs": [
    {
     "data": {
      "text/plain": [
       "[(3, 450.0), (2, 175.0), (1, 150.0)]"
      ]
     },
     "execution_count": 12,
     "metadata": {},
     "output_type": "execute_result"
    }
   ],
   "source": [
    "engine.execute(\"\"\"\n",
    "\n",
    "SELECT\n",
    "  creator_id,\n",
    "  avg(donation_amt) as don_amt\n",
    "FROM twitch\n",
    "GROUP BY creator_id\n",
    "ORDER BY don_amt desc\n",
    "limit 10\n",
    "\n",
    "\n",
    "\"\"\").fetchall()"
   ]
  },
  {
   "cell_type": "code",
   "execution_count": 8,
   "metadata": {},
   "outputs": [
    {
     "data": {
      "text/plain": [
       "[(3, 900.0), (2, 350.0), (1, 300.0)]"
      ]
     },
     "execution_count": 8,
     "metadata": {},
     "output_type": "execute_result"
    }
   ],
   "source": [
    "engine.execute('select creator_id, avg(amt) as avg_amt from (select creator_id, viewer_id, sum(donation_amt) as amt from twitch group by creator_id, viewer_id) group by creator_id order by avg_amt desc').fetchall()\n",
    "\n",
    "\n"
   ]
  },
  {
   "cell_type": "code",
   "execution_count": 9,
   "metadata": {},
   "outputs": [],
   "source": [
    "sum_grouped = twitch.groupby(['creator_id','viewer_id']).agg({'donation_amt':'sum'}).reset_index()"
   ]
  },
  {
   "cell_type": "code",
   "execution_count": 12,
   "metadata": {},
   "outputs": [
    {
     "data": {
      "text/html": [
       "<div>\n",
       "<style scoped>\n",
       "    .dataframe tbody tr th:only-of-type {\n",
       "        vertical-align: middle;\n",
       "    }\n",
       "\n",
       "    .dataframe tbody tr th {\n",
       "        vertical-align: top;\n",
       "    }\n",
       "\n",
       "    .dataframe thead th {\n",
       "        text-align: right;\n",
       "    }\n",
       "</style>\n",
       "<table border=\"1\" class=\"dataframe\">\n",
       "  <thead>\n",
       "    <tr style=\"text-align: right;\">\n",
       "      <th></th>\n",
       "      <th>creator_id</th>\n",
       "      <th>donation_amt</th>\n",
       "    </tr>\n",
       "  </thead>\n",
       "  <tbody>\n",
       "    <tr>\n",
       "      <td>2</td>\n",
       "      <td>3</td>\n",
       "      <td>900</td>\n",
       "    </tr>\n",
       "    <tr>\n",
       "      <td>1</td>\n",
       "      <td>2</td>\n",
       "      <td>350</td>\n",
       "    </tr>\n",
       "    <tr>\n",
       "      <td>0</td>\n",
       "      <td>1</td>\n",
       "      <td>300</td>\n",
       "    </tr>\n",
       "  </tbody>\n",
       "</table>\n",
       "</div>"
      ],
      "text/plain": [
       "   creator_id  donation_amt\n",
       "2           3           900\n",
       "1           2           350\n",
       "0           1           300"
      ]
     },
     "execution_count": 12,
     "metadata": {},
     "output_type": "execute_result"
    }
   ],
   "source": [
    "sum_grouped.groupby('creator_id').agg({'donation_amt':'mean'}).reset_index().sort_values('donation_amt',ascending=False)"
   ]
  },
  {
   "cell_type": "markdown",
   "metadata": {},
   "source": [
    "#### Email question 71"
   ]
  },
  {
   "cell_type": "code",
   "execution_count": 15,
   "metadata": {},
   "outputs": [],
   "source": [
    "emp_rev = pd.DataFrame()\n",
    "emp_rev['emp_id'] = [1,2,3,4,5,6]\n",
    "emp_rev['pa'] = ['A','A','B','B','C','C']\n",
    "\n",
    "rev = pd.DataFrame()\n",
    "rev['date'] = [2017,2017, 2017, 2017, 2017, 2018, 2018]\n",
    "rev['pa'] = ['A','A','B','B','C','C','C']\n",
    "rev['rev'] = [100,150,200,200,300,100,100]"
   ]
  },
  {
   "cell_type": "code",
   "execution_count": 16,
   "metadata": {},
   "outputs": [],
   "source": [
    "emp_rev.to_sql('emp_rev', con=engine)\n",
    "rev.to_sql('rev',con=engine)"
   ]
  },
  {
   "cell_type": "code",
   "execution_count": 19,
   "metadata": {},
   "outputs": [
    {
     "data": {
      "text/plain": [
       "[('A', 125.0), ('B', 200.0), ('C', 150.0)]"
      ]
     },
     "execution_count": 19,
     "metadata": {},
     "output_type": "execute_result"
    }
   ],
   "source": [
    "engine.execute(\"\"\"\n",
    "WITH rev_2017 as(\n",
    "  SELECT\n",
    "    pa,\n",
    "    sum(rev) as total_rev\n",
    "  FROM rev\n",
    "  WHERE date=2017\n",
    "  GROUP BY pa\n",
    "), emp_count as(\n",
    "  SELECT\n",
    "    pa,\n",
    "    count(distinct(emp_id)) as num_emp_id\n",
    "  FROM emp_rev\n",
    "  GROUP BY pa\n",
    ")\n",
    "\n",
    "SELECT\n",
    "  emp_count.pa as pa,\n",
    "  total_rev*1.0/num_emp_id as per_emp\n",
    "FROM rev_2017\n",
    "INNER JOIN emp_count\n",
    "  ON rev_2017.pa=emp_count.pa\n",
    "\n",
    "\"\"\").fetchall()"
   ]
  },
  {
   "cell_type": "code",
   "execution_count": 21,
   "metadata": {},
   "outputs": [
    {
     "data": {
      "text/plain": [
       "[('A', 125), ('B', 200), ('C', 150)]"
      ]
     },
     "execution_count": 21,
     "metadata": {},
     "output_type": "execute_result"
    }
   ],
   "source": [
    "engine.execute('select a.pa, b.total_rev/a.emp_count from (select pa, count(distinct(emp_id)) as emp_count from emp_rev group by pa) a inner join (select pa, sum(rev) as total_rev from rev where date=2017 group by pa) b on a.pa=b.pa').fetchall()\n"
   ]
  },
  {
   "cell_type": "markdown",
   "metadata": {},
   "source": [
    "#### Email question 39"
   ]
  },
  {
   "cell_type": "code",
   "execution_count": 68,
   "metadata": {},
   "outputs": [],
   "source": [
    "orders = pd.DataFrame()\n",
    "orders['order_id'] = [1,2,3,4,5,6,7]\n",
    "orders['month'] = [9,9,10,10,11,8,8]\n",
    "orders['revenue'] = [100.,125.,200.,80.,200.,90.,100.]"
   ]
  },
  {
   "cell_type": "code",
   "execution_count": 69,
   "metadata": {},
   "outputs": [],
   "source": [
    "orders.to_sql('orders',con=engine)"
   ]
  },
  {
   "cell_type": "code",
   "execution_count": 62,
   "metadata": {},
   "outputs": [
    {
     "data": {
      "text/plain": [
       "[(8, None),\n",
       " (9, 0.18421052631578946),\n",
       " (10, 0.24444444444444444),\n",
       " (11, -0.2857142857142857)]"
      ]
     },
     "execution_count": 62,
     "metadata": {},
     "output_type": "execute_result"
    }
   ],
   "source": [
    "engine.execute('select a.month, (a.rev - lag(a.rev, 1)  over ())*1.0/(lag(a.rev,1) over ())*1.0  from (select month, sum(revenue) as rev from orders group by month) a ').fetchall()\n"
   ]
  },
  {
   "cell_type": "code",
   "execution_count": 65,
   "metadata": {},
   "outputs": [
    {
     "name": "stderr",
     "output_type": "stream",
     "text": [
      "/Users/magoodwi/MyStuff/Education/DataScienceToolkit/DataScienceCode/ds_python_37/lib/python3.7/site-packages/ipykernel_launcher.py:3: FutureWarning: Currently, 'apply' passes the values as ndarrays to the applied function. In the future, this will change to passing it as Series objects. You need to specify 'raw=True' to keep the current behaviour, and you can pass 'raw=False' to silence this warning\n",
      "  This is separate from the ipykernel package so we can avoid doing imports until\n"
     ]
    }
   ],
   "source": [
    "orders_grouped = orders.groupby('month').agg({'revenue':'sum'}).reset_index()\n",
    "orders_grouped.sort_values('month',inplace=True, ascending=True)\n",
    "orders_grouped['rev_growth'] = orders_grouped.revenue.rolling(2).apply(lambda x: (x[1] - x[0])/x[0]).values"
   ]
  },
  {
   "cell_type": "code",
   "execution_count": 66,
   "metadata": {},
   "outputs": [
    {
     "data": {
      "text/html": [
       "<div>\n",
       "<style scoped>\n",
       "    .dataframe tbody tr th:only-of-type {\n",
       "        vertical-align: middle;\n",
       "    }\n",
       "\n",
       "    .dataframe tbody tr th {\n",
       "        vertical-align: top;\n",
       "    }\n",
       "\n",
       "    .dataframe thead th {\n",
       "        text-align: right;\n",
       "    }\n",
       "</style>\n",
       "<table border=\"1\" class=\"dataframe\">\n",
       "  <thead>\n",
       "    <tr style=\"text-align: right;\">\n",
       "      <th></th>\n",
       "      <th>month</th>\n",
       "      <th>revenue</th>\n",
       "      <th>rev_growth</th>\n",
       "    </tr>\n",
       "  </thead>\n",
       "  <tbody>\n",
       "    <tr>\n",
       "      <td>0</td>\n",
       "      <td>8</td>\n",
       "      <td>190.0</td>\n",
       "      <td>NaN</td>\n",
       "    </tr>\n",
       "    <tr>\n",
       "      <td>1</td>\n",
       "      <td>9</td>\n",
       "      <td>225.0</td>\n",
       "      <td>0.184211</td>\n",
       "    </tr>\n",
       "    <tr>\n",
       "      <td>2</td>\n",
       "      <td>10</td>\n",
       "      <td>280.0</td>\n",
       "      <td>0.244444</td>\n",
       "    </tr>\n",
       "    <tr>\n",
       "      <td>3</td>\n",
       "      <td>11</td>\n",
       "      <td>200.0</td>\n",
       "      <td>-0.285714</td>\n",
       "    </tr>\n",
       "  </tbody>\n",
       "</table>\n",
       "</div>"
      ],
      "text/plain": [
       "   month  revenue  rev_growth\n",
       "0      8    190.0         NaN\n",
       "1      9    225.0    0.184211\n",
       "2     10    280.0    0.244444\n",
       "3     11    200.0   -0.285714"
      ]
     },
     "execution_count": 66,
     "metadata": {},
     "output_type": "execute_result"
    }
   ],
   "source": [
    "orders_grouped"
   ]
  },
  {
   "cell_type": "markdown",
   "metadata": {},
   "source": [
    "#### Email question 38"
   ]
  },
  {
   "cell_type": "code",
   "execution_count": 40,
   "metadata": {},
   "outputs": [],
   "source": [
    "baby_names = pd.read_csv(\"https://raw.githubusercontent.com/erood/interviewqs.com_code_snippets/master/Datasets/ddi_baby_names.csv\")\n"
   ]
  },
  {
   "cell_type": "code",
   "execution_count": 41,
   "metadata": {},
   "outputs": [],
   "source": [
    "baby_names.to_sql('baby',con=engine)"
   ]
  },
  {
   "cell_type": "code",
   "execution_count": 76,
   "metadata": {},
   "outputs": [
    {
     "data": {
      "text/html": [
       "<div>\n",
       "<style scoped>\n",
       "    .dataframe tbody tr th:only-of-type {\n",
       "        vertical-align: middle;\n",
       "    }\n",
       "\n",
       "    .dataframe tbody tr th {\n",
       "        vertical-align: top;\n",
       "    }\n",
       "\n",
       "    .dataframe thead th {\n",
       "        text-align: right;\n",
       "    }\n",
       "</style>\n",
       "<table border=\"1\" class=\"dataframe\">\n",
       "  <thead>\n",
       "    <tr style=\"text-align: right;\">\n",
       "      <th></th>\n",
       "      <th>year</th>\n",
       "      <th>name</th>\n",
       "      <th>gender</th>\n",
       "      <th>count</th>\n",
       "    </tr>\n",
       "  </thead>\n",
       "  <tbody>\n",
       "    <tr>\n",
       "      <td>0</td>\n",
       "      <td>1880</td>\n",
       "      <td>Mary</td>\n",
       "      <td>F</td>\n",
       "      <td>7065</td>\n",
       "    </tr>\n",
       "    <tr>\n",
       "      <td>1</td>\n",
       "      <td>1880</td>\n",
       "      <td>Anna</td>\n",
       "      <td>F</td>\n",
       "      <td>2604</td>\n",
       "    </tr>\n",
       "    <tr>\n",
       "      <td>2</td>\n",
       "      <td>1880</td>\n",
       "      <td>Emma</td>\n",
       "      <td>F</td>\n",
       "      <td>2003</td>\n",
       "    </tr>\n",
       "    <tr>\n",
       "      <td>3</td>\n",
       "      <td>1880</td>\n",
       "      <td>Elizabeth</td>\n",
       "      <td>F</td>\n",
       "      <td>1939</td>\n",
       "    </tr>\n",
       "    <tr>\n",
       "      <td>4</td>\n",
       "      <td>1880</td>\n",
       "      <td>Minnie</td>\n",
       "      <td>F</td>\n",
       "      <td>1746</td>\n",
       "    </tr>\n",
       "  </tbody>\n",
       "</table>\n",
       "</div>"
      ],
      "text/plain": [
       "   year       name gender  count\n",
       "0  1880       Mary      F   7065\n",
       "1  1880       Anna      F   2604\n",
       "2  1880       Emma      F   2003\n",
       "3  1880  Elizabeth      F   1939\n",
       "4  1880     Minnie      F   1746"
      ]
     },
     "execution_count": 76,
     "metadata": {},
     "output_type": "execute_result"
    }
   ],
   "source": [
    "baby_names.head()"
   ]
  },
  {
   "cell_type": "code",
   "execution_count": 44,
   "metadata": {},
   "outputs": [
    {
     "data": {
      "text/plain": [
       "[('F', 67698), ('M', 41475)]"
      ]
     },
     "execution_count": 44,
     "metadata": {},
     "output_type": "execute_result"
    }
   ],
   "source": [
    "# number of unique baby names by gender\n",
    "engine.execute(\"\"\"\n",
    "\n",
    "SELECT\n",
    "    gender,\n",
    "    COUNT(DISTINCT(name))\n",
    "FROM baby\n",
    "GROUP BY gender\n",
    "\n",
    "\"\"\").fetchall()"
   ]
  },
  {
   "cell_type": "code",
   "execution_count": 3,
   "metadata": {},
   "outputs": [
    {
     "data": {
      "text/html": [
       "<div>\n",
       "<style scoped>\n",
       "    .dataframe tbody tr th:only-of-type {\n",
       "        vertical-align: middle;\n",
       "    }\n",
       "\n",
       "    .dataframe tbody tr th {\n",
       "        vertical-align: top;\n",
       "    }\n",
       "\n",
       "    .dataframe thead th {\n",
       "        text-align: right;\n",
       "    }\n",
       "</style>\n",
       "<table border=\"1\" class=\"dataframe\">\n",
       "  <thead>\n",
       "    <tr style=\"text-align: right;\">\n",
       "      <th></th>\n",
       "      <th>name</th>\n",
       "    </tr>\n",
       "    <tr>\n",
       "      <th>gender</th>\n",
       "      <th></th>\n",
       "    </tr>\n",
       "  </thead>\n",
       "  <tbody>\n",
       "    <tr>\n",
       "      <td>F</td>\n",
       "      <td>67698</td>\n",
       "    </tr>\n",
       "    <tr>\n",
       "      <td>M</td>\n",
       "      <td>41475</td>\n",
       "    </tr>\n",
       "  </tbody>\n",
       "</table>\n",
       "</div>"
      ],
      "text/plain": [
       "         name\n",
       "gender       \n",
       "F       67698\n",
       "M       41475"
      ]
     },
     "execution_count": 3,
     "metadata": {},
     "output_type": "execute_result"
    }
   ],
   "source": [
    "baby_names.groupby('gender').agg({'name':lambda x: x.nunique()})"
   ]
  },
  {
   "cell_type": "code",
   "execution_count": 59,
   "metadata": {},
   "outputs": [
    {
     "data": {
      "text/plain": [
       "[('F', 'Mary', 4125675, 1),\n",
       " ('F', 'Elizabeth', 1638349, 2),\n",
       " ('F', 'Patricia', 1572016, 3),\n",
       " ('F', 'Jennifer', 1467207, 4),\n",
       " ('F', 'Linda', 1452668, 5),\n",
       " ('F', 'Barbara', 1434397, 6),\n",
       " ('F', 'Margaret', 1248985, 7),\n",
       " ('F', 'Susan', 1121703, 8),\n",
       " ('F', 'Dorothy', 1107635, 9),\n",
       " ('F', 'Sarah', 1077746, 10),\n",
       " ('M', 'James', 5164280, 1),\n",
       " ('M', 'John', 5124817, 2),\n",
       " ('M', 'Robert', 4820129, 3),\n",
       " ('M', 'Michael', 4362731, 4),\n",
       " ('M', 'William', 4117369, 5),\n",
       " ('M', 'David', 3621322, 6),\n",
       " ('M', 'Joseph', 2613304, 7),\n",
       " ('M', 'Richard', 2565301, 8),\n",
       " ('M', 'Charles', 2392779, 9),\n",
       " ('M', 'Thomas', 2311849, 10)]"
      ]
     },
     "execution_count": 59,
     "metadata": {},
     "output_type": "execute_result"
    }
   ],
   "source": [
    "# top ten baby names split by gender and their counts\n",
    "engine.execute(\"\"\"\n",
    "\n",
    "WITH count_names AS(\n",
    "    SELECT\n",
    "        gender,\n",
    "        name,\n",
    "        SUM(count) as count_name\n",
    "    FROM baby\n",
    "    GROUP BY gender, name\n",
    "), top_names AS(\n",
    "    SELECT\n",
    "        gender,\n",
    "        name,\n",
    "        count_name,\n",
    "        rank() over (partition by gender order by count_name desc) as rnk\n",
    "    FROM count_names\n",
    ")\n",
    "\n",
    "SELECT * FROM top_names WHERE rnk<=10\n",
    "\n",
    "\"\"\").fetchall()"
   ]
  },
  {
   "cell_type": "code",
   "execution_count": 99,
   "metadata": {},
   "outputs": [
    {
     "data": {
      "text/plain": [
       "[('F', 'Mary', 4125675, 1),\n",
       " ('F', 'Elizabeth', 1638349, 2),\n",
       " ('F', 'Patricia', 1572016, 3),\n",
       " ('F', 'Jennifer', 1467207, 4),\n",
       " ('F', 'Linda', 1452668, 5),\n",
       " ('F', 'Barbara', 1434397, 6),\n",
       " ('F', 'Margaret', 1248985, 7),\n",
       " ('F', 'Susan', 1121703, 8),\n",
       " ('F', 'Dorothy', 1107635, 9),\n",
       " ('F', 'Sarah', 1077746, 10),\n",
       " ('M', 'James', 5164280, 1),\n",
       " ('M', 'John', 5124817, 2),\n",
       " ('M', 'Robert', 4820129, 3),\n",
       " ('M', 'Michael', 4362731, 4),\n",
       " ('M', 'William', 4117369, 5),\n",
       " ('M', 'David', 3621322, 6),\n",
       " ('M', 'Joseph', 2613304, 7),\n",
       " ('M', 'Richard', 2565301, 8),\n",
       " ('M', 'Charles', 2392779, 9),\n",
       " ('M', 'Thomas', 2311849, 10)]"
      ]
     },
     "execution_count": 99,
     "metadata": {},
     "output_type": "execute_result"
    }
   ],
   "source": [
    "engine.execute('select * from (select gender, name, sum_name, row_number() over (partition by gender order by sum_name desc) as rn from (select gender, name, sum(count) as sum_name from baby group by gender, name) a) where rn>=1 and rn<=10 ').fetchall()\n",
    "\n"
   ]
  },
  {
   "cell_type": "code",
   "execution_count": null,
   "metadata": {},
   "outputs": [],
   "source": []
  },
  {
   "cell_type": "code",
   "execution_count": 12,
   "metadata": {},
   "outputs": [],
   "source": [
    "baby_names = baby_names.rename(columns = {'count':'total'})\n",
    "baby_popular = baby_names.groupby(['name','gender']).agg({'total':'sum'}).reset_index()\n",
    "baby_popular_men = baby_popular[baby_popular.gender=='M'].sort_values('total', ascending=False).iloc[:,:10]\n",
    "baby_popular_women = baby_popular[baby_popular.gender=='F'].sort_values('total', ascending=False).iloc[:,:10]"
   ]
  },
  {
   "cell_type": "code",
   "execution_count": 26,
   "metadata": {},
   "outputs": [],
   "source": [
    "baby_names_popular = baby_names.groupby(['name','gender']).agg({'count':'sum'}).reset_index()\n"
   ]
  },
  {
   "cell_type": "code",
   "execution_count": 29,
   "metadata": {},
   "outputs": [
    {
     "data": {
      "text/html": [
       "<div>\n",
       "<style scoped>\n",
       "    .dataframe tbody tr th:only-of-type {\n",
       "        vertical-align: middle;\n",
       "    }\n",
       "\n",
       "    .dataframe tbody tr th {\n",
       "        vertical-align: top;\n",
       "    }\n",
       "\n",
       "    .dataframe thead th {\n",
       "        text-align: right;\n",
       "    }\n",
       "</style>\n",
       "<table border=\"1\" class=\"dataframe\">\n",
       "  <thead>\n",
       "    <tr style=\"text-align: right;\">\n",
       "      <th></th>\n",
       "      <th></th>\n",
       "      <th>name</th>\n",
       "      <th>gender</th>\n",
       "      <th>count</th>\n",
       "    </tr>\n",
       "    <tr>\n",
       "      <th>gender</th>\n",
       "      <th></th>\n",
       "      <th></th>\n",
       "      <th></th>\n",
       "      <th></th>\n",
       "    </tr>\n",
       "  </thead>\n",
       "  <tbody>\n",
       "    <tr>\n",
       "      <td rowspan=\"10\" valign=\"top\">F</td>\n",
       "      <td>68679</td>\n",
       "      <td>Mary</td>\n",
       "      <td>F</td>\n",
       "      <td>4125675</td>\n",
       "    </tr>\n",
       "    <tr>\n",
       "      <td>30706</td>\n",
       "      <td>Elizabeth</td>\n",
       "      <td>F</td>\n",
       "      <td>1638349</td>\n",
       "    </tr>\n",
       "    <tr>\n",
       "      <td>79184</td>\n",
       "      <td>Patricia</td>\n",
       "      <td>F</td>\n",
       "      <td>1572016</td>\n",
       "    </tr>\n",
       "    <tr>\n",
       "      <td>46567</td>\n",
       "      <td>Jennifer</td>\n",
       "      <td>F</td>\n",
       "      <td>1467207</td>\n",
       "    </tr>\n",
       "    <tr>\n",
       "      <td>62973</td>\n",
       "      <td>Linda</td>\n",
       "      <td>F</td>\n",
       "      <td>1452668</td>\n",
       "    </tr>\n",
       "    <tr>\n",
       "      <td>11699</td>\n",
       "      <td>Barbara</td>\n",
       "      <td>F</td>\n",
       "      <td>1434397</td>\n",
       "    </tr>\n",
       "    <tr>\n",
       "      <td>67371</td>\n",
       "      <td>Margaret</td>\n",
       "      <td>F</td>\n",
       "      <td>1248985</td>\n",
       "    </tr>\n",
       "    <tr>\n",
       "      <td>94540</td>\n",
       "      <td>Susan</td>\n",
       "      <td>F</td>\n",
       "      <td>1121703</td>\n",
       "    </tr>\n",
       "    <tr>\n",
       "      <td>28575</td>\n",
       "      <td>Dorothy</td>\n",
       "      <td>F</td>\n",
       "      <td>1107635</td>\n",
       "    </tr>\n",
       "    <tr>\n",
       "      <td>87546</td>\n",
       "      <td>Sarah</td>\n",
       "      <td>F</td>\n",
       "      <td>1077746</td>\n",
       "    </tr>\n",
       "    <tr>\n",
       "      <td rowspan=\"10\" valign=\"top\">M</td>\n",
       "      <td>43582</td>\n",
       "      <td>James</td>\n",
       "      <td>M</td>\n",
       "      <td>5164280</td>\n",
       "    </tr>\n",
       "    <tr>\n",
       "      <td>48388</td>\n",
       "      <td>John</td>\n",
       "      <td>M</td>\n",
       "      <td>5124817</td>\n",
       "    </tr>\n",
       "    <tr>\n",
       "      <td>84427</td>\n",
       "      <td>Robert</td>\n",
       "      <td>M</td>\n",
       "      <td>4820129</td>\n",
       "    </tr>\n",
       "    <tr>\n",
       "      <td>71023</td>\n",
       "      <td>Michael</td>\n",
       "      <td>M</td>\n",
       "      <td>4362731</td>\n",
       "    </tr>\n",
       "    <tr>\n",
       "      <td>104615</td>\n",
       "      <td>William</td>\n",
       "      <td>M</td>\n",
       "      <td>4117369</td>\n",
       "    </tr>\n",
       "    <tr>\n",
       "      <td>24204</td>\n",
       "      <td>David</td>\n",
       "      <td>M</td>\n",
       "      <td>3621322</td>\n",
       "    </tr>\n",
       "    <tr>\n",
       "      <td>49192</td>\n",
       "      <td>Joseph</td>\n",
       "      <td>M</td>\n",
       "      <td>2613304</td>\n",
       "    </tr>\n",
       "    <tr>\n",
       "      <td>83864</td>\n",
       "      <td>Richard</td>\n",
       "      <td>M</td>\n",
       "      <td>2565301</td>\n",
       "    </tr>\n",
       "    <tr>\n",
       "      <td>18299</td>\n",
       "      <td>Charles</td>\n",
       "      <td>M</td>\n",
       "      <td>2392779</td>\n",
       "    </tr>\n",
       "    <tr>\n",
       "      <td>98544</td>\n",
       "      <td>Thomas</td>\n",
       "      <td>M</td>\n",
       "      <td>2311849</td>\n",
       "    </tr>\n",
       "  </tbody>\n",
       "</table>\n",
       "</div>"
      ],
      "text/plain": [
       "                    name gender    count\n",
       "gender                                  \n",
       "F      68679        Mary      F  4125675\n",
       "       30706   Elizabeth      F  1638349\n",
       "       79184    Patricia      F  1572016\n",
       "       46567    Jennifer      F  1467207\n",
       "       62973       Linda      F  1452668\n",
       "       11699     Barbara      F  1434397\n",
       "       67371    Margaret      F  1248985\n",
       "       94540       Susan      F  1121703\n",
       "       28575     Dorothy      F  1107635\n",
       "       87546       Sarah      F  1077746\n",
       "M      43582       James      M  5164280\n",
       "       48388        John      M  5124817\n",
       "       84427      Robert      M  4820129\n",
       "       71023     Michael      M  4362731\n",
       "       104615    William      M  4117369\n",
       "       24204       David      M  3621322\n",
       "       49192      Joseph      M  2613304\n",
       "       83864     Richard      M  2565301\n",
       "       18299     Charles      M  2392779\n",
       "       98544      Thomas      M  2311849"
      ]
     },
     "execution_count": 29,
     "metadata": {},
     "output_type": "execute_result"
    }
   ],
   "source": [
    "baby_names_popular.groupby('gender').apply(lambda x: x.sort_values('count',ascending=False).iloc[:10])"
   ]
  },
  {
   "cell_type": "code",
   "execution_count": 27,
   "metadata": {},
   "outputs": [],
   "source": [
    "baby_names_2010 = baby_names[baby_names.year>2010]"
   ]
  },
  {
   "cell_type": "code",
   "execution_count": 29,
   "metadata": {},
   "outputs": [],
   "source": [
    "baby_names_2010 = baby_names_2010.groupby('name').filter(lambda x: x.shape[0]==8)"
   ]
  },
  {
   "cell_type": "code",
   "execution_count": 35,
   "metadata": {},
   "outputs": [],
   "source": [
    "# baby_names_2010 = baby_names_2010.rename(columns={'count':'total'})\n",
    "baby_names_2010 = baby_names_2010.groupby('name', sort=False).apply(lambda x: x.loc[:,['year','total']].sort_values('year',ascending=True)).reset_index()\n",
    "\n",
    "# (total.rolling(2).apply(lambda x: (x[1] - x[0])/x[0]).values\n"
   ]
  },
  {
   "cell_type": "code",
   "execution_count": 40,
   "metadata": {},
   "outputs": [
    {
     "name": "stderr",
     "output_type": "stream",
     "text": [
      "/Users/magoodwi/MyStuff/Education/DataScienceToolkit/DataScienceCode/ds_python_37/lib/python3.7/site-packages/ipykernel_launcher.py:1: FutureWarning: Currently, 'apply' passes the values as ndarrays to the applied function. In the future, this will change to passing it as Series objects. You need to specify 'raw=True' to keep the current behaviour, and you can pass 'raw=False' to silence this warning\n",
      "  \"\"\"Entry point for launching an IPython kernel.\n"
     ]
    }
   ],
   "source": [
    "baby_names_2010['per_growth'] = baby_names_2010.groupby('name', sort=False).total.rolling(2).apply(lambda x: (x[1] - x[0])/x[0]).values"
   ]
  },
  {
   "cell_type": "code",
   "execution_count": null,
   "metadata": {},
   "outputs": [],
   "source": []
  },
  {
   "cell_type": "code",
   "execution_count": 44,
   "metadata": {},
   "outputs": [],
   "source": [
    "baby_names_2010 = baby_names_2010.groupby('name').filter(lambda x: x.shape[0]==2)"
   ]
  },
  {
   "cell_type": "code",
   "execution_count": 45,
   "metadata": {},
   "outputs": [],
   "source": [
    "baby_names_2010 = baby_names_2010.groupby('name').apply(lambda x: x.loc[:,['year','count']].sort_values('year', ascending=True)).reset_index()"
   ]
  },
  {
   "cell_type": "code",
   "execution_count": 51,
   "metadata": {},
   "outputs": [],
   "source": [
    "baby_names_2010.columns = ['name','level_1','year','count_1']"
   ]
  },
  {
   "cell_type": "code",
   "execution_count": 54,
   "metadata": {},
   "outputs": [
    {
     "name": "stderr",
     "output_type": "stream",
     "text": [
      "/Users/magoodwi/MyStuff/Education/DataScienceToolkit/DataScienceCode/ds_python_37/lib/python3.7/site-packages/ipykernel_launcher.py:1: FutureWarning: Currently, 'apply' passes the values as ndarrays to the applied function. In the future, this will change to passing it as Series objects. You need to specify 'raw=True' to keep the current behaviour, and you can pass 'raw=False' to silence this warning\n",
      "  \"\"\"Entry point for launching an IPython kernel.\n"
     ]
    }
   ],
   "source": [
    "baby_names_2010['gain'] = baby_names_2010.groupby('name').count_1.rolling(2).apply(lambda x: (x[1] - x[0])/x[0]).values\n"
   ]
  },
  {
   "cell_type": "code",
   "execution_count": 55,
   "metadata": {},
   "outputs": [
    {
     "data": {
      "text/html": [
       "<div>\n",
       "<style scoped>\n",
       "    .dataframe tbody tr th:only-of-type {\n",
       "        vertical-align: middle;\n",
       "    }\n",
       "\n",
       "    .dataframe tbody tr th {\n",
       "        vertical-align: top;\n",
       "    }\n",
       "\n",
       "    .dataframe thead th {\n",
       "        text-align: right;\n",
       "    }\n",
       "</style>\n",
       "<table border=\"1\" class=\"dataframe\">\n",
       "  <thead>\n",
       "    <tr style=\"text-align: right;\">\n",
       "      <th></th>\n",
       "      <th>name</th>\n",
       "      <th>level_1</th>\n",
       "      <th>year</th>\n",
       "      <th>count_1</th>\n",
       "      <th>gain</th>\n",
       "    </tr>\n",
       "  </thead>\n",
       "  <tbody>\n",
       "    <tr>\n",
       "      <td>0</td>\n",
       "      <td>Aaban</td>\n",
       "      <td>1685983</td>\n",
       "      <td>2010</td>\n",
       "      <td>9</td>\n",
       "      <td>NaN</td>\n",
       "    </tr>\n",
       "    <tr>\n",
       "      <td>1</td>\n",
       "      <td>Aaban</td>\n",
       "      <td>1952653</td>\n",
       "      <td>2018</td>\n",
       "      <td>7</td>\n",
       "      <td>-0.222222</td>\n",
       "    </tr>\n",
       "    <tr>\n",
       "      <td>2</td>\n",
       "      <td>Aadam</td>\n",
       "      <td>1687535</td>\n",
       "      <td>2010</td>\n",
       "      <td>7</td>\n",
       "      <td>NaN</td>\n",
       "    </tr>\n",
       "    <tr>\n",
       "      <td>3</td>\n",
       "      <td>Aadam</td>\n",
       "      <td>1947920</td>\n",
       "      <td>2018</td>\n",
       "      <td>19</td>\n",
       "      <td>1.714286</td>\n",
       "    </tr>\n",
       "    <tr>\n",
       "      <td>4</td>\n",
       "      <td>Aaden</td>\n",
       "      <td>1678414</td>\n",
       "      <td>2010</td>\n",
       "      <td>450</td>\n",
       "      <td>NaN</td>\n",
       "    </tr>\n",
       "    <tr>\n",
       "      <td>...</td>\n",
       "      <td>...</td>\n",
       "      <td>...</td>\n",
       "      <td>...</td>\n",
       "      <td>...</td>\n",
       "      <td>...</td>\n",
       "    </tr>\n",
       "    <tr>\n",
       "      <td>38489</td>\n",
       "      <td>Zyriah</td>\n",
       "      <td>1930763</td>\n",
       "      <td>2018</td>\n",
       "      <td>22</td>\n",
       "      <td>-0.241379</td>\n",
       "    </tr>\n",
       "    <tr>\n",
       "      <td>38490</td>\n",
       "      <td>Zyron</td>\n",
       "      <td>1687534</td>\n",
       "      <td>2010</td>\n",
       "      <td>8</td>\n",
       "      <td>NaN</td>\n",
       "    </tr>\n",
       "    <tr>\n",
       "      <td>38491</td>\n",
       "      <td>Zyron</td>\n",
       "      <td>1957044</td>\n",
       "      <td>2018</td>\n",
       "      <td>5</td>\n",
       "      <td>-0.375000</td>\n",
       "    </tr>\n",
       "    <tr>\n",
       "      <td>38492</td>\n",
       "      <td>Zzyzx</td>\n",
       "      <td>1692111</td>\n",
       "      <td>2010</td>\n",
       "      <td>5</td>\n",
       "      <td>NaN</td>\n",
       "    </tr>\n",
       "    <tr>\n",
       "      <td>38493</td>\n",
       "      <td>Zzyzx</td>\n",
       "      <td>1957045</td>\n",
       "      <td>2018</td>\n",
       "      <td>5</td>\n",
       "      <td>0.000000</td>\n",
       "    </tr>\n",
       "  </tbody>\n",
       "</table>\n",
       "<p>38494 rows × 5 columns</p>\n",
       "</div>"
      ],
      "text/plain": [
       "         name  level_1  year  count_1      gain\n",
       "0       Aaban  1685983  2010        9       NaN\n",
       "1       Aaban  1952653  2018        7 -0.222222\n",
       "2       Aadam  1687535  2010        7       NaN\n",
       "3       Aadam  1947920  2018       19  1.714286\n",
       "4       Aaden  1678414  2010      450       NaN\n",
       "...       ...      ...   ...      ...       ...\n",
       "38489  Zyriah  1930763  2018       22 -0.241379\n",
       "38490   Zyron  1687534  2010        8       NaN\n",
       "38491   Zyron  1957044  2018        5 -0.375000\n",
       "38492   Zzyzx  1692111  2010        5       NaN\n",
       "38493   Zzyzx  1957045  2018        5  0.000000\n",
       "\n",
       "[38494 rows x 5 columns]"
      ]
     },
     "execution_count": 55,
     "metadata": {},
     "output_type": "execute_result"
    }
   ],
   "source": [
    "baby_names_2010"
   ]
  },
  {
   "cell_type": "markdown",
   "metadata": {},
   "source": [
    "#### Email Problem 35 - Sales Analyst"
   ]
  },
  {
   "cell_type": "code",
   "execution_count": 62,
   "metadata": {},
   "outputs": [],
   "source": [
    "all_sales = pd.DataFrame()\n",
    "all_sales['sales_rep_id'] = [1,1,2,2,3]\n",
    "all_sales['date'] = [100,101,205,200,150]\n",
    "sales_rep_info = pd.DataFrame()\n",
    "sales_rep_info['sales_rep_id'] = [1,2,3]\n",
    "sales_rep_info['date_hired'] = [4,6,8]"
   ]
  },
  {
   "cell_type": "code",
   "execution_count": 63,
   "metadata": {},
   "outputs": [],
   "source": [
    "all_sales.to_sql('all_sales',con=engine)"
   ]
  },
  {
   "cell_type": "code",
   "execution_count": 64,
   "metadata": {},
   "outputs": [],
   "source": [
    "sales_rep_info.to_sql(\"sales_rep\", con=engine)"
   ]
  },
  {
   "cell_type": "code",
   "execution_count": 65,
   "metadata": {},
   "outputs": [
    {
     "data": {
      "text/plain": [
       "[(1, 96), (2, 194), (3, 142)]"
      ]
     },
     "execution_count": 65,
     "metadata": {},
     "output_type": "execute_result"
    }
   ],
   "source": [
    "engine.execute(\"\"\"\n",
    "\n",
    "SELECT\n",
    "    all_sales.sales_rep_id,\n",
    "    min(all_sales.date - sales_rep.date_hired) as date_diff\n",
    "FROM all_sales\n",
    "INNER JOIN sales_rep\n",
    "    ON sales_rep.sales_rep_id=all_sales.sales_rep_id\n",
    "GROUP BY all_sales.sales_rep_id\n",
    "\n",
    "\n",
    "\"\"\").fetchall()"
   ]
  },
  {
   "cell_type": "code",
   "execution_count": 31,
   "metadata": {},
   "outputs": [
    {
     "data": {
      "text/plain": [
       "[(1, 96), (2, 194), (3, 142)]"
      ]
     },
     "execution_count": 31,
     "metadata": {},
     "output_type": "execute_result"
    }
   ],
   "source": [
    "engine.execute(\"select a.sales_rep_id, min(a.date - b.date_hired)  from all_sales a inner join sales_rep b on a.sales_rep_id=b.sales_rep_id group by a.sales_rep_id  \").fetchall()\n",
    "\n"
   ]
  },
  {
   "cell_type": "code",
   "execution_count": 16,
   "metadata": {},
   "outputs": [
    {
     "data": {
      "text/plain": [
       "sales_rep_id\n",
       "1     96\n",
       "2    194\n",
       "3    142\n",
       "dtype: int64"
      ]
     },
     "execution_count": 16,
     "metadata": {},
     "output_type": "execute_result"
    }
   ],
   "source": [
    "comb_info = all_sales.merge(sales_rep_info,on='sales_rep_id')\n",
    "comb_info.groupby('sales_rep_id').apply(lambda x: min(x['date'] - x['date_hired']))"
   ]
  },
  {
   "cell_type": "code",
   "execution_count": 45,
   "metadata": {},
   "outputs": [],
   "source": [
    "first_sale = all_sales.groupby('sales_rep_id').agg({'date':'min'}).reset_index()\n",
    "first_sale_rep = first_sale.merge(sales_rep_info,on='sales_rep_id')\n",
    "first_sale_rep['how_long'] = first_sale_rep['date'] - first_sale_rep['date_hired']\n"
   ]
  },
  {
   "cell_type": "code",
   "execution_count": 7,
   "metadata": {},
   "outputs": [],
   "source": [
    "from datetime import datetime"
   ]
  },
  {
   "cell_type": "code",
   "execution_count": 11,
   "metadata": {},
   "outputs": [],
   "source": [
    "m = datetime.strptime('2017-10-01','%Y-%m-%d')\n",
    "m1 = datetime.strptime('2017-11-01','%Y-%m-%d')"
   ]
  },
  {
   "cell_type": "code",
   "execution_count": 15,
   "metadata": {},
   "outputs": [
    {
     "data": {
      "text/plain": [
       "int"
      ]
     },
     "execution_count": 15,
     "metadata": {},
     "output_type": "execute_result"
    }
   ],
   "source": [
    "type(m.month - m1.month)"
   ]
  },
  {
   "cell_type": "markdown",
   "metadata": {},
   "source": [
    "#### Email Question 32"
   ]
  },
  {
   "cell_type": "code",
   "execution_count": 108,
   "metadata": {},
   "outputs": [],
   "source": [
    "m = [1, 2, 3, 1, 4, 5, 2, 3, 6]\n",
    "A = 3"
   ]
  },
  {
   "cell_type": "code",
   "execution_count": 109,
   "metadata": {},
   "outputs": [
    {
     "name": "stdout",
     "output_type": "stream",
     "text": [
      "3\n",
      "3\n",
      "4\n",
      "5\n",
      "5\n",
      "5\n",
      "6\n"
     ]
    }
   ],
   "source": [
    "for i in range(len(m) - (A-1)):\n",
    "    print(max(m[i:i+A]))"
   ]
  },
  {
   "cell_type": "code",
   "execution_count": 11,
   "metadata": {},
   "outputs": [
    {
     "name": "stdout",
     "output_type": "stream",
     "text": [
      "3\n",
      "3\n",
      "4\n",
      "5\n",
      "5\n",
      "5\n",
      "6\n"
     ]
    }
   ],
   "source": [
    "for i in range(len(m)):\n",
    "    if (i+3)>len(m):\n",
    "        break\n",
    "    else:\n",
    "        print(max(m[i:i+3]))"
   ]
  },
  {
   "cell_type": "markdown",
   "metadata": {},
   "source": [
    "#### Email problem 31 - year over year raises"
   ]
  },
  {
   "cell_type": "code",
   "execution_count": 66,
   "metadata": {},
   "outputs": [],
   "source": [
    "employee = pd.DataFrame()\n",
    "employee['salary'] = [80000,60000,70000,59000,65000,60000,65000,60000]\n",
    "employee['year'] = [2020,2018,2019,2017,2019,2018,2019,2018]\n",
    "employee['emp_id'] = [1,1,1,1,2,2,3,3]\n",
    "\n",
    "employee.to_sql('employee2',con=engine)"
   ]
  },
  {
   "cell_type": "code",
   "execution_count": 72,
   "metadata": {},
   "outputs": [
    {
     "data": {
      "text/plain": [
       "[(1, 2020, 80000, 3)]"
      ]
     },
     "execution_count": 72,
     "metadata": {},
     "output_type": "execute_result"
    }
   ],
   "source": [
    "engine.execute(\"\"\"\n",
    "\n",
    "WITH greater AS(\n",
    "    SELECT\n",
    "      emp_id,\n",
    "      year,\n",
    "      salary,\n",
    "      salary - lag(salary, 1) over (partition by emp_id order by year asc) as is_greater\n",
    "    FROM employee2\n",
    "), blah AS(\n",
    "\n",
    "SELECT\n",
    "  emp_id,\n",
    "  year,\n",
    "  salary,\n",
    "  SUM(is_greater>0) OVER (partition by emp_id order by year asc rows 2 preceding) as sumit\n",
    "FROM greater\n",
    ")\n",
    "\n",
    "SELECT \n",
    "*\n",
    "FROM blah\n",
    "WHERE blah.sumit>2\n",
    "\n",
    "\n",
    "\n",
    "\n",
    "\"\"\").fetchall()"
   ]
  },
  {
   "cell_type": "code",
   "execution_count": 81,
   "metadata": {},
   "outputs": [
    {
     "data": {
      "text/plain": [
       "[(1, 1)]"
      ]
     },
     "execution_count": 81,
     "metadata": {},
     "output_type": "execute_result"
    }
   ],
   "source": [
    "engine.execute(\"\"\"\n",
    "\n",
    "WITH year_over_year as(\n",
    "    SELECT\n",
    "      emp_id,\n",
    "      year,\n",
    "      salary,\n",
    "      (salary - lag(salary,1) over (partition by emp_id order by year asc))>0 as r\n",
    "    FROM employee2\n",
    "), consecutive as (\n",
    "    SELECT\n",
    "      emp_id,\n",
    "      (sum(r) over (partition by emp_id rows 2 preceding))>=3 as consec\n",
    "    FROM year_over_year \n",
    ")\n",
    "\n",
    "SELECT\n",
    "  emp_id,\n",
    "  SUM(consec) as summed_consec\n",
    "FROM consecutive\n",
    "GROUP BY emp_id\n",
    "HAVING summed_consec>0\n",
    "\n",
    "\n",
    "\"\"\").fetchall()\n",
    "\n",
    "\n",
    "\n"
   ]
  },
  {
   "cell_type": "code",
   "execution_count": 106,
   "metadata": {},
   "outputs": [
    {
     "data": {
      "text/plain": [
       "[(1, 3)]"
      ]
     },
     "execution_count": 106,
     "metadata": {},
     "output_type": "execute_result"
    }
   ],
   "source": [
    "engine.execute('select * from (select emp_id, sum(bool_raise) over (partition by emp_id order by year asc rows 2 preceding) as in_row from (select emp_id, year, salary>lag(salary,1) over (partition by emp_id order by year asc) as bool_raise from employee) a) b where b.in_row>=3 ').fetchall()\n",
    "\n"
   ]
  },
  {
   "cell_type": "code",
   "execution_count": 115,
   "metadata": {},
   "outputs": [
    {
     "name": "stderr",
     "output_type": "stream",
     "text": [
      "/Users/magoodwi/MyStuff/Education/DataScienceToolkit/DataScienceCode/ds_python_37/lib/python3.7/site-packages/ipykernel_launcher.py:2: FutureWarning: Currently, 'apply' passes the values as ndarrays to the applied function. In the future, this will change to passing it as Series objects. You need to specify 'raw=True' to keep the current behaviour, and you can pass 'raw=False' to silence this warning\n",
      "  \n"
     ]
    }
   ],
   "source": [
    "employee.sort_values(['emp_id', 'year'], ascending=True, inplace=True)\n",
    "employee['diffs'] = employee.groupby('emp_id', sort=False).salary.rolling(2).apply(lambda x: (x[1] - x[0])>0).values"
   ]
  },
  {
   "cell_type": "code",
   "execution_count": 117,
   "metadata": {},
   "outputs": [
    {
     "name": "stderr",
     "output_type": "stream",
     "text": [
      "/Users/magoodwi/MyStuff/Education/DataScienceToolkit/DataScienceCode/ds_python_37/lib/python3.7/site-packages/ipykernel_launcher.py:1: FutureWarning: Currently, 'apply' passes the values as ndarrays to the applied function. In the future, this will change to passing it as Series objects. You need to specify 'raw=True' to keep the current behaviour, and you can pass 'raw=False' to silence this warning\n",
      "  \"\"\"Entry point for launching an IPython kernel.\n"
     ]
    },
    {
     "data": {
      "text/plain": [
       "emp_id   \n",
       "1       3    NaN\n",
       "        2    NaN\n",
       "        1    NaN\n",
       "        0    3.0\n",
       "2       5    NaN\n",
       "        4    NaN\n",
       "3       7    NaN\n",
       "        6    NaN\n",
       "Name: diffs, dtype: float64"
      ]
     },
     "execution_count": 117,
     "metadata": {},
     "output_type": "execute_result"
    }
   ],
   "source": [
    "employee.groupby('emp_id').diffs.rolling(3).apply(lambda x: sum(x))"
   ]
  },
  {
   "cell_type": "code",
   "execution_count": null,
   "metadata": {},
   "outputs": [],
   "source": []
  },
  {
   "cell_type": "code",
   "execution_count": null,
   "metadata": {},
   "outputs": [],
   "source": []
  },
  {
   "cell_type": "code",
   "execution_count": null,
   "metadata": {},
   "outputs": [],
   "source": []
  },
  {
   "cell_type": "code",
   "execution_count": 48,
   "metadata": {},
   "outputs": [],
   "source": [
    "employee = employee.groupby('emp_id').apply(lambda x: x.loc[:,['year','salary']].sort_values('year',ascending=True)).reset_index()"
   ]
  },
  {
   "cell_type": "code",
   "execution_count": 49,
   "metadata": {},
   "outputs": [
    {
     "name": "stderr",
     "output_type": "stream",
     "text": [
      "/Users/magoodwi/MyStuff/Education/DataScienceToolkit/DataScienceCode/ds_python_37/lib/python3.7/site-packages/ipykernel_launcher.py:1: FutureWarning: Currently, 'apply' passes the values as ndarrays to the applied function. In the future, this will change to passing it as Series objects. You need to specify 'raw=True' to keep the current behaviour, and you can pass 'raw=False' to silence this warning\n",
      "  \"\"\"Entry point for launching an IPython kernel.\n"
     ]
    }
   ],
   "source": [
    "employee['increase'] = employee.groupby('emp_id', sort=False).salary.rolling(2).apply(lambda x: (x[1] - x[0])>0).values"
   ]
  },
  {
   "cell_type": "code",
   "execution_count": 50,
   "metadata": {},
   "outputs": [
    {
     "name": "stderr",
     "output_type": "stream",
     "text": [
      "/Users/magoodwi/MyStuff/Education/DataScienceToolkit/DataScienceCode/ds_python_37/lib/python3.7/site-packages/ipykernel_launcher.py:1: FutureWarning: Currently, 'apply' passes the values as ndarrays to the applied function. In the future, this will change to passing it as Series objects. You need to specify 'raw=True' to keep the current behaviour, and you can pass 'raw=False' to silence this warning\n",
      "  \"\"\"Entry point for launching an IPython kernel.\n"
     ]
    }
   ],
   "source": [
    "employee['three_in_row'] = employee.groupby('emp_id', sort=False).increase.rolling(3).apply(lambda x: sum(x)==3).values"
   ]
  },
  {
   "cell_type": "code",
   "execution_count": 51,
   "metadata": {},
   "outputs": [
    {
     "data": {
      "text/plain": [
       "array([1])"
      ]
     },
     "execution_count": 51,
     "metadata": {},
     "output_type": "execute_result"
    }
   ],
   "source": [
    "employee[employee.three_in_row==True].emp_id.unique()"
   ]
  },
  {
   "cell_type": "code",
   "execution_count": 52,
   "metadata": {},
   "outputs": [
    {
     "data": {
      "text/html": [
       "<div>\n",
       "<style scoped>\n",
       "    .dataframe tbody tr th:only-of-type {\n",
       "        vertical-align: middle;\n",
       "    }\n",
       "\n",
       "    .dataframe tbody tr th {\n",
       "        vertical-align: top;\n",
       "    }\n",
       "\n",
       "    .dataframe thead th {\n",
       "        text-align: right;\n",
       "    }\n",
       "</style>\n",
       "<table border=\"1\" class=\"dataframe\">\n",
       "  <thead>\n",
       "    <tr style=\"text-align: right;\">\n",
       "      <th></th>\n",
       "      <th>emp_id</th>\n",
       "      <th>level_1</th>\n",
       "      <th>year</th>\n",
       "      <th>salary</th>\n",
       "      <th>increase</th>\n",
       "      <th>three_in_row</th>\n",
       "    </tr>\n",
       "  </thead>\n",
       "  <tbody>\n",
       "    <tr>\n",
       "      <td>0</td>\n",
       "      <td>1</td>\n",
       "      <td>3</td>\n",
       "      <td>2017</td>\n",
       "      <td>59000</td>\n",
       "      <td>NaN</td>\n",
       "      <td>NaN</td>\n",
       "    </tr>\n",
       "    <tr>\n",
       "      <td>1</td>\n",
       "      <td>1</td>\n",
       "      <td>2</td>\n",
       "      <td>2018</td>\n",
       "      <td>60000</td>\n",
       "      <td>1.0</td>\n",
       "      <td>NaN</td>\n",
       "    </tr>\n",
       "    <tr>\n",
       "      <td>2</td>\n",
       "      <td>1</td>\n",
       "      <td>1</td>\n",
       "      <td>2019</td>\n",
       "      <td>70000</td>\n",
       "      <td>1.0</td>\n",
       "      <td>NaN</td>\n",
       "    </tr>\n",
       "    <tr>\n",
       "      <td>3</td>\n",
       "      <td>1</td>\n",
       "      <td>0</td>\n",
       "      <td>2020</td>\n",
       "      <td>80000</td>\n",
       "      <td>1.0</td>\n",
       "      <td>1.0</td>\n",
       "    </tr>\n",
       "    <tr>\n",
       "      <td>4</td>\n",
       "      <td>2</td>\n",
       "      <td>5</td>\n",
       "      <td>2018</td>\n",
       "      <td>60000</td>\n",
       "      <td>NaN</td>\n",
       "      <td>NaN</td>\n",
       "    </tr>\n",
       "    <tr>\n",
       "      <td>5</td>\n",
       "      <td>2</td>\n",
       "      <td>4</td>\n",
       "      <td>2019</td>\n",
       "      <td>65000</td>\n",
       "      <td>1.0</td>\n",
       "      <td>NaN</td>\n",
       "    </tr>\n",
       "    <tr>\n",
       "      <td>6</td>\n",
       "      <td>3</td>\n",
       "      <td>7</td>\n",
       "      <td>2018</td>\n",
       "      <td>60000</td>\n",
       "      <td>NaN</td>\n",
       "      <td>NaN</td>\n",
       "    </tr>\n",
       "    <tr>\n",
       "      <td>7</td>\n",
       "      <td>3</td>\n",
       "      <td>6</td>\n",
       "      <td>2019</td>\n",
       "      <td>65000</td>\n",
       "      <td>1.0</td>\n",
       "      <td>NaN</td>\n",
       "    </tr>\n",
       "  </tbody>\n",
       "</table>\n",
       "</div>"
      ],
      "text/plain": [
       "   emp_id  level_1  year  salary  increase  three_in_row\n",
       "0       1        3  2017   59000       NaN           NaN\n",
       "1       1        2  2018   60000       1.0           NaN\n",
       "2       1        1  2019   70000       1.0           NaN\n",
       "3       1        0  2020   80000       1.0           1.0\n",
       "4       2        5  2018   60000       NaN           NaN\n",
       "5       2        4  2019   65000       1.0           NaN\n",
       "6       3        7  2018   60000       NaN           NaN\n",
       "7       3        6  2019   65000       1.0           NaN"
      ]
     },
     "execution_count": 52,
     "metadata": {},
     "output_type": "execute_result"
    }
   ],
   "source": [
    "employee"
   ]
  },
  {
   "cell_type": "code",
   "execution_count": null,
   "metadata": {},
   "outputs": [],
   "source": []
  },
  {
   "cell_type": "code",
   "execution_count": 56,
   "metadata": {},
   "outputs": [],
   "source": [
    "employee.sort_values(['emp_id','year'], ascending=False, inplace=True)"
   ]
  },
  {
   "cell_type": "code",
   "execution_count": 57,
   "metadata": {},
   "outputs": [],
   "source": [
    "employee['sal_diff'] = employee.groupby('emp_id', sort=False).salary.diff()"
   ]
  },
  {
   "cell_type": "code",
   "execution_count": 58,
   "metadata": {},
   "outputs": [],
   "source": [
    "employee['sal_diff_sign'] = employee['sal_diff']<0"
   ]
  },
  {
   "cell_type": "code",
   "execution_count": 59,
   "metadata": {},
   "outputs": [],
   "source": [
    "employee['rolling'] = employee.groupby('emp_id', sort=False).sal_diff_sign.rolling(3).sum().values"
   ]
  },
  {
   "cell_type": "code",
   "execution_count": 60,
   "metadata": {},
   "outputs": [
    {
     "data": {
      "text/html": [
       "<div>\n",
       "<style scoped>\n",
       "    .dataframe tbody tr th:only-of-type {\n",
       "        vertical-align: middle;\n",
       "    }\n",
       "\n",
       "    .dataframe tbody tr th {\n",
       "        vertical-align: top;\n",
       "    }\n",
       "\n",
       "    .dataframe thead th {\n",
       "        text-align: right;\n",
       "    }\n",
       "</style>\n",
       "<table border=\"1\" class=\"dataframe\">\n",
       "  <thead>\n",
       "    <tr style=\"text-align: right;\">\n",
       "      <th></th>\n",
       "      <th>salary</th>\n",
       "      <th>year</th>\n",
       "      <th>emp_id</th>\n",
       "      <th>sal_diff</th>\n",
       "      <th>sal_diff_sign</th>\n",
       "      <th>rolling</th>\n",
       "    </tr>\n",
       "  </thead>\n",
       "  <tbody>\n",
       "    <tr>\n",
       "      <td>6</td>\n",
       "      <td>65000</td>\n",
       "      <td>2019</td>\n",
       "      <td>3</td>\n",
       "      <td>NaN</td>\n",
       "      <td>False</td>\n",
       "      <td>NaN</td>\n",
       "    </tr>\n",
       "    <tr>\n",
       "      <td>7</td>\n",
       "      <td>60000</td>\n",
       "      <td>2018</td>\n",
       "      <td>3</td>\n",
       "      <td>-5000.0</td>\n",
       "      <td>True</td>\n",
       "      <td>NaN</td>\n",
       "    </tr>\n",
       "    <tr>\n",
       "      <td>4</td>\n",
       "      <td>65000</td>\n",
       "      <td>2019</td>\n",
       "      <td>2</td>\n",
       "      <td>NaN</td>\n",
       "      <td>False</td>\n",
       "      <td>NaN</td>\n",
       "    </tr>\n",
       "    <tr>\n",
       "      <td>5</td>\n",
       "      <td>60000</td>\n",
       "      <td>2018</td>\n",
       "      <td>2</td>\n",
       "      <td>-5000.0</td>\n",
       "      <td>True</td>\n",
       "      <td>NaN</td>\n",
       "    </tr>\n",
       "    <tr>\n",
       "      <td>0</td>\n",
       "      <td>80000</td>\n",
       "      <td>2020</td>\n",
       "      <td>1</td>\n",
       "      <td>NaN</td>\n",
       "      <td>False</td>\n",
       "      <td>NaN</td>\n",
       "    </tr>\n",
       "    <tr>\n",
       "      <td>1</td>\n",
       "      <td>70000</td>\n",
       "      <td>2019</td>\n",
       "      <td>1</td>\n",
       "      <td>-10000.0</td>\n",
       "      <td>True</td>\n",
       "      <td>NaN</td>\n",
       "    </tr>\n",
       "    <tr>\n",
       "      <td>2</td>\n",
       "      <td>60000</td>\n",
       "      <td>2018</td>\n",
       "      <td>1</td>\n",
       "      <td>-10000.0</td>\n",
       "      <td>True</td>\n",
       "      <td>2.0</td>\n",
       "    </tr>\n",
       "    <tr>\n",
       "      <td>3</td>\n",
       "      <td>59000</td>\n",
       "      <td>2017</td>\n",
       "      <td>1</td>\n",
       "      <td>-1000.0</td>\n",
       "      <td>True</td>\n",
       "      <td>3.0</td>\n",
       "    </tr>\n",
       "  </tbody>\n",
       "</table>\n",
       "</div>"
      ],
      "text/plain": [
       "   salary  year  emp_id  sal_diff  sal_diff_sign  rolling\n",
       "6   65000  2019       3       NaN          False      NaN\n",
       "7   60000  2018       3   -5000.0           True      NaN\n",
       "4   65000  2019       2       NaN          False      NaN\n",
       "5   60000  2018       2   -5000.0           True      NaN\n",
       "0   80000  2020       1       NaN          False      NaN\n",
       "1   70000  2019       1  -10000.0           True      NaN\n",
       "2   60000  2018       1  -10000.0           True      2.0\n",
       "3   59000  2017       1   -1000.0           True      3.0"
      ]
     },
     "execution_count": 60,
     "metadata": {},
     "output_type": "execute_result"
    }
   ],
   "source": [
    "employee"
   ]
  },
  {
   "cell_type": "markdown",
   "metadata": {},
   "source": [
    "#### Email question 29 - ways of getting a football score"
   ]
  },
  {
   "cell_type": "code",
   "execution_count": 63,
   "metadata": {},
   "outputs": [],
   "source": [
    "import math\n",
    "def diff_ways(score):\n",
    "    save_combo = []\n",
    "    a_max = math.floor(score/2.0)\n",
    "    b_max = math.floor(score/3.0)\n",
    "    c_max = math.floor(score/6.0)\n",
    "    d_max = math.floor(score/7.0)\n",
    "    e_max = math.floor(score/8.0)\n",
    "    \n",
    "    for a in range(a_max + 1):\n",
    "        for b in range(b_max + 1):\n",
    "            for c in range(c_max + 1):\n",
    "                for d in range(d_max + 1):\n",
    "                    for e in range(e_max + 1):\n",
    "                        if 2*a + 3*b + 6*c + 7*d + 8*e==score:\n",
    "                            save_combo.append([a,b,c,d,e])\n",
    "                        else:\n",
    "                            pass\n",
    "    return(save_combo)\n",
    "        "
   ]
  },
  {
   "cell_type": "code",
   "execution_count": null,
   "metadata": {},
   "outputs": [],
   "source": [
    "def diff_ways(score):\n",
    "    for i in [2.0,3.0,6.0,7.0,8.0]:\n",
    "        if score%i==0:\n",
    "            diff_ways(score/i)\n",
    "        else:\n",
    "            return score/i"
   ]
  },
  {
   "cell_type": "markdown",
   "metadata": {},
   "source": [
    "#### Email practice 27"
   ]
  },
  {
   "cell_type": "code",
   "execution_count": 43,
   "metadata": {},
   "outputs": [],
   "source": [
    "airbnb = pd.DataFrame()\n",
    "airbnb['property_id'] = [1,2,3,4]\n",
    "airbnb['country'] = ['A','A','B','C']\n",
    "airbnb['city_name'] = ['Boston','Boston','Berlin','Paris']\n",
    "airbnb['subregion_name'] = ['MA','WY','Frank','Louve']\n",
    "airbnb['addres'] = ['123','345','567','789']"
   ]
  },
  {
   "cell_type": "code",
   "execution_count": 44,
   "metadata": {},
   "outputs": [],
   "source": [
    "airbnb.to_sql('airbnb',con=engine)"
   ]
  },
  {
   "cell_type": "code",
   "execution_count": 45,
   "metadata": {},
   "outputs": [],
   "source": [
    "guest = pd.DataFrame()\n",
    "guest['guest_id'] = [123,345,123,678]\n",
    "guest['property_id'] = [1,1,2,4]\n",
    "guest['date_start'] = ['2017-07-10','2017-10-02','2017-12-28','2017-01-03']\n",
    "guest['date_end'] = ['2017-07-12','2017-10-05','2017-01-01','2017-01-05']\n",
    "guest['stay_length'] = [2,3,4,2]\n",
    "guest['airbnb_revenue'] = [200,300,400,100]"
   ]
  },
  {
   "cell_type": "code",
   "execution_count": 5,
   "metadata": {},
   "outputs": [],
   "source": [
    "guest['year'] = guest.date_start.apply(lambda x: int(x[:4]))"
   ]
  },
  {
   "cell_type": "code",
   "execution_count": 46,
   "metadata": {},
   "outputs": [],
   "source": [
    "guest.to_sql('guest',con=engine)"
   ]
  },
  {
   "cell_type": "code",
   "execution_count": 50,
   "metadata": {},
   "outputs": [
    {
     "data": {
      "text/plain": [
       "[('A', 'Boston', 'MA', 500),\n",
       " ('A', 'Boston', 'WY', 400),\n",
       " ('C', 'Paris', 'Louve', 100)]"
      ]
     },
     "execution_count": 50,
     "metadata": {},
     "output_type": "execute_result"
    }
   ],
   "source": [
    "engine.execute(\"\"\"\n",
    "WITH combined as(\n",
    "  SELECT *\n",
    "  FROM guest\n",
    "  INNER JOIN airbnb\n",
    "    ON guest.property_id=airbnb.property_id\n",
    ")\n",
    "\n",
    "SELECT \n",
    "  country,\n",
    "  city_name,\n",
    "  subregion_name,\n",
    "  sum(airbnb_revenue) as total_revenue\n",
    "FROM combined\n",
    "GROUP BY country, city_name, subregion_name\n",
    "ORDER BY total_revenue desc\n",
    "\n",
    "\"\"\").fetchall()"
   ]
  },
  {
   "cell_type": "code",
   "execution_count": 9,
   "metadata": {},
   "outputs": [
    {
     "data": {
      "text/plain": [
       "[(1, 500, 'Boston', 'A', 'MA'),\n",
       " (2, 400, 'Boston', 'A', 'WY'),\n",
       " (4, 100, 'Paris', 'C', 'Louve')]"
      ]
     },
     "execution_count": 9,
     "metadata": {},
     "output_type": "execute_result"
    }
   ],
   "source": [
    "engine.execute(\"select c.property_id, sum(c.airbnb_revenue) as sum_rev, c.city_name, c.country, c.subregion_name from (select g.property_id, g.airbnb_revenue, a.city_name, a.country, a.subregion_name from guest g inner join airbnb a on g.property_id=a.property_id where g.year=2017) c group by c.property_id, c.city_name, c.country, c.subregion_name order by sum_rev desc  \").fetchall()\n",
    "\n"
   ]
  },
  {
   "cell_type": "code",
   "execution_count": null,
   "metadata": {},
   "outputs": [],
   "source": []
  },
  {
   "cell_type": "code",
   "execution_count": 78,
   "metadata": {},
   "outputs": [],
   "source": [
    "guest_2017 = guest[guest.year==2017]"
   ]
  },
  {
   "cell_type": "code",
   "execution_count": 79,
   "metadata": {},
   "outputs": [],
   "source": [
    "guest_2017_property = guest_2017.merge(airbnb,on='property_id')"
   ]
  },
  {
   "cell_type": "code",
   "execution_count": 80,
   "metadata": {},
   "outputs": [
    {
     "data": {
      "text/html": [
       "<div>\n",
       "<style scoped>\n",
       "    .dataframe tbody tr th:only-of-type {\n",
       "        vertical-align: middle;\n",
       "    }\n",
       "\n",
       "    .dataframe tbody tr th {\n",
       "        vertical-align: top;\n",
       "    }\n",
       "\n",
       "    .dataframe thead th {\n",
       "        text-align: right;\n",
       "    }\n",
       "</style>\n",
       "<table border=\"1\" class=\"dataframe\">\n",
       "  <thead>\n",
       "    <tr style=\"text-align: right;\">\n",
       "      <th></th>\n",
       "      <th></th>\n",
       "      <th></th>\n",
       "      <th></th>\n",
       "      <th>airbnb_revenue</th>\n",
       "    </tr>\n",
       "    <tr>\n",
       "      <th>property_id</th>\n",
       "      <th>city_name</th>\n",
       "      <th>country</th>\n",
       "      <th>subregion_name</th>\n",
       "      <th></th>\n",
       "    </tr>\n",
       "  </thead>\n",
       "  <tbody>\n",
       "    <tr>\n",
       "      <td>1</td>\n",
       "      <td>Boston</td>\n",
       "      <td>A</td>\n",
       "      <td>MA</td>\n",
       "      <td>500</td>\n",
       "    </tr>\n",
       "    <tr>\n",
       "      <td>2</td>\n",
       "      <td>Boston</td>\n",
       "      <td>A</td>\n",
       "      <td>WY</td>\n",
       "      <td>400</td>\n",
       "    </tr>\n",
       "    <tr>\n",
       "      <td>4</td>\n",
       "      <td>Paris</td>\n",
       "      <td>C</td>\n",
       "      <td>Louve</td>\n",
       "      <td>100</td>\n",
       "    </tr>\n",
       "  </tbody>\n",
       "</table>\n",
       "</div>"
      ],
      "text/plain": [
       "                                              airbnb_revenue\n",
       "property_id city_name country subregion_name                \n",
       "1           Boston    A       MA                         500\n",
       "2           Boston    A       WY                         400\n",
       "4           Paris     C       Louve                      100"
      ]
     },
     "execution_count": 80,
     "metadata": {},
     "output_type": "execute_result"
    }
   ],
   "source": [
    "guest_2017_property.groupby(['property_id','city_name','country','subregion_name']).agg({'airbnb_revenue':'sum'})"
   ]
  },
  {
   "cell_type": "code",
   "execution_count": 81,
   "metadata": {},
   "outputs": [],
   "source": [
    "# filter to year\n",
    "guest['year_end'] = guest.date_end.apply(lambda x: int(x[:4]))\n",
    "guest['year_beg'] = guest.date_start.apply(lambda x: int(x[:4]))\n",
    "guest = guest[(guest.year_end==2017) & (guest.year_beg==2017)]\n",
    "\n",
    "\n",
    "property_table = airbnb.merge(guest, on='property_id')\n",
    "revenue = property_table.groupby(['country','city_name','subregion_name']).agg({'airbnb_revenue':'sum'}).reset_index()\n",
    "revenue.columns = ['country','city_name','subregion_name','summed_rev']"
   ]
  },
  {
   "cell_type": "code",
   "execution_count": 82,
   "metadata": {},
   "outputs": [
    {
     "data": {
      "text/html": [
       "<div>\n",
       "<style scoped>\n",
       "    .dataframe tbody tr th:only-of-type {\n",
       "        vertical-align: middle;\n",
       "    }\n",
       "\n",
       "    .dataframe tbody tr th {\n",
       "        vertical-align: top;\n",
       "    }\n",
       "\n",
       "    .dataframe thead th {\n",
       "        text-align: right;\n",
       "    }\n",
       "</style>\n",
       "<table border=\"1\" class=\"dataframe\">\n",
       "  <thead>\n",
       "    <tr style=\"text-align: right;\">\n",
       "      <th></th>\n",
       "      <th>guest_id</th>\n",
       "      <th>property_id</th>\n",
       "      <th>date_start</th>\n",
       "      <th>date_end</th>\n",
       "      <th>stay_length</th>\n",
       "      <th>airbnb_revenue</th>\n",
       "      <th>year_end</th>\n",
       "      <th>year_beg</th>\n",
       "    </tr>\n",
       "  </thead>\n",
       "  <tbody>\n",
       "    <tr>\n",
       "      <td>0</td>\n",
       "      <td>123</td>\n",
       "      <td>1</td>\n",
       "      <td>2017-07-10</td>\n",
       "      <td>2017-07-12</td>\n",
       "      <td>2</td>\n",
       "      <td>200</td>\n",
       "      <td>2017</td>\n",
       "      <td>2017</td>\n",
       "    </tr>\n",
       "    <tr>\n",
       "      <td>1</td>\n",
       "      <td>345</td>\n",
       "      <td>1</td>\n",
       "      <td>2017-10-02</td>\n",
       "      <td>2017-10-05</td>\n",
       "      <td>3</td>\n",
       "      <td>300</td>\n",
       "      <td>2017</td>\n",
       "      <td>2017</td>\n",
       "    </tr>\n",
       "    <tr>\n",
       "      <td>2</td>\n",
       "      <td>123</td>\n",
       "      <td>2</td>\n",
       "      <td>2017-12-28</td>\n",
       "      <td>2017-01-01</td>\n",
       "      <td>4</td>\n",
       "      <td>400</td>\n",
       "      <td>2017</td>\n",
       "      <td>2017</td>\n",
       "    </tr>\n",
       "    <tr>\n",
       "      <td>3</td>\n",
       "      <td>678</td>\n",
       "      <td>4</td>\n",
       "      <td>2017-01-03</td>\n",
       "      <td>2017-01-05</td>\n",
       "      <td>2</td>\n",
       "      <td>100</td>\n",
       "      <td>2017</td>\n",
       "      <td>2017</td>\n",
       "    </tr>\n",
       "  </tbody>\n",
       "</table>\n",
       "</div>"
      ],
      "text/plain": [
       "   guest_id  property_id  date_start    date_end  stay_length  airbnb_revenue  \\\n",
       "0       123            1  2017-07-10  2017-07-12            2             200   \n",
       "1       345            1  2017-10-02  2017-10-05            3             300   \n",
       "2       123            2  2017-12-28  2017-01-01            4             400   \n",
       "3       678            4  2017-01-03  2017-01-05            2             100   \n",
       "\n",
       "   year_end  year_beg  \n",
       "0      2017      2017  \n",
       "1      2017      2017  \n",
       "2      2017      2017  \n",
       "3      2017      2017  "
      ]
     },
     "execution_count": 82,
     "metadata": {},
     "output_type": "execute_result"
    }
   ],
   "source": [
    "guest"
   ]
  },
  {
   "cell_type": "code",
   "execution_count": 83,
   "metadata": {},
   "outputs": [
    {
     "data": {
      "text/html": [
       "<div>\n",
       "<style scoped>\n",
       "    .dataframe tbody tr th:only-of-type {\n",
       "        vertical-align: middle;\n",
       "    }\n",
       "\n",
       "    .dataframe tbody tr th {\n",
       "        vertical-align: top;\n",
       "    }\n",
       "\n",
       "    .dataframe thead th {\n",
       "        text-align: right;\n",
       "    }\n",
       "</style>\n",
       "<table border=\"1\" class=\"dataframe\">\n",
       "  <thead>\n",
       "    <tr style=\"text-align: right;\">\n",
       "      <th></th>\n",
       "      <th>property_id</th>\n",
       "      <th>country</th>\n",
       "      <th>city_name</th>\n",
       "      <th>subregion_name</th>\n",
       "      <th>addres</th>\n",
       "    </tr>\n",
       "  </thead>\n",
       "  <tbody>\n",
       "    <tr>\n",
       "      <td>0</td>\n",
       "      <td>1</td>\n",
       "      <td>A</td>\n",
       "      <td>Boston</td>\n",
       "      <td>MA</td>\n",
       "      <td>123</td>\n",
       "    </tr>\n",
       "    <tr>\n",
       "      <td>1</td>\n",
       "      <td>2</td>\n",
       "      <td>A</td>\n",
       "      <td>Boston</td>\n",
       "      <td>WY</td>\n",
       "      <td>345</td>\n",
       "    </tr>\n",
       "    <tr>\n",
       "      <td>2</td>\n",
       "      <td>3</td>\n",
       "      <td>B</td>\n",
       "      <td>Berlin</td>\n",
       "      <td>Frank</td>\n",
       "      <td>567</td>\n",
       "    </tr>\n",
       "    <tr>\n",
       "      <td>3</td>\n",
       "      <td>4</td>\n",
       "      <td>C</td>\n",
       "      <td>Paris</td>\n",
       "      <td>Louve</td>\n",
       "      <td>789</td>\n",
       "    </tr>\n",
       "  </tbody>\n",
       "</table>\n",
       "</div>"
      ],
      "text/plain": [
       "   property_id country city_name subregion_name addres\n",
       "0            1       A    Boston             MA    123\n",
       "1            2       A    Boston             WY    345\n",
       "2            3       B    Berlin          Frank    567\n",
       "3            4       C     Paris          Louve    789"
      ]
     },
     "execution_count": 83,
     "metadata": {},
     "output_type": "execute_result"
    }
   ],
   "source": [
    "airbnb"
   ]
  },
  {
   "cell_type": "code",
   "execution_count": 84,
   "metadata": {},
   "outputs": [
    {
     "data": {
      "text/html": [
       "<div>\n",
       "<style scoped>\n",
       "    .dataframe tbody tr th:only-of-type {\n",
       "        vertical-align: middle;\n",
       "    }\n",
       "\n",
       "    .dataframe tbody tr th {\n",
       "        vertical-align: top;\n",
       "    }\n",
       "\n",
       "    .dataframe thead th {\n",
       "        text-align: right;\n",
       "    }\n",
       "</style>\n",
       "<table border=\"1\" class=\"dataframe\">\n",
       "  <thead>\n",
       "    <tr style=\"text-align: right;\">\n",
       "      <th></th>\n",
       "      <th>property_id</th>\n",
       "      <th>country</th>\n",
       "      <th>city_name</th>\n",
       "      <th>subregion_name</th>\n",
       "      <th>addres</th>\n",
       "      <th>guest_id</th>\n",
       "      <th>date_start</th>\n",
       "      <th>date_end</th>\n",
       "      <th>stay_length</th>\n",
       "      <th>airbnb_revenue</th>\n",
       "      <th>year_end</th>\n",
       "      <th>year_beg</th>\n",
       "    </tr>\n",
       "  </thead>\n",
       "  <tbody>\n",
       "    <tr>\n",
       "      <td>0</td>\n",
       "      <td>1</td>\n",
       "      <td>A</td>\n",
       "      <td>Boston</td>\n",
       "      <td>MA</td>\n",
       "      <td>123</td>\n",
       "      <td>123</td>\n",
       "      <td>2017-07-10</td>\n",
       "      <td>2017-07-12</td>\n",
       "      <td>2</td>\n",
       "      <td>200</td>\n",
       "      <td>2017</td>\n",
       "      <td>2017</td>\n",
       "    </tr>\n",
       "    <tr>\n",
       "      <td>1</td>\n",
       "      <td>1</td>\n",
       "      <td>A</td>\n",
       "      <td>Boston</td>\n",
       "      <td>MA</td>\n",
       "      <td>123</td>\n",
       "      <td>345</td>\n",
       "      <td>2017-10-02</td>\n",
       "      <td>2017-10-05</td>\n",
       "      <td>3</td>\n",
       "      <td>300</td>\n",
       "      <td>2017</td>\n",
       "      <td>2017</td>\n",
       "    </tr>\n",
       "    <tr>\n",
       "      <td>2</td>\n",
       "      <td>2</td>\n",
       "      <td>A</td>\n",
       "      <td>Boston</td>\n",
       "      <td>WY</td>\n",
       "      <td>345</td>\n",
       "      <td>123</td>\n",
       "      <td>2017-12-28</td>\n",
       "      <td>2017-01-01</td>\n",
       "      <td>4</td>\n",
       "      <td>400</td>\n",
       "      <td>2017</td>\n",
       "      <td>2017</td>\n",
       "    </tr>\n",
       "    <tr>\n",
       "      <td>3</td>\n",
       "      <td>4</td>\n",
       "      <td>C</td>\n",
       "      <td>Paris</td>\n",
       "      <td>Louve</td>\n",
       "      <td>789</td>\n",
       "      <td>678</td>\n",
       "      <td>2017-01-03</td>\n",
       "      <td>2017-01-05</td>\n",
       "      <td>2</td>\n",
       "      <td>100</td>\n",
       "      <td>2017</td>\n",
       "      <td>2017</td>\n",
       "    </tr>\n",
       "  </tbody>\n",
       "</table>\n",
       "</div>"
      ],
      "text/plain": [
       "   property_id country city_name subregion_name addres  guest_id  date_start  \\\n",
       "0            1       A    Boston             MA    123       123  2017-07-10   \n",
       "1            1       A    Boston             MA    123       345  2017-10-02   \n",
       "2            2       A    Boston             WY    345       123  2017-12-28   \n",
       "3            4       C     Paris          Louve    789       678  2017-01-03   \n",
       "\n",
       "     date_end  stay_length  airbnb_revenue  year_end  year_beg  \n",
       "0  2017-07-12            2             200      2017      2017  \n",
       "1  2017-10-05            3             300      2017      2017  \n",
       "2  2017-01-01            4             400      2017      2017  \n",
       "3  2017-01-05            2             100      2017      2017  "
      ]
     },
     "execution_count": 84,
     "metadata": {},
     "output_type": "execute_result"
    }
   ],
   "source": [
    "property_table"
   ]
  },
  {
   "cell_type": "code",
   "execution_count": 85,
   "metadata": {},
   "outputs": [
    {
     "data": {
      "text/html": [
       "<div>\n",
       "<style scoped>\n",
       "    .dataframe tbody tr th:only-of-type {\n",
       "        vertical-align: middle;\n",
       "    }\n",
       "\n",
       "    .dataframe tbody tr th {\n",
       "        vertical-align: top;\n",
       "    }\n",
       "\n",
       "    .dataframe thead th {\n",
       "        text-align: right;\n",
       "    }\n",
       "</style>\n",
       "<table border=\"1\" class=\"dataframe\">\n",
       "  <thead>\n",
       "    <tr style=\"text-align: right;\">\n",
       "      <th></th>\n",
       "      <th>country</th>\n",
       "      <th>city_name</th>\n",
       "      <th>subregion_name</th>\n",
       "      <th>summed_rev</th>\n",
       "    </tr>\n",
       "  </thead>\n",
       "  <tbody>\n",
       "    <tr>\n",
       "      <td>0</td>\n",
       "      <td>A</td>\n",
       "      <td>Boston</td>\n",
       "      <td>MA</td>\n",
       "      <td>500</td>\n",
       "    </tr>\n",
       "    <tr>\n",
       "      <td>1</td>\n",
       "      <td>A</td>\n",
       "      <td>Boston</td>\n",
       "      <td>WY</td>\n",
       "      <td>400</td>\n",
       "    </tr>\n",
       "    <tr>\n",
       "      <td>2</td>\n",
       "      <td>C</td>\n",
       "      <td>Paris</td>\n",
       "      <td>Louve</td>\n",
       "      <td>100</td>\n",
       "    </tr>\n",
       "  </tbody>\n",
       "</table>\n",
       "</div>"
      ],
      "text/plain": [
       "  country city_name subregion_name  summed_rev\n",
       "0       A    Boston             MA         500\n",
       "1       A    Boston             WY         400\n",
       "2       C     Paris          Louve         100"
      ]
     },
     "execution_count": 85,
     "metadata": {},
     "output_type": "execute_result"
    }
   ],
   "source": [
    "revenue"
   ]
  },
  {
   "cell_type": "markdown",
   "metadata": {},
   "source": [
    "#### Email question 22 - get sample of users from each group"
   ]
  },
  {
   "cell_type": "code",
   "execution_count": 64,
   "metadata": {},
   "outputs": [],
   "source": [
    "user_devices = pd.DataFrame()\n",
    "user_devices['user_id'] = [1,2,3,4,5,6,7,8]\n",
    "user_devices['devices'] = [['watch','computer'],['watch','phone'],['watch','phone','computer'],\n",
    "                           ['watch','phone','computer'],['watch','phone','computer'],\n",
    "                          ['watch','phone','computer'],['watch','phone','computer'],\n",
    "                          ['watch','computer']]"
   ]
  },
  {
   "cell_type": "code",
   "execution_count": 65,
   "metadata": {},
   "outputs": [],
   "source": [
    "user_devices = user_devices.explode('devices')\n",
    "watch_df = user_devices[user_devices.devices=='watch']\n",
    "phone_df = user_devices[user_devices.devices=='phone']\n",
    "computer_df = user_devices[user_devices.devices=='computer']\n",
    "\n",
    "# watch_sample = watch_df.sample(2)\n",
    "# watch_sample.columns = ['user_id','device_watch']\n",
    "# phone_watch_merge = phone_df.merge(watch_sample, on='user_id',how='left')\n",
    "# phone_watch_merge = phone_watch_merge[phone_watch_merge.device_watch.isna()]\n",
    "# phone_sample = phone_watch_merge.sample(2)\n",
    "\n",
    "# selected_users = pd.concat([phone_sample,watch_sample], sort=False)\n",
    "# selected_users['selected'] = 1\n",
    "# computer_watch_phone_merge = computer_df.merge(selected_users, on='user_id',how='left')\n",
    "# computer_sample = computer_watch_phone_merge[computer_watch_phone_merge.selected.isna()].sample(2)\n",
    "\n"
   ]
  },
  {
   "cell_type": "code",
   "execution_count": 66,
   "metadata": {},
   "outputs": [],
   "source": [
    "watch_sample = watch_df.sample(2)"
   ]
  },
  {
   "cell_type": "code",
   "execution_count": 67,
   "metadata": {},
   "outputs": [],
   "source": [
    "remaining_users = set(user_devices.user_id.values).difference(set(watch_sample.user_id.values))"
   ]
  },
  {
   "cell_type": "code",
   "execution_count": 70,
   "metadata": {},
   "outputs": [],
   "source": [
    "remain_users_df = pd.DataFrame()\n",
    "remain_users_df['user_id'] = np.array(remaining_users)\n",
    "# phone_df.merge(remain_users_df, on='user_id')"
   ]
  },
  {
   "cell_type": "markdown",
   "metadata": {},
   "source": [
    "#### EMAIL Problem #21: Spread a months aggregated amount across days in the month"
   ]
  },
  {
   "cell_type": "code",
   "execution_count": 6,
   "metadata": {},
   "outputs": [],
   "source": [
    "month_agg = pd.DataFrame()\n",
    "month_agg['month'] = [1,2,3]\n",
    "month_agg['rev'] = [300,330,390]"
   ]
  },
  {
   "cell_type": "code",
   "execution_count": 7,
   "metadata": {},
   "outputs": [
    {
     "data": {
      "text/html": [
       "<div>\n",
       "<style scoped>\n",
       "    .dataframe tbody tr th:only-of-type {\n",
       "        vertical-align: middle;\n",
       "    }\n",
       "\n",
       "    .dataframe tbody tr th {\n",
       "        vertical-align: top;\n",
       "    }\n",
       "\n",
       "    .dataframe thead th {\n",
       "        text-align: right;\n",
       "    }\n",
       "</style>\n",
       "<table border=\"1\" class=\"dataframe\">\n",
       "  <thead>\n",
       "    <tr style=\"text-align: right;\">\n",
       "      <th></th>\n",
       "      <th>month</th>\n",
       "      <th>rev</th>\n",
       "    </tr>\n",
       "  </thead>\n",
       "  <tbody>\n",
       "    <tr>\n",
       "      <td>0</td>\n",
       "      <td>1</td>\n",
       "      <td>300</td>\n",
       "    </tr>\n",
       "    <tr>\n",
       "      <td>1</td>\n",
       "      <td>2</td>\n",
       "      <td>330</td>\n",
       "    </tr>\n",
       "    <tr>\n",
       "      <td>2</td>\n",
       "      <td>3</td>\n",
       "      <td>390</td>\n",
       "    </tr>\n",
       "  </tbody>\n",
       "</table>\n",
       "</div>"
      ],
      "text/plain": [
       "   month  rev\n",
       "0      1  300\n",
       "1      2  330\n",
       "2      3  390"
      ]
     },
     "execution_count": 7,
     "metadata": {},
     "output_type": "execute_result"
    }
   ],
   "source": [
    "month_agg"
   ]
  },
  {
   "cell_type": "code",
   "execution_count": 8,
   "metadata": {},
   "outputs": [],
   "source": [
    "for i in month_agg.month.unique():\n",
    "    month_agg = month_agg.append([month_agg[month_agg.month==i]]*29, ignore_index=True)\n"
   ]
  },
  {
   "cell_type": "code",
   "execution_count": 20,
   "metadata": {},
   "outputs": [],
   "source": [
    "month_agg['dist'] = month_agg.groupby('month', sort=False).rev.apply(lambda x: x/30.0)"
   ]
  },
  {
   "cell_type": "code",
   "execution_count": 23,
   "metadata": {},
   "outputs": [],
   "source": [
    "month_agg = month_agg.sort_values('month')"
   ]
  },
  {
   "cell_type": "code",
   "execution_count": 27,
   "metadata": {},
   "outputs": [],
   "source": [
    "month_agg['day'] = [i for i in range(1,31)]*3"
   ]
  },
  {
   "cell_type": "markdown",
   "metadata": {},
   "source": [
    "Alternative solution"
   ]
  },
  {
   "cell_type": "code",
   "execution_count": 36,
   "metadata": {},
   "outputs": [],
   "source": [
    "daily_agg = pd.DataFrame()\n",
    "daily_agg['month'] = month_agg.month.unique().repeat(30)"
   ]
  },
  {
   "cell_type": "code",
   "execution_count": 37,
   "metadata": {},
   "outputs": [],
   "source": [
    "daily_agg['days'] = [i for i in range(1,31)]*3"
   ]
  },
  {
   "cell_type": "code",
   "execution_count": 38,
   "metadata": {},
   "outputs": [],
   "source": [
    "daily_agg['totals'] = month_agg.rev.unique().repeat(30)"
   ]
  },
  {
   "cell_type": "code",
   "execution_count": 39,
   "metadata": {},
   "outputs": [],
   "source": [
    "daily_agg['daily_total'] = daily_agg['totals']/30.0"
   ]
  },
  {
   "cell_type": "code",
   "execution_count": 40,
   "metadata": {},
   "outputs": [
    {
     "data": {
      "text/html": [
       "<div>\n",
       "<style scoped>\n",
       "    .dataframe tbody tr th:only-of-type {\n",
       "        vertical-align: middle;\n",
       "    }\n",
       "\n",
       "    .dataframe tbody tr th {\n",
       "        vertical-align: top;\n",
       "    }\n",
       "\n",
       "    .dataframe thead th {\n",
       "        text-align: right;\n",
       "    }\n",
       "</style>\n",
       "<table border=\"1\" class=\"dataframe\">\n",
       "  <thead>\n",
       "    <tr style=\"text-align: right;\">\n",
       "      <th></th>\n",
       "      <th>month</th>\n",
       "      <th>days</th>\n",
       "      <th>totals</th>\n",
       "      <th>daily_total</th>\n",
       "    </tr>\n",
       "  </thead>\n",
       "  <tbody>\n",
       "    <tr>\n",
       "      <td>0</td>\n",
       "      <td>1</td>\n",
       "      <td>1</td>\n",
       "      <td>300</td>\n",
       "      <td>10.0</td>\n",
       "    </tr>\n",
       "    <tr>\n",
       "      <td>1</td>\n",
       "      <td>1</td>\n",
       "      <td>2</td>\n",
       "      <td>300</td>\n",
       "      <td>10.0</td>\n",
       "    </tr>\n",
       "    <tr>\n",
       "      <td>2</td>\n",
       "      <td>1</td>\n",
       "      <td>3</td>\n",
       "      <td>300</td>\n",
       "      <td>10.0</td>\n",
       "    </tr>\n",
       "    <tr>\n",
       "      <td>3</td>\n",
       "      <td>1</td>\n",
       "      <td>4</td>\n",
       "      <td>300</td>\n",
       "      <td>10.0</td>\n",
       "    </tr>\n",
       "    <tr>\n",
       "      <td>4</td>\n",
       "      <td>1</td>\n",
       "      <td>5</td>\n",
       "      <td>300</td>\n",
       "      <td>10.0</td>\n",
       "    </tr>\n",
       "    <tr>\n",
       "      <td>...</td>\n",
       "      <td>...</td>\n",
       "      <td>...</td>\n",
       "      <td>...</td>\n",
       "      <td>...</td>\n",
       "    </tr>\n",
       "    <tr>\n",
       "      <td>85</td>\n",
       "      <td>3</td>\n",
       "      <td>26</td>\n",
       "      <td>390</td>\n",
       "      <td>13.0</td>\n",
       "    </tr>\n",
       "    <tr>\n",
       "      <td>86</td>\n",
       "      <td>3</td>\n",
       "      <td>27</td>\n",
       "      <td>390</td>\n",
       "      <td>13.0</td>\n",
       "    </tr>\n",
       "    <tr>\n",
       "      <td>87</td>\n",
       "      <td>3</td>\n",
       "      <td>28</td>\n",
       "      <td>390</td>\n",
       "      <td>13.0</td>\n",
       "    </tr>\n",
       "    <tr>\n",
       "      <td>88</td>\n",
       "      <td>3</td>\n",
       "      <td>29</td>\n",
       "      <td>390</td>\n",
       "      <td>13.0</td>\n",
       "    </tr>\n",
       "    <tr>\n",
       "      <td>89</td>\n",
       "      <td>3</td>\n",
       "      <td>30</td>\n",
       "      <td>390</td>\n",
       "      <td>13.0</td>\n",
       "    </tr>\n",
       "  </tbody>\n",
       "</table>\n",
       "<p>90 rows × 4 columns</p>\n",
       "</div>"
      ],
      "text/plain": [
       "    month  days  totals  daily_total\n",
       "0       1     1     300         10.0\n",
       "1       1     2     300         10.0\n",
       "2       1     3     300         10.0\n",
       "3       1     4     300         10.0\n",
       "4       1     5     300         10.0\n",
       "..    ...   ...     ...          ...\n",
       "85      3    26     390         13.0\n",
       "86      3    27     390         13.0\n",
       "87      3    28     390         13.0\n",
       "88      3    29     390         13.0\n",
       "89      3    30     390         13.0\n",
       "\n",
       "[90 rows x 4 columns]"
      ]
     },
     "execution_count": 40,
     "metadata": {},
     "output_type": "execute_result"
    }
   ],
   "source": [
    "daily_agg"
   ]
  },
  {
   "cell_type": "markdown",
   "metadata": {},
   "source": [
    "#### Email question 18 - percent of revenue coming from loyal customers"
   ]
  },
  {
   "cell_type": "code",
   "execution_count": 12,
   "metadata": {},
   "outputs": [],
   "source": [
    "hotels = pd.DataFrame()\n",
    "hotels['customer_id'] = [1,1,1,1,1,1,1,1,1,1,2,2,3,3,3,3]\n",
    "hotels['hotel_id'] = [1,1,1,1,2,2,2,3,3,3,2,4,1,3,2,4]\n",
    "hotels['transaction_id'] = range(16)\n",
    "hotels['total_spend'] = [100]*16\n",
    "hotels['is_member'] = [True, True, True,True, True, True, True,True, True,True, False, False, True, True, True, True]"
   ]
  },
  {
   "cell_type": "code",
   "execution_count": 13,
   "metadata": {},
   "outputs": [],
   "source": [
    "hotels.to_sql('hotels',con=engine)"
   ]
  },
  {
   "cell_type": "code",
   "execution_count": 15,
   "metadata": {},
   "outputs": [
    {
     "data": {
      "text/plain": [
       "[(0.625,)]"
      ]
     },
     "execution_count": 15,
     "metadata": {},
     "output_type": "execute_result"
    }
   ],
   "source": [
    "engine.execute(\"\"\"\n",
    "WITH loyal as(\n",
    "    SELECT\n",
    "        customer_id,\n",
    "        hotel_id,\n",
    "        sum(total_spend) as total_spend,\n",
    "        count(distinct(transaction_id))>2 as at_least_twice\n",
    "    FROM hotels\n",
    "    WHERE hotels.is_member=True\n",
    "    GROUP BY customer_id, hotel_id\n",
    "), twice as(\n",
    "    SELECT\n",
    "        customer_id,\n",
    "        sum(total_spend) as total_spend,\n",
    "        sum(at_least_twice) as all_at_least_twice,\n",
    "        count(distinct(hotel_id)) as num_hotels\n",
    "    FROM loyal\n",
    "    GROUP BY customer_id\n",
    "    HAVING all_at_least_twice=num_hotels and num_hotels>2\n",
    ")\n",
    "\n",
    "SELECT\n",
    "    1.0*sum(twice.total_spend)/(SELECT SUM(hotels.total_spend) FROM hotels)\n",
    "FROM twice\n",
    "\n",
    "\n",
    "\n",
    "\n",
    "\n",
    "\n",
    "\"\"\").fetchall()"
   ]
  },
  {
   "cell_type": "code",
   "execution_count": null,
   "metadata": {},
   "outputs": [],
   "source": []
  },
  {
   "cell_type": "code",
   "execution_count": null,
   "metadata": {},
   "outputs": [],
   "source": []
  },
  {
   "cell_type": "code",
   "execution_count": null,
   "metadata": {},
   "outputs": [],
   "source": []
  },
  {
   "cell_type": "code",
   "execution_count": null,
   "metadata": {},
   "outputs": [],
   "source": []
  },
  {
   "cell_type": "code",
   "execution_count": 21,
   "metadata": {},
   "outputs": [
    {
     "data": {
      "text/plain": [
       "[(0.625,)]"
      ]
     },
     "execution_count": 21,
     "metadata": {},
     "output_type": "execute_result"
    }
   ],
   "source": [
    "engine.execute(\"\"\"\n",
    "WITH member as(\n",
    "  SELECT *\n",
    "  FROM hotels\n",
    "  WHERE hotels.is_member=True\n",
    "), visit as(\n",
    "  SELECT \n",
    "    customer_id,\n",
    "    COUNT(DISTINCT(hotel_id)) as hotel_count\n",
    "  FROM member\n",
    "  GROUP BY member.customer_id\n",
    "  HAVING hotel_count>=3\n",
    "), two as(\n",
    "  SELECT\n",
    "    member.customer_id as customer_id,\n",
    "    member.hotel_id as hotel_id,\n",
    "    SUM(member.total_spend) as spend,\n",
    "    COUNT(DISTINCT(member.transaction_id))<2 as not_enough\n",
    "  FROM member\n",
    "  INNER JOIN visit\n",
    "    ON member.customer_id=visit.customer_id\n",
    "  GROUP BY member.customer_id, member.hotel_id\n",
    "), loyal as(\n",
    "  SELECT\n",
    "    customer_id,\n",
    "    SUM(not_enough) as not_enough,\n",
    "    SUM(spend) as spend\n",
    "  FROM two\n",
    "  GROUP BY two.customer_id\n",
    "  HAVING not_enough=0\n",
    ")\n",
    "\n",
    "SELECT\n",
    "  SUM(spend)*1.0/(SELECT SUM(total_spend) FROM hotels)\n",
    "FROM loyal\n",
    "\n",
    "\n",
    "\n",
    "\"\"\").fetchall()\n"
   ]
  },
  {
   "cell_type": "code",
   "execution_count": null,
   "metadata": {},
   "outputs": [],
   "source": []
  },
  {
   "cell_type": "code",
   "execution_count": 22,
   "metadata": {},
   "outputs": [
    {
     "data": {
      "text/plain": [
       "[(0.625,)]"
      ]
     },
     "execution_count": 22,
     "metadata": {},
     "output_type": "execute_result"
    }
   ],
   "source": [
    "engine.execute(\"\"\"select 1.0*s/(select sum(total_spend) from hotels) from (select customer_id, count(hotel_id) a , sum(count_tran) b, sum(spend) as s \n",
    "               from \n",
    "               (select customer_id, hotel_id, count(transaction_id)>=2 as count_tran, sum(total_spend) spend from hotels where is_member is True group by customer_id, hotel_id) \n",
    "               group by customer_id having a>=3 and a=b)\"\"\").fetchall()\n"
   ]
  },
  {
   "cell_type": "code",
   "execution_count": 13,
   "metadata": {},
   "outputs": [
    {
     "data": {
      "text/plain": [
       "[(1, 1, 4), (1, 2, 3), (1, 3, 3)]"
      ]
     },
     "execution_count": 13,
     "metadata": {},
     "output_type": "execute_result"
    }
   ],
   "source": [
    "engine.execute('select customer_id, hotel_id, count(transaction_id) as num_hotel from hotels h where h.is_member is True group by customer_id, hotel_id having num_hotel>2  ').fetchall()\n",
    "\n"
   ]
  },
  {
   "cell_type": "code",
   "execution_count": null,
   "metadata": {},
   "outputs": [],
   "source": []
  },
  {
   "cell_type": "code",
   "execution_count": 42,
   "metadata": {},
   "outputs": [],
   "source": [
    "member = hotels[hotels.is_member==True]\n",
    "member = member.groupby('customer_id').filter(lambda x: x['hotel_id'].nunique()>=3)\n",
    "member_transaction = member.groupby(['customer_id','hotel_id']).agg({'transaction_id':'count','total_spend':'sum'}).reset_index()\n",
    "member_transaction = member_transaction.groupby('customer_id').filter(lambda x: sum(x['transaction_id']>2)==x.shape[0])\n",
    "\n",
    "# loyal_customers.total_spend.sum()/hotels.total_spend.sum()\n",
    "\n",
    "\n",
    "\n"
   ]
  },
  {
   "cell_type": "code",
   "execution_count": 44,
   "metadata": {},
   "outputs": [
    {
     "data": {
      "text/plain": [
       "0.625"
      ]
     },
     "execution_count": 44,
     "metadata": {},
     "output_type": "execute_result"
    }
   ],
   "source": [
    "member_transaction.total_spend.sum()/hotels.total_spend.sum()"
   ]
  },
  {
   "cell_type": "code",
   "execution_count": 48,
   "metadata": {},
   "outputs": [
    {
     "data": {
      "text/html": [
       "<div>\n",
       "<style scoped>\n",
       "    .dataframe tbody tr th:only-of-type {\n",
       "        vertical-align: middle;\n",
       "    }\n",
       "\n",
       "    .dataframe tbody tr th {\n",
       "        vertical-align: top;\n",
       "    }\n",
       "\n",
       "    .dataframe thead th {\n",
       "        text-align: right;\n",
       "    }\n",
       "</style>\n",
       "<table border=\"1\" class=\"dataframe\">\n",
       "  <thead>\n",
       "    <tr style=\"text-align: right;\">\n",
       "      <th></th>\n",
       "      <th>customer_id</th>\n",
       "      <th>hotel_id</th>\n",
       "      <th>transaction_id</th>\n",
       "      <th>total_spend</th>\n",
       "    </tr>\n",
       "  </thead>\n",
       "  <tbody>\n",
       "    <tr>\n",
       "      <td>0</td>\n",
       "      <td>1</td>\n",
       "      <td>1</td>\n",
       "      <td>4</td>\n",
       "      <td>400</td>\n",
       "    </tr>\n",
       "    <tr>\n",
       "      <td>1</td>\n",
       "      <td>1</td>\n",
       "      <td>2</td>\n",
       "      <td>3</td>\n",
       "      <td>300</td>\n",
       "    </tr>\n",
       "    <tr>\n",
       "      <td>2</td>\n",
       "      <td>1</td>\n",
       "      <td>3</td>\n",
       "      <td>3</td>\n",
       "      <td>300</td>\n",
       "    </tr>\n",
       "  </tbody>\n",
       "</table>\n",
       "</div>"
      ],
      "text/plain": [
       "   customer_id  hotel_id  transaction_id  total_spend\n",
       "0            1         1               4          400\n",
       "1            1         2               3          300\n",
       "2            1         3               3          300"
      ]
     },
     "execution_count": 48,
     "metadata": {},
     "output_type": "execute_result"
    }
   ],
   "source": [
    "member_transaction"
   ]
  },
  {
   "cell_type": "code",
   "execution_count": 53,
   "metadata": {},
   "outputs": [
    {
     "data": {
      "text/plain": [
       "4"
      ]
     },
     "execution_count": 53,
     "metadata": {},
     "output_type": "execute_result"
    }
   ],
   "source": [
    "2+2"
   ]
  },
  {
   "cell_type": "code",
   "execution_count": 26,
   "metadata": {},
   "outputs": [
    {
     "data": {
      "text/plain": [
       "[(2, 4, 1),\n",
       " (3, 4, 1),\n",
       " (1, 3, 3),\n",
       " (1, 3, 3),\n",
       " (1, 3, 3),\n",
       " (3, 3, 3),\n",
       " (1, 2, 7),\n",
       " (1, 2, 7),\n",
       " (1, 2, 7),\n",
       " (2, 2, 7),\n",
       " (3, 2, 7),\n",
       " (1, 1, 12),\n",
       " (1, 1, 12),\n",
       " (1, 1, 12),\n",
       " (1, 1, 12),\n",
       " (3, 1, 12)]"
      ]
     },
     "execution_count": 26,
     "metadata": {},
     "output_type": "execute_result"
    }
   ],
   "source": [
    "engine.execute(\"\"\"\n",
    "SELECT \n",
    "customer_id,\n",
    "hotel_id,\n",
    "rank() over (order by hotel_id desc) as rn\n",
    "FROM hotels\n",
    "\n",
    "\n",
    "\"\"\").fetchall()"
   ]
  },
  {
   "cell_type": "code",
   "execution_count": null,
   "metadata": {},
   "outputs": [],
   "source": []
  },
  {
   "cell_type": "code",
   "execution_count": null,
   "metadata": {},
   "outputs": [],
   "source": []
  },
  {
   "cell_type": "code",
   "execution_count": null,
   "metadata": {},
   "outputs": [],
   "source": []
  },
  {
   "cell_type": "code",
   "execution_count": 50,
   "metadata": {},
   "outputs": [],
   "source": [
    "points_member = hotels[hotels.is_member==True]\n",
    "at_least_3 = points_member.groupby('customer_id').filter(lambda x: x['hotel_id'].nunique()>=3)\n",
    "greater_2 = at_least_3.groupby(['customer_id','hotel_id']).agg({'transaction_id':lambda x: x.nunique(), 'total_spend':'sum'}).reset_index()\n",
    "greater_2['bool_greater'] = greater_2.groupby('customer_id').transaction_id.transform(lambda x: x>2).values"
   ]
  },
  {
   "cell_type": "code",
   "execution_count": 51,
   "metadata": {},
   "outputs": [
    {
     "data": {
      "text/html": [
       "<div>\n",
       "<style scoped>\n",
       "    .dataframe tbody tr th:only-of-type {\n",
       "        vertical-align: middle;\n",
       "    }\n",
       "\n",
       "    .dataframe tbody tr th {\n",
       "        vertical-align: top;\n",
       "    }\n",
       "\n",
       "    .dataframe thead th {\n",
       "        text-align: right;\n",
       "    }\n",
       "</style>\n",
       "<table border=\"1\" class=\"dataframe\">\n",
       "  <thead>\n",
       "    <tr style=\"text-align: right;\">\n",
       "      <th></th>\n",
       "      <th>customer_id</th>\n",
       "      <th>bool_count</th>\n",
       "      <th>bool_sum</th>\n",
       "      <th>rev</th>\n",
       "    </tr>\n",
       "  </thead>\n",
       "  <tbody>\n",
       "    <tr>\n",
       "      <td>0</td>\n",
       "      <td>1</td>\n",
       "      <td>3</td>\n",
       "      <td>3.0</td>\n",
       "      <td>1000</td>\n",
       "    </tr>\n",
       "  </tbody>\n",
       "</table>\n",
       "</div>"
      ],
      "text/plain": [
       "   customer_id  bool_count  bool_sum   rev\n",
       "0            1           3       3.0  1000"
      ]
     },
     "execution_count": 51,
     "metadata": {},
     "output_type": "execute_result"
    }
   ],
   "source": [
    "final_df = greater_2.groupby('customer_id').agg({'bool_greater':['count','sum'], 'total_spend':'sum'}).reset_index()\n",
    "final_df.columns = ['customer_id','bool_count','bool_sum','rev']\n",
    "final_df[final_df.bool_count==final_df.bool_sum]"
   ]
  },
  {
   "cell_type": "markdown",
   "metadata": {},
   "source": [
    "#### Email question 17"
   ]
  },
  {
   "cell_type": "code",
   "execution_count": 41,
   "metadata": {},
   "outputs": [],
   "source": [
    "df = pd.DataFrame()\n",
    "df['employee_id'] = ['1','2','3','4']\n",
    "df['yrs_at_company'] = [6,20,8,20]\n",
    "df['compensation'] = [1000,2000,1500,2500]"
   ]
  },
  {
   "cell_type": "code",
   "execution_count": 42,
   "metadata": {},
   "outputs": [
    {
     "data": {
      "text/html": [
       "<div>\n",
       "<style scoped>\n",
       "    .dataframe tbody tr th:only-of-type {\n",
       "        vertical-align: middle;\n",
       "    }\n",
       "\n",
       "    .dataframe tbody tr th {\n",
       "        vertical-align: top;\n",
       "    }\n",
       "\n",
       "    .dataframe thead th {\n",
       "        text-align: right;\n",
       "    }\n",
       "</style>\n",
       "<table border=\"1\" class=\"dataframe\">\n",
       "  <thead>\n",
       "    <tr style=\"text-align: right;\">\n",
       "      <th></th>\n",
       "      <th>employee_id</th>\n",
       "      <th>yrs_at_company</th>\n",
       "      <th>compensation</th>\n",
       "    </tr>\n",
       "  </thead>\n",
       "  <tbody>\n",
       "    <tr>\n",
       "      <td>0</td>\n",
       "      <td>1</td>\n",
       "      <td>6</td>\n",
       "      <td>1000</td>\n",
       "    </tr>\n",
       "    <tr>\n",
       "      <td>1</td>\n",
       "      <td>2</td>\n",
       "      <td>20</td>\n",
       "      <td>2000</td>\n",
       "    </tr>\n",
       "    <tr>\n",
       "      <td>2</td>\n",
       "      <td>3</td>\n",
       "      <td>8</td>\n",
       "      <td>1500</td>\n",
       "    </tr>\n",
       "    <tr>\n",
       "      <td>3</td>\n",
       "      <td>4</td>\n",
       "      <td>20</td>\n",
       "      <td>2500</td>\n",
       "    </tr>\n",
       "  </tbody>\n",
       "</table>\n",
       "</div>"
      ],
      "text/plain": [
       "  employee_id  yrs_at_company  compensation\n",
       "0           1               6          1000\n",
       "1           2              20          2000\n",
       "2           3               8          1500\n",
       "3           4              20          2500"
      ]
     },
     "execution_count": 42,
     "metadata": {},
     "output_type": "execute_result"
    }
   ],
   "source": [
    "df"
   ]
  },
  {
   "cell_type": "code",
   "execution_count": 46,
   "metadata": {},
   "outputs": [],
   "source": [
    "def case_statement(x,max_tenure):\n",
    "    for i in range(0,max_tenure,5):\n",
    "        if (x>i) and (x<=(i+5)):\n",
    "            return '{0}-{1}'.format(i,i+5)\n",
    "\n",
    "df['buckets'] = df.yrs_at_company.apply(case_statement, args=[20])"
   ]
  },
  {
   "cell_type": "code",
   "execution_count": 47,
   "metadata": {},
   "outputs": [
    {
     "data": {
      "text/html": [
       "<div>\n",
       "<style scoped>\n",
       "    .dataframe tbody tr th:only-of-type {\n",
       "        vertical-align: middle;\n",
       "    }\n",
       "\n",
       "    .dataframe tbody tr th {\n",
       "        vertical-align: top;\n",
       "    }\n",
       "\n",
       "    .dataframe thead th {\n",
       "        text-align: right;\n",
       "    }\n",
       "</style>\n",
       "<table border=\"1\" class=\"dataframe\">\n",
       "  <thead>\n",
       "    <tr style=\"text-align: right;\">\n",
       "      <th></th>\n",
       "      <th>employee_id</th>\n",
       "      <th>yrs_at_company</th>\n",
       "      <th>compensation</th>\n",
       "      <th>buckets</th>\n",
       "    </tr>\n",
       "  </thead>\n",
       "  <tbody>\n",
       "    <tr>\n",
       "      <td>0</td>\n",
       "      <td>1</td>\n",
       "      <td>6</td>\n",
       "      <td>1000</td>\n",
       "      <td>5-10</td>\n",
       "    </tr>\n",
       "    <tr>\n",
       "      <td>1</td>\n",
       "      <td>2</td>\n",
       "      <td>20</td>\n",
       "      <td>2000</td>\n",
       "      <td>15-20</td>\n",
       "    </tr>\n",
       "    <tr>\n",
       "      <td>2</td>\n",
       "      <td>3</td>\n",
       "      <td>8</td>\n",
       "      <td>1500</td>\n",
       "      <td>5-10</td>\n",
       "    </tr>\n",
       "    <tr>\n",
       "      <td>3</td>\n",
       "      <td>4</td>\n",
       "      <td>20</td>\n",
       "      <td>2500</td>\n",
       "      <td>15-20</td>\n",
       "    </tr>\n",
       "  </tbody>\n",
       "</table>\n",
       "</div>"
      ],
      "text/plain": [
       "  employee_id  yrs_at_company  compensation buckets\n",
       "0           1               6          1000    5-10\n",
       "1           2              20          2000   15-20\n",
       "2           3               8          1500    5-10\n",
       "3           4              20          2500   15-20"
      ]
     },
     "execution_count": 47,
     "metadata": {},
     "output_type": "execute_result"
    }
   ],
   "source": [
    "df"
   ]
  },
  {
   "cell_type": "code",
   "execution_count": 52,
   "metadata": {},
   "outputs": [
    {
     "data": {
      "text/html": [
       "<div>\n",
       "<style scoped>\n",
       "    .dataframe tbody tr th:only-of-type {\n",
       "        vertical-align: middle;\n",
       "    }\n",
       "\n",
       "    .dataframe tbody tr th {\n",
       "        vertical-align: top;\n",
       "    }\n",
       "\n",
       "    .dataframe thead tr th {\n",
       "        text-align: left;\n",
       "    }\n",
       "\n",
       "    .dataframe thead tr:last-of-type th {\n",
       "        text-align: right;\n",
       "    }\n",
       "</style>\n",
       "<table border=\"1\" class=\"dataframe\">\n",
       "  <thead>\n",
       "    <tr>\n",
       "      <th></th>\n",
       "      <th colspan=\"6\" halign=\"left\">compensation</th>\n",
       "    </tr>\n",
       "    <tr>\n",
       "      <th></th>\n",
       "      <th>max</th>\n",
       "      <th>min</th>\n",
       "      <th>mean</th>\n",
       "      <th>median</th>\n",
       "      <th>std</th>\n",
       "      <th>var</th>\n",
       "    </tr>\n",
       "    <tr>\n",
       "      <th>buckets</th>\n",
       "      <th></th>\n",
       "      <th></th>\n",
       "      <th></th>\n",
       "      <th></th>\n",
       "      <th></th>\n",
       "      <th></th>\n",
       "    </tr>\n",
       "  </thead>\n",
       "  <tbody>\n",
       "    <tr>\n",
       "      <td>5-10</td>\n",
       "      <td>1500</td>\n",
       "      <td>1000</td>\n",
       "      <td>1250</td>\n",
       "      <td>1250</td>\n",
       "      <td>353.553391</td>\n",
       "      <td>125000</td>\n",
       "    </tr>\n",
       "    <tr>\n",
       "      <td>15-20</td>\n",
       "      <td>2500</td>\n",
       "      <td>2000</td>\n",
       "      <td>2250</td>\n",
       "      <td>2250</td>\n",
       "      <td>353.553391</td>\n",
       "      <td>125000</td>\n",
       "    </tr>\n",
       "  </tbody>\n",
       "</table>\n",
       "</div>"
      ],
      "text/plain": [
       "        compensation                                       \n",
       "                 max   min  mean median         std     var\n",
       "buckets                                                    \n",
       "5-10            1500  1000  1250   1250  353.553391  125000\n",
       "15-20           2500  2000  2250   2250  353.553391  125000"
      ]
     },
     "execution_count": 52,
     "metadata": {},
     "output_type": "execute_result"
    }
   ],
   "source": [
    "df.groupby('buckets',sort=False).agg({'compensation':['max','min','mean','median','std','var']})"
   ]
  },
  {
   "cell_type": "markdown",
   "metadata": {},
   "source": [
    "#### Email Question 16 - overlapping intervals"
   ]
  },
  {
   "cell_type": "code",
   "execution_count": 26,
   "metadata": {},
   "outputs": [
    {
     "name": "stdout",
     "output_type": "stream",
     "text": [
      "[3, 7]\n",
      "[4, 6]\n",
      "[1, 5]\n"
     ]
    }
   ],
   "source": [
    "P =  [[0, 2], [3, 7], [4, 6], [7, 8], [1 ,5]]\n",
    "z = 5\n",
    "\n",
    "def overlapping(z,P):\n",
    "    for i in range(len(P)):\n",
    "        if (z>=P[i][0]) and (z<=P[i][1]):\n",
    "            print(P[i])\n",
    "\n",
    "overlapping(z,P)"
   ]
  },
  {
   "cell_type": "code",
   "execution_count": 89,
   "metadata": {},
   "outputs": [],
   "source": [
    "P =  [[0, 2], [3, 7], [4, 6], [7, 8], [1 ,5]]\n",
    "z = 5\n",
    "\n",
    "def overlapping(P, z):\n",
    "    t = [z in set(range(i[0], i[1]+1)) for i in P]\n",
    "    t = [True if (z>= i[0]) and (z<=i[1]) else False for i in P]\n",
    "    print(sum(t))\n",
    "    print(np.array(P)[t])\n",
    "    \n",
    "    for i in range(len(P)):\n",
    "        if t[i]==True:\n",
    "            print(P[i])\n",
    "\n",
    "    "
   ]
  },
  {
   "cell_type": "code",
   "execution_count": 90,
   "metadata": {},
   "outputs": [
    {
     "name": "stdout",
     "output_type": "stream",
     "text": [
      "3\n",
      "[[3 7]\n",
      " [4 6]\n",
      " [1 5]]\n",
      "[3, 7]\n",
      "[4, 6]\n",
      "[1, 5]\n"
     ]
    }
   ],
   "source": [
    "overlapping(P,z)"
   ]
  },
  {
   "cell_type": "markdown",
   "metadata": {},
   "source": [
    "#### Email question 14 - streaming service, average number of hours a user spends listening to music daily"
   ]
  },
  {
   "cell_type": "markdown",
   "metadata": {},
   "source": [
    "user id\n",
    "time started listening\n",
    "song id\n",
    "artist id\n",
    "\n",
    "song_id\n",
    "artist_id\n",
    "song_length"
   ]
  },
  {
   "cell_type": "code",
   "execution_count": 27,
   "metadata": {},
   "outputs": [],
   "source": [
    "user = pd.DataFrame()\n",
    "user['user_id'] = [1,1,2,3,3,3,4,4]\n",
    "user['time'] = [200,300,100,150,200,400,400,350]\n",
    "user['song_id'] = [1,2,1,3,4,2,1,2]\n",
    "user['artist_id'] = ['a','b','a','c','d','b','a','b']\n",
    "\n",
    "song = pd.DataFrame()\n",
    "song['song_id'] = [1,2,3,4]\n",
    "song['artist_id'] = ['a','b','c','d']\n",
    "song['dur'] = [2,3,2,4]\n"
   ]
  },
  {
   "cell_type": "code",
   "execution_count": 28,
   "metadata": {},
   "outputs": [],
   "source": [
    "user.to_sql('user',con=engine)"
   ]
  },
  {
   "cell_type": "code",
   "execution_count": 29,
   "metadata": {},
   "outputs": [],
   "source": [
    "song.to_sql('song',con=engine)"
   ]
  },
  {
   "cell_type": "code",
   "execution_count": 32,
   "metadata": {},
   "outputs": [
    {
     "data": {
      "text/plain": [
       "[(1, 2.5), (2, 2.0), (3, 3.0), (4, 2.5)]"
      ]
     },
     "execution_count": 32,
     "metadata": {},
     "output_type": "execute_result"
    }
   ],
   "source": [
    "engine.execute(\"\"\"\n",
    "WITH duration as(\n",
    "  SELECT\n",
    "    user.user_id,\n",
    "    user.song_id,\n",
    "    song.dur       as time\n",
    "  FROM user\n",
    "  INNER JOIN song\n",
    "    ON user.song_id=song.song_id\n",
    ")\n",
    "\n",
    "SELECT \n",
    "  duration.user_id,\n",
    "  AVG(time)\n",
    "FROM duration\n",
    "GROUP BY duration.user_id\n",
    "\n",
    "\n",
    "\n",
    "\"\"\").fetchall()"
   ]
  },
  {
   "cell_type": "code",
   "execution_count": 17,
   "metadata": {},
   "outputs": [
    {
     "data": {
      "text/plain": [
       "[(1, 2.5), (2, 2.0), (3, 3.0), (4, 2.5)]"
      ]
     },
     "execution_count": 17,
     "metadata": {},
     "output_type": "execute_result"
    }
   ],
   "source": [
    "engine.execute('select c.user_id, avg(c.total_dur) from (select a.user_id, sum(b.dur) as total_dur from user a inner join song b on a.song_id=b.song_id group by a.user_id, a.time) c group by c.user_id').fetchall()\n"
   ]
  },
  {
   "cell_type": "code",
   "execution_count": 19,
   "metadata": {},
   "outputs": [
    {
     "data": {
      "text/html": [
       "<div>\n",
       "<style scoped>\n",
       "    .dataframe tbody tr th:only-of-type {\n",
       "        vertical-align: middle;\n",
       "    }\n",
       "\n",
       "    .dataframe tbody tr th {\n",
       "        vertical-align: top;\n",
       "    }\n",
       "\n",
       "    .dataframe thead th {\n",
       "        text-align: right;\n",
       "    }\n",
       "</style>\n",
       "<table border=\"1\" class=\"dataframe\">\n",
       "  <thead>\n",
       "    <tr style=\"text-align: right;\">\n",
       "      <th></th>\n",
       "      <th>dur</th>\n",
       "    </tr>\n",
       "    <tr>\n",
       "      <th>user_id</th>\n",
       "      <th></th>\n",
       "    </tr>\n",
       "  </thead>\n",
       "  <tbody>\n",
       "    <tr>\n",
       "      <td>1</td>\n",
       "      <td>2.5</td>\n",
       "    </tr>\n",
       "    <tr>\n",
       "      <td>2</td>\n",
       "      <td>2.0</td>\n",
       "    </tr>\n",
       "    <tr>\n",
       "      <td>3</td>\n",
       "      <td>3.0</td>\n",
       "    </tr>\n",
       "    <tr>\n",
       "      <td>4</td>\n",
       "      <td>2.5</td>\n",
       "    </tr>\n",
       "  </tbody>\n",
       "</table>\n",
       "</div>"
      ],
      "text/plain": [
       "         dur\n",
       "user_id     \n",
       "1        2.5\n",
       "2        2.0\n",
       "3        3.0\n",
       "4        2.5"
      ]
     },
     "execution_count": 19,
     "metadata": {},
     "output_type": "execute_result"
    }
   ],
   "source": [
    "merged_data = user.merge(song, on='song_id', how='inner')\n",
    "merged_data = merged_data.groupby(['user_id','time']).agg({'dur':'sum'}).reset_index()\n",
    "merged_data.groupby('user_id').agg({'dur':'mean'})"
   ]
  },
  {
   "cell_type": "code",
   "execution_count": 36,
   "metadata": {},
   "outputs": [
    {
     "data": {
      "text/plain": [
       "0.041666666666666664"
      ]
     },
     "execution_count": 36,
     "metadata": {},
     "output_type": "execute_result"
    }
   ],
   "source": [
    "def convert_to_day(x):\n",
    "    if x<=200:\n",
    "        return(1)\n",
    "    elif (x>200) & (x<=300):\n",
    "        return(2)\n",
    "    else:\n",
    "        return(3)\n",
    "\n",
    "user_song_length = user.merge(song, on=['song_id','artist_id'])\n",
    "# user_song_length['day'] = user_song_length.time.apply(convert_to_day)\n",
    "user_song_length = user_song_length.groupby(['user_id','time']).agg({'dur':'sum'}).reset_index()\n",
    "user_song_length = user_song_length.groupby('user_id').agg({'dur':'mean'}).reset_index()\n",
    "user_song_length['dur'].mean()/60.0\n"
   ]
  },
  {
   "cell_type": "code",
   "execution_count": 37,
   "metadata": {},
   "outputs": [
    {
     "data": {
      "text/html": [
       "<div>\n",
       "<style scoped>\n",
       "    .dataframe tbody tr th:only-of-type {\n",
       "        vertical-align: middle;\n",
       "    }\n",
       "\n",
       "    .dataframe tbody tr th {\n",
       "        vertical-align: top;\n",
       "    }\n",
       "\n",
       "    .dataframe thead th {\n",
       "        text-align: right;\n",
       "    }\n",
       "</style>\n",
       "<table border=\"1\" class=\"dataframe\">\n",
       "  <thead>\n",
       "    <tr style=\"text-align: right;\">\n",
       "      <th></th>\n",
       "      <th>user_id</th>\n",
       "      <th>dur</th>\n",
       "    </tr>\n",
       "  </thead>\n",
       "  <tbody>\n",
       "    <tr>\n",
       "      <td>0</td>\n",
       "      <td>1</td>\n",
       "      <td>2.5</td>\n",
       "    </tr>\n",
       "    <tr>\n",
       "      <td>1</td>\n",
       "      <td>2</td>\n",
       "      <td>2.0</td>\n",
       "    </tr>\n",
       "    <tr>\n",
       "      <td>2</td>\n",
       "      <td>3</td>\n",
       "      <td>3.0</td>\n",
       "    </tr>\n",
       "    <tr>\n",
       "      <td>3</td>\n",
       "      <td>4</td>\n",
       "      <td>2.5</td>\n",
       "    </tr>\n",
       "  </tbody>\n",
       "</table>\n",
       "</div>"
      ],
      "text/plain": [
       "   user_id  dur\n",
       "0        1  2.5\n",
       "1        2  2.0\n",
       "2        3  3.0\n",
       "3        4  2.5"
      ]
     },
     "execution_count": 37,
     "metadata": {},
     "output_type": "execute_result"
    }
   ],
   "source": [
    "user_song_length"
   ]
  },
  {
   "cell_type": "markdown",
   "metadata": {},
   "source": [
    "#### Email question 10: student attendance"
   ]
  },
  {
   "cell_type": "code",
   "execution_count": 33,
   "metadata": {},
   "outputs": [],
   "source": [
    "student_attendance_log = pd.DataFrame()\n",
    "student_attendance_log['student_id'] = [1,1,2,3,4]\n",
    "student_attendance_log['date'] = ['2018-03-12','2019-03-12','2018-03-12','2018-03-12','2018-03-12']\n",
    "student_attendance_log['attendance_status'] = ['tardy','tardy','absent','present','present']\n",
    "\n",
    "student_demographics = pd.DataFrame()\n",
    "student_demographics['student_id'] = [1,2,3,4]\n",
    "student_demographics['grade'] = [6,6,7,7]\n"
   ]
  },
  {
   "cell_type": "code",
   "execution_count": 34,
   "metadata": {},
   "outputs": [],
   "source": [
    "student_attendance_log.to_sql('att_log',con=engine)\n",
    "student_demographics.to_sql('demo',con=engine)"
   ]
  },
  {
   "cell_type": "code",
   "execution_count": 35,
   "metadata": {},
   "outputs": [
    {
     "data": {
      "text/plain": [
       "[(0.5,), (1.0,)]"
      ]
     },
     "execution_count": 35,
     "metadata": {},
     "output_type": "execute_result"
    }
   ],
   "source": [
    "engine.execute(\"\"\"\n",
    "\n",
    "WITH twelth as(\n",
    "  SELECT \n",
    "    *,\n",
    "    attendance_status='absent' as absent\n",
    "  FROM att_log\n",
    "  WHERE att_log.date='2018-03-12'\n",
    ")\n",
    "\n",
    "SELECT\n",
    "  1 - AVG(twelth.absent)\n",
    "FROM twelth\n",
    "INNER JOIN demo\n",
    "  ON twelth.student_id=demo.student_id\n",
    "GROUP BY demo.grade\n",
    "\n",
    "\n",
    "\"\"\").fetchall()"
   ]
  },
  {
   "cell_type": "code",
   "execution_count": null,
   "metadata": {},
   "outputs": [],
   "source": []
  },
  {
   "cell_type": "code",
   "execution_count": null,
   "metadata": {},
   "outputs": [],
   "source": []
  },
  {
   "cell_type": "code",
   "execution_count": 43,
   "metadata": {},
   "outputs": [
    {
     "data": {
      "text/plain": [
       "[(0.5,), (0.0,)]"
      ]
     },
     "execution_count": 43,
     "metadata": {},
     "output_type": "execute_result"
    }
   ],
   "source": [
    "engine.execute('select 1.0*sum(att_bool)/count(student_id) from (select *, case when attendance_status=\"absent\" then 1 else 0 end as att_bool from att_log a inner join demo d on a.student_id=d.student_id where a.date=\"2018-03-12\") group by grade  ').fetchall()\n",
    "\n"
   ]
  },
  {
   "cell_type": "code",
   "execution_count": 44,
   "metadata": {},
   "outputs": [
    {
     "name": "stderr",
     "output_type": "stream",
     "text": [
      "/Users/magoodwi/MyStuff/Education/DataScienceToolkit/DataScienceCode/ds_python_37/lib/python3.7/site-packages/ipykernel_launcher.py:2: SettingWithCopyWarning: \n",
      "A value is trying to be set on a copy of a slice from a DataFrame.\n",
      "Try using .loc[row_indexer,col_indexer] = value instead\n",
      "\n",
      "See the caveats in the documentation: http://pandas.pydata.org/pandas-docs/stable/user_guide/indexing.html#returning-a-view-versus-a-copy\n",
      "  \n"
     ]
    }
   ],
   "source": [
    "student_attendance_03122018 = student_attendance_log[student_attendance_log.date=='2018-03-12']\n",
    "student_attendance_03122018['attended'] = student_attendance_03122018.attendance_status.apply(lambda x: True if x!='absent' else False)\n",
    "# student_attendance_03122018['attended'] = student_attendance_03122018.attendance_status!='absent'\n",
    "student_join = student_attendance_03122018.merge(student_demographics, on='student_id')\n",
    "final_answer = student_join.groupby('grade').agg({'attended':'mean'})\n",
    "\n"
   ]
  },
  {
   "cell_type": "code",
   "execution_count": 45,
   "metadata": {},
   "outputs": [
    {
     "data": {
      "text/html": [
       "<div>\n",
       "<style scoped>\n",
       "    .dataframe tbody tr th:only-of-type {\n",
       "        vertical-align: middle;\n",
       "    }\n",
       "\n",
       "    .dataframe tbody tr th {\n",
       "        vertical-align: top;\n",
       "    }\n",
       "\n",
       "    .dataframe thead th {\n",
       "        text-align: right;\n",
       "    }\n",
       "</style>\n",
       "<table border=\"1\" class=\"dataframe\">\n",
       "  <thead>\n",
       "    <tr style=\"text-align: right;\">\n",
       "      <th></th>\n",
       "      <th>attended</th>\n",
       "    </tr>\n",
       "    <tr>\n",
       "      <th>grade</th>\n",
       "      <th></th>\n",
       "    </tr>\n",
       "  </thead>\n",
       "  <tbody>\n",
       "    <tr>\n",
       "      <td>6</td>\n",
       "      <td>0.5</td>\n",
       "    </tr>\n",
       "    <tr>\n",
       "      <td>7</td>\n",
       "      <td>1.0</td>\n",
       "    </tr>\n",
       "  </tbody>\n",
       "</table>\n",
       "</div>"
      ],
      "text/plain": [
       "       attended\n",
       "grade          \n",
       "6           0.5\n",
       "7           1.0"
      ]
     },
     "execution_count": 45,
     "metadata": {},
     "output_type": "execute_result"
    }
   ],
   "source": [
    "final_answer"
   ]
  },
  {
   "cell_type": "markdown",
   "metadata": {},
   "source": [
    "#### Email question 5"
   ]
  },
  {
   "cell_type": "code",
   "execution_count": 46,
   "metadata": {},
   "outputs": [],
   "source": [
    "survey_logging = pd.DataFrame()\n",
    "survey_logging['employee_id'] = [1,1,2,2,3,3,4,4]\n",
    "survey_logging['question_id'] = [1,1,1,1,2,2,2,2]\n",
    "survey_logging['response'] = ['view', 'answer','view','ignore','view','answer','view','answer']"
   ]
  },
  {
   "cell_type": "code",
   "execution_count": 47,
   "metadata": {},
   "outputs": [],
   "source": [
    "survey_logging.to_sql('survey_logging',con=engine)"
   ]
  },
  {
   "cell_type": "code",
   "execution_count": 52,
   "metadata": {},
   "outputs": [
    {
     "data": {
      "text/plain": [
       "[(1, 0.25), (2, 0.5)]"
      ]
     },
     "execution_count": 52,
     "metadata": {},
     "output_type": "execute_result"
    }
   ],
   "source": [
    "engine.execute('select question_id, sum(resp_bool)*1.0/count(response) from (select question_id, response, case when response=\"answer\" then 1 else 0 end as resp_bool from survey_logging) group by question_id').fetchall()\n",
    "\n"
   ]
  },
  {
   "cell_type": "code",
   "execution_count": 53,
   "metadata": {},
   "outputs": [],
   "source": [
    "survey_logging['view_bool'] = survey_logging.response.apply(lambda x: True if x=='view' else False).values\n",
    "survey_logging['answer_bool'] = survey_logging.response.apply(lambda x: True if x=='answer' else False).values\n",
    "survey_questions = survey_logging.groupby('question_id').agg({'view_bool':'sum','answer_bool':'sum'}).reset_index()\n",
    "survey_questions['response_rate'] = survey_questions['answer_bool']/survey_questions['view_bool']"
   ]
  },
  {
   "cell_type": "code",
   "execution_count": 54,
   "metadata": {},
   "outputs": [
    {
     "data": {
      "text/html": [
       "<div>\n",
       "<style scoped>\n",
       "    .dataframe tbody tr th:only-of-type {\n",
       "        vertical-align: middle;\n",
       "    }\n",
       "\n",
       "    .dataframe tbody tr th {\n",
       "        vertical-align: top;\n",
       "    }\n",
       "\n",
       "    .dataframe thead th {\n",
       "        text-align: right;\n",
       "    }\n",
       "</style>\n",
       "<table border=\"1\" class=\"dataframe\">\n",
       "  <thead>\n",
       "    <tr style=\"text-align: right;\">\n",
       "      <th></th>\n",
       "      <th>question_id</th>\n",
       "      <th>view_bool</th>\n",
       "      <th>answer_bool</th>\n",
       "      <th>response_rate</th>\n",
       "    </tr>\n",
       "  </thead>\n",
       "  <tbody>\n",
       "    <tr>\n",
       "      <td>0</td>\n",
       "      <td>1</td>\n",
       "      <td>2.0</td>\n",
       "      <td>1.0</td>\n",
       "      <td>0.5</td>\n",
       "    </tr>\n",
       "    <tr>\n",
       "      <td>1</td>\n",
       "      <td>2</td>\n",
       "      <td>2.0</td>\n",
       "      <td>2.0</td>\n",
       "      <td>1.0</td>\n",
       "    </tr>\n",
       "  </tbody>\n",
       "</table>\n",
       "</div>"
      ],
      "text/plain": [
       "   question_id  view_bool  answer_bool  response_rate\n",
       "0            1        2.0          1.0            0.5\n",
       "1            2        2.0          2.0            1.0"
      ]
     },
     "execution_count": 54,
     "metadata": {},
     "output_type": "execute_result"
    }
   ],
   "source": [
    "survey_questions"
   ]
  },
  {
   "cell_type": "code",
   "execution_count": 77,
   "metadata": {},
   "outputs": [
    {
     "data": {
      "text/html": [
       "<div>\n",
       "<style scoped>\n",
       "    .dataframe tbody tr th:only-of-type {\n",
       "        vertical-align: middle;\n",
       "    }\n",
       "\n",
       "    .dataframe tbody tr th {\n",
       "        vertical-align: top;\n",
       "    }\n",
       "\n",
       "    .dataframe thead th {\n",
       "        text-align: right;\n",
       "    }\n",
       "</style>\n",
       "<table border=\"1\" class=\"dataframe\">\n",
       "  <thead>\n",
       "    <tr style=\"text-align: right;\">\n",
       "      <th></th>\n",
       "      <th>question_id</th>\n",
       "      <th>view_bool</th>\n",
       "      <th>answer_bool</th>\n",
       "      <th>response_rate</th>\n",
       "    </tr>\n",
       "  </thead>\n",
       "  <tbody>\n",
       "    <tr>\n",
       "      <td>1</td>\n",
       "      <td>2</td>\n",
       "      <td>2.0</td>\n",
       "      <td>2.0</td>\n",
       "      <td>1.0</td>\n",
       "    </tr>\n",
       "  </tbody>\n",
       "</table>\n",
       "</div>"
      ],
      "text/plain": [
       "   question_id  view_bool  answer_bool  response_rate\n",
       "1            2        2.0          2.0            1.0"
      ]
     },
     "execution_count": 77,
     "metadata": {},
     "output_type": "execute_result"
    }
   ],
   "source": [
    "survey_questions[survey_questions.response_rate==max(survey_questions.response_rate)]"
   ]
  },
  {
   "cell_type": "code",
   "execution_count": 86,
   "metadata": {},
   "outputs": [
    {
     "data": {
      "text/html": [
       "<div>\n",
       "<style scoped>\n",
       "    .dataframe tbody tr th:only-of-type {\n",
       "        vertical-align: middle;\n",
       "    }\n",
       "\n",
       "    .dataframe tbody tr th {\n",
       "        vertical-align: top;\n",
       "    }\n",
       "\n",
       "    .dataframe thead th {\n",
       "        text-align: right;\n",
       "    }\n",
       "</style>\n",
       "<table border=\"1\" class=\"dataframe\">\n",
       "  <thead>\n",
       "    <tr style=\"text-align: right;\">\n",
       "      <th></th>\n",
       "      <th>question_id</th>\n",
       "      <th>0</th>\n",
       "    </tr>\n",
       "  </thead>\n",
       "  <tbody>\n",
       "    <tr>\n",
       "      <td>0</td>\n",
       "      <td>1</td>\n",
       "      <td>0.5</td>\n",
       "    </tr>\n",
       "    <tr>\n",
       "      <td>1</td>\n",
       "      <td>2</td>\n",
       "      <td>1.0</td>\n",
       "    </tr>\n",
       "  </tbody>\n",
       "</table>\n",
       "</div>"
      ],
      "text/plain": [
       "   question_id    0\n",
       "0            1  0.5\n",
       "1            2  1.0"
      ]
     },
     "execution_count": 86,
     "metadata": {},
     "output_type": "execute_result"
    }
   ],
   "source": [
    "resp_rate = survey_logging.groupby('question_id').apply(lambda x: sum(x['response']=='answer')/sum(x['response']=='view')).reset_index()\n",
    "\n"
   ]
  },
  {
   "cell_type": "markdown",
   "metadata": {},
   "source": [
    "#### Email question 4"
   ]
  },
  {
   "cell_type": "code",
   "execution_count": 57,
   "metadata": {},
   "outputs": [],
   "source": [
    "user_messaging = pd.DataFrame()\n",
    "user_messaging['sender_id'] = [1,1,1,1,2,2,3,3,3,3]\n",
    "user_messaging['reciever_id'] = [4,5,6,7,8,9,10,11,12,13]"
   ]
  },
  {
   "cell_type": "code",
   "execution_count": 60,
   "metadata": {},
   "outputs": [
    {
     "data": {
      "text/plain": [
       "0.6666666666666666"
      ]
     },
     "execution_count": 60,
     "metadata": {},
     "output_type": "execute_result"
    }
   ],
   "source": [
    "user_messaging.groupby('sender_id').filter(lambda x: x['reciever_id'].nunique()>3).sender_id.nunique()/user_messaging.sender_id.nunique()"
   ]
  },
  {
   "cell_type": "markdown",
   "metadata": {},
   "source": [
    "#### Email question 2"
   ]
  },
  {
   "cell_type": "code",
   "execution_count": 16,
   "metadata": {},
   "outputs": [],
   "source": [
    "import numpy as np"
   ]
  },
  {
   "cell_type": "code",
   "execution_count": 25,
   "metadata": {},
   "outputs": [],
   "source": [
    "# Array of numbers\n",
    "J = [4, 4, 4, 9, 10, 11, 12]\n",
    "# Length of sequences, p\n",
    "p = 3\n",
    "\n",
    "def min_max_avg(J,p):\n",
    "    max_mean = -np.inf\n",
    "    min_mean = np.inf\n",
    "    for i in range(len(J)-2):\n",
    "        print(J[i:i+p])\n",
    "        seq_mean = np.mean(J[i:i+p])\n",
    "\n",
    "        if seq_mean > max_mean:\n",
    "            max_mean = seq_mean\n",
    "        if seq_mean < min_mean:\n",
    "            min_mean = seq_mean\n",
    "    return([max_mean, min_mean]) "
   ]
  },
  {
   "cell_type": "code",
   "execution_count": 26,
   "metadata": {},
   "outputs": [
    {
     "name": "stdout",
     "output_type": "stream",
     "text": [
      "[4, 4, 4]\n",
      "[4, 4, 9]\n",
      "[4, 9, 10]\n",
      "[9, 10, 11]\n",
      "[10, 11, 12]\n"
     ]
    },
    {
     "data": {
      "text/plain": [
       "[11.0, 4.0]"
      ]
     },
     "execution_count": 26,
     "metadata": {},
     "output_type": "execute_result"
    }
   ],
   "source": [
    "min_max_avg(J,p)"
   ]
  },
  {
   "cell_type": "markdown",
   "metadata": {},
   "source": [
    "#### Email question 1 - fraudulant stores"
   ]
  },
  {
   "cell_type": "code",
   "execution_count": 5,
   "metadata": {},
   "outputs": [],
   "source": [
    "store_account = pd.DataFrame()\n",
    "store_account['store_id'] = [1,2,3,1,2,3,1,2,3]\n",
    "store_account['revenue'] = [100,1,1,10,10,0, 0,10,0]\n",
    "store_account['status'] = ['open','open','open','fraud', 'open', 'closed','fraud','open','closed']\n",
    "store_account['date'] = [1,1,1,2,2,2,3,3,3]"
   ]
  },
  {
   "cell_type": "code",
   "execution_count": 6,
   "metadata": {},
   "outputs": [
    {
     "data": {
      "text/html": [
       "<div>\n",
       "<style scoped>\n",
       "    .dataframe tbody tr th:only-of-type {\n",
       "        vertical-align: middle;\n",
       "    }\n",
       "\n",
       "    .dataframe tbody tr th {\n",
       "        vertical-align: top;\n",
       "    }\n",
       "\n",
       "    .dataframe thead th {\n",
       "        text-align: right;\n",
       "    }\n",
       "</style>\n",
       "<table border=\"1\" class=\"dataframe\">\n",
       "  <thead>\n",
       "    <tr style=\"text-align: right;\">\n",
       "      <th></th>\n",
       "      <th>fraud_bool</th>\n",
       "    </tr>\n",
       "    <tr>\n",
       "      <th>date</th>\n",
       "      <th></th>\n",
       "    </tr>\n",
       "  </thead>\n",
       "  <tbody>\n",
       "    <tr>\n",
       "      <td>1</td>\n",
       "      <td>0.0</td>\n",
       "    </tr>\n",
       "    <tr>\n",
       "      <td>2</td>\n",
       "      <td>0.5</td>\n",
       "    </tr>\n",
       "    <tr>\n",
       "      <td>3</td>\n",
       "      <td>0.0</td>\n",
       "    </tr>\n",
       "  </tbody>\n",
       "</table>\n",
       "</div>"
      ],
      "text/plain": [
       "      fraud_bool\n",
       "date            \n",
       "1            0.0\n",
       "2            0.5\n",
       "3            0.0"
      ]
     },
     "execution_count": 6,
     "metadata": {},
     "output_type": "execute_result"
    }
   ],
   "source": [
    "store_account = store_account[store_account.revenue>0]\n",
    "store_account['fraud_bool'] = store_account.status.apply(lambda x: True if x=='fraud' else False)\n",
    "store_account.groupby('date').agg({'fraud_bool':'mean'})\n"
   ]
  },
  {
   "cell_type": "markdown",
   "metadata": {},
   "source": [
    "## Other questions"
   ]
  },
  {
   "cell_type": "code",
   "execution_count": 2,
   "metadata": {},
   "outputs": [],
   "source": [
    "n = int(3)\n",
    "\n",
    "arr = list(map(int, '-4 3 -9 0 4 1'.rstrip().split()))\n"
   ]
  },
  {
   "cell_type": "code",
   "execution_count": 11,
   "metadata": {},
   "outputs": [
    {
     "data": {
      "text/plain": [
       "0.5"
      ]
     },
     "execution_count": 11,
     "metadata": {},
     "output_type": "execute_result"
    }
   ],
   "source": [
    "round(len([i for i in arr if i>0])*1000/len(arr),6)s"
   ]
  },
  {
   "cell_type": "code",
   "execution_count": 57,
   "metadata": {},
   "outputs": [],
   "source": [
    "from collections import Counter"
   ]
  },
  {
   "cell_type": "code",
   "execution_count": 62,
   "metadata": {},
   "outputs": [
    {
     "data": {
      "text/plain": [
       "[0, 0, 2, 3, 4, 5, 6, 7, 8, 9]"
      ]
     },
     "execution_count": 62,
     "metadata": {},
     "output_type": "execute_result"
    }
   ],
   "source": [
    "[i if i>1 else 0 for i in range(10)]"
   ]
  },
  {
   "cell_type": "markdown",
   "metadata": {},
   "source": [
    "#### Problem: Query a list of alphabetic names followed by the first letter of their profession"
   ]
  },
  {
   "cell_type": "code",
   "execution_count": 27,
   "metadata": {},
   "outputs": [],
   "source": [
    "occupation = pd.DataFrame()\n",
    "occupation['name'] = ['Sarah','Mike','Matt','Kenzie']\n",
    "occupation['occupation'] = ['Doctor','Actor','Singer','Singer']"
   ]
  },
  {
   "cell_type": "code",
   "execution_count": 28,
   "metadata": {},
   "outputs": [],
   "source": [
    "occupation.sort_values('name',inplace=True)"
   ]
  },
  {
   "cell_type": "code",
   "execution_count": 29,
   "metadata": {},
   "outputs": [],
   "source": [
    "occupation['abb'] = occupation['occupation'].apply(lambda x: ' (' + x[0] + ')')\n",
    "occupation['name_occup'] = occupation['name'] + occupation['abb']"
   ]
  },
  {
   "cell_type": "code",
   "execution_count": 30,
   "metadata": {},
   "outputs": [
    {
     "data": {
      "text/html": [
       "<div>\n",
       "<style scoped>\n",
       "    .dataframe tbody tr th:only-of-type {\n",
       "        vertical-align: middle;\n",
       "    }\n",
       "\n",
       "    .dataframe tbody tr th {\n",
       "        vertical-align: top;\n",
       "    }\n",
       "\n",
       "    .dataframe thead th {\n",
       "        text-align: right;\n",
       "    }\n",
       "</style>\n",
       "<table border=\"1\" class=\"dataframe\">\n",
       "  <thead>\n",
       "    <tr style=\"text-align: right;\">\n",
       "      <th></th>\n",
       "      <th>name</th>\n",
       "      <th>occupation</th>\n",
       "      <th>abb</th>\n",
       "      <th>name_occup</th>\n",
       "    </tr>\n",
       "  </thead>\n",
       "  <tbody>\n",
       "    <tr>\n",
       "      <td>3</td>\n",
       "      <td>Kenzie</td>\n",
       "      <td>Singer</td>\n",
       "      <td>(S)</td>\n",
       "      <td>Kenzie (S)</td>\n",
       "    </tr>\n",
       "    <tr>\n",
       "      <td>2</td>\n",
       "      <td>Matt</td>\n",
       "      <td>Singer</td>\n",
       "      <td>(S)</td>\n",
       "      <td>Matt (S)</td>\n",
       "    </tr>\n",
       "    <tr>\n",
       "      <td>1</td>\n",
       "      <td>Mike</td>\n",
       "      <td>Actor</td>\n",
       "      <td>(A)</td>\n",
       "      <td>Mike (A)</td>\n",
       "    </tr>\n",
       "    <tr>\n",
       "      <td>0</td>\n",
       "      <td>Sarah</td>\n",
       "      <td>Doctor</td>\n",
       "      <td>(D)</td>\n",
       "      <td>Sarah (D)</td>\n",
       "    </tr>\n",
       "  </tbody>\n",
       "</table>\n",
       "</div>"
      ],
      "text/plain": [
       "     name occupation   abb  name_occup\n",
       "3  Kenzie     Singer   (S)  Kenzie (S)\n",
       "2    Matt     Singer   (S)    Matt (S)\n",
       "1    Mike      Actor   (A)    Mike (A)\n",
       "0   Sarah     Doctor   (D)   Sarah (D)"
      ]
     },
     "execution_count": 30,
     "metadata": {},
     "output_type": "execute_result"
    }
   ],
   "source": [
    "occupation"
   ]
  },
  {
   "cell_type": "markdown",
   "metadata": {},
   "source": [
    "#### Problem: Query the number of occurences of each occupation and sort by ascending order"
   ]
  },
  {
   "cell_type": "code",
   "execution_count": 39,
   "metadata": {},
   "outputs": [],
   "source": [
    "occupation_group = occupation.groupby('occupation').agg({'name':'count'}).reset_index()\n",
    "occupation_group.columns = ['occupation','occupation_count']\n",
    "occupation_group.sort_values(['occupation_count','occupation'],inplace=True)"
   ]
  },
  {
   "cell_type": "code",
   "execution_count": null,
   "metadata": {},
   "outputs": [],
   "source": []
  },
  {
   "cell_type": "markdown",
   "metadata": {},
   "source": [
    "#### Problem: Which products had at least a 3 month consecutive increase in their popularity?"
   ]
  },
  {
   "cell_type": "code",
   "execution_count": 50,
   "metadata": {},
   "outputs": [
    {
     "data": {
      "text/plain": [
       "pandas.core.series.Series"
      ]
     },
     "execution_count": 50,
     "metadata": {},
     "output_type": "execute_result"
    }
   ],
   "source": [
    "data.groupby('prod1',sort=False)"
   ]
  },
  {
   "cell_type": "code",
   "execution_count": 37,
   "metadata": {},
   "outputs": [],
   "source": [
    "data.sort_values(['prod1','month'], ascending=False, inplace=True)"
   ]
  },
  {
   "cell_type": "code",
   "execution_count": 38,
   "metadata": {},
   "outputs": [],
   "source": [
    "data['diff'] = data.groupby('prod1').pop1.diff()"
   ]
  },
  {
   "cell_type": "code",
   "execution_count": 40,
   "metadata": {},
   "outputs": [],
   "source": [
    "data['diff_sign'] = data['diff']<0"
   ]
  },
  {
   "cell_type": "code",
   "execution_count": 206,
   "metadata": {},
   "outputs": [],
   "source": [
    "data['diff_sum'] = data.groupby('prod1',sort=False).diff_sign.rolling(3).sum().values"
   ]
  },
  {
   "cell_type": "code",
   "execution_count": 212,
   "metadata": {},
   "outputs": [
    {
     "data": {
      "text/plain": [
       "array(['B'], dtype=object)"
      ]
     },
     "execution_count": 212,
     "metadata": {},
     "output_type": "execute_result"
    }
   ],
   "source": [
    "data.loc[data.diff_sum>=3,'product'].values"
   ]
  },
  {
   "cell_type": "code",
   "execution_count": 35,
   "metadata": {},
   "outputs": [
    {
     "name": "stdout",
     "output_type": "stream",
     "text": [
      "2\n",
      "[True, False, False, False, True]\n",
      "1\n",
      "[False, True, True, False]\n",
      "6\n",
      "[False, False, False]\n",
      "2\n",
      "[True, False]\n",
      "2\n",
      "[True]\n"
     ]
    }
   ],
   "source": [
    "num = 0\n",
    "ar = [1, 2, 2, 6, 1, 2]\n",
    "n = 6\n",
    "k = 3\n",
    "for i in range(n-1,0,-1):\n",
    "    val = ar[i]\n",
    "    print(val)\n",
    "    print([((val + j)%k)==0 for j in ar[:i]])\n",
    "    num += sum([((val + j)%k)==0 for j in ar[:i]])"
   ]
  },
  {
   "cell_type": "code",
   "execution_count": 32,
   "metadata": {},
   "outputs": [
    {
     "name": "stdout",
     "output_type": "stream",
     "text": [
      "4\n",
      "3\n",
      "2\n"
     ]
    }
   ],
   "source": [
    "for i in range(4,1,-1):\n",
    "    print(i)"
   ]
  },
  {
   "cell_type": "markdown",
   "metadata": {},
   "source": [
    "#### One food company interview I had"
   ]
  },
  {
   "cell_type": "code",
   "execution_count": 36,
   "metadata": {},
   "outputs": [],
   "source": [
    "movies = pd.DataFrame()\n",
    "movies['movie_id'] = [1,2,3,4]\n",
    "movies['title'] = ['Gone','with','the','wind']\n",
    "\n",
    "reviewers = pd.DataFrame()\n",
    "reviewers['name'] = ['Bob','Nancy','Themla']\n",
    "reviewers['rev_id'] = [1,2,3]\n",
    "\n",
    "reviews = pd.DataFrame()\n",
    "reviews['movie_id'] = [1,1,2,2,2,3,3,4]\n",
    "reviews['rev_id'] = [1,2,1,2,3,2,3,1]\n",
    "reviews['stars'] = [3,2,4,5,1,2,3,4]"
   ]
  },
  {
   "cell_type": "code",
   "execution_count": 37,
   "metadata": {},
   "outputs": [],
   "source": [
    "movies.to_sql('movies', con=engine)\n",
    "reviewers.to_sql('reviewers', con=engine)\n",
    "reviews.to_sql('reviews', con=engine)"
   ]
  },
  {
   "cell_type": "code",
   "execution_count": 41,
   "metadata": {},
   "outputs": [
    {
     "data": {
      "text/plain": [
       "[('Bob', 3.6666666666666665)]"
      ]
     },
     "execution_count": 41,
     "metadata": {},
     "output_type": "execute_result"
    }
   ],
   "source": [
    "engine.execute(\"\"\"\n",
    "\n",
    "WITH name_rev as(\n",
    "  SELECT *\n",
    "  FROM reviews\n",
    "  INNER JOIN reviewers\n",
    "    ON reviews.rev_id=reviewers.rev_id\n",
    ")\n",
    "\n",
    "SELECT \n",
    "  name,\n",
    "  AVG(stars)\n",
    "FROM name_rev\n",
    "GROUP BY name\n",
    "HAVING name='Bob'\n",
    "\n",
    "\"\"\").fetchall()"
   ]
  },
  {
   "cell_type": "code",
   "execution_count": 42,
   "metadata": {},
   "outputs": [
    {
     "data": {
      "text/plain": [
       "[('Gone', 'Bob'), ('Gone', 'Nancy')]"
      ]
     },
     "execution_count": 42,
     "metadata": {},
     "output_type": "execute_result"
    }
   ],
   "source": [
    "engine.execute(\"\"\"\n",
    "\n",
    "WITH movie_name as(\n",
    "  SELECT *\n",
    "  FROM movies\n",
    "  INNER JOIN reviews\n",
    "    ON movies.movie_id=reviews.movie_id\n",
    "), rev_name as(\n",
    "  SELECT *\n",
    "  FROM movie_name\n",
    "  INNER JOIN reviewers\n",
    "    ON movie_name.rev_id=reviewers.rev_id\n",
    ")\n",
    "\n",
    "SELECT \n",
    "  title,\n",
    "  rev_name.name\n",
    "FROM rev_name\n",
    "WHERE title='Gone'\n",
    "  \n",
    "\n",
    "\"\"\").fetchall()"
   ]
  },
  {
   "cell_type": "code",
   "execution_count": 30,
   "metadata": {},
   "outputs": [
    {
     "data": {
      "text/plain": [
       "[('Bob', 3.6666666666666665)]"
      ]
     },
     "execution_count": 30,
     "metadata": {},
     "output_type": "execute_result"
    }
   ],
   "source": [
    "# What is the average stars Bob would give across movies?\n",
    "engine.execute('select * from (select b.name, avg(a.stars) from reviews a inner join reviewers b on a.rev_id=b.rev_id group by b.name) c where c.name=\"Bob\"').fetchall()\n"
   ]
  },
  {
   "cell_type": "code",
   "execution_count": 32,
   "metadata": {},
   "outputs": [
    {
     "data": {
      "text/plain": [
       "[('Bob', 'Gone'), ('Nancy', 'Gone')]"
      ]
     },
     "execution_count": 32,
     "metadata": {},
     "output_type": "execute_result"
    }
   ],
   "source": [
    "# Who reviewed the movie \"Gone\"?\n",
    "engine.execute('select c.name, d.title from reviewers c inner join (select * from reviews a inner join movies b on a.movie_id=b.movie_id where b.title=\"Gone\") d on c.rev_id=d.rev_id').fetchall()\n"
   ]
  },
  {
   "cell_type": "markdown",
   "metadata": {},
   "source": [
    "## Project Euler"
   ]
  },
  {
   "cell_type": "markdown",
   "metadata": {},
   "source": [
    "1."
   ]
  },
  {
   "cell_type": "code",
   "execution_count": 6,
   "metadata": {},
   "outputs": [],
   "source": [
    "def multiple_sum(n):\n",
    "    sumit = 0\n",
    "    for i in range(n):\n",
    "        if i%3==0 or i%5==0:\n",
    "            sumit += i\n",
    "    return(sumit)"
   ]
  },
  {
   "cell_type": "code",
   "execution_count": 8,
   "metadata": {},
   "outputs": [
    {
     "data": {
      "text/plain": [
       "233168"
      ]
     },
     "execution_count": 8,
     "metadata": {},
     "output_type": "execute_result"
    }
   ],
   "source": [
    "multiple_sum(1000)"
   ]
  },
  {
   "cell_type": "markdown",
   "metadata": {},
   "source": [
    "2."
   ]
  },
  {
   "cell_type": "code",
   "execution_count": 45,
   "metadata": {},
   "outputs": [],
   "source": [
    "def sum_even_fib(n):\n",
    "    seq = [1,2]\n",
    "    even = [2]\n",
    "    keep_going = True\n",
    "    while keep_going==True:\n",
    "        next_fib = sum(seq[-2:])\n",
    "        if next_fib>n:\n",
    "            keep_going=False\n",
    "        else:\n",
    "            if (next_fib%2)==0:\n",
    "                even.append(next_fib)\n",
    "            seq.append(next_fib)\n",
    "    return sum(even)"
   ]
  },
  {
   "cell_type": "code",
   "execution_count": 46,
   "metadata": {},
   "outputs": [
    {
     "data": {
      "text/plain": [
       "4613732"
      ]
     },
     "execution_count": 46,
     "metadata": {},
     "output_type": "execute_result"
    }
   ],
   "source": [
    "sum_even_fib(4000000)"
   ]
  },
  {
   "cell_type": "markdown",
   "metadata": {},
   "source": [
    "3."
   ]
  },
  {
   "cell_type": "code",
   "execution_count": 3,
   "metadata": {},
   "outputs": [],
   "source": [
    "def check_prime(n):\n",
    "    prime=True\n",
    "    for i in range(2, round(n**.5)+1):\n",
    "        if n%i==0:\n",
    "            prime=False\n",
    "    return prime\n",
    "        "
   ]
  },
  {
   "cell_type": "code",
   "execution_count": 80,
   "metadata": {},
   "outputs": [],
   "source": [
    "def largest_prime_factor(n):\n",
    "    keep_going = True\n",
    "    cur_prime = 2\n",
    "    prime_factor = []\n",
    "    # check if prime\n",
    "    while keep_going==True:\n",
    "        if (n/cur_prime)%1==0:\n",
    "            prime_factor.append(cur_prime)\n",
    "            n = n/cur_prime\n",
    "            if n==1:\n",
    "                keep_going=False\n",
    "            cur_prime = 2\n",
    "        else:\n",
    "            next_prime=True\n",
    "            while next_prime==True:\n",
    "                cur_prime += 1\n",
    "                if check_prime(cur_prime)==True:\n",
    "                    next_prime=False\n",
    "    return max(prime_factor)\n",
    "                    \n",
    "                "
   ]
  },
  {
   "cell_type": "code",
   "execution_count": 82,
   "metadata": {},
   "outputs": [
    {
     "data": {
      "text/plain": [
       "6857"
      ]
     },
     "execution_count": 82,
     "metadata": {},
     "output_type": "execute_result"
    }
   ],
   "source": [
    "largest_prime_factor(600851475143)"
   ]
  },
  {
   "cell_type": "code",
   "execution_count": 51,
   "metadata": {},
   "outputs": [],
   "source": [
    "def largest_prime_factor(n):\n",
    "    cur_prime = 2\n",
    "    prime_factor = []\n",
    "    cont=True\n",
    "    while cont==True:\n",
    "        \n",
    "        # check if prime\n",
    "        if (n/cur_prime)%1==0:\n",
    "            prime_factor.append(cur_prime)\n",
    "            n = n/cur_prime\n",
    "            if n==1:\n",
    "                cont=False\n",
    "            else:\n",
    "                prime_factor = prime_factor + largest_prime_factor(n)\n",
    "                cont=False\n",
    "        else:\n",
    "            next_prime=True\n",
    "            while next_prime==True:\n",
    "                cur_prime += 1\n",
    "                if check_prime(cur_prime)==True:\n",
    "                    next_prime=False\n",
    "\n",
    "    return(prime_factor)\n",
    "        \n",
    "                    "
   ]
  },
  {
   "cell_type": "code",
   "execution_count": 52,
   "metadata": {},
   "outputs": [
    {
     "data": {
      "text/plain": [
       "[71, 839, 1471, 6857]"
      ]
     },
     "execution_count": 52,
     "metadata": {},
     "output_type": "execute_result"
    }
   ],
   "source": [
    "largest_prime_factor(600851475143)"
   ]
  },
  {
   "cell_type": "markdown",
   "metadata": {},
   "source": [
    "4."
   ]
  },
  {
   "cell_type": "code",
   "execution_count": 48,
   "metadata": {},
   "outputs": [],
   "source": [
    "def palindrome(x):\n",
    "    x = str(x)\n",
    "    x_split = [x[i] for i in range(len(x))]\n",
    "    if len(x_split)%2==0:\n",
    "        m = x_split[int(len(x_split)/2):]\n",
    "        m.reverse()\n",
    "        return(x_split[:int(len(x_split)/2)]==m)\n",
    "    else:\n",
    "        m = x_split[int(len(x_split)/2)+1:]\n",
    "        m.reverse()\n",
    "        return(x_split[:int(len(x_split)/2)]==m)"
   ]
  },
  {
   "cell_type": "code",
   "execution_count": 50,
   "metadata": {},
   "outputs": [
    {
     "data": {
      "text/plain": [
       "True"
      ]
     },
     "execution_count": 50,
     "metadata": {},
     "output_type": "execute_result"
    }
   ],
   "source": [
    "palindrome(90509)"
   ]
  },
  {
   "cell_type": "code",
   "execution_count": 53,
   "metadata": {},
   "outputs": [],
   "source": [
    "done=False\n",
    "max_value = 0\n",
    "for i in range(999,99,-1):\n",
    "    for j in range(999,99,-1):\n",
    "        if palindrome(i*j):\n",
    "            if (i*j)>max_value:\n",
    "                max_value = i*j\n"
   ]
  },
  {
   "cell_type": "code",
   "execution_count": 54,
   "metadata": {},
   "outputs": [
    {
     "data": {
      "text/plain": [
       "906609"
      ]
     },
     "execution_count": 54,
     "metadata": {},
     "output_type": "execute_result"
    }
   ],
   "source": [
    "max_value"
   ]
  },
  {
   "cell_type": "markdown",
   "metadata": {},
   "source": [
    "Hacker Rank"
   ]
  },
  {
   "cell_type": "code",
   "execution_count": 42,
   "metadata": {},
   "outputs": [
    {
     "data": {
      "text/plain": [
       "3"
      ]
     },
     "execution_count": 42,
     "metadata": {},
     "output_type": "execute_result"
    }
   ],
   "source": [
    "q.pop(5)"
   ]
  },
  {
   "cell_type": "code",
   "execution_count": 46,
   "metadata": {},
   "outputs": [],
   "source": [
    "q.insert(2,3)"
   ]
  },
  {
   "cell_type": "code",
   "execution_count": 49,
   "metadata": {},
   "outputs": [
    {
     "data": {
      "text/plain": [
       "[1, 2, 3, 5, 2, 4, 6]"
      ]
     },
     "execution_count": 49,
     "metadata": {},
     "output_type": "execute_result"
    }
   ],
   "source": [
    "q"
   ]
  },
  {
   "cell_type": "code",
   "execution_count": 65,
   "metadata": {},
   "outputs": [
    {
     "name": "stdout",
     "output_type": "stream",
     "text": [
      "Too Chaotic\n"
     ]
    }
   ],
   "source": [
    "q = [2, 5, 1, 3, 4]\n",
    "m = [i + 1 for i in range(len(q))]\n",
    "count = 0\n",
    "for i in range(len(q)):\n",
    "    if (q[i] - 1) - q.index(q[i]) > 2:\n",
    "        print(\"Too Chaotic\")\n",
    "        break\n",
    "    if q[i]!=m[i]:\n",
    "        if (q[i] - m[i])>0:\n",
    "            count += (m.index(q[i]) - q.index(q[i]))\n",
    "        m.pop(m.index(q[i]))\n",
    "        m.insert(i, q[i])\n",
    "\n",
    "        \n",
    "    \n",
    "#     if (q[i] - 1) - q.index(q[i]) > 2:\n",
    "#         print(\"Too Chaotic\")\n",
    "#         break\n",
    "#     else:\n",
    "#         count.append((q[i] - 1) - q.index(q[i]))\n",
    "        \n",
    "\n",
    "        "
   ]
  },
  {
   "cell_type": "code",
   "execution_count": 64,
   "metadata": {},
   "outputs": [
    {
     "data": {
      "text/plain": [
       "3"
      ]
     },
     "execution_count": 64,
     "metadata": {},
     "output_type": "execute_result"
    }
   ],
   "source": [
    "count"
   ]
  },
  {
   "cell_type": "markdown",
   "metadata": {},
   "source": [
    "#### Amazon Interview"
   ]
  },
  {
   "cell_type": "code",
   "execution_count": null,
   "metadata": {},
   "outputs": [],
   "source": [
    "product = pd.DataFrame()\n",
    "product['product_id'] = [10001,10002, 10003]\n",
    "product['category'] = ['A','A','B']\n",
    "\n",
    "\n",
    "Table 2: customer order table (5 years data)\n",
    "customer_id order_id credit_card_id product_id\n",
    "C1027       736282   37362 10001\n",
    "C1625       478e6    4857 10026\n",
    "C1027       736282    37362 10001\n",
    "C1027       736282   363 100035\n",
    "\n",
    "Question\n",
    "\n",
    "Q1. add a column to table 1, as Grocery_yesno, when a category is A, X, Y, P then the product is a grocery,\n",
    "otherwise not indicating the purchasing product as grocery or not\n",
    "product_table['Grocery_yesno'] = product_table.category.apply(lambda x: if x in ['A','X','Y','P'] True else False)\n",
    "\n",
    "\n",
    "2. add a column to table 2, as primaryCard_yesno, when credit_card_id is the primary card then yes else no\n",
    "grouped_customer = customer_order_table.groupby(['customer_id','credit_card_id']).agg({'order_id':'count'}).reset_index()\n",
    "grouped_customer_2 = grouped_customer.sort_values(['customer_id','order_id'],ascending=False).groupby('customer_id').apply(lambda x: x.iloc[0,:]).reset_index()\n",
    "joined_customer_table = customer_order_table.merge(grouped_customer_2, on='customer_id')\n",
    "joined_customer_table['primaryCard_yesno'] = joined_customer_table['credit_card_id']==joined_customer_table['credit_card_id_y']\n",
    "\n",
    "\n",
    "3. merge table 1 or 2 to bring the product information into the order table\n",
    "product_table.merge(joined_customer_table, on='product_id')"
   ]
  },
  {
   "cell_type": "code",
   "execution_count": 73,
   "metadata": {},
   "outputs": [],
   "source": [
    "product_table = pd.DataFrame()\n",
    "product_table['product_id'] = [10001,10002, 10003]\n",
    "product_table['category'] = ['A','A','B']"
   ]
  },
  {
   "cell_type": "code",
   "execution_count": 74,
   "metadata": {},
   "outputs": [],
   "source": [
    "customer_order_table = pd.DataFrame()\n",
    "customer_order_table['customer_id'] = ['C1027','C1625','C1027','C1027']\n",
    "customer_order_table['order_id'] = [1,2,3,4]\n",
    "customer_order_table['credit_card_id'] = [37362, 4857, 37362, 363]\n",
    "customer_order_table['product_id'] = [10001,10026,10001,100035]"
   ]
  },
  {
   "cell_type": "code",
   "execution_count": 75,
   "metadata": {},
   "outputs": [],
   "source": [
    "product_table.to_sql('prod',con=engine)\n",
    "customer_order_table.to_sql('cust',con=engine)\n"
   ]
  },
  {
   "cell_type": "code",
   "execution_count": 76,
   "metadata": {},
   "outputs": [
    {
     "data": {
      "text/plain": [
       "[(10001, 'A', 1), (10002, 'A', 1), (10003, 'B', 1)]"
      ]
     },
     "execution_count": 76,
     "metadata": {},
     "output_type": "execute_result"
    }
   ],
   "source": [
    "engine.execute(\"\"\"\n",
    "\n",
    "SELECT\n",
    "  product_id,\n",
    "  category,\n",
    "  CASE WHEN category='A' OR category='B' THEN 1 ELSE 0 END AS test\n",
    "FROM prod\n",
    "\n",
    "\n",
    "\"\"\").fetchall()"
   ]
  },
  {
   "cell_type": "code",
   "execution_count": 80,
   "metadata": {},
   "outputs": [
    {
     "data": {
      "text/plain": [
       "[(0, 'C1027', 1, 37362, 10001, 1),\n",
       " (1, 'C1625', 2, 4857, 10026, 1),\n",
       " (2, 'C1027', 3, 37362, 10001, 1),\n",
       " (3, 'C1027', 4, 363, 100035, 0)]"
      ]
     },
     "execution_count": 80,
     "metadata": {},
     "output_type": "execute_result"
    }
   ],
   "source": [
    "engine.execute(\"\"\"\n",
    "\n",
    "WITH primary_card AS(\n",
    "    SELECT\n",
    "      customer_id,\n",
    "      credit_card_id,\n",
    "      COUNT(DISTINCT(order_id)) as num_orders\n",
    "    FROM cust\n",
    "    GROUP BY customer_id, credit_card_id\n",
    "), rank_cards AS(\n",
    "\n",
    "    SELECT\n",
    "      customer_id,\n",
    "      credit_card_id,\n",
    "      row_number() OVER (PARTITION BY customer_id ORDER BY num_orders desc) as rn\n",
    "    FROM primary_card\n",
    "), top_card AS(\n",
    "SELECT\n",
    "  credit_card_id as top_credit\n",
    "FROM rank_cards\n",
    "WHERE rn=1\n",
    ")\n",
    "\n",
    "\n",
    "SELECT\n",
    " cust.*,\n",
    " top_credit IS NOT NULL as primary_card\n",
    "FROM cust\n",
    "LEFT JOIN top_card\n",
    "  ON cust.credit_card_id=top_card.top_credit\n",
    "\n",
    "\n",
    "\n",
    "\"\"\").fetchall()"
   ]
  },
  {
   "cell_type": "code",
   "execution_count": 47,
   "metadata": {},
   "outputs": [
    {
     "data": {
      "text/plain": [
       "[(0, 'C1027', 1, 37362, 10001, 1),\n",
       " (1, 'C1625', 2, 4857, 10026, 1),\n",
       " (2, 'C1027', 3, 37362, 10001, 1),\n",
       " (3, 'C1027', 4, 363, 100035, 0)]"
      ]
     },
     "execution_count": 47,
     "metadata": {},
     "output_type": "execute_result"
    }
   ],
   "source": [
    "engine.execute('select b.*, a.rn==1 from cust b left join (select customer_id, credit_card_id, row_number() over (partition by customer_id order by c desc) as rn from (select customer_id, credit_card_id, count(order_id) c from cust group by customer_id, credit_card_id)) a on a.credit_card_id=b.credit_card_id ').fetchall()\n"
   ]
  },
  {
   "cell_type": "code",
   "execution_count": 21,
   "metadata": {},
   "outputs": [],
   "source": [
    "product_table['Grocery_yesno'] = product_table.category.apply(lambda x: True if x in ['A','X','Y','P'] else False)\n"
   ]
  },
  {
   "cell_type": "code",
   "execution_count": 22,
   "metadata": {},
   "outputs": [
    {
     "data": {
      "text/html": [
       "<div>\n",
       "<style scoped>\n",
       "    .dataframe tbody tr th:only-of-type {\n",
       "        vertical-align: middle;\n",
       "    }\n",
       "\n",
       "    .dataframe tbody tr th {\n",
       "        vertical-align: top;\n",
       "    }\n",
       "\n",
       "    .dataframe thead th {\n",
       "        text-align: right;\n",
       "    }\n",
       "</style>\n",
       "<table border=\"1\" class=\"dataframe\">\n",
       "  <thead>\n",
       "    <tr style=\"text-align: right;\">\n",
       "      <th></th>\n",
       "      <th>product_id</th>\n",
       "      <th>category</th>\n",
       "      <th>Grocery_yesno</th>\n",
       "    </tr>\n",
       "  </thead>\n",
       "  <tbody>\n",
       "    <tr>\n",
       "      <td>0</td>\n",
       "      <td>10001</td>\n",
       "      <td>A</td>\n",
       "      <td>True</td>\n",
       "    </tr>\n",
       "    <tr>\n",
       "      <td>1</td>\n",
       "      <td>10002</td>\n",
       "      <td>A</td>\n",
       "      <td>True</td>\n",
       "    </tr>\n",
       "    <tr>\n",
       "      <td>2</td>\n",
       "      <td>10003</td>\n",
       "      <td>B</td>\n",
       "      <td>False</td>\n",
       "    </tr>\n",
       "  </tbody>\n",
       "</table>\n",
       "</div>"
      ],
      "text/plain": [
       "   product_id category  Grocery_yesno\n",
       "0       10001        A           True\n",
       "1       10002        A           True\n",
       "2       10003        B          False"
      ]
     },
     "execution_count": 22,
     "metadata": {},
     "output_type": "execute_result"
    }
   ],
   "source": [
    "product_table"
   ]
  },
  {
   "cell_type": "code",
   "execution_count": 31,
   "metadata": {},
   "outputs": [],
   "source": [
    "grouped_customer = customer_order_table.groupby(['customer_id','credit_card_id']).agg({'order_id':'count'}).reset_index()\n",
    "grouped_customer_2 = grouped_customer.sort_values(['customer_id','order_id'],ascending=False).groupby('customer_id').apply(lambda x: x.iloc[0,1:]).reset_index()\n",
    "joined_customer_table = customer_order_table.merge(grouped_customer_2, on='customer_id')\n",
    "# joined_customer_table['primaryCard_yesno'] = joined_customer_table['credit_card_id_x']==joined_customer_table['credit_card_id_y']\n"
   ]
  },
  {
   "cell_type": "code",
   "execution_count": 33,
   "metadata": {},
   "outputs": [
    {
     "data": {
      "text/html": [
       "<div>\n",
       "<style scoped>\n",
       "    .dataframe tbody tr th:only-of-type {\n",
       "        vertical-align: middle;\n",
       "    }\n",
       "\n",
       "    .dataframe tbody tr th {\n",
       "        vertical-align: top;\n",
       "    }\n",
       "\n",
       "    .dataframe thead th {\n",
       "        text-align: right;\n",
       "    }\n",
       "</style>\n",
       "<table border=\"1\" class=\"dataframe\">\n",
       "  <thead>\n",
       "    <tr style=\"text-align: right;\">\n",
       "      <th></th>\n",
       "      <th>customer_id</th>\n",
       "      <th>order_id_x</th>\n",
       "      <th>credit_card_id_x</th>\n",
       "      <th>product_id</th>\n",
       "      <th>credit_card_id_y</th>\n",
       "      <th>order_id_y</th>\n",
       "    </tr>\n",
       "  </thead>\n",
       "  <tbody>\n",
       "    <tr>\n",
       "      <td>0</td>\n",
       "      <td>C1027</td>\n",
       "      <td>1</td>\n",
       "      <td>37362</td>\n",
       "      <td>10001</td>\n",
       "      <td>37362</td>\n",
       "      <td>2</td>\n",
       "    </tr>\n",
       "    <tr>\n",
       "      <td>1</td>\n",
       "      <td>C1027</td>\n",
       "      <td>3</td>\n",
       "      <td>37362</td>\n",
       "      <td>10001</td>\n",
       "      <td>37362</td>\n",
       "      <td>2</td>\n",
       "    </tr>\n",
       "    <tr>\n",
       "      <td>2</td>\n",
       "      <td>C1027</td>\n",
       "      <td>4</td>\n",
       "      <td>363</td>\n",
       "      <td>100035</td>\n",
       "      <td>37362</td>\n",
       "      <td>2</td>\n",
       "    </tr>\n",
       "    <tr>\n",
       "      <td>3</td>\n",
       "      <td>C1625</td>\n",
       "      <td>2</td>\n",
       "      <td>4857</td>\n",
       "      <td>10026</td>\n",
       "      <td>4857</td>\n",
       "      <td>1</td>\n",
       "    </tr>\n",
       "  </tbody>\n",
       "</table>\n",
       "</div>"
      ],
      "text/plain": [
       "  customer_id  order_id_x  credit_card_id_x  product_id  credit_card_id_y  \\\n",
       "0       C1027           1             37362       10001             37362   \n",
       "1       C1027           3             37362       10001             37362   \n",
       "2       C1027           4               363      100035             37362   \n",
       "3       C1625           2              4857       10026              4857   \n",
       "\n",
       "   order_id_y  \n",
       "0           2  \n",
       "1           2  \n",
       "2           2  \n",
       "3           1  "
      ]
     },
     "execution_count": 33,
     "metadata": {},
     "output_type": "execute_result"
    }
   ],
   "source": [
    "joined_customer_table"
   ]
  },
  {
   "cell_type": "code",
   "execution_count": 24,
   "metadata": {},
   "outputs": [
    {
     "data": {
      "text/html": [
       "<div>\n",
       "<style scoped>\n",
       "    .dataframe tbody tr th:only-of-type {\n",
       "        vertical-align: middle;\n",
       "    }\n",
       "\n",
       "    .dataframe tbody tr th {\n",
       "        vertical-align: top;\n",
       "    }\n",
       "\n",
       "    .dataframe thead th {\n",
       "        text-align: right;\n",
       "    }\n",
       "</style>\n",
       "<table border=\"1\" class=\"dataframe\">\n",
       "  <thead>\n",
       "    <tr style=\"text-align: right;\">\n",
       "      <th></th>\n",
       "      <th>customer_id</th>\n",
       "      <th>order_id_x</th>\n",
       "      <th>credit_card_id_x</th>\n",
       "      <th>product_id</th>\n",
       "      <th>credit_card_id_y</th>\n",
       "      <th>order_id_y</th>\n",
       "      <th>primaryCard_yesno</th>\n",
       "    </tr>\n",
       "  </thead>\n",
       "  <tbody>\n",
       "    <tr>\n",
       "      <td>0</td>\n",
       "      <td>C1027</td>\n",
       "      <td>1</td>\n",
       "      <td>37362</td>\n",
       "      <td>10001</td>\n",
       "      <td>37362</td>\n",
       "      <td>2</td>\n",
       "      <td>True</td>\n",
       "    </tr>\n",
       "    <tr>\n",
       "      <td>1</td>\n",
       "      <td>C1027</td>\n",
       "      <td>3</td>\n",
       "      <td>37362</td>\n",
       "      <td>10001</td>\n",
       "      <td>37362</td>\n",
       "      <td>2</td>\n",
       "      <td>True</td>\n",
       "    </tr>\n",
       "    <tr>\n",
       "      <td>2</td>\n",
       "      <td>C1027</td>\n",
       "      <td>4</td>\n",
       "      <td>363</td>\n",
       "      <td>100035</td>\n",
       "      <td>37362</td>\n",
       "      <td>2</td>\n",
       "      <td>False</td>\n",
       "    </tr>\n",
       "    <tr>\n",
       "      <td>3</td>\n",
       "      <td>C1625</td>\n",
       "      <td>2</td>\n",
       "      <td>4857</td>\n",
       "      <td>10026</td>\n",
       "      <td>4857</td>\n",
       "      <td>1</td>\n",
       "      <td>True</td>\n",
       "    </tr>\n",
       "  </tbody>\n",
       "</table>\n",
       "</div>"
      ],
      "text/plain": [
       "  customer_id  order_id_x  credit_card_id_x  product_id  credit_card_id_y  \\\n",
       "0       C1027           1             37362       10001             37362   \n",
       "1       C1027           3             37362       10001             37362   \n",
       "2       C1027           4               363      100035             37362   \n",
       "3       C1625           2              4857       10026              4857   \n",
       "\n",
       "   order_id_y  primaryCard_yesno  \n",
       "0           2               True  \n",
       "1           2               True  \n",
       "2           2              False  \n",
       "3           1               True  "
      ]
     },
     "execution_count": 24,
     "metadata": {},
     "output_type": "execute_result"
    }
   ],
   "source": [
    "joined_customer_table"
   ]
  },
  {
   "cell_type": "code",
   "execution_count": 97,
   "metadata": {},
   "outputs": [
    {
     "data": {
      "text/html": [
       "<div>\n",
       "<style scoped>\n",
       "    .dataframe tbody tr th:only-of-type {\n",
       "        vertical-align: middle;\n",
       "    }\n",
       "\n",
       "    .dataframe tbody tr th {\n",
       "        vertical-align: top;\n",
       "    }\n",
       "\n",
       "    .dataframe thead th {\n",
       "        text-align: right;\n",
       "    }\n",
       "</style>\n",
       "<table border=\"1\" class=\"dataframe\">\n",
       "  <thead>\n",
       "    <tr style=\"text-align: right;\">\n",
       "      <th></th>\n",
       "      <th>customer_id</th>\n",
       "      <th>credit_card_id</th>\n",
       "      <th>order_id</th>\n",
       "    </tr>\n",
       "  </thead>\n",
       "  <tbody>\n",
       "    <tr>\n",
       "      <td>0</td>\n",
       "      <td>C1027</td>\n",
       "      <td>37362</td>\n",
       "      <td>2</td>\n",
       "    </tr>\n",
       "    <tr>\n",
       "      <td>1</td>\n",
       "      <td>C1625</td>\n",
       "      <td>4857</td>\n",
       "      <td>1</td>\n",
       "    </tr>\n",
       "  </tbody>\n",
       "</table>\n",
       "</div>"
      ],
      "text/plain": [
       "  customer_id  credit_card_id  order_id\n",
       "0       C1027           37362         2\n",
       "1       C1625            4857         1"
      ]
     },
     "execution_count": 97,
     "metadata": {},
     "output_type": "execute_result"
    }
   ],
   "source": [
    "grouped_customer_2"
   ]
  },
  {
   "cell_type": "code",
   "execution_count": 101,
   "metadata": {},
   "outputs": [
    {
     "data": {
      "text/html": [
       "<div>\n",
       "<style scoped>\n",
       "    .dataframe tbody tr th:only-of-type {\n",
       "        vertical-align: middle;\n",
       "    }\n",
       "\n",
       "    .dataframe tbody tr th {\n",
       "        vertical-align: top;\n",
       "    }\n",
       "\n",
       "    .dataframe thead th {\n",
       "        text-align: right;\n",
       "    }\n",
       "</style>\n",
       "<table border=\"1\" class=\"dataframe\">\n",
       "  <thead>\n",
       "    <tr style=\"text-align: right;\">\n",
       "      <th></th>\n",
       "      <th>product_id</th>\n",
       "      <th>category</th>\n",
       "      <th>Grocery_yesno</th>\n",
       "      <th>customer_id</th>\n",
       "      <th>order_id_x</th>\n",
       "      <th>credit_card_id_x</th>\n",
       "      <th>credit_card_id_y</th>\n",
       "      <th>order_id_y</th>\n",
       "      <th>primaryCard_yesno</th>\n",
       "    </tr>\n",
       "  </thead>\n",
       "  <tbody>\n",
       "    <tr>\n",
       "      <td>0</td>\n",
       "      <td>10001</td>\n",
       "      <td>A</td>\n",
       "      <td>True</td>\n",
       "      <td>C1027</td>\n",
       "      <td>1</td>\n",
       "      <td>37362</td>\n",
       "      <td>37362</td>\n",
       "      <td>2</td>\n",
       "      <td>True</td>\n",
       "    </tr>\n",
       "    <tr>\n",
       "      <td>1</td>\n",
       "      <td>10001</td>\n",
       "      <td>A</td>\n",
       "      <td>True</td>\n",
       "      <td>C1027</td>\n",
       "      <td>3</td>\n",
       "      <td>37362</td>\n",
       "      <td>37362</td>\n",
       "      <td>2</td>\n",
       "      <td>True</td>\n",
       "    </tr>\n",
       "  </tbody>\n",
       "</table>\n",
       "</div>"
      ],
      "text/plain": [
       "   product_id category  Grocery_yesno customer_id  order_id_x  \\\n",
       "0       10001        A           True       C1027           1   \n",
       "1       10001        A           True       C1027           3   \n",
       "\n",
       "   credit_card_id_x  credit_card_id_y  order_id_y  primaryCard_yesno  \n",
       "0             37362             37362           2               True  \n",
       "1             37362             37362           2               True  "
      ]
     },
     "execution_count": 101,
     "metadata": {},
     "output_type": "execute_result"
    }
   ],
   "source": [
    "product_table.merge(joined_customer_table, on='product_id')"
   ]
  },
  {
   "cell_type": "code",
   "execution_count": null,
   "metadata": {},
   "outputs": [],
   "source": []
  },
  {
   "cell_type": "code",
   "execution_count": null,
   "metadata": {},
   "outputs": [],
   "source": []
  },
  {
   "cell_type": "code",
   "execution_count": 51,
   "metadata": {},
   "outputs": [],
   "source": [
    "m = [1,3,2,4]"
   ]
  },
  {
   "cell_type": "code",
   "execution_count": 52,
   "metadata": {},
   "outputs": [],
   "source": [
    "m.sort()"
   ]
  },
  {
   "cell_type": "code",
   "execution_count": 53,
   "metadata": {},
   "outputs": [
    {
     "data": {
      "text/plain": [
       "[1, 2, 3, 4]"
      ]
     },
     "execution_count": 53,
     "metadata": {},
     "output_type": "execute_result"
    }
   ],
   "source": [
    "m"
   ]
  },
  {
   "cell_type": "code",
   "execution_count": 54,
   "metadata": {},
   "outputs": [
    {
     "data": {
      "text/plain": [
       "4"
      ]
     },
     "execution_count": 54,
     "metadata": {},
     "output_type": "execute_result"
    }
   ],
   "source": [
    "m.pop(3)"
   ]
  },
  {
   "cell_type": "code",
   "execution_count": 55,
   "metadata": {},
   "outputs": [
    {
     "data": {
      "text/plain": [
       "[1, 2, 3]"
      ]
     },
     "execution_count": 55,
     "metadata": {},
     "output_type": "execute_result"
    }
   ],
   "source": [
    "m"
   ]
  },
  {
   "cell_type": "code",
   "execution_count": 56,
   "metadata": {},
   "outputs": [],
   "source": [
    "m.append(5)"
   ]
  },
  {
   "cell_type": "code",
   "execution_count": 57,
   "metadata": {},
   "outputs": [
    {
     "data": {
      "text/plain": [
       "[1, 2, 3, 5]"
      ]
     },
     "execution_count": 57,
     "metadata": {},
     "output_type": "execute_result"
    }
   ],
   "source": [
    "m"
   ]
  },
  {
   "cell_type": "code",
   "execution_count": 61,
   "metadata": {},
   "outputs": [
    {
     "data": {
      "text/plain": [
       "3"
      ]
     },
     "execution_count": 61,
     "metadata": {},
     "output_type": "execute_result"
    }
   ],
   "source": [
    "m.index(5)"
   ]
  },
  {
   "cell_type": "code",
   "execution_count": 59,
   "metadata": {},
   "outputs": [
    {
     "data": {
      "text/plain": [
       "[1, 2, 3, 5]"
      ]
     },
     "execution_count": 59,
     "metadata": {},
     "output_type": "execute_result"
    }
   ],
   "source": [
    "m"
   ]
  },
  {
   "cell_type": "code",
   "execution_count": 63,
   "metadata": {},
   "outputs": [],
   "source": [
    "m.insert(2,4)"
   ]
  },
  {
   "cell_type": "code",
   "execution_count": 65,
   "metadata": {},
   "outputs": [],
   "source": [
    "m.remove(3)"
   ]
  },
  {
   "cell_type": "code",
   "execution_count": 67,
   "metadata": {},
   "outputs": [],
   "source": [
    "m.remove(2)"
   ]
  },
  {
   "cell_type": "code",
   "execution_count": 68,
   "metadata": {},
   "outputs": [
    {
     "data": {
      "text/plain": [
       "[1, 4, 5]"
      ]
     },
     "execution_count": 68,
     "metadata": {},
     "output_type": "execute_result"
    }
   ],
   "source": [
    "m"
   ]
  },
  {
   "cell_type": "code",
   "execution_count": 69,
   "metadata": {},
   "outputs": [],
   "source": [
    "m.append(6)"
   ]
  },
  {
   "cell_type": "code",
   "execution_count": 88,
   "metadata": {},
   "outputs": [],
   "source": [
    "m.reverse()"
   ]
  },
  {
   "cell_type": "code",
   "execution_count": 90,
   "metadata": {},
   "outputs": [],
   "source": [
    "m.reverse()"
   ]
  },
  {
   "cell_type": "code",
   "execution_count": 75,
   "metadata": {},
   "outputs": [],
   "source": [
    "m.insert(2,3)"
   ]
  },
  {
   "cell_type": "code",
   "execution_count": 79,
   "metadata": {},
   "outputs": [],
   "source": [
    "d = {'m':2,'n':3}"
   ]
  },
  {
   "cell_type": "code",
   "execution_count": 86,
   "metadata": {},
   "outputs": [],
   "source": [
    "d.update?"
   ]
  },
  {
   "cell_type": "code",
   "execution_count": null,
   "metadata": {},
   "outputs": [],
   "source": []
  }
 ],
 "metadata": {
  "kernelspec": {
   "display_name": "Python 3",
   "language": "python",
   "name": "python3"
  },
  "language_info": {
   "codemirror_mode": {
    "name": "ipython",
    "version": 3
   },
   "file_extension": ".py",
   "mimetype": "text/x-python",
   "name": "python",
   "nbconvert_exporter": "python",
   "pygments_lexer": "ipython3",
   "version": "3.7.5"
  }
 },
 "nbformat": 4,
 "nbformat_minor": 2
}
