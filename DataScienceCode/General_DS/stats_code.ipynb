{
 "cells": [
  {
   "cell_type": "markdown",
   "metadata": {},
   "source": [
    "#### Simulation for expectation of sequence of random variables with stopping criteria"
   ]
  },
  {
   "cell_type": "code",
   "execution_count": 2,
   "metadata": {},
   "outputs": [],
   "source": [
    "from scipy.stats import norm\n",
    "import numpy as np\n",
    "from scipy import linalg as la"
   ]
  },
  {
   "cell_type": "code",
   "execution_count": 9,
   "metadata": {},
   "outputs": [],
   "source": [
    "mean_rvs = []\n",
    "N = 10000\n",
    "p = 1\n",
    "for i in range(N):\n",
    "    rvs = []\n",
    "    less = True\n",
    "    while less:\n",
    "        rv = norm.rvs(size=1) # sample one normal, standardized random variable\n",
    "        if rv < p: # if draw is less than p, add to sequence\n",
    "            rvs.append(rv[0])\n",
    "        else: # if draw is greater than p, stop sequence\n",
    "            less=False\n",
    "    if len(rvs)!=0: # take mean of sequence, as long as there is as least one random variable in sequence\n",
    "        mean_rvs.append(np.mean(rvs))"
   ]
  },
  {
   "cell_type": "code",
   "execution_count": 10,
   "metadata": {},
   "outputs": [
    {
     "data": {
      "text/plain": [
       "-0.28959926007633885"
      ]
     },
     "execution_count": 10,
     "metadata": {},
     "output_type": "execute_result"
    }
   ],
   "source": [
    "np.mean(mean_rvs)"
   ]
  },
  {
   "cell_type": "markdown",
   "metadata": {},
   "source": [
    "#### Power analysis code"
   ]
  },
  {
   "cell_type": "code",
   "execution_count": 11,
   "metadata": {},
   "outputs": [],
   "source": [
    "from scipy.stats import t\n",
    "from statsmodels.stats.power import tt_solve_power"
   ]
  },
  {
   "cell_type": "code",
   "execution_count": 17,
   "metadata": {},
   "outputs": [
    {
     "data": {
      "text/plain": [
       "0.7544247525764518"
      ]
     },
     "execution_count": 17,
     "metadata": {},
     "output_type": "execute_result"
    }
   ],
   "source": [
    "tt_solve_power(effect_size = .8, nobs=10, alpha=0.05, power=None, alternative='larger')"
   ]
  },
  {
   "cell_type": "code",
   "execution_count": 15,
   "metadata": {},
   "outputs": [
    {
     "data": {
      "text/plain": [
       "1.8331129326536335"
      ]
     },
     "execution_count": 15,
     "metadata": {},
     "output_type": "execute_result"
    }
   ],
   "source": [
    "t.ppf(.95, df=9)"
   ]
  },
  {
   "cell_type": "code",
   "execution_count": null,
   "metadata": {},
   "outputs": [],
   "source": [
    "t.cdf()"
   ]
  },
  {
   "cell_type": "markdown",
   "metadata": {},
   "source": [
    "#### Simulation of probability two points on a unit square are less than .5"
   ]
  },
  {
   "cell_type": "code",
   "execution_count": 14,
   "metadata": {},
   "outputs": [],
   "source": [
    "t = np.array((0,0))\n",
    "t1 = np.array([1.,1.])"
   ]
  },
  {
   "cell_type": "code",
   "execution_count": 7,
   "metadata": {},
   "outputs": [
    {
     "data": {
      "text/plain": [
       "array([0.5, 0. ])"
      ]
     },
     "execution_count": 7,
     "metadata": {},
     "output_type": "execute_result"
    }
   ],
   "source": [
    "t"
   ]
  },
  {
   "cell_type": "code",
   "execution_count": 15,
   "metadata": {
    "scrolled": true
   },
   "outputs": [
    {
     "data": {
      "text/plain": [
       "1.4142135623730951"
      ]
     },
     "execution_count": 15,
     "metadata": {},
     "output_type": "execute_result"
    }
   ],
   "source": [
    "la.norm(t - t1)"
   ]
  },
  {
   "cell_type": "code",
   "execution_count": 19,
   "metadata": {},
   "outputs": [
    {
     "name": "stdout",
     "output_type": "stream",
     "text": [
      "[0.15856671 0.68032008 0.6236319  ... 1.08352155 0.64511977 1.2612305 ]\n"
     ]
    }
   ],
   "source": [
    "sim_size = 200000\n",
    "distances = np.zeros(sim_size)\n",
    "for i in range(sim_size):\n",
    "    x = np.random.uniform(0,4.0)\n",
    "    y = np.random.uniform(0,4.0)\n",
    "\n",
    "    if x <= 1.0:\n",
    "        point_x = (x,0.)\n",
    "    elif x > 1.0 and x<=2.0:\n",
    "        point_x = (1.,x-1)\n",
    "    elif x > 2.0 and x <= 3.0:\n",
    "        point_x = (1-(x-2), 1.)\n",
    "    else:\n",
    "        point_x = (0, 1-(x-3))\n",
    "        \n",
    "    if y <= 1.0:\n",
    "        point_y = (y,0.)\n",
    "    elif y > 1.0 and y<=2.0:\n",
    "        point_y = (1.,y-1)\n",
    "    elif y > 2.0 and y <= 3.0:\n",
    "        point_y = (1-(y-2), 1.)\n",
    "    else:\n",
    "        point_y = (0, 1-(y-3))\n",
    "    \n",
    "    distances[i] = la.norm(np.array(point_x) - np.array(point_y))\n",
    "    \n",
    "sum(distances <.5)/(sim_size*1.0)"
   ]
  },
  {
   "cell_type": "code",
   "execution_count": 20,
   "metadata": {},
   "outputs": [
    {
     "data": {
      "text/plain": [
       "0.28575"
      ]
     },
     "execution_count": 20,
     "metadata": {},
     "output_type": "execute_result"
    }
   ],
   "source": [
    "sum(distances <.5)/(sim_size*1.0)"
   ]
  },
  {
   "cell_type": "code",
   "execution_count": 30,
   "metadata": {},
   "outputs": [
    {
     "data": {
      "text/plain": [
       "1.4128869314912051"
      ]
     },
     "execution_count": 30,
     "metadata": {},
     "output_type": "execute_result"
    }
   ],
   "source": [
    "max(distances)"
   ]
  },
  {
   "cell_type": "code",
   "execution_count": null,
   "metadata": {},
   "outputs": [],
   "source": []
  }
 ],
 "metadata": {
  "kernelspec": {
   "display_name": "Python 3",
   "language": "python",
   "name": "python3"
  },
  "language_info": {
   "codemirror_mode": {
    "name": "ipython",
    "version": 3
   },
   "file_extension": ".py",
   "mimetype": "text/x-python",
   "name": "python",
   "nbconvert_exporter": "python",
   "pygments_lexer": "ipython3",
   "version": "3.7.1"
  }
 },
 "nbformat": 4,
 "nbformat_minor": 2
}
