{
 "cells": [
  {
   "cell_type": "markdown",
   "metadata": {},
   "source": [
    "# Tensorflow/Keras notes\n",
    "This notebook is a collection of my notes and code on how to run tensorflow"
   ]
  },
  {
   "cell_type": "code",
   "execution_count": 1,
   "metadata": {},
   "outputs": [],
   "source": [
    "%matplotlib inline\n",
    "import tensorflow as tf\n",
    "from tensorflow.keras import layers\n",
    "import numpy as np"
   ]
  },
  {
   "cell_type": "code",
   "execution_count": 31,
   "metadata": {},
   "outputs": [
    {
     "name": "stdout",
     "output_type": "stream",
     "text": [
      "1.13.1\n",
      "2.2.4-tf\n"
     ]
    }
   ],
   "source": [
    "print(tf.VERSION)\n",
    "print(tf.keras.__version__)"
   ]
  },
  {
   "cell_type": "code",
   "execution_count": 2,
   "metadata": {},
   "outputs": [
    {
     "name": "stdout",
     "output_type": "stream",
     "text": [
      "1.13.1\n",
      "2.2.4-tf\n"
     ]
    }
   ],
   "source": [
    "print(tf.VERSION)\n",
    "print(tf.keras.__version__)"
   ]
  },
  {
   "cell_type": "markdown",
   "metadata": {},
   "source": [
    "This website (https://medium.com/tensorflow/what-are-symbolic-and-imperative-apis-in-tensorflow-2-0-dfccecb01021) has a great overview on the different ways of interacting with TensorFlow. The main ways are as follows:\n",
    "\n",
    "1. Symbolic or declarative style\n",
    "    - Sequential\n",
    "        - This is the way that might fit our intuition better or how we visually think of neural networks as stacking different layers. The highest level Keras API takes this approach.\n",
    "    - Functional\n",
    "        - This allows you to create your network in DAG format. This provides more flexibility\n",
    "2. Imperative model\n",
    "    - This allows you to subclass the models. Provides even more flexility.\n",
    "3. Low-level tensor flow or theano\n",
    "    - This is much lower level and probably not recommended for ease of use.\n"
   ]
  },
  {
   "cell_type": "markdown",
   "metadata": {},
   "source": [
    "### Sequential model\n",
    "This is where we stack layers together. Use the xor data"
   ]
  },
  {
   "cell_type": "code",
   "execution_count": 112,
   "metadata": {},
   "outputs": [],
   "source": [
    "# Create data\n",
    "X = np.array([[0.0,0.0],[0.0,1.0],[1.0,1.0],[1.0,0.0]])\n",
    "y = np.array([0.0,1.0,0.0,1.0])\n",
    "\n",
    "X = np.array([[0.0,0.0]])\n",
    "y = np.array([0.0])"
   ]
  },
  {
   "cell_type": "markdown",
   "metadata": {},
   "source": [
    "#### Initialize model"
   ]
  },
  {
   "cell_type": "code",
   "execution_count": 33,
   "metadata": {},
   "outputs": [],
   "source": [
    "model = tf.keras.Sequential()"
   ]
  },
  {
   "cell_type": "markdown",
   "metadata": {},
   "source": [
    "#### Add layers in\n",
    "This adds a regular neural network layer with 2 nodes, activation function \"relu\" and initializes all the weights and bias to 1."
   ]
  },
  {
   "cell_type": "code",
   "execution_count": 34,
   "metadata": {},
   "outputs": [],
   "source": [
    "model.add(layers.Dense(2,activation=\"relu\", kernel_initializer=tf.keras.initializers.constant(1.0),\n",
    "                      bias_initializer=tf.keras.initializers.constant(1.0)))\n",
    "model.add(layers.Dense(1, kernel_initializer=tf.keras.initializers.constant(1.0),\n",
    "                      bias_initializer=tf.keras.initializers.constant(1.0)))"
   ]
  },
  {
   "cell_type": "markdown",
   "metadata": {},
   "source": [
    "#### Compile model"
   ]
  },
  {
   "cell_type": "code",
   "execution_count": 35,
   "metadata": {},
   "outputs": [],
   "source": [
    "model.compile(optimizer=tf.train.GradientDescentOptimizer(0.01), loss='mse', metrics=['mse'])\n"
   ]
  },
  {
   "cell_type": "markdown",
   "metadata": {},
   "source": [
    "#### Define callbacks (or ways of tracking your model)"
   ]
  },
  {
   "cell_type": "code",
   "execution_count": 72,
   "metadata": {},
   "outputs": [],
   "source": [
    "class Histories(tf.keras.callbacks.Callback):\n",
    "    def on_train_begin(self, logs={}):\n",
    "        self.losses = []\n",
    "        self.weights = [self.model.get_weights()]\n",
    " \n",
    "    def on_train_end(self, logs={}):\n",
    "        return\n",
    " \n",
    "    def on_epoch_begin(self, epoch, logs={}):\n",
    "        return\n",
    " \n",
    "    def on_epoch_end(self, epoch, logs={}):\n",
    "        return\n",
    " \n",
    "    def on_batch_begin(self, batch, logs={}):\n",
    "        return\n",
    " \n",
    "    def on_batch_end(self, batch, logs={}):\n",
    "        self.losses.append(logs.get('loss'))\n",
    "        self.weights.append(self.model.get_weights())\n",
    "        return"
   ]
  },
  {
   "cell_type": "code",
   "execution_count": 73,
   "metadata": {},
   "outputs": [],
   "source": [
    "history = Histories()"
   ]
  },
  {
   "cell_type": "markdown",
   "metadata": {},
   "source": [
    "#### Train model"
   ]
  },
  {
   "cell_type": "code",
   "execution_count": 38,
   "metadata": {},
   "outputs": [],
   "source": [
    "from tensorflow.keras.callbacks import TensorBoard\n",
    "from time import time"
   ]
  },
  {
   "cell_type": "code",
   "execution_count": 39,
   "metadata": {},
   "outputs": [],
   "source": [
    "tensorboard = TensorBoard(log_dir=\"logs/{}\".format(time()))"
   ]
  },
  {
   "cell_type": "code",
   "execution_count": 40,
   "metadata": {
    "scrolled": true
   },
   "outputs": [
    {
     "name": "stdout",
     "output_type": "stream",
     "text": [
      "WARNING:tensorflow:From /Users/matthew.goodwin/MyStuff/Education/DataScienceToolkit/DataScienceCode/ds_python_3/lib/python3.7/site-packages/tensorflow/python/keras/utils/losses_utils.py:170: to_float (from tensorflow.python.ops.math_ops) is deprecated and will be removed in a future version.\n",
      "Instructions for updating:\n",
      "Use tf.cast instead.\n",
      "WARNING:tensorflow:From /Users/matthew.goodwin/MyStuff/Education/DataScienceToolkit/DataScienceCode/ds_python_3/lib/python3.7/site-packages/tensorflow/python/ops/math_ops.py:3066: to_int32 (from tensorflow.python.ops.math_ops) is deprecated and will be removed in a future version.\n",
      "Instructions for updating:\n",
      "Use tf.cast instead.\n",
      "1/1 [==============================] - 0s 75ms/sample - loss: 9.0000 - mean_squared_error: 9.0000\n"
     ]
    },
    {
     "data": {
      "text/plain": [
       "<tensorflow.python.keras.callbacks.History at 0x13b5dba20>"
      ]
     },
     "execution_count": 40,
     "metadata": {},
     "output_type": "execute_result"
    }
   ],
   "source": [
    "model.fit(X, y, batch_size=1, epochs=1, callbacks=[history, tensorboard])"
   ]
  },
  {
   "cell_type": "code",
   "execution_count": 41,
   "metadata": {},
   "outputs": [
    {
     "ename": "SyntaxError",
     "evalue": "invalid syntax (<ipython-input-41-1504d88355fc>, line 1)",
     "output_type": "error",
     "traceback": [
      "\u001b[0;36m  File \u001b[0;32m\"<ipython-input-41-1504d88355fc>\"\u001b[0;36m, line \u001b[0;32m1\u001b[0m\n\u001b[0;31m    tensorboard --logdir=test/ --host localhost --port 8088\u001b[0m\n\u001b[0m                                              ^\u001b[0m\n\u001b[0;31mSyntaxError\u001b[0m\u001b[0;31m:\u001b[0m invalid syntax\n"
     ]
    }
   ],
   "source": [
    "tensorboard --logdir=test/ --host localhost --port 8088"
   ]
  },
  {
   "cell_type": "code",
   "execution_count": 42,
   "metadata": {
    "scrolled": true
   },
   "outputs": [
    {
     "data": {
      "text/plain": [
       "2"
      ]
     },
     "execution_count": 42,
     "metadata": {},
     "output_type": "execute_result"
    }
   ],
   "source": [
    "len(history.weights)"
   ]
  },
  {
   "cell_type": "code",
   "execution_count": 43,
   "metadata": {},
   "outputs": [
    {
     "data": {
      "text/plain": [
       "[9.0]"
      ]
     },
     "execution_count": 43,
     "metadata": {},
     "output_type": "execute_result"
    }
   ],
   "source": [
    "history.losses"
   ]
  },
  {
   "cell_type": "code",
   "execution_count": 44,
   "metadata": {},
   "outputs": [
    {
     "data": {
      "text/plain": [
       "[[array([[1., 1.],\n",
       "         [1., 1.]], dtype=float32),\n",
       "  array([1., 1.], dtype=float32),\n",
       "  array([[1.],\n",
       "         [1.]], dtype=float32),\n",
       "  array([1.], dtype=float32)],\n",
       " [array([[1., 1.],\n",
       "         [1., 1.]], dtype=float32),\n",
       "  array([0.94, 0.94], dtype=float32),\n",
       "  array([[0.94],\n",
       "         [0.94]], dtype=float32),\n",
       "  array([0.94], dtype=float32)]]"
      ]
     },
     "execution_count": 44,
     "metadata": {},
     "output_type": "execute_result"
    }
   ],
   "source": [
    "history.weights"
   ]
  },
  {
   "cell_type": "code",
   "execution_count": 85,
   "metadata": {},
   "outputs": [],
   "source": [
    "model.fit?"
   ]
  },
  {
   "cell_type": "markdown",
   "metadata": {},
   "source": [
    "## Understanding the Tensor Flow session paradigm"
   ]
  },
  {
   "cell_type": "code",
   "execution_count": null,
   "metadata": {},
   "outputs": [],
   "source": [
    "import tensorflow as tf\n",
    "import numpy as np"
   ]
  },
  {
   "cell_type": "code",
   "execution_count": null,
   "metadata": {},
   "outputs": [],
   "source": [
    "with tf.Session() as sess:\n",
    "    a = tf.constant(15, name=\"a\")\n",
    "    b = tf.constant(5, name=\"b\")\n",
    "    prod = tf.multiply(a,b,name=\"multiply\")\n",
    "    add = tf.add(a,b, name=\"add\")\n",
    "    res = tf.divide(prod, add, name=\"divide\")\n",
    "    \n",
    "    out = sess.run(res)\n",
    " \n",
    "    print(out)\n",
    "tf.summary.FileWriter('test',sess.graph)"
   ]
  },
  {
   "cell_type": "markdown",
   "metadata": {},
   "source": [
    "#### Type this in command line to see graph in tensor board"
   ]
  },
  {
   "cell_type": "code",
   "execution_count": null,
   "metadata": {},
   "outputs": [],
   "source": [
    "tensorboard --logdir=test/ --host localhost --port 8088"
   ]
  },
  {
   "cell_type": "code",
   "execution_count": null,
   "metadata": {},
   "outputs": [],
   "source": []
  },
  {
   "cell_type": "code",
   "execution_count": null,
   "metadata": {},
   "outputs": [],
   "source": [
    "\n",
    "\n",
    "input_x = tf.placeholder(tf.float32, [None, 2], name='input_x')    \n",
    "dense1 = layers.Dense(2, activation='relu', kernel_initializer=tf.keras.initializers.constant(2.0),bias_initializer=tf.keras.initializers.constant(1.0))\n",
    "y = dense1(input_x)\n",
    "\n",
    "weights = dense1.get_weights()"
   ]
  },
  {
   "cell_type": "code",
   "execution_count": null,
   "metadata": {},
   "outputs": [],
   "source": [
    "dense1.get_output_at?"
   ]
  },
  {
   "cell_type": "code",
   "execution_count": null,
   "metadata": {},
   "outputs": [],
   "source": [
    "dense1"
   ]
  },
  {
   "cell_type": "code",
   "execution_count": null,
   "metadata": {},
   "outputs": [],
   "source": [
    "input_x = tf.placeholder(tf.float32, [None, 2], name='input_x') "
   ]
  },
  {
   "cell_type": "code",
   "execution_count": null,
   "metadata": {},
   "outputs": [],
   "source": [
    "input_x"
   ]
  },
  {
   "cell_type": "code",
   "execution_count": null,
   "metadata": {},
   "outputs": [],
   "source": [
    "dense1 = layers.Dense(2, activation='relu')"
   ]
  },
  {
   "cell_type": "code",
   "execution_count": null,
   "metadata": {},
   "outputs": [],
   "source": [
    "weights = dense1.get_weights()"
   ]
  },
  {
   "cell_type": "code",
   "execution_count": null,
   "metadata": {},
   "outputs": [],
   "source": [
    "weights"
   ]
  },
  {
   "cell_type": "code",
   "execution_count": null,
   "metadata": {},
   "outputs": [],
   "source": [
    "y = dense1(input_x)"
   ]
  },
  {
   "cell_type": "code",
   "execution_count": null,
   "metadata": {},
   "outputs": [],
   "source": [
    "inputs = layers.Input(shape=(2,))"
   ]
  },
  {
   "cell_type": "code",
   "execution_count": null,
   "metadata": {},
   "outputs": [],
   "source": [
    "inputs"
   ]
  },
  {
   "cell_type": "markdown",
   "metadata": {},
   "source": [
    "## Basic linear regression using Keras"
   ]
  },
  {
   "cell_type": "code",
   "execution_count": 71,
   "metadata": {},
   "outputs": [],
   "source": [
    "import tensorflow as tf\n",
    "from tensorflow.keras import layers\n",
    "import numpy as np\n",
    "import statsmodels.api as sm\n",
    "import statsmodels.formula.api as smf\n",
    "\n",
    "from sklearn import datasets\n",
    "from sklearn.preprocessing import StandardScaler, MinMaxScaler, Normalizer\n",
    "\n",
    "from matplotlib import pyplot as plt\n",
    "\n",
    "%matplotlib inline"
   ]
  },
  {
   "cell_type": "markdown",
   "metadata": {},
   "source": [
    "#### Import data"
   ]
  },
  {
   "cell_type": "code",
   "execution_count": 72,
   "metadata": {},
   "outputs": [],
   "source": [
    "diabetes = datasets.load_diabetes()"
   ]
  },
  {
   "cell_type": "code",
   "execution_count": 84,
   "metadata": {},
   "outputs": [],
   "source": [
    "X_train = diabetes.data[:,2]"
   ]
  },
  {
   "cell_type": "code",
   "execution_count": 89,
   "metadata": {},
   "outputs": [],
   "source": [
    "y_train = diabetes.target"
   ]
  },
  {
   "cell_type": "code",
   "execution_count": 93,
   "metadata": {},
   "outputs": [],
   "source": [
    "data = pd.DataFrame(X_train)\n",
    "data.columns = ['X']\n",
    "data['y'] = y_train"
   ]
  },
  {
   "cell_type": "code",
   "execution_count": 5,
   "metadata": {},
   "outputs": [],
   "source": [
    "dat = sm.datasets.get_rdataset(\"Guerry\", \"HistData\").data"
   ]
  },
  {
   "cell_type": "code",
   "execution_count": 48,
   "metadata": {},
   "outputs": [],
   "source": [
    "X_train = dat.Literacy.values.reshape(-1,1)\n",
    "y_train = dat.Lottery.values.reshape(-1,1)"
   ]
  },
  {
   "cell_type": "code",
   "execution_count": 50,
   "metadata": {},
   "outputs": [],
   "source": [
    "sc = StandardScaler()\n",
    "x_ = sc.fit_transform(X_train)\n",
    "y_ = sc.fit_transform(y_train)\n"
   ]
  },
  {
   "cell_type": "markdown",
   "metadata": {},
   "source": [
    "#### Build neural network"
   ]
  },
  {
   "cell_type": "code",
   "execution_count": 97,
   "metadata": {},
   "outputs": [],
   "source": [
    "lm_model = tf.keras.Sequential()\n",
    "lm_model.add(layers.Dense(1,  activation='linear'))"
   ]
  },
  {
   "cell_type": "code",
   "execution_count": 98,
   "metadata": {},
   "outputs": [],
   "source": [
    "lm_model.compile(optimizer=tf.keras.optimizers.SGD(), loss='mse', metrics=['mse'])"
   ]
  },
  {
   "cell_type": "code",
   "execution_count": 99,
   "metadata": {},
   "outputs": [],
   "source": [
    "class Histories(tf.keras.callbacks.Callback):\n",
    "    def on_train_begin(self, logs={}):\n",
    "        self.losses = []\n",
    "        self.weights = [self.model.get_weights()]\n",
    " \n",
    "    def on_train_end(self, logs={}):\n",
    "        return\n",
    " \n",
    "    def on_epoch_begin(self, epoch, logs={}):\n",
    "        return\n",
    " \n",
    "    def on_epoch_end(self, epoch, logs={}):\n",
    "        return\n",
    " \n",
    "    def on_batch_begin(self, batch, logs={}):\n",
    "        return\n",
    " \n",
    "    def on_batch_end(self, batch, logs={}):\n",
    "        self.losses.append(logs.get('loss'))\n",
    "        self.weights.append(self.model.get_weights())\n",
    "        return"
   ]
  },
  {
   "cell_type": "code",
   "execution_count": 100,
   "metadata": {},
   "outputs": [],
   "source": [
    "history = Histories()"
   ]
  },
  {
   "cell_type": "code",
   "execution_count": 103,
   "metadata": {
    "scrolled": true
   },
   "outputs": [
    {
     "name": "stdout",
     "output_type": "stream",
     "text": [
      "Epoch 1/200\n",
      "442/442 [==============================] - 0s 951us/sample - loss: 7252.8267 - mean_squared_error: 7252.8247\n",
      "Epoch 2/200\n",
      "442/442 [==============================] - 0s 959us/sample - loss: 5887.1713 - mean_squared_error: 5887.1729\n",
      "Epoch 3/200\n",
      "442/442 [==============================] - 0s 992us/sample - loss: 5761.2633 - mean_squared_error: 5761.2632\n",
      "Epoch 4/200\n",
      "442/442 [==============================] - 0s 958us/sample - loss: 5763.6651 - mean_squared_error: 5763.6670\n",
      "Epoch 5/200\n",
      "442/442 [==============================] - 0s 951us/sample - loss: 5677.2324 - mean_squared_error: 5677.2300\n",
      "Epoch 6/200\n",
      "442/442 [==============================] - 0s 951us/sample - loss: 5624.1870 - mean_squared_error: 5624.1846\n",
      "Epoch 7/200\n",
      "442/442 [==============================] - 0s 960us/sample - loss: 5527.3964 - mean_squared_error: 5527.3955\n",
      "Epoch 8/200\n",
      "442/442 [==============================] - 0s 959us/sample - loss: 5465.8121 - mean_squared_error: 5465.8101\n",
      "Epoch 9/200\n",
      "442/442 [==============================] - 0s 1ms/sample - loss: 5434.9477 - mean_squared_error: 5434.9492\n",
      "Epoch 10/200\n",
      "442/442 [==============================] - 0s 991us/sample - loss: 5322.3234 - mean_squared_error: 5322.3242\n",
      "Epoch 11/200\n",
      "442/442 [==============================] - 0s 962us/sample - loss: 5316.1168 - mean_squared_error: 5316.1201\n",
      "Epoch 12/200\n",
      "442/442 [==============================] - 0s 986us/sample - loss: 5261.4338 - mean_squared_error: 5261.4346\n",
      "Epoch 13/200\n",
      "442/442 [==============================] - 0s 1ms/sample - loss: 5214.2827 - mean_squared_error: 5214.2812\n",
      "Epoch 14/200\n",
      "442/442 [==============================] - 0s 1ms/sample - loss: 5124.7541 - mean_squared_error: 5124.7515\n",
      "Epoch 15/200\n",
      "442/442 [==============================] - 0s 976us/sample - loss: 5113.3991 - mean_squared_error: 5113.4014\n",
      "Epoch 16/200\n",
      "442/442 [==============================] - 0s 946us/sample - loss: 5048.1105 - mean_squared_error: 5048.1084\n",
      "Epoch 17/200\n",
      "442/442 [==============================] - 0s 954us/sample - loss: 5024.4092 - mean_squared_error: 5024.4067\n",
      "Epoch 18/200\n",
      "442/442 [==============================] - 0s 957us/sample - loss: 4956.9412 - mean_squared_error: 4956.9414\n",
      "Epoch 19/200\n",
      "442/442 [==============================] - 0s 954us/sample - loss: 4936.5583 - mean_squared_error: 4936.5596\n",
      "Epoch 20/200\n",
      "442/442 [==============================] - 0s 932us/sample - loss: 4894.4075 - mean_squared_error: 4894.4106\n",
      "Epoch 21/200\n",
      "442/442 [==============================] - 0s 950us/sample - loss: 4867.8541 - mean_squared_error: 4867.8525\n",
      "Epoch 22/200\n",
      "442/442 [==============================] - 0s 956us/sample - loss: 4809.8671 - mean_squared_error: 4809.8687\n",
      "Epoch 23/200\n",
      "442/442 [==============================] - 0s 953us/sample - loss: 4778.0677 - mean_squared_error: 4778.0679\n",
      "Epoch 24/200\n",
      "442/442 [==============================] - 0s 942us/sample - loss: 4712.1748 - mean_squared_error: 4712.1738\n",
      "Epoch 25/200\n",
      "442/442 [==============================] - 0s 950us/sample - loss: 4696.6152 - mean_squared_error: 4696.6128\n",
      "Epoch 26/200\n",
      "442/442 [==============================] - 0s 955us/sample - loss: 4702.7882 - mean_squared_error: 4702.7871\n",
      "Epoch 27/200\n",
      "442/442 [==============================] - 0s 910us/sample - loss: 4674.2095 - mean_squared_error: 4674.2100\n",
      "Epoch 28/200\n",
      "442/442 [==============================] - 0s 961us/sample - loss: 4617.0066 - mean_squared_error: 4617.0073\n",
      "Epoch 29/200\n",
      "442/442 [==============================] - 0s 962us/sample - loss: 4622.3613 - mean_squared_error: 4622.3618\n",
      "Epoch 30/200\n",
      "442/442 [==============================] - 0s 1ms/sample - loss: 4572.7811 - mean_squared_error: 4572.7842\n",
      "Epoch 31/200\n",
      "442/442 [==============================] - 0s 1ms/sample - loss: 4529.9003 - mean_squared_error: 4529.9028\n",
      "Epoch 32/200\n",
      "442/442 [==============================] - 0s 998us/sample - loss: 4515.1805 - mean_squared_error: 4515.1816\n",
      "Epoch 33/200\n",
      "442/442 [==============================] - 0s 1ms/sample - loss: 4505.9239 - mean_squared_error: 4505.9238\n",
      "Epoch 34/200\n",
      "442/442 [==============================] - 0s 974us/sample - loss: 4460.1008 - mean_squared_error: 4460.1001\n",
      "Epoch 35/200\n",
      "442/442 [==============================] - 0s 1ms/sample - loss: 4460.2495 - mean_squared_error: 4460.2495\n",
      "Epoch 36/200\n",
      "442/442 [==============================] - 0s 970us/sample - loss: 4464.0466 - mean_squared_error: 4464.0459\n",
      "Epoch 37/200\n",
      "442/442 [==============================] - 0s 972us/sample - loss: 4410.4964 - mean_squared_error: 4410.4980\n",
      "Epoch 38/200\n",
      "442/442 [==============================] - 0s 963us/sample - loss: 4401.5790 - mean_squared_error: 4401.5786\n",
      "Epoch 39/200\n",
      "442/442 [==============================] - 0s 994us/sample - loss: 4380.3127 - mean_squared_error: 4380.3096\n",
      "Epoch 40/200\n",
      "442/442 [==============================] - 0s 968us/sample - loss: 4363.4201 - mean_squared_error: 4363.4204\n",
      "Epoch 41/200\n",
      "442/442 [==============================] - 0s 970us/sample - loss: 4319.2692 - mean_squared_error: 4319.2686\n",
      "Epoch 42/200\n",
      "442/442 [==============================] - 0s 986us/sample - loss: 4336.5525 - mean_squared_error: 4336.5532\n",
      "Epoch 43/200\n",
      "442/442 [==============================] - 0s 999us/sample - loss: 4303.6947 - mean_squared_error: 4303.6934\n",
      "Epoch 44/200\n",
      "442/442 [==============================] - 0s 972us/sample - loss: 4300.7405 - mean_squared_error: 4300.7402\n",
      "Epoch 45/200\n",
      "442/442 [==============================] - 0s 968us/sample - loss: 4271.3353 - mean_squared_error: 4271.3354\n",
      "Epoch 46/200\n",
      "442/442 [==============================] - 0s 997us/sample - loss: 4266.0058 - mean_squared_error: 4266.0078\n",
      "Epoch 47/200\n",
      "442/442 [==============================] - 0s 1ms/sample - loss: 4264.0815 - mean_squared_error: 4264.0825\n",
      "Epoch 48/200\n",
      "442/442 [==============================] - 0s 1ms/sample - loss: 4255.2442 - mean_squared_error: 4255.2437\n",
      "Epoch 49/200\n",
      "442/442 [==============================] - 0s 1ms/sample - loss: 4256.8704 - mean_squared_error: 4256.8706\n",
      "Epoch 50/200\n",
      "442/442 [==============================] - 0s 1ms/sample - loss: 4181.5279 - mean_squared_error: 4181.5283\n",
      "Epoch 51/200\n",
      "442/442 [==============================] - 0s 1ms/sample - loss: 4231.9612 - mean_squared_error: 4231.9648\n",
      "Epoch 52/200\n",
      "442/442 [==============================] - 0s 1ms/sample - loss: 4214.5885 - mean_squared_error: 4214.5874\n",
      "Epoch 53/200\n",
      "442/442 [==============================] - 0s 1ms/sample - loss: 4203.3125 - mean_squared_error: 4203.3140\n",
      "Epoch 54/200\n",
      "442/442 [==============================] - 0s 1ms/sample - loss: 4168.9891 - mean_squared_error: 4168.9902\n",
      "Epoch 55/200\n",
      "442/442 [==============================] - 0s 1ms/sample - loss: 4166.4241 - mean_squared_error: 4166.4238\n",
      "Epoch 56/200\n",
      "442/442 [==============================] - 0s 1ms/sample - loss: 4179.9141 - mean_squared_error: 4179.9146\n",
      "Epoch 57/200\n",
      "442/442 [==============================] - 0s 1ms/sample - loss: 4152.8851 - mean_squared_error: 4152.8862\n",
      "Epoch 58/200\n",
      "442/442 [==============================] - 1s 1ms/sample - loss: 4138.6278 - mean_squared_error: 4138.6274\n",
      "Epoch 59/200\n",
      "442/442 [==============================] - 0s 1ms/sample - loss: 4138.7017 - mean_squared_error: 4138.7026\n",
      "Epoch 60/200\n",
      "442/442 [==============================] - 0s 1ms/sample - loss: 4114.1527 - mean_squared_error: 4114.1514\n",
      "Epoch 61/200\n",
      "442/442 [==============================] - 0s 1ms/sample - loss: 4134.0212 - mean_squared_error: 4134.0205\n",
      "Epoch 62/200\n",
      "442/442 [==============================] - 0s 994us/sample - loss: 4121.5433 - mean_squared_error: 4121.5454\n",
      "Epoch 63/200\n",
      "442/442 [==============================] - 1s 1ms/sample - loss: 4082.6915 - mean_squared_error: 4082.6924\n",
      "Epoch 64/200\n",
      "442/442 [==============================] - 0s 1ms/sample - loss: 4116.3960 - mean_squared_error: 4116.3965\n",
      "Epoch 65/200\n",
      "442/442 [==============================] - 0s 1ms/sample - loss: 4107.8737 - mean_squared_error: 4107.8745\n",
      "Epoch 66/200\n",
      "442/442 [==============================] - 0s 1ms/sample - loss: 4073.5163 - mean_squared_error: 4073.5139\n",
      "Epoch 67/200\n",
      "442/442 [==============================] - 0s 960us/sample - loss: 4076.4068 - mean_squared_error: 4076.4065\n",
      "Epoch 68/200\n",
      "442/442 [==============================] - 0s 1ms/sample - loss: 4059.0854 - mean_squared_error: 4059.0852\n",
      "Epoch 69/200\n",
      "442/442 [==============================] - 0s 985us/sample - loss: 4074.9375 - mean_squared_error: 4074.9373\n",
      "Epoch 70/200\n",
      "442/442 [==============================] - 0s 994us/sample - loss: 4081.4089 - mean_squared_error: 4081.4072\n",
      "Epoch 71/200\n",
      "442/442 [==============================] - 0s 1ms/sample - loss: 4063.1024 - mean_squared_error: 4063.1016\n",
      "Epoch 72/200\n",
      "442/442 [==============================] - 0s 1ms/sample - loss: 4069.0849 - mean_squared_error: 4069.0852\n",
      "Epoch 73/200\n",
      "442/442 [==============================] - 1s 1ms/sample - loss: 4063.3147 - mean_squared_error: 4063.3137\n",
      "Epoch 74/200\n",
      "442/442 [==============================] - 0s 979us/sample - loss: 4032.2926 - mean_squared_error: 4032.2917\n",
      "Epoch 75/200\n",
      "442/442 [==============================] - 0s 993us/sample - loss: 4045.8209 - mean_squared_error: 4045.8208\n",
      "Epoch 76/200\n",
      "442/442 [==============================] - 0s 997us/sample - loss: 4041.3634 - mean_squared_error: 4041.3630\n",
      "Epoch 77/200\n",
      "442/442 [==============================] - 0s 1ms/sample - loss: 4034.7177 - mean_squared_error: 4034.7180\n",
      "Epoch 78/200\n",
      "442/442 [==============================] - 0s 974us/sample - loss: 3985.3067 - mean_squared_error: 3985.3059\n",
      "Epoch 79/200\n",
      "442/442 [==============================] - 0s 972us/sample - loss: 4015.4208 - mean_squared_error: 4015.4202\n",
      "Epoch 80/200\n",
      "442/442 [==============================] - 0s 975us/sample - loss: 4031.4478 - mean_squared_error: 4031.4487\n",
      "Epoch 81/200\n",
      "442/442 [==============================] - 0s 955us/sample - loss: 3993.7795 - mean_squared_error: 3993.7791\n",
      "Epoch 82/200\n",
      "442/442 [==============================] - 0s 932us/sample - loss: 4029.5666 - mean_squared_error: 4029.5659\n",
      "Epoch 83/200\n",
      "442/442 [==============================] - 0s 897us/sample - loss: 4012.9235 - mean_squared_error: 4012.9202\n",
      "Epoch 84/200\n",
      "442/442 [==============================] - 0s 961us/sample - loss: 4022.1235 - mean_squared_error: 4022.1221\n",
      "Epoch 85/200\n",
      "442/442 [==============================] - 0s 951us/sample - loss: 4020.6647 - mean_squared_error: 4020.6663\n",
      "Epoch 86/200\n",
      "442/442 [==============================] - 0s 991us/sample - loss: 4010.1859 - mean_squared_error: 4010.1841\n",
      "Epoch 87/200\n",
      "442/442 [==============================] - 0s 957us/sample - loss: 4009.2660 - mean_squared_error: 4009.2639\n",
      "Epoch 88/200\n",
      "442/442 [==============================] - 0s 994us/sample - loss: 4002.1012 - mean_squared_error: 4002.1011\n",
      "Epoch 89/200\n",
      "442/442 [==============================] - 0s 1ms/sample - loss: 3993.3292 - mean_squared_error: 3993.3286\n",
      "Epoch 90/200\n",
      "442/442 [==============================] - 0s 971us/sample - loss: 3998.2340 - mean_squared_error: 3998.2344\n",
      "Epoch 91/200\n",
      "442/442 [==============================] - 0s 965us/sample - loss: 3965.1299 - mean_squared_error: 3965.1299\n",
      "Epoch 92/200\n",
      "442/442 [==============================] - 0s 992us/sample - loss: 3989.3857 - mean_squared_error: 3989.3845\n",
      "Epoch 93/200\n",
      "442/442 [==============================] - 0s 1ms/sample - loss: 3981.6086 - mean_squared_error: 3981.6086\n",
      "Epoch 94/200\n",
      "442/442 [==============================] - 0s 1ms/sample - loss: 3992.5726 - mean_squared_error: 3992.5718\n",
      "Epoch 95/200\n",
      "442/442 [==============================] - 1s 1ms/sample - loss: 3961.1794 - mean_squared_error: 3961.1816\n",
      "Epoch 96/200\n",
      "442/442 [==============================] - 0s 1ms/sample - loss: 3976.3274 - mean_squared_error: 3976.3279\n",
      "Epoch 97/200\n",
      "442/442 [==============================] - 0s 1000us/sample - loss: 3974.4609 - mean_squared_error: 3974.4626\n",
      "Epoch 98/200\n",
      "442/442 [==============================] - 0s 1ms/sample - loss: 3986.6119 - mean_squared_error: 3986.6118\n",
      "Epoch 99/200\n",
      "442/442 [==============================] - 1s 1ms/sample - loss: 3995.1034 - mean_squared_error: 3995.1018\n",
      "Epoch 100/200\n",
      "442/442 [==============================] - 1s 1ms/sample - loss: 3984.5169 - mean_squared_error: 3984.5195\n",
      "Epoch 101/200\n",
      "442/442 [==============================] - 1s 1ms/sample - loss: 3997.3354 - mean_squared_error: 3997.3345\n",
      "Epoch 102/200\n",
      "442/442 [==============================] - 1s 1ms/sample - loss: 3975.2180 - mean_squared_error: 3975.2161\n",
      "Epoch 103/200\n",
      "442/442 [==============================] - 1s 1ms/sample - loss: 3970.8691 - mean_squared_error: 3970.8691\n",
      "Epoch 104/200\n",
      "442/442 [==============================] - 0s 1ms/sample - loss: 3987.4449 - mean_squared_error: 3987.4434\n",
      "Epoch 105/200\n",
      "442/442 [==============================] - 0s 1ms/sample - loss: 3927.5722 - mean_squared_error: 3927.5715\n",
      "Epoch 106/200\n",
      "442/442 [==============================] - 0s 1ms/sample - loss: 3994.0351 - mean_squared_error: 3994.0352\n",
      "Epoch 107/200\n",
      "442/442 [==============================] - 0s 1ms/sample - loss: 3987.2003 - mean_squared_error: 3987.2007\n",
      "Epoch 108/200\n",
      "442/442 [==============================] - 1s 1ms/sample - loss: 3921.0790 - mean_squared_error: 3921.0798\n",
      "Epoch 109/200\n",
      "442/442 [==============================] - 0s 1ms/sample - loss: 3975.3904 - mean_squared_error: 3975.3894\n",
      "Epoch 110/200\n",
      "442/442 [==============================] - 0s 1ms/sample - loss: 3953.0251 - mean_squared_error: 3953.0251\n",
      "Epoch 111/200\n",
      "442/442 [==============================] - 0s 971us/sample - loss: 3960.0332 - mean_squared_error: 3960.0342\n",
      "Epoch 112/200\n",
      "442/442 [==============================] - 0s 955us/sample - loss: 3973.9494 - mean_squared_error: 3973.9504\n",
      "Epoch 113/200\n",
      "442/442 [==============================] - 0s 965us/sample - loss: 3957.5244 - mean_squared_error: 3957.5234\n",
      "Epoch 114/200\n",
      "442/442 [==============================] - 0s 922us/sample - loss: 3953.4027 - mean_squared_error: 3953.4014\n",
      "Epoch 115/200\n",
      "442/442 [==============================] - 0s 900us/sample - loss: 3960.9226 - mean_squared_error: 3960.9248\n",
      "Epoch 116/200\n",
      "442/442 [==============================] - 0s 973us/sample - loss: 3953.1599 - mean_squared_error: 3953.1604\n",
      "Epoch 117/200\n",
      "442/442 [==============================] - 0s 953us/sample - loss: 3978.4161 - mean_squared_error: 3978.4172\n",
      "Epoch 118/200\n",
      "442/442 [==============================] - 0s 974us/sample - loss: 3948.6983 - mean_squared_error: 3948.6985\n",
      "Epoch 119/200\n",
      "442/442 [==============================] - 0s 981us/sample - loss: 3978.3792 - mean_squared_error: 3978.3789\n",
      "Epoch 120/200\n",
      "442/442 [==============================] - 0s 1ms/sample - loss: 3945.1778 - mean_squared_error: 3945.1768\n",
      "Epoch 121/200\n",
      "442/442 [==============================] - 0s 1ms/sample - loss: 3956.6864 - mean_squared_error: 3956.6858\n",
      "Epoch 122/200\n",
      "442/442 [==============================] - 0s 981us/sample - loss: 3947.2393 - mean_squared_error: 3947.2395\n",
      "Epoch 123/200\n",
      "442/442 [==============================] - 0s 1ms/sample - loss: 3972.3834 - mean_squared_error: 3972.3838\n",
      "Epoch 124/200\n",
      "442/442 [==============================] - 0s 965us/sample - loss: 3918.3512 - mean_squared_error: 3918.3503\n",
      "Epoch 125/200\n",
      "442/442 [==============================] - 0s 962us/sample - loss: 3975.2243 - mean_squared_error: 3975.2251\n",
      "Epoch 126/200\n",
      "442/442 [==============================] - 0s 988us/sample - loss: 3968.1068 - mean_squared_error: 3968.1072\n",
      "Epoch 127/200\n",
      "442/442 [==============================] - 0s 976us/sample - loss: 3955.3675 - mean_squared_error: 3955.3694\n",
      "Epoch 128/200\n",
      "442/442 [==============================] - 0s 970us/sample - loss: 3939.6476 - mean_squared_error: 3939.6477\n",
      "Epoch 129/200\n",
      "442/442 [==============================] - 0s 960us/sample - loss: 3953.2355 - mean_squared_error: 3953.2356\n",
      "Epoch 130/200\n",
      "442/442 [==============================] - 0s 990us/sample - loss: 3941.0647 - mean_squared_error: 3941.0647\n",
      "Epoch 131/200\n",
      "442/442 [==============================] - 0s 991us/sample - loss: 3971.3813 - mean_squared_error: 3971.3816\n",
      "Epoch 132/200\n",
      "442/442 [==============================] - 0s 952us/sample - loss: 3954.4044 - mean_squared_error: 3954.4021\n",
      "Epoch 133/200\n",
      "442/442 [==============================] - 0s 976us/sample - loss: 3941.7453 - mean_squared_error: 3941.7466\n",
      "Epoch 134/200\n",
      "442/442 [==============================] - 0s 929us/sample - loss: 3942.9329 - mean_squared_error: 3942.9353\n",
      "Epoch 135/200\n"
     ]
    },
    {
     "name": "stdout",
     "output_type": "stream",
     "text": [
      "442/442 [==============================] - 0s 982us/sample - loss: 3957.1238 - mean_squared_error: 3957.1255\n",
      "Epoch 136/200\n",
      "442/442 [==============================] - 0s 906us/sample - loss: 3928.3680 - mean_squared_error: 3928.3667\n",
      "Epoch 137/200\n",
      "442/442 [==============================] - 0s 953us/sample - loss: 3915.3114 - mean_squared_error: 3915.3125\n",
      "Epoch 138/200\n",
      "442/442 [==============================] - 0s 963us/sample - loss: 3945.8115 - mean_squared_error: 3945.8113\n",
      "Epoch 139/200\n",
      "442/442 [==============================] - 0s 956us/sample - loss: 3957.7852 - mean_squared_error: 3957.7861\n",
      "Epoch 140/200\n",
      "442/442 [==============================] - 0s 987us/sample - loss: 3960.7040 - mean_squared_error: 3960.7051\n",
      "Epoch 141/200\n",
      "442/442 [==============================] - 1s 2ms/sample - loss: 3946.8061 - mean_squared_error: 3946.8074\n",
      "Epoch 142/200\n",
      "442/442 [==============================] - 0s 978us/sample - loss: 3961.6257 - mean_squared_error: 3961.6257\n",
      "Epoch 143/200\n",
      "442/442 [==============================] - 0s 970us/sample - loss: 3922.2579 - mean_squared_error: 3922.2566\n",
      "Epoch 144/200\n",
      "442/442 [==============================] - 0s 979us/sample - loss: 3947.7977 - mean_squared_error: 3947.7983\n",
      "Epoch 145/200\n",
      "442/442 [==============================] - 0s 947us/sample - loss: 3960.7862 - mean_squared_error: 3960.7871\n",
      "Epoch 146/200\n",
      "442/442 [==============================] - 0s 1ms/sample - loss: 3948.9041 - mean_squared_error: 3948.9060\n",
      "Epoch 147/200\n",
      "442/442 [==============================] - 0s 959us/sample - loss: 3938.3305 - mean_squared_error: 3938.3303\n",
      "Epoch 148/200\n",
      "442/442 [==============================] - 0s 929us/sample - loss: 3960.8788 - mean_squared_error: 3960.8779\n",
      "Epoch 149/200\n",
      "442/442 [==============================] - 0s 974us/sample - loss: 3949.6588 - mean_squared_error: 3949.6582\n",
      "Epoch 150/200\n",
      "442/442 [==============================] - 0s 968us/sample - loss: 3960.3096 - mean_squared_error: 3960.3083\n",
      "Epoch 151/200\n",
      "442/442 [==============================] - 0s 989us/sample - loss: 3949.1761 - mean_squared_error: 3949.1765\n",
      "Epoch 152/200\n",
      "442/442 [==============================] - 0s 994us/sample - loss: 3902.3588 - mean_squared_error: 3902.3596\n",
      "Epoch 153/200\n",
      "442/442 [==============================] - 0s 970us/sample - loss: 3945.0001 - mean_squared_error: 3944.9993\n",
      "Epoch 154/200\n",
      "442/442 [==============================] - 0s 944us/sample - loss: 3932.6429 - mean_squared_error: 3932.6428\n",
      "Epoch 155/200\n",
      "442/442 [==============================] - 0s 1ms/sample - loss: 3928.3146 - mean_squared_error: 3928.3132\n",
      "Epoch 156/200\n",
      "442/442 [==============================] - 0s 990us/sample - loss: 3952.8500 - mean_squared_error: 3952.8481\n",
      "Epoch 157/200\n",
      "442/442 [==============================] - 0s 941us/sample - loss: 3958.5082 - mean_squared_error: 3958.5076\n",
      "Epoch 158/200\n",
      "442/442 [==============================] - 0s 996us/sample - loss: 3937.2539 - mean_squared_error: 3937.2542\n",
      "Epoch 159/200\n",
      "442/442 [==============================] - 0s 942us/sample - loss: 3938.7759 - mean_squared_error: 3938.7754\n",
      "Epoch 160/200\n",
      "442/442 [==============================] - 0s 929us/sample - loss: 3934.7305 - mean_squared_error: 3934.7300\n",
      "Epoch 161/200\n",
      "442/442 [==============================] - 0s 966us/sample - loss: 3953.2171 - mean_squared_error: 3953.2173\n",
      "Epoch 162/200\n",
      "442/442 [==============================] - 0s 914us/sample - loss: 3954.1483 - mean_squared_error: 3954.1482\n",
      "Epoch 163/200\n",
      "442/442 [==============================] - 0s 961us/sample - loss: 3944.7286 - mean_squared_error: 3944.7280\n",
      "Epoch 164/200\n",
      "442/442 [==============================] - 0s 966us/sample - loss: 3934.9524 - mean_squared_error: 3934.9519\n",
      "Epoch 165/200\n",
      "442/442 [==============================] - 0s 951us/sample - loss: 3945.1146 - mean_squared_error: 3945.1123\n",
      "Epoch 166/200\n",
      "442/442 [==============================] - 0s 959us/sample - loss: 3944.3558 - mean_squared_error: 3944.3552\n",
      "Epoch 167/200\n",
      "442/442 [==============================] - 0s 950us/sample - loss: 3950.7361 - mean_squared_error: 3950.7368\n",
      "Epoch 168/200\n",
      "442/442 [==============================] - 0s 946us/sample - loss: 3930.4368 - mean_squared_error: 3930.4338\n",
      "Epoch 169/200\n",
      "442/442 [==============================] - 0s 932us/sample - loss: 3929.5176 - mean_squared_error: 3929.5166\n",
      "Epoch 170/200\n",
      "442/442 [==============================] - 0s 943us/sample - loss: 3949.0917 - mean_squared_error: 3949.0935\n",
      "Epoch 171/200\n",
      "442/442 [==============================] - 0s 959us/sample - loss: 3929.9570 - mean_squared_error: 3929.9558\n",
      "Epoch 172/200\n",
      "442/442 [==============================] - 0s 952us/sample - loss: 3952.5803 - mean_squared_error: 3952.5803\n",
      "Epoch 173/200\n",
      "442/442 [==============================] - 0s 960us/sample - loss: 3958.3376 - mean_squared_error: 3958.3389\n",
      "Epoch 174/200\n",
      "442/442 [==============================] - 0s 955us/sample - loss: 3919.5369 - mean_squared_error: 3919.5378\n",
      "Epoch 175/200\n",
      "442/442 [==============================] - 0s 948us/sample - loss: 3929.4695 - mean_squared_error: 3929.4717\n",
      "Epoch 176/200\n",
      "442/442 [==============================] - 0s 959us/sample - loss: 3931.3836 - mean_squared_error: 3931.3833\n",
      "Epoch 177/200\n",
      "442/442 [==============================] - 0s 963us/sample - loss: 3954.6029 - mean_squared_error: 3954.6021\n",
      "Epoch 178/200\n",
      "442/442 [==============================] - 0s 983us/sample - loss: 3931.3353 - mean_squared_error: 3931.3345\n",
      "Epoch 179/200\n",
      "442/442 [==============================] - 0s 974us/sample - loss: 3927.4018 - mean_squared_error: 3927.4016\n",
      "Epoch 180/200\n",
      "442/442 [==============================] - 0s 987us/sample - loss: 3939.6633 - mean_squared_error: 3939.6646\n",
      "Epoch 181/200\n",
      "442/442 [==============================] - 0s 988us/sample - loss: 3954.6798 - mean_squared_error: 3954.6782\n",
      "Epoch 182/200\n",
      "442/442 [==============================] - 0s 958us/sample - loss: 3933.1956 - mean_squared_error: 3933.1948\n",
      "Epoch 183/200\n",
      "442/442 [==============================] - 0s 977us/sample - loss: 3942.1368 - mean_squared_error: 3942.1360\n",
      "Epoch 184/200\n",
      "442/442 [==============================] - 0s 951us/sample - loss: 3919.8141 - mean_squared_error: 3919.8130\n",
      "Epoch 185/200\n",
      "442/442 [==============================] - 0s 1ms/sample - loss: 3960.8090 - mean_squared_error: 3960.8076\n",
      "Epoch 186/200\n",
      "442/442 [==============================] - 0s 965us/sample - loss: 3938.9554 - mean_squared_error: 3938.9548\n",
      "Epoch 187/200\n",
      "442/442 [==============================] - 0s 948us/sample - loss: 3939.6804 - mean_squared_error: 3939.6799\n",
      "Epoch 188/200\n",
      "442/442 [==============================] - 0s 962us/sample - loss: 3944.9322 - mean_squared_error: 3944.9341\n",
      "Epoch 189/200\n",
      "442/442 [==============================] - 0s 979us/sample - loss: 3918.4692 - mean_squared_error: 3918.4683\n",
      "Epoch 190/200\n",
      "442/442 [==============================] - 0s 965us/sample - loss: 3951.0784 - mean_squared_error: 3951.0789\n",
      "Epoch 191/200\n",
      "442/442 [==============================] - 0s 985us/sample - loss: 3927.0066 - mean_squared_error: 3927.0076\n",
      "Epoch 192/200\n",
      "442/442 [==============================] - 0s 999us/sample - loss: 3963.3342 - mean_squared_error: 3963.3357\n",
      "Epoch 193/200\n",
      "442/442 [==============================] - 0s 971us/sample - loss: 3951.1409 - mean_squared_error: 3951.1404\n",
      "Epoch 194/200\n",
      "442/442 [==============================] - 0s 942us/sample - loss: 3909.1944 - mean_squared_error: 3909.1941\n",
      "Epoch 195/200\n",
      "442/442 [==============================] - 0s 954us/sample - loss: 3922.7128 - mean_squared_error: 3922.7129\n",
      "Epoch 196/200\n",
      "442/442 [==============================] - 0s 965us/sample - loss: 3919.3227 - mean_squared_error: 3919.3240\n",
      "Epoch 197/200\n",
      "442/442 [==============================] - 0s 962us/sample - loss: 3939.4006 - mean_squared_error: 3939.4019\n",
      "Epoch 198/200\n",
      "442/442 [==============================] - 0s 1ms/sample - loss: 3936.4068 - mean_squared_error: 3936.4055\n",
      "Epoch 199/200\n",
      "442/442 [==============================] - 0s 981us/sample - loss: 3957.6961 - mean_squared_error: 3957.6963\n",
      "Epoch 200/200\n",
      "442/442 [==============================] - 0s 988us/sample - loss: 3959.4336 - mean_squared_error: 3959.4333\n"
     ]
    },
    {
     "data": {
      "text/plain": [
       "<tensorflow.python.keras.callbacks.History at 0x146696668>"
      ]
     },
     "execution_count": 103,
     "metadata": {},
     "output_type": "execute_result"
    }
   ],
   "source": [
    "lm_model.fit(X_train,y_train, batch_size=1, epochs=200, callbacks=[history])"
   ]
  },
  {
   "cell_type": "code",
   "execution_count": 104,
   "metadata": {},
   "outputs": [
    {
     "data": {
      "text/plain": [
       "[array([[932.3852]], dtype=float32), array([154.4339], dtype=float32)]"
      ]
     },
     "execution_count": 104,
     "metadata": {},
     "output_type": "execute_result"
    }
   ],
   "source": [
    "history.weights[-1]"
   ]
  },
  {
   "cell_type": "markdown",
   "metadata": {},
   "source": [
    "#### Statsmodels for comparison"
   ]
  },
  {
   "cell_type": "code",
   "execution_count": 63,
   "metadata": {},
   "outputs": [],
   "source": [
    "dat['Lottery_transformed'] = y_\n",
    "dat['Literacy_transformed'] = x_"
   ]
  },
  {
   "cell_type": "code",
   "execution_count": 95,
   "metadata": {},
   "outputs": [],
   "source": [
    "results = smf.ols('y ~ X', data=data).fit()"
   ]
  },
  {
   "cell_type": "code",
   "execution_count": 96,
   "metadata": {},
   "outputs": [
    {
     "name": "stdout",
     "output_type": "stream",
     "text": [
      "                            OLS Regression Results                            \n",
      "==============================================================================\n",
      "Dep. Variable:                      y   R-squared:                       0.344\n",
      "Model:                            OLS   Adj. R-squared:                  0.342\n",
      "Method:                 Least Squares   F-statistic:                     230.7\n",
      "Date:                Wed, 12 Jun 2019   Prob (F-statistic):           3.47e-42\n",
      "Time:                        10:33:33   Log-Likelihood:                -2454.0\n",
      "No. Observations:                 442   AIC:                             4912.\n",
      "Df Residuals:                     440   BIC:                             4920.\n",
      "Df Model:                           1                                         \n",
      "Covariance Type:            nonrobust                                         \n",
      "==============================================================================\n",
      "                 coef    std err          t      P>|t|      [0.025      0.975]\n",
      "------------------------------------------------------------------------------\n",
      "Intercept    152.1335      2.974     51.162      0.000     146.289     157.978\n",
      "X            949.4353     62.515     15.187      0.000     826.570    1072.301\n",
      "==============================================================================\n",
      "Omnibus:                       11.674   Durbin-Watson:                   1.848\n",
      "Prob(Omnibus):                  0.003   Jarque-Bera (JB):                7.310\n",
      "Skew:                           0.156   Prob(JB):                       0.0259\n",
      "Kurtosis:                       2.453   Cond. No.                         21.0\n",
      "==============================================================================\n",
      "\n",
      "Warnings:\n",
      "[1] Standard Errors assume that the covariance matrix of the errors is correctly specified.\n"
     ]
    }
   ],
   "source": [
    "print(results.summary())"
   ]
  },
  {
   "cell_type": "code",
   "execution_count": 1,
   "metadata": {},
   "outputs": [],
   "source": [
    "import tensorflow_visualize\n"
   ]
  },
  {
   "cell_type": "code",
   "execution_count": 2,
   "metadata": {},
   "outputs": [],
   "source": [
    "import pandas as pd"
   ]
  },
  {
   "cell_type": "code",
   "execution_count": 3,
   "metadata": {},
   "outputs": [],
   "source": [
    "test = pd.DataFrame({'test':[1,3], 'test2':[3,4]})"
   ]
  },
  {
   "cell_type": "code",
   "execution_count": 4,
   "metadata": {},
   "outputs": [],
   "source": [
    "meta_file = \"test_metadata.tsv\"\n",
    "output_path = \"test_viz\"\n",
    "vec_file = 'model.vec'"
   ]
  },
  {
   "cell_type": "code",
   "execution_count": 5,
   "metadata": {},
   "outputs": [],
   "source": [
    "tensorflow_visualize.tf_visualize?"
   ]
  },
  {
   "cell_type": "code",
   "execution_count": 5,
   "metadata": {},
   "outputs": [
    {
     "name": "stdout",
     "output_type": "stream",
     "text": [
      "WARNING:tensorflow:From /Users/matthew.goodwin/MyStuff/Education/DataScienceToolkit/DataScienceCode/ds_python_3/lib/python3.7/site-packages/tensorflow/python/framework/op_def_library.py:263: colocate_with (from tensorflow.python.framework.ops) is deprecated and will be removed in a future version.\n",
      "Instructions for updating:\n",
      "Colocations handled automatically by placer.\n",
      "Num nodes: 2\n",
      "Run `tensorboard --logdir=test_viz --port xxxx --host 0.0.0.0` to run visualize result on tensorboard\n"
     ]
    }
   ],
   "source": [
    "tensorflow_visualize.tf_visualize(test, meta_file, output_path, labels=None)"
   ]
  },
  {
   "cell_type": "code",
   "execution_count": null,
   "metadata": {},
   "outputs": [],
   "source": []
  }
 ],
 "metadata": {
  "kernelspec": {
   "display_name": "Python 3",
   "language": "python",
   "name": "python3"
  },
  "language_info": {
   "codemirror_mode": {
    "name": "ipython",
    "version": 3
   },
   "file_extension": ".py",
   "mimetype": "text/x-python",
   "name": "python",
   "nbconvert_exporter": "python",
   "pygments_lexer": "ipython3",
   "version": "3.7.1"
  }
 },
 "nbformat": 4,
 "nbformat_minor": 2
}
